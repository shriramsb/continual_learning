{
 "cells": [
  {
   "cell_type": "code",
   "execution_count": 1,
   "metadata": {},
   "outputs": [],
   "source": [
    "import numpy as np\n",
    "\n",
    "%matplotlib inline\n",
    "import matplotlib.pyplot as plt\n",
    "\n",
    "import argparse\n",
    "import time\n",
    "import itertools\n",
    "from copy import deepcopy\n",
    "import tensorflow as tf\n",
    "\n",
    "from tuner import HyperparameterTuner\n",
    "from tuner import MyTask\n",
    "\n",
    "use_tpu = False\n",
    "\n",
    "if use_tpu:\n",
    "    from tensorflow.contrib import tpu\n",
    "    from tensorflow.contrib.cluster_resolver import TPUClusterResolver\n",
    "    \n",
    "%load_ext autoreload\n",
    "%autoreload 2"
   ]
  },
  {
   "cell_type": "code",
   "execution_count": 2,
   "metadata": {},
   "outputs": [],
   "source": [
    "# uncomment if required to use default network\n",
    "# from network import Network\n",
    "\n",
    "class Network(object):\n",
    "    def __init__(self):\n",
    "        self.layers = None\n",
    "        self.create_layers()\n",
    "\n",
    "    def create_layers(self):\n",
    "        self.layers = []\n",
    "        self.layers.append(tf.layers.Dense(units=256, activation=tf.nn.relu))\n",
    "        self.layers.append(tf.layers.Dense(units=256, activation=tf.nn.relu))\n",
    "        self.layers.append(tf.layers.Dense(units=10))\n",
    "\n",
    "    def forward(self, x, apply_dropout, keep_prob_input=1.0, keep_prob_hidden=1.0):\n",
    "        layer_output = []\n",
    "        input_shape = np.prod(x.shape.as_list()[1:])\n",
    "        x = tf.reshape(x, [-1, input_shape])\n",
    "        if (apply_dropout):\n",
    "            x = tf.nn.dropout(x, keep_prob_input)\n",
    "        y = x\n",
    "        for i in range(len(self.layers) - 1):\n",
    "            y = self.layers[i](y)\n",
    "            if (apply_dropout):\n",
    "                y = tf.nn.dropout(y, keep_prob_hidden)\n",
    "            layer_output.append(y)\n",
    "        y = self.layers[-1](y)\n",
    "        layer_output.append(y)\n",
    "        return y, layer_output\n",
    "\n",
    "    def get_layer_variables(self):\n",
    "        l = []\n",
    "        for i in range(len(self.layers)):\n",
    "            l.extend(self.layers[i].variables)\n",
    "        return l\n",
    "    def name(self):\n",
    "        return 'fc256_fc256_fc10'"
   ]
  },
  {
   "cell_type": "code",
   "execution_count": 3,
   "metadata": {},
   "outputs": [],
   "source": [
    "network = Network()"
   ]
  },
  {
   "cell_type": "code",
   "execution_count": 4,
   "metadata": {},
   "outputs": [],
   "source": [
    "task_home = ''\n",
    "if use_tpu:\n",
    "    task_home = 'gs://continual_learning/permMNIST_EWC/'\n",
    "else:\n",
    "    task_home = './'\n",
    "checkpoint_path = task_home + '80_20_logs/' + network.name() + '/checkpoints/'\n",
    "summaries_path = task_home + '80_20_logs/'+ network.name() + '/summaries/'\n",
    "data_path = task_home + 'MNIST_data/'\n",
    "split_path = './split.txt' \n",
    "if use_tpu:\n",
    "    tpu_name = 'gectpu'\n",
    "    \n",
    "BATCH_SIZE = 128"
   ]
  },
  {
   "cell_type": "code",
   "execution_count": 5,
   "metadata": {},
   "outputs": [],
   "source": [
    "if use_tpu:\n",
    "    tpu_cluster = TPUClusterResolver(tpu=[tpu_name]).get_master()\n",
    "    sess = tf.Session(tpu_cluster)\n",
    "    sess.run(tpu.initialize_system())\n",
    "else:\n",
    "    sess = tf.Session()"
   ]
  },
  {
   "cell_type": "code",
   "execution_count": 6,
   "metadata": {},
   "outputs": [],
   "source": [
    "def read_split(split_path):\n",
    "    split = []\n",
    "    try:\n",
    "        f = open(split_path)\n",
    "        while (True):\n",
    "            line = f.readline()\n",
    "            if (line == \"\"):\n",
    "                break\n",
    "            split.append([float(i) for i in line.split()])\n",
    "    except IOError:\n",
    "        print(\"split path file not found\")\n",
    "        exit(-1)\n",
    "    return split\n",
    "\n",
    "from tensorflow.contrib.learn.python.learn.datasets.mnist import read_data_sets\n",
    "    \n",
    "def split_mnist(mnist, dataset_split, seed):\n",
    "    np.random.seed(seed)\n",
    "    task_list = []\n",
    "    train_labels = np.argmax(mnist.train.labels, axis=1)\n",
    "    validation_labels = np.argmax(mnist.validation.labels, axis=1)\n",
    "    test_labels = np.argmax(mnist.test.labels, axis=1)\n",
    "    for i in range(len(dataset_split)):\n",
    "        cur_train_indices = [False] * mnist.train.images.shape[0]\n",
    "        cur_validation_indices = [False] * mnist.validation.images.shape[0]\n",
    "        cur_test_indices = [False] * mnist.test.images.shape[0]\n",
    "        for j in range(len(dataset_split[i])):\n",
    "            cur_train_indices = np.logical_or(cur_train_indices, (train_labels == dataset_split[i][j]))\n",
    "            cur_validation_indices = np.logical_or(cur_validation_indices, (validation_labels == dataset_split[i][j]))\n",
    "            cur_test_indices = np.logical_or(cur_test_indices, (test_labels == dataset_split[i][j]))\n",
    "\n",
    "        task = deepcopy(mnist)\n",
    "        task.train._images = task.train._images[cur_train_indices]\n",
    "        task.train._labels = task.train._labels[cur_train_indices]\n",
    "        task.validation._images = task.validation._images[cur_validation_indices]\n",
    "        task.validation._labels = task.validation._labels[cur_validation_indices]\n",
    "        task.test._images = task.test._images[cur_test_indices]\n",
    "        task.test._labels = task.test._labels[cur_test_indices]\n",
    "        task = MyTask(task)\n",
    "        task_list.append(task)\n",
    "\n",
    "    return task_list\n",
    "\n",
    "def read_datasets():\n",
    "#     split = read_split(split_path)\n",
    "    split = [[0, 1, 2, 3, 4, 5, 6, 7, 8, 9]]\n",
    "    mnist = read_data_sets(data_path, one_hot=True)\n",
    "    seed = 1\n",
    "    task_list = split_mnist(mnist, split, seed)\n",
    "    return split, task_list\n",
    "\n",
    "\n",
    "    "
   ]
  },
  {
   "cell_type": "code",
   "execution_count": 7,
   "metadata": {},
   "outputs": [],
   "source": [
    "input_shape = (28 * 28, )\n",
    "output_shape = (10, )"
   ]
  },
  {
   "cell_type": "code",
   "execution_count": 8,
   "metadata": {},
   "outputs": [
    {
     "name": "stdout",
     "output_type": "stream",
     "text": [
      "WARNING:tensorflow:From <ipython-input-6-5a9ddf08ffd7>:47: read_data_sets (from tensorflow.contrib.learn.python.learn.datasets.mnist) is deprecated and will be removed in a future version.\n",
      "Instructions for updating:\n",
      "Please use alternatives such as official/mnist/dataset.py from tensorflow/models.\n",
      "WARNING:tensorflow:From /home/sbshriram16/tf_venv/venv/lib/python3.6/site-packages/tensorflow/contrib/learn/python/learn/datasets/mnist.py:260: maybe_download (from tensorflow.contrib.learn.python.learn.datasets.base) is deprecated and will be removed in a future version.\n",
      "Instructions for updating:\n",
      "Please write your own downloading logic.\n",
      "WARNING:tensorflow:From /home/sbshriram16/tf_venv/venv/lib/python3.6/site-packages/tensorflow/contrib/learn/python/learn/datasets/mnist.py:262: extract_images (from tensorflow.contrib.learn.python.learn.datasets.mnist) is deprecated and will be removed in a future version.\n",
      "Instructions for updating:\n",
      "Please use tf.data to implement this functionality.\n",
      "Extracting ./MNIST_data/train-images-idx3-ubyte.gz\n",
      "WARNING:tensorflow:From /home/sbshriram16/tf_venv/venv/lib/python3.6/site-packages/tensorflow/contrib/learn/python/learn/datasets/mnist.py:267: extract_labels (from tensorflow.contrib.learn.python.learn.datasets.mnist) is deprecated and will be removed in a future version.\n",
      "Instructions for updating:\n",
      "Please use tf.data to implement this functionality.\n",
      "Extracting ./MNIST_data/train-labels-idx1-ubyte.gz\n",
      "WARNING:tensorflow:From /home/sbshriram16/tf_venv/venv/lib/python3.6/site-packages/tensorflow/contrib/learn/python/learn/datasets/mnist.py:110: dense_to_one_hot (from tensorflow.contrib.learn.python.learn.datasets.mnist) is deprecated and will be removed in a future version.\n",
      "Instructions for updating:\n",
      "Please use tf.one_hot on tensors.\n",
      "Extracting ./MNIST_data/t10k-images-idx3-ubyte.gz\n",
      "Extracting ./MNIST_data/t10k-labels-idx1-ubyte.gz\n",
      "WARNING:tensorflow:From /home/sbshriram16/tf_venv/venv/lib/python3.6/site-packages/tensorflow/contrib/learn/python/learn/datasets/mnist.py:290: DataSet.__init__ (from tensorflow.contrib.learn.python.learn.datasets.mnist) is deprecated and will be removed in a future version.\n",
      "Instructions for updating:\n",
      "Please use alternatives such as official/mnist/dataset.py from tensorflow/models.\n",
      "WARNING:tensorflow:From /home/sbshriram16/continual_learning/EWC_disjointMNIST/classifiers.py:194: softmax_cross_entropy_with_logits (from tensorflow.python.ops.nn_ops) is deprecated and will be removed in a future version.\n",
      "Instructions for updating:\n",
      "\n",
      "Future major versions of TensorFlow will allow gradients to flow\n",
      "into the labels input on backprop by default.\n",
      "\n",
      "See @{tf.nn.softmax_cross_entropy_with_logits_v2}.\n",
      "\n"
     ]
    }
   ],
   "source": [
    "tuner = HyperparameterTuner(sess=sess, network=network, \n",
    "                            input_shape=input_shape, output_shape=output_shape,\n",
    "                            checkpoint_path=checkpoint_path, summaries_path=summaries_path, \n",
    "                            read_datasets=read_datasets, load_best_hparams=False)"
   ]
  },
  {
   "cell_type": "code",
   "execution_count": 10,
   "metadata": {},
   "outputs": [],
   "source": [
    "# tuner.save_penultimate_output = True\n",
    "# tuner.per_example_append = 2"
   ]
  },
  {
   "cell_type": "code",
   "execution_count": 9,
   "metadata": {
    "scrolled": true
   },
   "outputs": [],
   "source": [
    "# task 0\n",
    "t = 0\n",
    "seed = 0\n",
    "np.random.seed(0)\n",
    "learning_rates = list(np.logspace(-4, -2, 10))\n",
    "fisher_multipliers = [0.0]\n",
    "dropout_input_probs = [1.0]\n",
    "dropout_hidden_probs = list(np.arange(0.7, 1.1, 0.05))\n",
    "prod = list(itertools.product(fisher_multipliers, dropout_input_probs, dropout_hidden_probs, learning_rates))\n",
    "hparams = []\n",
    "for hparams_tuple in prod:\n",
    "    cur_dict = {}\n",
    "    cur_dict['fisher_multiplier'] = hparams_tuple[0]\n",
    "    cur_dict['dropout_input_prob'] = hparams_tuple[2]\n",
    "    cur_dict['dropout_hidden_prob'] = hparams_tuple[2]\n",
    "    cur_dict['learning_rate'] = hparams_tuple[3]\n",
    "    hparams.append(cur_dict)\n",
    "tuner.hparams_list[t] = hparams"
   ]
  },
  {
   "cell_type": "code",
   "execution_count": null,
   "metadata": {},
   "outputs": [
    {
     "name": "stdout",
     "output_type": "stream",
     "text": [
      "Training with dropout_hidden_prob=0.7,dropout_input_prob=0.7,fisher_multiplier=0.0,learning_rate=0.0001,task=0\n",
      "epochs: 34.032634, final train loss: 0.078193, validation accuracies: [0.9808]\n",
      "best epochs: 31.934732, best_avg: 0.981000, validation accuracies: [0.981]\n",
      "Training with dropout_hidden_prob=0.7,dropout_input_prob=0.7,fisher_multiplier=0.0,learning_rate=0.0001668100537200059,task=0\n",
      "epochs: 20.979021, final train loss: 0.117043, validation accuracies: [0.9796]\n",
      "best epochs: 18.881119, best_avg: 0.979800, validation accuracies: [0.9798]\n",
      "Training with dropout_hidden_prob=0.7,dropout_input_prob=0.7,fisher_multiplier=0.0,learning_rate=0.0002782559402207126,task=0\n",
      "epochs: 15.617716, final train loss: 0.116903, validation accuracies: [0.9802]\n",
      "best epochs: 13.519814, best_avg: 0.980400, validation accuracies: [0.9804]\n",
      "Training with dropout_hidden_prob=0.7,dropout_input_prob=0.7,fisher_multiplier=0.0,learning_rate=0.00046415888336127773,task=0\n",
      "epochs: 11.655012, final train loss: 0.109369, validation accuracies: [0.9812]\n",
      "best epochs: 9.557110, best_avg: 0.981600, validation accuracies: [0.9816]\n",
      "Training with dropout_hidden_prob=0.7,dropout_input_prob=0.7,fisher_multiplier=0.0,learning_rate=0.000774263682681127,task=0\n",
      "epochs: 14.918415, final train loss: 0.135580, validation accuracies: [0.982]\n",
      "best epochs: 12.820513, best_avg: 0.983800, validation accuracies: [0.9838]\n",
      "Training with dropout_hidden_prob=0.7,dropout_input_prob=0.7,fisher_multiplier=0.0,learning_rate=0.001291549665014884,task=0\n",
      "epochs: 13.752914, final train loss: 0.064083, validation accuracies: [0.9814]\n",
      "best epochs: 11.655012, best_avg: 0.983600, validation accuracies: [0.9836]\n",
      "Training with dropout_hidden_prob=0.7,dropout_input_prob=0.7,fisher_multiplier=0.0,learning_rate=0.002154434690031882,task=0\n",
      "epochs: 11.655012, final train loss: 0.132904, validation accuracies: [0.9796]\n",
      "best epochs: 9.557110, best_avg: 0.982400, validation accuracies: [0.9824]\n",
      "Training with dropout_hidden_prob=0.7,dropout_input_prob=0.7,fisher_multiplier=0.0,learning_rate=0.003593813663804626,task=0\n",
      "epochs: 7.692308, final train loss: 0.093124, validation accuracies: [0.9756]\n",
      "best epochs: 5.594406, best_avg: 0.977800, validation accuracies: [0.9778]\n",
      "Training with dropout_hidden_prob=0.7,dropout_input_prob=0.7,fisher_multiplier=0.0,learning_rate=0.005994842503189409,task=0\n",
      "epochs: 11.888112, final train loss: 0.045583, validation accuracies: [0.9746]\n",
      "best epochs: 9.790210, best_avg: 0.976800, validation accuracies: [0.9768]\n",
      "Training with dropout_hidden_prob=0.7,dropout_input_prob=0.7,fisher_multiplier=0.0,learning_rate=0.01,task=0\n",
      "epochs: 9.790210, final train loss: 0.354741, validation accuracies: [0.9662]\n",
      "best epochs: 7.692308, best_avg: 0.969400, validation accuracies: [0.9694]\n",
      "Training with dropout_hidden_prob=0.75,dropout_input_prob=0.75,fisher_multiplier=0.0,learning_rate=0.0001,task=0\n",
      "epochs: 41.958042, final train loss: 0.013925, validation accuracies: [0.9828]\n",
      "best epochs: 39.860140, best_avg: 0.983400, validation accuracies: [0.9834]\n",
      "Training with dropout_hidden_prob=0.75,dropout_input_prob=0.75,fisher_multiplier=0.0,learning_rate=0.0001668100537200059,task=0\n",
      "epochs: 24.475524, final train loss: 0.067836, validation accuracies: [0.9818]\n",
      "best epochs: 22.377622, best_avg: 0.983200, validation accuracies: [0.9832]\n",
      "Training with dropout_hidden_prob=0.75,dropout_input_prob=0.75,fisher_multiplier=0.0,learning_rate=0.0002782559402207126,task=0\n",
      "epochs: 19.580420, final train loss: 0.046419, validation accuracies: [0.9836]\n",
      "best epochs: 17.482517, best_avg: 0.983600, validation accuracies: [0.9836]\n",
      "Training with dropout_hidden_prob=0.75,dropout_input_prob=0.75,fisher_multiplier=0.0,learning_rate=0.00046415888336127773,task=0\n",
      "epochs: 14.685315, final train loss: 0.086963, validation accuracies: [0.9836]\n",
      "best epochs: 12.587413, best_avg: 0.983800, validation accuracies: [0.9838]\n",
      "Training with dropout_hidden_prob=0.75,dropout_input_prob=0.75,fisher_multiplier=0.0,learning_rate=0.000774263682681127,task=0\n",
      "epochs: 13.986014, final train loss: 0.057204, validation accuracies: [0.983]\n",
      "best epochs: 11.888112, best_avg: 0.983400, validation accuracies: [0.9834]\n",
      "Training with dropout_hidden_prob=0.75,dropout_input_prob=0.75,fisher_multiplier=0.0,learning_rate=0.001291549665014884,task=0\n",
      "epochs: 7.692308, final train loss: 0.054010, validation accuracies: [0.9794]\n",
      "best epochs: 5.594406, best_avg: 0.981600, validation accuracies: [0.9816]\n",
      "Training with dropout_hidden_prob=0.75,dropout_input_prob=0.75,fisher_multiplier=0.0,learning_rate=0.002154434690031882,task=0\n",
      "epochs: 5.361305, final train loss: 0.095664, validation accuracies: [0.9776]\n",
      "best epochs: 3.263403, best_avg: 0.978400, validation accuracies: [0.9784]\n",
      "Training with dropout_hidden_prob=0.75,dropout_input_prob=0.75,fisher_multiplier=0.0,learning_rate=0.003593813663804626,task=0\n",
      "epochs: 9.324009, final train loss: 0.115637, validation accuracies: [0.9776]\n",
      "best epochs: 7.226107, best_avg: 0.979400, validation accuracies: [0.9794]\n",
      "Training with dropout_hidden_prob=0.75,dropout_input_prob=0.75,fisher_multiplier=0.0,learning_rate=0.005994842503189409,task=0\n",
      "epochs: 15.384615, final train loss: 0.357183, validation accuracies: [0.9772]\n",
      "best epochs: 13.286713, best_avg: 0.978800, validation accuracies: [0.9788]\n",
      "Training with dropout_hidden_prob=0.75,dropout_input_prob=0.75,fisher_multiplier=0.0,learning_rate=0.01,task=0\n",
      "epochs: 10.489510, final train loss: 0.172365, validation accuracies: [0.9686]\n",
      "best epochs: 8.391608, best_avg: 0.970400, validation accuracies: [0.9704]\n",
      "Training with dropout_hidden_prob=0.8,dropout_input_prob=0.8,fisher_multiplier=0.0,learning_rate=0.0001,task=0\n",
      "epochs: 26.573427, final train loss: 0.031014, validation accuracies: [0.981]\n",
      "best epochs: 24.475524, best_avg: 0.981200, validation accuracies: [0.9812]\n",
      "Training with dropout_hidden_prob=0.8,dropout_input_prob=0.8,fisher_multiplier=0.0,learning_rate=0.0001668100537200059,task=0\n",
      "epochs: 21.678322, final train loss: 0.121674, validation accuracies: [0.9812]\n",
      "best epochs: 19.580420, best_avg: 0.982400, validation accuracies: [0.9824]\n",
      "Training with dropout_hidden_prob=0.8,dropout_input_prob=0.8,fisher_multiplier=0.0,learning_rate=0.0002782559402207126,task=0\n",
      "epochs: 14.918415, final train loss: 0.106113, validation accuracies: [0.9818]\n",
      "best epochs: 12.820513, best_avg: 0.982400, validation accuracies: [0.9824]\n",
      "Training with dropout_hidden_prob=0.8,dropout_input_prob=0.8,fisher_multiplier=0.0,learning_rate=0.00046415888336127773,task=0\n",
      "epochs: 9.790210, final train loss: 0.148269, validation accuracies: [0.981]\n",
      "best epochs: 7.692308, best_avg: 0.981600, validation accuracies: [0.9816]\n",
      "Training with dropout_hidden_prob=0.8,dropout_input_prob=0.8,fisher_multiplier=0.0,learning_rate=0.000774263682681127,task=0\n",
      "epochs: 11.421911, final train loss: 0.075811, validation accuracies: [0.9824]\n",
      "best epochs: 9.324009, best_avg: 0.984800, validation accuracies: [0.9848]\n",
      "Training with dropout_hidden_prob=0.8,dropout_input_prob=0.8,fisher_multiplier=0.0,learning_rate=0.001291549665014884,task=0\n",
      "epochs: 8.624709, final train loss: 0.082903, validation accuracies: [0.981]\n",
      "best epochs: 6.526807, best_avg: 0.982400, validation accuracies: [0.9824]\n",
      "Training with dropout_hidden_prob=0.8,dropout_input_prob=0.8,fisher_multiplier=0.0,learning_rate=0.002154434690031882,task=0\n",
      "epochs: 11.655012, final train loss: 0.130677, validation accuracies: [0.981]\n",
      "best epochs: 9.557110, best_avg: 0.982400, validation accuracies: [0.9824]\n",
      "Training with dropout_hidden_prob=0.8,dropout_input_prob=0.8,fisher_multiplier=0.0,learning_rate=0.003593813663804626,task=0\n",
      "epochs: 10.256410, final train loss: 0.068438, validation accuracies: [0.9788]\n",
      "best epochs: 8.158508, best_avg: 0.981200, validation accuracies: [0.9812]\n",
      "Training with dropout_hidden_prob=0.8,dropout_input_prob=0.8,fisher_multiplier=0.0,learning_rate=0.005994842503189409,task=0\n",
      "epochs: 8.857809, final train loss: 0.083600, validation accuracies: [0.9726]\n",
      "best epochs: 6.759907, best_avg: 0.978800, validation accuracies: [0.9788]\n",
      "Training with dropout_hidden_prob=0.8,dropout_input_prob=0.8,fisher_multiplier=0.0,learning_rate=0.01,task=0\n",
      "epochs: 7.459207, final train loss: 0.242921, validation accuracies: [0.9676]\n",
      "best epochs: 5.361305, best_avg: 0.969600, validation accuracies: [0.9696]\n"
     ]
    },
    {
     "name": "stdout",
     "output_type": "stream",
     "text": [
      "Training with dropout_hidden_prob=0.8500000000000001,dropout_input_prob=0.8500000000000001,fisher_multiplier=0.0,learning_rate=0.0001,task=0\n",
      "epochs: 22.610723, final train loss: 0.022986, validation accuracies: [0.9806]\n",
      "best epochs: 20.512821, best_avg: 0.980600, validation accuracies: [0.9806]\n",
      "Training with dropout_hidden_prob=0.8500000000000001,dropout_input_prob=0.8500000000000001,fisher_multiplier=0.0,learning_rate=0.0001668100537200059,task=0\n",
      "epochs: 18.414918, final train loss: 0.125967, validation accuracies: [0.9808]\n",
      "best epochs: 16.317016, best_avg: 0.982000, validation accuracies: [0.982]\n",
      "Training with dropout_hidden_prob=0.8500000000000001,dropout_input_prob=0.8500000000000001,fisher_multiplier=0.0,learning_rate=0.0002782559402207126,task=0\n",
      "epochs: 12.587413, final train loss: 0.012812, validation accuracies: [0.9792]\n",
      "best epochs: 10.489510, best_avg: 0.983000, validation accuracies: [0.983]\n",
      "Training with dropout_hidden_prob=0.8500000000000001,dropout_input_prob=0.8500000000000001,fisher_multiplier=0.0,learning_rate=0.00046415888336127773,task=0\n",
      "epochs: 9.557110, final train loss: 0.062974, validation accuracies: [0.9818]\n",
      "best epochs: 7.459207, best_avg: 0.982600, validation accuracies: [0.9826]\n",
      "Training with dropout_hidden_prob=0.8500000000000001,dropout_input_prob=0.8500000000000001,fisher_multiplier=0.0,learning_rate=0.000774263682681127,task=0\n",
      "epochs: 5.827506, final train loss: 0.212068, validation accuracies: [0.9792]\n",
      "best epochs: 3.729604, best_avg: 0.980000, validation accuracies: [0.98]\n",
      "Training with dropout_hidden_prob=0.8500000000000001,dropout_input_prob=0.8500000000000001,fisher_multiplier=0.0,learning_rate=0.001291549665014884,task=0\n",
      "epochs: 6.759907, final train loss: 0.064747, validation accuracies: [0.9798]\n",
      "best epochs: 4.662005, best_avg: 0.982200, validation accuracies: [0.9822]\n",
      "Training with dropout_hidden_prob=0.8500000000000001,dropout_input_prob=0.8500000000000001,fisher_multiplier=0.0,learning_rate=0.002154434690031882,task=0\n",
      "epochs: 11.655012, final train loss: 0.152862, validation accuracies: [0.9808]\n",
      "best epochs: 9.557110, best_avg: 0.983400, validation accuracies: [0.9834]\n",
      "Training with dropout_hidden_prob=0.8500000000000001,dropout_input_prob=0.8500000000000001,fisher_multiplier=0.0,learning_rate=0.003593813663804626,task=0\n"
     ]
    }
   ],
   "source": [
    "best_avg, best_hparams = tuner.tune_on_task(t, BATCH_SIZE, save_weights=False)"
   ]
  },
  {
   "cell_type": "code",
   "execution_count": 54,
   "metadata": {},
   "outputs": [
    {
     "name": "stdout",
     "output_type": "stream",
     "text": [
      "-0.17803755\n",
      "-0.10262482\n",
      "-0.092969276\n",
      "-0.12613258\n",
      "-0.12512842\n",
      "-0.07063656\n",
      "-0.12184537\n",
      "-0.07729137\n",
      "-0.045544185\n",
      "0.01739812\n"
     ]
    }
   ],
   "source": [
    "# best_avg = 0.0\n",
    "# best_hparams = None\n",
    "# for k, v in tuner.results_list[t].items():\n",
    "#     cur_best_avg = v['best_avg']\n",
    "#     if (best_avg < cur_best_avg):\n",
    "#         best_avg = cur_best_avg\n",
    "# best_avg = 0.9868909120559692\n",
    "# best_hparams = {'dropout_hidden_prob': 0.9, 'dropout_input_prob': 1.0, 'fisher_multiplier': 0.0, 'learning_rate': 10 ** (-4 + 16/19)}\n",
    "# prev_best_hparams_tuple = tuple([v for k, v in sorted(tuner.best_hparams[t][0].items())])\n",
    "# prev_best_avg = tuner.results_list[t][prev_best_hparams_tuple]['best_avg']\n",
    "# if (best_avg > prev_best_avg):\n",
    "#     tuner.best_hparams[t] = (best_hparams, tuner.file_name(t, best_hparams))\n",
    "# print(tuner.best_hparams[t])\n",
    "# best_hparams_tuple = tuple([v for k, v in sorted(best_hparams.items())])\n",
    "# cur_result = tuner.train(t, tuner.best_hparams[t][0], BATCH_SIZE, \n",
    "#                             num_updates=tuner.results_list[t][best_hparams_tuple]['best_avg_updates'])\n",
    "# tuner.classifier.update_fisher_full_batch(tuner.sess, tuner.task_list[t].train)\n",
    "\n",
    "# tuner.classifier.save_weights(tuner.results_list[t][best_hparams_tuple]['best_avg_updates'], \n",
    "#                                 tuner.sess, tuner.file_name(t, best_hparams))\n",
    "\n",
    "# x = np.arange(0, len(cur_res['loss']), tuner.eval_frequency)\n",
    "# best_hparams_tuple = tuple([v for k, v in sorted(best_hparams.items())])\n",
    "# cur_res = tuner.results_list[t][best_hparams_tuple]\n",
    "# # plt.plot(cur_res['loss_with_penalty'], color='g')\n",
    "# plt.plot(cur_res['loss'], color='m')\n",
    "# plt.plot(x, cur_res['val_loss'][-1], color='b')\n",
    "# plt.show()\n",
    "# plt.plot(cur_res['val_acc'][0], color='b')\n",
    "# plt.show()\n",
    "\n",
    "# v = sess.run(tuner.classifier.network.layers[1].variables)\n",
    "# print(np.mean(v[0][:, 1]), np.mean(v[0][:, 9]))\n",
    "# for i in range(output_shape[0]):\n",
    "#     print(np.mean(v[0][:, i]))"
   ]
  },
  {
   "cell_type": "code",
   "execution_count": 12,
   "metadata": {},
   "outputs": [
    {
     "name": "stdout",
     "output_type": "stream",
     "text": [
      "0.9851999878883362 {'fisher_multiplier': 0.0, 'dropout_input_prob': 0.9, 'dropout_hidden_prob': 0.9, 'learning_rate': 0.001}\n",
      "INFO:tensorflow:Restoring parameters from ./80_20_logs/fc256_fc256_fc10/checkpoints/dropout_hidden_prob=0.9,dropout_input_prob=0.9,fisher_multiplier=0.0,learning_rate=0.001,task=0.ckpt-3700\n",
      "[0.9809695512820513]\n"
     ]
    }
   ],
   "source": [
    "print(best_avg, best_hparams)\n",
    "VALIDATION_BATCH_SIZE = 32\n",
    "print(tuner.validation_accuracy(t, VALIDATION_BATCH_SIZE))"
   ]
  },
  {
   "cell_type": "code",
   "execution_count": 13,
   "metadata": {},
   "outputs": [
    {
     "data": {
      "image/png": "[encoded data removed]",
      "text/plain": [
       "<Figure size 432x288 with 2 Axes>"
      ]
     },
     "metadata": {},
     "output_type": "display_data"
    }
   ],
   "source": [
    "import math\n",
    "lr_scatter = ([math.log10(h['learning_rate']) for h in hparams])\n",
    "dropout_scatter = [h['dropout_hidden_prob'] for h in hparams]\n",
    "colors = []\n",
    "for i in range(len(hparams)):\n",
    "    cur_hparam_tuple = tuple([v for k, v in sorted(hparams[i].items())])\n",
    "    colors.append(tuner.results_list[t][cur_hparam_tuple]['best_avg'])\n",
    "    \n",
    "marker_size = 100\n",
    "fig, ax = plt.subplots()\n",
    "plt.scatter(lr_scatter, dropout_scatter, marker_size, c=colors, edgecolors='black')\n",
    "plt.colorbar()\n",
    "for i in range(len(lr_scatter)):\n",
    "    ax.annotate(str('%0.4f' % (colors[i], )), (lr_scatter[i], dropout_scatter[i]))\n",
    "plt.show()"
   ]
  },
  {
   "cell_type": "code",
   "execution_count": 28,
   "metadata": {},
   "outputs": [],
   "source": [
    "# task 1\n",
    "t = 1\n",
    "seed = 0\n",
    "np.random.seed(0)\n",
    "learning_rates = list(np.logspace(-5, -3, 3))\n",
    "fisher_multipliers = list(np.logspace(2, 4, 8))\n",
    "dropout_input_probs = [1.0]\n",
    "dropout_hidden_probs = [1.0]\n",
    "prod = list(itertools.product(fisher_multipliers, dropout_input_probs, dropout_hidden_probs, learning_rates))\n",
    "hparams = []\n",
    "for hparams_tuple in prod:\n",
    "    cur_dict = {}\n",
    "    cur_dict['fisher_multiplier'] = hparams_tuple[0]\n",
    "    cur_dict['dropout_input_prob'] = hparams_tuple[1]\n",
    "    cur_dict['dropout_hidden_prob'] = hparams_tuple[2]\n",
    "    cur_dict['learning_rate'] = hparams_tuple[3]\n",
    "    hparams.append(cur_dict)\n",
    "tuner.hparams_list[t] = hparams"
   ]
  },
  {
   "cell_type": "code",
   "execution_count": 23,
   "metadata": {},
   "outputs": [],
   "source": [
    "tuner.save_penultimate_output = True\n",
    "tuner.per_example_append = 2"
   ]
  },
  {
   "cell_type": "code",
   "execution_count": 29,
   "metadata": {},
   "outputs": [
    {
     "name": "stdout",
     "output_type": "stream",
     "text": [
      "INFO:tensorflow:Restoring parameters from gs://continual_learning/permMNIST_EWC/80_20_append_logs/fc50_fc10/checkpoints/dropout_hidden_prob=0.9,dropout_input_prob=1.0,fisher_multiplier=0.0,learning_rate=0.0006951927961775605,task=0.ckpt-2500\n",
      "Training with dropout_hidden_prob=1.0,dropout_input_prob=1.0,fisher_multiplier=100.0,learning_rate=1e-05,task=1\n",
      "Restoring paramters from dropout_hidden_prob=0.9,dropout_input_prob=1.0,fisher_multiplier=0.0,learning_rate=0.0006951927961775605,task=0\n",
      "INFO:tensorflow:Restoring parameters from gs://continual_learning/permMNIST_EWC/80_20_append_logs/fc50_fc10/checkpoints/dropout_hidden_prob=0.9,dropout_input_prob=1.0,fisher_multiplier=0.0,learning_rate=0.0006951927961775605,task=0.ckpt-2500\n",
      "epochs: 57.142857, final train loss: 0.124827, validation accuracies: [0.9000742 0.9220779]\n",
      "best epochs: 42.857143, best_avg: 0.915667, validation accuracies: [0.9327232  0.77922076]\n",
      "saving model dropout_hidden_prob=1.0,dropout_input_prob=1.0,fisher_multiplier=100.0,learning_rate=1e-05,task=1 at time step 3600\n",
      "Training with dropout_hidden_prob=1.0,dropout_input_prob=1.0,fisher_multiplier=100.0,learning_rate=0.0001,task=1\n",
      "Restoring paramters from dropout_hidden_prob=0.9,dropout_input_prob=1.0,fisher_multiplier=0.0,learning_rate=0.0006951927961775605,task=0\n",
      "INFO:tensorflow:Restoring parameters from gs://continual_learning/permMNIST_EWC/80_20_append_logs/fc50_fc10/checkpoints/dropout_hidden_prob=0.9,dropout_input_prob=1.0,fisher_multiplier=0.0,learning_rate=0.0006951927961775605,task=0.ckpt-2500\n",
      "epochs: 7.936508, final train loss: 0.080414, validation accuracies: [0.87138265 0.95671   ]\n",
      "best epochs: 4.761905, best_avg: 0.915593, validation accuracies: [0.92208755 0.8636364 ]\n",
      "saving model dropout_hidden_prob=1.0,dropout_input_prob=1.0,fisher_multiplier=100.0,learning_rate=0.0001,task=1 at time step 500\n",
      "Training with dropout_hidden_prob=1.0,dropout_input_prob=1.0,fisher_multiplier=100.0,learning_rate=0.001,task=1\n",
      "Restoring paramters from dropout_hidden_prob=0.9,dropout_input_prob=1.0,fisher_multiplier=0.0,learning_rate=0.0006951927961775605,task=0\n",
      "INFO:tensorflow:Restoring parameters from gs://continual_learning/permMNIST_EWC/80_20_append_logs/fc50_fc10/checkpoints/dropout_hidden_prob=0.9,dropout_input_prob=1.0,fisher_multiplier=0.0,learning_rate=0.0006951927961775605,task=0.ckpt-2500\n",
      "epochs: 7.936508, final train loss: 0.017866, validation accuracies: [0.86000496 0.991342  ]\n",
      "best epochs: 4.761905, best_avg: 0.896343, validation accuracies: [0.88473904 0.98917747]\n",
      "saving model dropout_hidden_prob=1.0,dropout_input_prob=1.0,fisher_multiplier=100.0,learning_rate=0.001,task=1 at time step 500\n",
      "Training with dropout_hidden_prob=1.0,dropout_input_prob=1.0,fisher_multiplier=193.06977288832496,learning_rate=1e-05,task=1\n",
      "Restoring paramters from dropout_hidden_prob=0.9,dropout_input_prob=1.0,fisher_multiplier=0.0,learning_rate=0.0006951927961775605,task=0\n",
      "INFO:tensorflow:Restoring parameters from gs://continual_learning/permMNIST_EWC/80_20_append_logs/fc50_fc10/checkpoints/dropout_hidden_prob=0.9,dropout_input_prob=1.0,fisher_multiplier=0.0,learning_rate=0.0006951927961775605,task=0.ckpt-2500\n",
      "epochs: 61.904762, final train loss: 0.174293, validation accuracies: [0.9074944 0.9264069]\n",
      "best epochs: 49.206349, best_avg: 0.919489, validation accuracies: [0.92728174 0.85714287]\n",
      "saving model dropout_hidden_prob=1.0,dropout_input_prob=1.0,fisher_multiplier=193.06977288832496,learning_rate=1e-05,task=1 at time step 3900\n",
      "Training with dropout_hidden_prob=1.0,dropout_input_prob=1.0,fisher_multiplier=193.06977288832496,learning_rate=0.0001,task=1\n",
      "Restoring paramters from dropout_hidden_prob=0.9,dropout_input_prob=1.0,fisher_multiplier=0.0,learning_rate=0.0006951927961775605,task=0\n",
      "INFO:tensorflow:Restoring parameters from gs://continual_learning/permMNIST_EWC/80_20_append_logs/fc50_fc10/checkpoints/dropout_hidden_prob=0.9,dropout_input_prob=1.0,fisher_multiplier=0.0,learning_rate=0.0006951927961775605,task=0.ckpt-2500\n",
      "epochs: 7.936508, final train loss: 0.094610, validation accuracies: [0.89685875 0.94588745]\n",
      "best epochs: 4.761905, best_avg: 0.917784, validation accuracies: [0.92752904 0.8398268 ]\n",
      "saving model dropout_hidden_prob=1.0,dropout_input_prob=1.0,fisher_multiplier=193.06977288832496,learning_rate=0.0001,task=1 at time step 500\n",
      "Training with dropout_hidden_prob=1.0,dropout_input_prob=1.0,fisher_multiplier=193.06977288832496,learning_rate=0.001,task=1\n",
      "Restoring paramters from dropout_hidden_prob=0.9,dropout_input_prob=1.0,fisher_multiplier=0.0,learning_rate=0.0006951927961775605,task=0\n",
      "INFO:tensorflow:Restoring parameters from gs://continual_learning/permMNIST_EWC/80_20_append_logs/fc50_fc10/checkpoints/dropout_hidden_prob=0.9,dropout_input_prob=1.0,fisher_multiplier=0.0,learning_rate=0.0006951927961775605,task=0.ckpt-2500\n",
      "epochs: 7.936508, final train loss: 0.025232, validation accuracies: [0.8765768  0.98917747]\n",
      "best epochs: 4.761905, best_avg: 0.911369, validation accuracies: [0.903537   0.97402596]\n",
      "saving model dropout_hidden_prob=1.0,dropout_input_prob=1.0,fisher_multiplier=193.06977288832496,learning_rate=0.001,task=1 at time step 500\n",
      "Training with dropout_hidden_prob=1.0,dropout_input_prob=1.0,fisher_multiplier=372.7593720314938,learning_rate=1e-05,task=1\n",
      "Restoring paramters from dropout_hidden_prob=0.9,dropout_input_prob=1.0,fisher_multiplier=0.0,learning_rate=0.0006951927961775605,task=0\n",
      "INFO:tensorflow:Restoring parameters from gs://continual_learning/permMNIST_EWC/80_20_append_logs/fc50_fc10/checkpoints/dropout_hidden_prob=0.9,dropout_input_prob=1.0,fisher_multiplier=0.0,learning_rate=0.0006951927961775605,task=0.ckpt-2500\n",
      "epochs: 85.714286, final train loss: 0.138530, validation accuracies: [0.92752904 0.9285714 ]\n",
      "best epochs: 82.539683, best_avg: 0.927865, validation accuracies: [0.9277764 0.9285714]\n",
      "saving model dropout_hidden_prob=1.0,dropout_input_prob=1.0,fisher_multiplier=372.7593720314938,learning_rate=1e-05,task=1 at time step 5400\n",
      "Training with dropout_hidden_prob=1.0,dropout_input_prob=1.0,fisher_multiplier=372.7593720314938,learning_rate=0.0001,task=1\n",
      "Restoring paramters from dropout_hidden_prob=0.9,dropout_input_prob=1.0,fisher_multiplier=0.0,learning_rate=0.0006951927961775605,task=0\n",
      "INFO:tensorflow:Restoring parameters from gs://continual_learning/permMNIST_EWC/80_20_append_logs/fc50_fc10/checkpoints/dropout_hidden_prob=0.9,dropout_input_prob=1.0,fisher_multiplier=0.0,learning_rate=0.0006951927961775605,task=0.ckpt-2500\n",
      "epochs: 22.222222, final train loss: 0.085371, validation accuracies: [0.9270344 0.95671  ]\n",
      "best epochs: 19.047619, best_avg: 0.930552, validation accuracies: [0.92728174 0.95671   ]\n",
      "saving model dropout_hidden_prob=1.0,dropout_input_prob=1.0,fisher_multiplier=372.7593720314938,learning_rate=0.0001,task=1 at time step 1400\n",
      "Training with dropout_hidden_prob=1.0,dropout_input_prob=1.0,fisher_multiplier=372.7593720314938,learning_rate=0.001,task=1\n",
      "Restoring paramters from dropout_hidden_prob=0.9,dropout_input_prob=1.0,fisher_multiplier=0.0,learning_rate=0.0006951927961775605,task=0\n",
      "INFO:tensorflow:Restoring parameters from gs://continual_learning/permMNIST_EWC/80_20_append_logs/fc50_fc10/checkpoints/dropout_hidden_prob=0.9,dropout_input_prob=1.0,fisher_multiplier=0.0,learning_rate=0.0006951927961775605,task=0.ckpt-2500\n",
      "epochs: 4.761905, final train loss: 0.088435, validation accuracies: [0.9235716 0.969697 ]\n",
      "best epochs: 1.587302, best_avg: 0.930071, validation accuracies: [0.92728174 0.95238096]\n",
      "saving model dropout_hidden_prob=1.0,dropout_input_prob=1.0,fisher_multiplier=372.7593720314938,learning_rate=0.001,task=1 at time step 300\n",
      "Training with dropout_hidden_prob=1.0,dropout_input_prob=1.0,fisher_multiplier=719.6856730011522,learning_rate=1e-05,task=1\n",
      "Restoring paramters from dropout_hidden_prob=0.9,dropout_input_prob=1.0,fisher_multiplier=0.0,learning_rate=0.0006951927961775605,task=0\n",
      "INFO:tensorflow:Restoring parameters from gs://continual_learning/permMNIST_EWC/80_20_append_logs/fc50_fc10/checkpoints/dropout_hidden_prob=0.9,dropout_input_prob=1.0,fisher_multiplier=0.0,learning_rate=0.0006951927961775605,task=0.ckpt-2500\n",
      "epochs: 241.269841, final train loss: 0.066687, validation accuracies: [0.94113284 0.9415584 ]\n",
      "best epochs: 168.253968, best_avg: 0.944553, validation accuracies: [0.9468217 0.9264069]\n"
     ]
    },
    {
     "name": "stdout",
     "output_type": "stream",
     "text": [
      "saving model dropout_hidden_prob=1.0,dropout_input_prob=1.0,fisher_multiplier=719.6856730011522,learning_rate=1e-05,task=1 at time step 15200\n",
      "Training with dropout_hidden_prob=1.0,dropout_input_prob=1.0,fisher_multiplier=719.6856730011522,learning_rate=0.0001,task=1\n",
      "Restoring paramters from dropout_hidden_prob=0.9,dropout_input_prob=1.0,fisher_multiplier=0.0,learning_rate=0.0006951927961775605,task=0\n",
      "INFO:tensorflow:Restoring parameters from gs://continual_learning/permMNIST_EWC/80_20_append_logs/fc50_fc10/checkpoints/dropout_hidden_prob=0.9,dropout_input_prob=1.0,fisher_multiplier=0.0,learning_rate=0.0006951927961775605,task=0.ckpt-2500\n",
      "epochs: 31.746032, final train loss: 0.058478, validation accuracies: [0.94187486 0.94588745]\n",
      "best epochs: 22.222222, best_avg: 0.943756, validation accuracies: [0.94484293 0.9350649 ]\n",
      "saving model dropout_hidden_prob=1.0,dropout_input_prob=1.0,fisher_multiplier=719.6856730011522,learning_rate=0.0001,task=1 at time step 2000\n",
      "Training with dropout_hidden_prob=1.0,dropout_input_prob=1.0,fisher_multiplier=719.6856730011522,learning_rate=0.001,task=1\n",
      "Restoring paramters from dropout_hidden_prob=0.9,dropout_input_prob=1.0,fisher_multiplier=0.0,learning_rate=0.0006951927961775605,task=0\n",
      "INFO:tensorflow:Restoring parameters from gs://continual_learning/permMNIST_EWC/80_20_append_logs/fc50_fc10/checkpoints/dropout_hidden_prob=0.9,dropout_input_prob=1.0,fisher_multiplier=0.0,learning_rate=0.0006951927961775605,task=0.ckpt-2500\n",
      "epochs: 6.349206, final train loss: 0.027438, validation accuracies: [0.91417265 0.96753246]\n",
      "best epochs: 1.587302, best_avg: 0.944052, validation accuracies: [0.947069  0.9199134]\n",
      "saving model dropout_hidden_prob=1.0,dropout_input_prob=1.0,fisher_multiplier=719.6856730011522,learning_rate=0.001,task=1 at time step 400\n",
      "Training with dropout_hidden_prob=1.0,dropout_input_prob=1.0,fisher_multiplier=1389.4954943731375,learning_rate=1e-05,task=1\n",
      "Restoring paramters from dropout_hidden_prob=0.9,dropout_input_prob=1.0,fisher_multiplier=0.0,learning_rate=0.0006951927961775605,task=0\n",
      "INFO:tensorflow:Restoring parameters from gs://continual_learning/permMNIST_EWC/80_20_append_logs/fc50_fc10/checkpoints/dropout_hidden_prob=0.9,dropout_input_prob=1.0,fisher_multiplier=0.0,learning_rate=0.0006951927961775605,task=0.ckpt-2500\n",
      "epochs: 387.301587, final train loss: 0.057704, validation accuracies: [0.93074447 0.9329004 ]\n",
      "best epochs: 225.396825, best_avg: 0.947273, validation accuracies: [0.9574573  0.86580086]\n",
      "saving model dropout_hidden_prob=1.0,dropout_input_prob=1.0,fisher_multiplier=1389.4954943731375,learning_rate=1e-05,task=1 at time step 24400\n",
      "Training with dropout_hidden_prob=1.0,dropout_input_prob=1.0,fisher_multiplier=1389.4954943731375,learning_rate=0.0001,task=1\n",
      "Restoring paramters from dropout_hidden_prob=0.9,dropout_input_prob=1.0,fisher_multiplier=0.0,learning_rate=0.0006951927961775605,task=0\n",
      "INFO:tensorflow:Restoring parameters from gs://continual_learning/permMNIST_EWC/80_20_append_logs/fc50_fc10/checkpoints/dropout_hidden_prob=0.9,dropout_input_prob=1.0,fisher_multiplier=0.0,learning_rate=0.0006951927961775605,task=0.ckpt-2500\n",
      "epochs: 49.206349, final train loss: 0.067256, validation accuracies: [0.9344546  0.93722945]\n",
      "best epochs: 26.984127, best_avg: 0.948476, validation accuracies: [0.9574573 0.8766234]\n",
      "saving model dropout_hidden_prob=1.0,dropout_input_prob=1.0,fisher_multiplier=1389.4954943731375,learning_rate=0.0001,task=1 at time step 3100\n",
      "Training with dropout_hidden_prob=1.0,dropout_input_prob=1.0,fisher_multiplier=1389.4954943731375,learning_rate=0.001,task=1\n",
      "Restoring paramters from dropout_hidden_prob=0.9,dropout_input_prob=1.0,fisher_multiplier=0.0,learning_rate=0.0006951927961775605,task=0\n",
      "INFO:tensorflow:Restoring parameters from gs://continual_learning/permMNIST_EWC/80_20_append_logs/fc50_fc10/checkpoints/dropout_hidden_prob=0.9,dropout_input_prob=1.0,fisher_multiplier=0.0,learning_rate=0.0006951927961775605,task=0.ckpt-2500\n",
      "epochs: 7.936508, final train loss: 0.050478, validation accuracies: [0.8728667 0.969697 ]\n",
      "best epochs: 3.174603, best_avg: 0.946703, validation accuracies: [0.95275784 0.8982684 ]\n",
      "saving model dropout_hidden_prob=1.0,dropout_input_prob=1.0,fisher_multiplier=1389.4954943731375,learning_rate=0.001,task=1 at time step 500\n",
      "Training with dropout_hidden_prob=1.0,dropout_input_prob=1.0,fisher_multiplier=2682.6957952797247,learning_rate=1e-05,task=1\n",
      "Restoring paramters from dropout_hidden_prob=0.9,dropout_input_prob=1.0,fisher_multiplier=0.0,learning_rate=0.0006951927961775605,task=0\n",
      "INFO:tensorflow:Restoring parameters from gs://continual_learning/permMNIST_EWC/80_20_append_logs/fc50_fc10/checkpoints/dropout_hidden_prob=0.9,dropout_input_prob=1.0,fisher_multiplier=0.0,learning_rate=0.0006951927961775605,task=0.ckpt-2500\n",
      "epochs: 458.730159, final train loss: 0.078223, validation accuracies: [0.9171407 0.9177489]\n",
      "best epochs: 276.190476, best_avg: 0.945754, validation accuracies: [0.9641355 0.7987013]\n",
      "saving model dropout_hidden_prob=1.0,dropout_input_prob=1.0,fisher_multiplier=2682.6957952797247,learning_rate=1e-05,task=1 at time step 28900\n",
      "Training with dropout_hidden_prob=1.0,dropout_input_prob=1.0,fisher_multiplier=2682.6957952797247,learning_rate=0.0001,task=1\n",
      "Restoring paramters from dropout_hidden_prob=0.9,dropout_input_prob=1.0,fisher_multiplier=0.0,learning_rate=0.0006951927961775605,task=0\n",
      "INFO:tensorflow:Restoring parameters from gs://continual_learning/permMNIST_EWC/80_20_append_logs/fc50_fc10/checkpoints/dropout_hidden_prob=0.9,dropout_input_prob=1.0,fisher_multiplier=0.0,learning_rate=0.0006951927961775605,task=0.ckpt-2500\n",
      "epochs: 58.730159, final train loss: 0.088769, validation accuracies: [0.9109572 0.9285714]\n",
      "best epochs: 33.333333, best_avg: 0.946661, validation accuracies: [0.9619095 0.8246753]\n",
      "saving model dropout_hidden_prob=1.0,dropout_input_prob=1.0,fisher_multiplier=2682.6957952797247,learning_rate=0.0001,task=1 at time step 3700\n",
      "Training with dropout_hidden_prob=1.0,dropout_input_prob=1.0,fisher_multiplier=2682.6957952797247,learning_rate=0.001,task=1\n",
      "Restoring paramters from dropout_hidden_prob=0.9,dropout_input_prob=1.0,fisher_multiplier=0.0,learning_rate=0.0006951927961775605,task=0\n",
      "INFO:tensorflow:Restoring parameters from gs://continual_learning/permMNIST_EWC/80_20_append_logs/fc50_fc10/checkpoints/dropout_hidden_prob=0.9,dropout_input_prob=1.0,fisher_multiplier=0.0,learning_rate=0.0006951927961775605,task=0.ckpt-2500\n",
      "epochs: 9.523810, final train loss: 0.086185, validation accuracies: [0.78184515 0.9632035 ]\n",
      "best epochs: 3.174603, best_avg: 0.945720, validation accuracies: [0.9616621 0.8181818]\n",
      "saving model dropout_hidden_prob=1.0,dropout_input_prob=1.0,fisher_multiplier=2682.6957952797247,learning_rate=0.001,task=1 at time step 600\n",
      "Training with dropout_hidden_prob=1.0,dropout_input_prob=1.0,fisher_multiplier=5179.474679231213,learning_rate=1e-05,task=1\n",
      "Restoring paramters from dropout_hidden_prob=0.9,dropout_input_prob=1.0,fisher_multiplier=0.0,learning_rate=0.0006951927961775605,task=0\n",
      "INFO:tensorflow:Restoring parameters from gs://continual_learning/permMNIST_EWC/80_20_append_logs/fc50_fc10/checkpoints/dropout_hidden_prob=0.9,dropout_input_prob=1.0,fisher_multiplier=0.0,learning_rate=0.0006951927961775605,task=0.ckpt-2500\n",
      "epochs: 519.047619, final train loss: 0.135747, validation accuracies: [0.8963641 0.9025974]\n",
      "best epochs: 363.492063, best_avg: 0.937825, validation accuracies: [0.96116745 0.75108224]\n",
      "saving model dropout_hidden_prob=1.0,dropout_input_prob=1.0,fisher_multiplier=5179.474679231213,learning_rate=1e-05,task=1 at time step 32700\n",
      "Training with dropout_hidden_prob=1.0,dropout_input_prob=1.0,fisher_multiplier=5179.474679231213,learning_rate=0.0001,task=1\n",
      "Restoring paramters from dropout_hidden_prob=0.9,dropout_input_prob=1.0,fisher_multiplier=0.0,learning_rate=0.0006951927961775605,task=0\n",
      "INFO:tensorflow:Restoring parameters from gs://continual_learning/permMNIST_EWC/80_20_append_logs/fc50_fc10/checkpoints/dropout_hidden_prob=0.9,dropout_input_prob=1.0,fisher_multiplier=0.0,learning_rate=0.0006951927961775605,task=0.ckpt-2500\n",
      "epochs: 60.317460, final train loss: 0.121223, validation accuracies: [0.90032154 0.9112554 ]\n",
      "best epochs: 38.095238, best_avg: 0.938787, validation accuracies: [0.96116745 0.75974023]\n"
     ]
    },
    {
     "name": "stdout",
     "output_type": "stream",
     "text": [
      "saving model dropout_hidden_prob=1.0,dropout_input_prob=1.0,fisher_multiplier=5179.474679231213,learning_rate=0.0001,task=1 at time step 3800\n",
      "Training with dropout_hidden_prob=1.0,dropout_input_prob=1.0,fisher_multiplier=5179.474679231213,learning_rate=0.001,task=1\n",
      "Restoring paramters from dropout_hidden_prob=0.9,dropout_input_prob=1.0,fisher_multiplier=0.0,learning_rate=0.0006951927961775605,task=0\n",
      "INFO:tensorflow:Restoring parameters from gs://continual_learning/permMNIST_EWC/80_20_append_logs/fc50_fc10/checkpoints/dropout_hidden_prob=0.9,dropout_input_prob=1.0,fisher_multiplier=0.0,learning_rate=0.0006951927961775605,task=0.ckpt-2500\n",
      "epochs: 9.523810, final train loss: 0.095891, validation accuracies: [0.7751669 0.9480519]\n",
      "best epochs: 3.174603, best_avg: 0.932863, validation accuracies: [0.9658669  0.66883117]\n",
      "saving model dropout_hidden_prob=1.0,dropout_input_prob=1.0,fisher_multiplier=5179.474679231213,learning_rate=0.001,task=1 at time step 600\n",
      "Training with dropout_hidden_prob=1.0,dropout_input_prob=1.0,fisher_multiplier=10000.0,learning_rate=1e-05,task=1\n",
      "Restoring paramters from dropout_hidden_prob=0.9,dropout_input_prob=1.0,fisher_multiplier=0.0,learning_rate=0.0006951927961775605,task=0\n",
      "INFO:tensorflow:Restoring parameters from gs://continual_learning/permMNIST_EWC/80_20_append_logs/fc50_fc10/checkpoints/dropout_hidden_prob=0.9,dropout_input_prob=1.0,fisher_multiplier=0.0,learning_rate=0.0006951927961775605,task=0.ckpt-2500\n",
      "epochs: 549.206349, final train loss: 0.158868, validation accuracies: [0.8783082 0.8831169]\n",
      "best epochs: 409.523810, best_avg: 0.927325, validation accuracies: [0.9601781  0.66450214]\n",
      "saving model dropout_hidden_prob=1.0,dropout_input_prob=1.0,fisher_multiplier=10000.0,learning_rate=1e-05,task=1 at time step 34600\n",
      "Training with dropout_hidden_prob=1.0,dropout_input_prob=1.0,fisher_multiplier=10000.0,learning_rate=0.0001,task=1\n",
      "Restoring paramters from dropout_hidden_prob=0.9,dropout_input_prob=1.0,fisher_multiplier=0.0,learning_rate=0.0006951927961775605,task=0\n",
      "INFO:tensorflow:Restoring parameters from gs://continual_learning/permMNIST_EWC/80_20_append_logs/fc50_fc10/checkpoints/dropout_hidden_prob=0.9,dropout_input_prob=1.0,fisher_multiplier=0.0,learning_rate=0.0006951927961775605,task=0.ckpt-2500\n",
      "epochs: 65.079365, final train loss: 0.109440, validation accuracies: [0.8736087 0.8982684]\n",
      "best epochs: 41.269841, best_avg: 0.928823, validation accuracies: [0.96240413 0.6601732 ]\n",
      "saving model dropout_hidden_prob=1.0,dropout_input_prob=1.0,fisher_multiplier=10000.0,learning_rate=0.0001,task=1 at time step 4100\n",
      "Training with dropout_hidden_prob=1.0,dropout_input_prob=1.0,fisher_multiplier=10000.0,learning_rate=0.001,task=1\n",
      "Restoring paramters from dropout_hidden_prob=0.9,dropout_input_prob=1.0,fisher_multiplier=0.0,learning_rate=0.0006951927961775605,task=0\n",
      "INFO:tensorflow:Restoring parameters from gs://continual_learning/permMNIST_EWC/80_20_append_logs/fc50_fc10/checkpoints/dropout_hidden_prob=0.9,dropout_input_prob=1.0,fisher_multiplier=0.0,learning_rate=0.0006951927961775605,task=0.ckpt-2500\n",
      "epochs: 9.523810, final train loss: 0.104764, validation accuracies: [0.7850606  0.94588745]\n",
      "best epochs: 4.761905, best_avg: 0.924757, validation accuracies: [0.94484293 0.76406926]\n",
      "saving model dropout_hidden_prob=1.0,dropout_input_prob=1.0,fisher_multiplier=10000.0,learning_rate=0.001,task=1 at time step 600\n",
      "Training with dropout_hidden_prob=1.0,dropout_input_prob=1.0,fisher_multiplier=1389.4954943731375,learning_rate=0.0001,task=1\n",
      "Restoring paramters from dropout_hidden_prob=0.9,dropout_input_prob=1.0,fisher_multiplier=0.0,learning_rate=0.0006951927961775605,task=0\n",
      "INFO:tensorflow:Restoring parameters from gs://continual_learning/permMNIST_EWC/80_20_append_logs/fc50_fc10/checkpoints/dropout_hidden_prob=0.9,dropout_input_prob=1.0,fisher_multiplier=0.0,learning_rate=0.0006951927961775605,task=0.ckpt-2500\n",
      "epochs: 26.984127, final train loss: 0.190525, validation accuracies: [0.9574573 0.8701299]\n",
      "best epochs: 25.396825, best_avg: 0.947754, validation accuracies: [0.9574573 0.8701299]\n",
      "saving model dropout_hidden_prob=1.0,dropout_input_prob=1.0,fisher_multiplier=1389.4954943731375,learning_rate=0.0001,task=1 at time step 1700\n",
      "calculating penultimate output...\n",
      "time taken: %f 1.2251436710357666\n",
      "saving penultimate output...\n"
     ]
    }
   ],
   "source": [
    "best_avg, best_hparams = tuner.tune_on_task(t, BATCH_SIZE)"
   ]
  },
  {
   "cell_type": "code",
   "execution_count": 42,
   "metadata": {},
   "outputs": [
    {
     "name": "stdout",
     "output_type": "stream",
     "text": [
      "0.9484757582346598 {'fisher_multiplier': 1389.4954943731375, 'dropout_input_prob': 1.0, 'dropout_hidden_prob': 1.0, 'learning_rate': 0.0001}\n",
      "INFO:tensorflow:Restoring parameters from gs://continual_learning/permMNIST_EWC/80_20_append_logs/fc50_fc10/checkpoints/dropout_hidden_prob=1.0,dropout_input_prob=1.0,fisher_multiplier=1389.4954943731375,learning_rate=0.0001,task=1.ckpt-1700\n",
      "[0.9573412698412699, 0.8816964285714286]\n"
     ]
    }
   ],
   "source": [
    "print(best_avg, best_hparams)\n",
    "VALIDATION_BATCH_SIZE = 32\n",
    "print(tuner.validation_accuracy(t, VALIDATION_BATCH_SIZE))"
   ]
  },
  {
   "cell_type": "code",
   "execution_count": 35,
   "metadata": {},
   "outputs": [
    {
     "data": {
      "image/png": "[encoded data removed]",
      "text/plain": [
       "<Figure size 432x288 with 1 Axes>"
      ]
     },
     "metadata": {},
     "output_type": "display_data"
    },
    {
     "data": {
      "image/png": "[encoded data removed]",
      "text/plain": [
       "<Figure size 432x288 with 1 Axes>"
      ]
     },
     "metadata": {},
     "output_type": "display_data"
    }
   ],
   "source": [
    "best_hparams_tuple = tuple([v for k, v in sorted(best_hparams.items())])\n",
    "cur_res = tuner.results_list[t][best_hparams_tuple]\n",
    "x = np.arange(0, len(cur_res['loss']), tuner.eval_frequency)\n",
    "plt.plot(cur_res['loss_with_penalty'], color='g')\n",
    "plt.plot(cur_res['loss'], color='m')\n",
    "plt.plot(x, cur_res['val_loss'][-1], color='b')\n",
    "# plt.plot(x, cur_res['val_loss'][0], color='g')\n",
    "plt.show()\n",
    "plt.plot(cur_res['val_acc'][0], color='b')\n",
    "plt.plot(cur_res['val_acc'][1], color='g')\n",
    "plt.show()\n"
   ]
  },
  {
   "cell_type": "code",
   "execution_count": 49,
   "metadata": {},
   "outputs": [],
   "source": [
    "# task 2\n",
    "t = 2\n",
    "seed = 0\n",
    "np.random.seed(0)\n",
    "learning_rates = list(np.logspace(-5, -3, 3))\n",
    "fisher_multipliers = [10, 100, 1000, 10000]\n",
    "dropout_input_probs = [1.0]\n",
    "dropout_hidden_probs = [1.0]\n",
    "prod = list(itertools.product(fisher_multipliers, dropout_input_probs, dropout_hidden_probs, learning_rates))\n",
    "hparams = []\n",
    "for hparams_tuple in prod:\n",
    "    cur_dict = {}\n",
    "    cur_dict['fisher_multiplier'] = hparams_tuple[0]\n",
    "    cur_dict['dropout_input_prob'] = hparams_tuple[1]\n",
    "    cur_dict['dropout_hidden_prob'] = hparams_tuple[2]\n",
    "    cur_dict['learning_rate'] = hparams_tuple[3]\n",
    "    hparams.append(cur_dict)\n",
    "tuner.hparams_list[t] = hparams"
   ]
  },
  {
   "cell_type": "code",
   "execution_count": 44,
   "metadata": {},
   "outputs": [],
   "source": [
    "tuner.save_penultimate_output = True\n",
    "tuner.per_example_append = 2"
   ]
  },
  {
   "cell_type": "code",
   "execution_count": 50,
   "metadata": {},
   "outputs": [
    {
     "name": "stdout",
     "output_type": "stream",
     "text": [
      "INFO:tensorflow:Restoring parameters from gs://continual_learning/permMNIST_EWC/80_20_append_logs/fc50_fc10/checkpoints/dropout_hidden_prob=1.0,dropout_input_prob=1.0,fisher_multiplier=1389.4954943731375,learning_rate=0.0001,task=1.ckpt-1700\n",
      "Training with dropout_hidden_prob=1.0,dropout_input_prob=1.0,fisher_multiplier=10,learning_rate=1e-05,task=2\n",
      "Restoring paramters from dropout_hidden_prob=1.0,dropout_input_prob=1.0,fisher_multiplier=1389.4954943731375,learning_rate=0.0001,task=1\n",
      "INFO:tensorflow:Restoring parameters from gs://continual_learning/permMNIST_EWC/80_20_append_logs/fc50_fc10/checkpoints/dropout_hidden_prob=1.0,dropout_input_prob=1.0,fisher_multiplier=1389.4954943731375,learning_rate=0.0001,task=1.ckpt-1700\n",
      "epochs: 104.761905, final train loss: 0.289309, validation accuracies: [0.91442    0.05844156 0.9171717 ]\n",
      "best epochs: 1.587302, best_avg: 0.855465, validation accuracies: [0.9589414 0.8831169 0.       ]\n",
      "saving model dropout_hidden_prob=1.0,dropout_input_prob=1.0,fisher_multiplier=10,learning_rate=1e-05,task=2 at time step 6600\n",
      "Training with dropout_hidden_prob=1.0,dropout_input_prob=1.0,fisher_multiplier=10,learning_rate=0.0001,task=2\n",
      "Restoring paramters from dropout_hidden_prob=1.0,dropout_input_prob=1.0,fisher_multiplier=1389.4954943731375,learning_rate=0.0001,task=1\n",
      "INFO:tensorflow:Restoring parameters from gs://continual_learning/permMNIST_EWC/80_20_append_logs/fc50_fc10/checkpoints/dropout_hidden_prob=1.0,dropout_input_prob=1.0,fisher_multiplier=1389.4954943731375,learning_rate=0.0001,task=1.ckpt-1700\n",
      "epochs: 14.285714, final train loss: 0.150087, validation accuracies: [0.91070986 0.14935064 0.93939394]\n",
      "best epochs: 0.000000, best_avg: 0.854043, validation accuracies: [0.95770466 0.8787879  0.        ]\n",
      "saving model dropout_hidden_prob=1.0,dropout_input_prob=1.0,fisher_multiplier=10,learning_rate=0.0001,task=2 at time step 900\n",
      "Training with dropout_hidden_prob=1.0,dropout_input_prob=1.0,fisher_multiplier=10,learning_rate=0.001,task=2\n",
      "Restoring paramters from dropout_hidden_prob=1.0,dropout_input_prob=1.0,fisher_multiplier=1389.4954943731375,learning_rate=0.0001,task=1\n",
      "INFO:tensorflow:Restoring parameters from gs://continual_learning/permMNIST_EWC/80_20_append_logs/fc50_fc10/checkpoints/dropout_hidden_prob=1.0,dropout_input_prob=1.0,fisher_multiplier=1389.4954943731375,learning_rate=0.0001,task=1.ckpt-1700\n",
      "epochs: 3.174603, final train loss: 0.096762, validation accuracies: [0.8859758  0.25757575 0.96767676]\n",
      "best epochs: 0.000000, best_avg: 0.855211, validation accuracies: [0.95943606 0.8766234  0.        ]\n",
      "saving model dropout_hidden_prob=1.0,dropout_input_prob=1.0,fisher_multiplier=10,learning_rate=0.001,task=2 at time step 200\n",
      "Training with dropout_hidden_prob=1.0,dropout_input_prob=1.0,fisher_multiplier=100,learning_rate=1e-05,task=2\n",
      "Restoring paramters from dropout_hidden_prob=1.0,dropout_input_prob=1.0,fisher_multiplier=1389.4954943731375,learning_rate=0.0001,task=1\n",
      "INFO:tensorflow:Restoring parameters from gs://continual_learning/permMNIST_EWC/80_20_append_logs/fc50_fc10/checkpoints/dropout_hidden_prob=1.0,dropout_input_prob=1.0,fisher_multiplier=1389.4954943731375,learning_rate=0.0001,task=1.ckpt-1700\n",
      "epochs: 326.984127, final train loss: 0.140662, validation accuracies: [0.9337126  0.53896105 0.9353535 ]\n",
      "best epochs: 319.047619, best_avg: 0.894931, validation accuracies: [0.9356913  0.53246754 0.93131316]\n",
      "saving model dropout_hidden_prob=1.0,dropout_input_prob=1.0,fisher_multiplier=100,learning_rate=1e-05,task=2 at time step 20600\n",
      "Training with dropout_hidden_prob=1.0,dropout_input_prob=1.0,fisher_multiplier=100,learning_rate=0.0001,task=2\n",
      "Restoring paramters from dropout_hidden_prob=1.0,dropout_input_prob=1.0,fisher_multiplier=1389.4954943731375,learning_rate=0.0001,task=1\n",
      "INFO:tensorflow:Restoring parameters from gs://continual_learning/permMNIST_EWC/80_20_append_logs/fc50_fc10/checkpoints/dropout_hidden_prob=1.0,dropout_input_prob=1.0,fisher_multiplier=1389.4954943731375,learning_rate=0.0001,task=1.ckpt-1700\n",
      "epochs: 41.269841, final train loss: 0.131485, validation accuracies: [0.92629236 0.512987   0.93131316]\n",
      "best epochs: 33.333333, best_avg: 0.889600, validation accuracies: [0.93692803 0.4935065  0.9070707 ]\n",
      "saving model dropout_hidden_prob=1.0,dropout_input_prob=1.0,fisher_multiplier=100,learning_rate=0.0001,task=2 at time step 2600\n",
      "Training with dropout_hidden_prob=1.0,dropout_input_prob=1.0,fisher_multiplier=100,learning_rate=0.001,task=2\n",
      "Restoring paramters from dropout_hidden_prob=1.0,dropout_input_prob=1.0,fisher_multiplier=1389.4954943731375,learning_rate=0.0001,task=1\n",
      "INFO:tensorflow:Restoring parameters from gs://continual_learning/permMNIST_EWC/80_20_append_logs/fc50_fc10/checkpoints/dropout_hidden_prob=1.0,dropout_input_prob=1.0,fisher_multiplier=1389.4954943731375,learning_rate=0.0001,task=1.ckpt-1700\n",
      "epochs: 7.936508, final train loss: 0.127341, validation accuracies: [0.8760821  0.45887446 0.96161616]\n",
      "best epochs: 4.761905, best_avg: 0.888636, validation accuracies: [0.92728174 0.5367965  0.93131316]\n",
      "saving model dropout_hidden_prob=1.0,dropout_input_prob=1.0,fisher_multiplier=100,learning_rate=0.001,task=2 at time step 500\n",
      "Training with dropout_hidden_prob=1.0,dropout_input_prob=1.0,fisher_multiplier=1000,learning_rate=1e-05,task=2\n",
      "Restoring paramters from dropout_hidden_prob=1.0,dropout_input_prob=1.0,fisher_multiplier=1389.4954943731375,learning_rate=0.0001,task=1\n",
      "INFO:tensorflow:Restoring parameters from gs://continual_learning/permMNIST_EWC/80_20_append_logs/fc50_fc10/checkpoints/dropout_hidden_prob=1.0,dropout_input_prob=1.0,fisher_multiplier=1389.4954943731375,learning_rate=0.0001,task=1.ckpt-1700\n",
      "epochs: 525.396825, final train loss: 0.233721, validation accuracies: [0.89908487 0.43939394 0.9030303 ]\n",
      "best epochs: 422.222222, best_avg: 0.905716, validation accuracies: [0.94484293 0.8095238  0.6888889 ]\n",
      "saving model dropout_hidden_prob=1.0,dropout_input_prob=1.0,fisher_multiplier=1000,learning_rate=1e-05,task=2 at time step 33100\n",
      "Training with dropout_hidden_prob=1.0,dropout_input_prob=1.0,fisher_multiplier=1000,learning_rate=0.0001,task=2\n",
      "Restoring paramters from dropout_hidden_prob=1.0,dropout_input_prob=1.0,fisher_multiplier=1389.4954943731375,learning_rate=0.0001,task=1\n",
      "INFO:tensorflow:Restoring parameters from gs://continual_learning/permMNIST_EWC/80_20_append_logs/fc50_fc10/checkpoints/dropout_hidden_prob=1.0,dropout_input_prob=1.0,fisher_multiplier=1389.4954943731375,learning_rate=0.0001,task=1.ckpt-1700\n",
      "epochs: 61.904762, final train loss: 0.185731, validation accuracies: [0.8904279  0.43722942 0.91515154]\n",
      "best epochs: 42.857143, best_avg: 0.907122, validation accuracies: [0.94360626 0.8051948  0.7171717 ]\n",
      "saving model dropout_hidden_prob=1.0,dropout_input_prob=1.0,fisher_multiplier=1000,learning_rate=0.0001,task=2 at time step 3900\n",
      "Training with dropout_hidden_prob=1.0,dropout_input_prob=1.0,fisher_multiplier=1000,learning_rate=0.001,task=2\n",
      "Restoring paramters from dropout_hidden_prob=1.0,dropout_input_prob=1.0,fisher_multiplier=1389.4954943731375,learning_rate=0.0001,task=1\n",
      "INFO:tensorflow:Restoring parameters from gs://continual_learning/permMNIST_EWC/80_20_append_logs/fc50_fc10/checkpoints/dropout_hidden_prob=1.0,dropout_input_prob=1.0,fisher_multiplier=1389.4954943731375,learning_rate=0.0001,task=1.ckpt-1700\n",
      "epochs: 7.936508, final train loss: 0.232862, validation accuracies: [0.85580015 0.3051948  0.93333334]\n",
      "best epochs: 4.761905, best_avg: 0.899118, validation accuracies: [0.934702   0.7034632  0.81010103]\n",
      "saving model dropout_hidden_prob=1.0,dropout_input_prob=1.0,fisher_multiplier=1000,learning_rate=0.001,task=2 at time step 500\n",
      "Training with dropout_hidden_prob=1.0,dropout_input_prob=1.0,fisher_multiplier=10000,learning_rate=1e-05,task=2\n",
      "Restoring paramters from dropout_hidden_prob=1.0,dropout_input_prob=1.0,fisher_multiplier=1389.4954943731375,learning_rate=0.0001,task=1\n",
      "INFO:tensorflow:Restoring parameters from gs://continual_learning/permMNIST_EWC/80_20_append_logs/fc50_fc10/checkpoints/dropout_hidden_prob=1.0,dropout_input_prob=1.0,fisher_multiplier=1389.4954943731375,learning_rate=0.0001,task=1.ckpt-1700\n",
      "epochs: 706.349206, final train loss: 0.292224, validation accuracies: [0.839723   0.25108224 0.84040403]\n",
      "best epochs: 453.968254, best_avg: 0.863479, validation accuracies: [0.94657433 0.8116883  0.25050506]\n"
     ]
    },
    {
     "name": "stdout",
     "output_type": "stream",
     "text": [
      "saving model dropout_hidden_prob=1.0,dropout_input_prob=1.0,fisher_multiplier=10000,learning_rate=1e-05,task=2 at time step 44500\n",
      "Training with dropout_hidden_prob=1.0,dropout_input_prob=1.0,fisher_multiplier=10000,learning_rate=0.0001,task=2\n",
      "Restoring paramters from dropout_hidden_prob=1.0,dropout_input_prob=1.0,fisher_multiplier=1389.4954943731375,learning_rate=0.0001,task=1\n",
      "INFO:tensorflow:Restoring parameters from gs://continual_learning/permMNIST_EWC/80_20_append_logs/fc50_fc10/checkpoints/dropout_hidden_prob=1.0,dropout_input_prob=1.0,fisher_multiplier=1389.4954943731375,learning_rate=0.0001,task=1.ckpt-1700\n",
      "epochs: 92.063492, final train loss: 0.223449, validation accuracies: [0.83601284 0.25974026 0.8424242 ]\n",
      "best epochs: 46.031746, best_avg: 0.863827, validation accuracies: [0.94558495 0.8008658  0.27272728]\n",
      "saving model dropout_hidden_prob=1.0,dropout_input_prob=1.0,fisher_multiplier=10000,learning_rate=0.0001,task=2 at time step 5800\n",
      "Training with dropout_hidden_prob=1.0,dropout_input_prob=1.0,fisher_multiplier=10000,learning_rate=0.001,task=2\n",
      "Restoring paramters from dropout_hidden_prob=1.0,dropout_input_prob=1.0,fisher_multiplier=1389.4954943731375,learning_rate=0.0001,task=1\n",
      "INFO:tensorflow:Restoring parameters from gs://continual_learning/permMNIST_EWC/80_20_append_logs/fc50_fc10/checkpoints/dropout_hidden_prob=1.0,dropout_input_prob=1.0,fisher_multiplier=1389.4954943731375,learning_rate=0.0001,task=1.ckpt-1700\n",
      "epochs: 12.698413, final train loss: 0.249583, validation accuracies: [0.82018304 0.27056277 0.85858583]\n",
      "best epochs: 4.761905, best_avg: 0.860958, validation accuracies: [0.93940145 0.7186147  0.37575758]\n",
      "saving model dropout_hidden_prob=1.0,dropout_input_prob=1.0,fisher_multiplier=10000,learning_rate=0.001,task=2 at time step 800\n",
      "Training with dropout_hidden_prob=1.0,dropout_input_prob=1.0,fisher_multiplier=1000,learning_rate=0.0001,task=2\n",
      "Restoring paramters from dropout_hidden_prob=1.0,dropout_input_prob=1.0,fisher_multiplier=1389.4954943731375,learning_rate=0.0001,task=1\n",
      "INFO:tensorflow:Restoring parameters from gs://continual_learning/permMNIST_EWC/80_20_append_logs/fc50_fc10/checkpoints/dropout_hidden_prob=1.0,dropout_input_prob=1.0,fisher_multiplier=1389.4954943731375,learning_rate=0.0001,task=1.ckpt-1700\n",
      "epochs: 42.857143, final train loss: 0.355800, validation accuracies: [0.9450903 0.8203463 0.6848485]\n",
      "best epochs: 41.269841, best_avg: 0.906592, validation accuracies: [0.9450903 0.8203463 0.6848485]\n",
      "saving model dropout_hidden_prob=1.0,dropout_input_prob=1.0,fisher_multiplier=1000,learning_rate=0.0001,task=2 at time step 2700\n",
      "calculating penultimate output...\n",
      "time taken: %f 1.0767827033996582\n",
      "saving penultimate output...\n"
     ]
    }
   ],
   "source": [
    "best_avg, best_hparams = tuner.tune_on_task(t, BATCH_SIZE)"
   ]
  },
  {
   "cell_type": "code",
   "execution_count": 11,
   "metadata": {},
   "outputs": [
    {
     "name": "stdout",
     "output_type": "stream",
     "text": [
      "INFO:tensorflow:Restoring parameters from gs://continual_learning/permMNIST_EWC/80_20_logs/fc50_fc10/checkpoints/dropout_hidden_prob=1.0,dropout_input_prob=1.0,fisher_multiplier=10000,learning_rate=1e-05,task=2.ckpt-48000\n",
      "[0.9451884920634921, 0.8616071428571429, 0.65625]\n"
     ]
    }
   ],
   "source": [
    "# print(best_avg, best_hparams)\n",
    "t = 2\n",
    "VALIDATION_BATCH_SIZE = 32\n",
    "print(tuner.validation_accuracy(t, VALIDATION_BATCH_SIZE))"
   ]
  },
  {
   "cell_type": "code",
   "execution_count": 54,
   "metadata": {},
   "outputs": [],
   "source": [
    "tuner.save_results_list()\n",
    "tuner.save_best_hparams()"
   ]
  },
  {
   "cell_type": "code",
   "execution_count": 55,
   "metadata": {},
   "outputs": [
    {
     "name": "stdout",
     "output_type": "stream",
     "text": [
      "cur_best_avg: 9.071217e-01, num_updates: 2700\n",
      "best val_acc: [0.94360626 0.8051948  0.7171717 ]\n"
     ]
    },
    {
     "data": {
      "image/png": "[encoded data removed]",
      "text/plain": [
       "<Figure size 432x288 with 1 Axes>"
      ]
     },
     "metadata": {},
     "output_type": "display_data"
    },
    {
     "data": {
      "image/png": "[encoded data removed]",
      "text/plain": [
       "<Figure size 432x288 with 1 Axes>"
      ]
     },
     "metadata": {},
     "output_type": "display_data"
    }
   ],
   "source": [
    "# print(\"best_avg: %e, best_params: %s\" % (best_avg, str(best_params)))\n",
    "# print(\"best_params: dropout: %f, fisher_multiplier: %e, lr: %e\" % best_params)\n",
    "\n",
    "# for k, v in tuner.results_list.items():\n",
    "# best_avg_tuple = tuple([v for k, v in sorted(tuner.best_hparams[t][0].items())])\n",
    "best_hparams_tuple = tuple([v for k, v in sorted(best_hparams.items())])\n",
    "cur_res = tuner.results_list[t][best_hparams_tuple]\n",
    "x = np.arange(0, len(cur_res['loss']), tuner.eval_frequency)\n",
    "cur_best_avg = cur_res['best_avg']\n",
    "cur_best_avg_updates = cur_res['best_avg_updates']\n",
    "# print(\"dropout: %f, fisher_multiplier: %e, lr: %e\" % (k[0], k[1], k[2]))\n",
    "print(\"cur_best_avg: %e, num_updates: %d\" % (cur_best_avg, cur_best_avg_updates))\n",
    "print(\"best val_acc: %s\" % (str(np.array(cur_res['val_acc'])[:, cur_best_avg_updates // tuner.eval_frequency])))\n",
    "plt.plot(cur_res['loss_with_penalty'], color='g')\n",
    "plt.plot(cur_res['loss'], color='m')\n",
    "plt.plot(x, cur_res['val_loss'][-1], color='b')\n",
    "plt.show()\n",
    "plt.plot(cur_res['val_acc'][0], color='b')\n",
    "plt.plot(cur_res['val_acc'][1], color='g')\n",
    "plt.plot(cur_res['val_acc'][2], color='r')\n",
    "\n",
    "plt.show()"
   ]
  },
  {
   "cell_type": "code",
   "execution_count": 56,
   "metadata": {},
   "outputs": [
    {
     "name": "stdout",
     "output_type": "stream",
     "text": [
      "({'learning_rate': 0.0006951927961775605, 'fisher_multiplier': 0.0, 'dropout_input_prob': 1.0, 'dropout_hidden_prob': 0.9}, 'dropout_hidden_prob=0.9,dropout_input_prob=1.0,fisher_multiplier=0.0,learning_rate=0.0006951927961775605,task=0')\n",
      "({'fisher_multiplier': 1389.4954943731375, 'dropout_input_prob': 1.0, 'dropout_hidden_prob': 1.0, 'learning_rate': 0.0001}, 'dropout_hidden_prob=1.0,dropout_input_prob=1.0,fisher_multiplier=1389.4954943731375,learning_rate=0.0001,task=1')\n",
      "({'fisher_multiplier': 1000, 'dropout_input_prob': 1.0, 'dropout_hidden_prob': 1.0, 'learning_rate': 0.0001}, 'dropout_hidden_prob=1.0,dropout_input_prob=1.0,fisher_multiplier=1000,learning_rate=0.0001,task=2')\n"
     ]
    }
   ],
   "source": [
    "for i in range(t + 1):\n",
    "    print(tuner.best_hparams[i])"
   ]
  },
  {
   "cell_type": "code",
   "execution_count": 52,
   "metadata": {},
   "outputs": [],
   "source": [
    "def get_confusion_matrix(tuner):\n",
    "    num_labels = 10\n",
    "    pred = np.array([])\n",
    "    actual = np.array([])\n",
    "    for j in range(t + 1):\n",
    "        val_data = tuner.task_list[j].validation\n",
    "        feed_dict = tuner.classifier.create_feed_dict(val_data.images, val_data.labels)\n",
    "        cur_scores, cur_y = tuner.classifier.get_predictions(sess, feed_dict)\n",
    "        cur_pred = np.argmax(cur_scores, 1)\n",
    "        cur_actual = np.argmax(cur_y, 1)\n",
    "        actual = np.concatenate([actual, cur_actual])\n",
    "        pred = np.concatenate([pred, cur_pred])\n",
    "    confusion_matrix = np.zeros((num_labels,num_labels), dtype=np.int64)\n",
    "\n",
    "    for i in range(actual.shape[0]):\n",
    "        confusion_matrix[int(actual[i]), int(pred[i])] += 1\n",
    "    return confusion_matrix\n",
    "\n",
    "def print_confusion_matrix(confusion_matrix):\n",
    "    print(\"%3d\" % (0, ), end=' ')\n",
    "    for j in range(confusion_matrix.shape[1]):\n",
    "        print(\"%3d\" % (j, ), end=' ')\n",
    "    print(\"\")\n",
    "    for i in range(confusion_matrix.shape[0]):\n",
    "        print(\"%3d\" % (i, ), end=' ')\n",
    "        for j in range(confusion_matrix.shape[1]):\n",
    "            print(\"%3d\" % (confusion_matrix[i][j], ), end= ' ')\n",
    "        print(\"\")"
   ]
  },
  {
   "cell_type": "code",
   "execution_count": 53,
   "metadata": {},
   "outputs": [
    {
     "name": "stdout",
     "output_type": "stream",
     "text": [
      "  0   0   1   2   3   4   5   6   7   8   9 \n",
      "  0 470   0   1   0   0   1   2   1   1   3 \n",
      "  1   0 539   2   0   0   0   0   0   3  19 \n",
      "  2   2   4 454   1   0   0   7   0  12   8 \n",
      "  3   0   2   5 450   1   6   1   5  14   9 \n",
      "  4   2   2   1   0 502   0   9   0   4  15 \n",
      "  5   2   0   0   7   1 401  12   0   6   5 \n",
      "  6   2   0   1   0   0   0 494   0   2   2 \n",
      "  7   4   2   4   1   0   0   0 505   0  34 \n",
      "  8   4  12  12  13   2   2   6   0 373  38 \n",
      "  9   8   1   1   7  71   2   0  25  26 354 \n"
     ]
    }
   ],
   "source": [
    "# confusion matrix before training\n",
    "# train on best hyperparameters\n",
    "\n",
    "# best_params = (1.0, 10 ** (18 / 19 + 4), 5e-6)\n",
    "# best_num_updates = 3600\n",
    "\n",
    "# dropout, fisher_multiplier, lr = best_params\n",
    "# best_num_updates = result[best_params]['best_avg'][1]\n",
    "\n",
    "# model_name = tuner.file_name(lr, fisher_multiplier, t)\n",
    "# tuner.classifier.prepare_for_training(sess=tuner.sess, \n",
    "#                                     model_name=model_name, \n",
    "#                                     model_init_name=model_init_name, \n",
    "#                                     fisher_multiplier=fisher_multiplier, \n",
    "#                                     learning_rate=lr)\n",
    "\n",
    "confusion_matrix = get_confusion_matrix(tuner)\n",
    "print_confusion_matrix(confusion_matrix)\n"
   ]
  },
  {
   "cell_type": "code",
   "execution_count": 112,
   "metadata": {},
   "outputs": [
    {
     "name": "stdout",
     "output_type": "stream",
     "text": [
      "[ 516    8 3164 2705   52 4043  204   86 5389    0]\n",
      "[ 118    1   37 1233 4827 2396  116 1961  219 5454]\n"
     ]
    },
    {
     "data": {
      "image/png": "[encoded data removed]",
      "text/plain": [
       "<Figure size 432x288 with 1 Axes>"
      ]
     },
     "metadata": {},
     "output_type": "display_data"
    }
   ],
   "source": [
    "plt.imshow(tuner.appended_task_list[1].train.images[8].reshape(28, 28), cmap='gray')\n",
    "examples_per_class_1 = np.sum(tuner.appended_task_list[1].train.labels, axis=0).astype(np.int64)\n",
    "examples_per_class_2 = np.sum(tuner.appended_task_list[2].train.labels, axis=0).astype(np.int64)\n",
    "print(examples_per_class_1)\n",
    "print(examples_per_class_2)"
   ]
  },
  {
   "cell_type": "code",
   "execution_count": 12,
   "metadata": {},
   "outputs": [
    {
     "name": "stdout",
     "output_type": "stream",
     "text": [
      "INFO:tensorflow:Restoring parameters from gs://continual_learning/permMNIST_EWC/80_20_logs/fc50_fc10/checkpoints/dropout_hidden_prob=1.0,dropout_input_prob=1.0,fisher_multiplier=10000,learning_rate=1e-05,task=2.ckpt-48000\n",
      "[0.9465, 0.859375, 0.655241935483871]\n"
     ]
    }
   ],
   "source": [
    "# # test accuracy\n",
    "# for j in range(t + 1):\n",
    "#     test_data = tuner.task_list[j].test\n",
    "#     feed_dict = tuner.classifier.create_feed_dict(test_data.images, test_data.labels)\n",
    "#     accuracy = sess.run([tuner.classifier.loss, tuner.classifier.accuracy], feed_dict=feed_dict)\n",
    "#     print(accuracy)\n",
    "TEST_BATCH_SIZE = 32\n",
    "accuracy = tuner.test(t, TEST_BATCH_SIZE)\n",
    "print(accuracy)"
   ]
  },
  {
   "cell_type": "code",
   "execution_count": 1,
   "metadata": {},
   "outputs": [
    {
     "ename": "NameError",
     "evalue": "name 'use_tpu' is not defined",
     "output_type": "error",
     "traceback": [
      "\u001b[0;31m---------------------------------------------------------------------------\u001b[0m",
      "\u001b[0;31mNameError\u001b[0m                                 Traceback (most recent call last)",
      "\u001b[0;32m<ipython-input-1-80c9bbf82a7a>\u001b[0m in \u001b[0;36m<module>\u001b[0;34m()\u001b[0m\n\u001b[0;32m----> 1\u001b[0;31m \u001b[0;32mif\u001b[0m \u001b[0muse_tpu\u001b[0m\u001b[0;34m:\u001b[0m\u001b[0;34m\u001b[0m\u001b[0m\n\u001b[0m\u001b[1;32m      2\u001b[0m     \u001b[0msess\u001b[0m\u001b[0;34m.\u001b[0m\u001b[0mrun\u001b[0m\u001b[0;34m(\u001b[0m\u001b[0mtpu\u001b[0m\u001b[0;34m.\u001b[0m\u001b[0mshutdown_system\u001b[0m\u001b[0;34m(\u001b[0m\u001b[0;34m)\u001b[0m\u001b[0;34m)\u001b[0m\u001b[0;34m\u001b[0m\u001b[0m\n\u001b[1;32m      3\u001b[0m \u001b[0;34m\u001b[0m\u001b[0m\n\u001b[1;32m      4\u001b[0m \u001b[0msess\u001b[0m\u001b[0;34m.\u001b[0m\u001b[0mclose\u001b[0m\u001b[0;34m(\u001b[0m\u001b[0;34m)\u001b[0m\u001b[0;34m\u001b[0m\u001b[0m\n",
      "\u001b[0;31mNameError\u001b[0m: name 'use_tpu' is not defined"
     ]
    }
   ],
   "source": [
    "if use_tpu:\n",
    "    sess.run(tpu.shutdown_system())\n",
    "\n",
    "sess.close()"
   ]
  },
  {
   "cell_type": "code",
   "execution_count": null,
   "metadata": {},
   "outputs": [],
   "source": []
  }
 ],
 "metadata": {
  "kernelspec": {
   "display_name": "Python 3",
   "language": "python",
   "name": "python3"
  },
  "language_info": {
   "codemirror_mode": {
    "name": "ipython",
    "version": 3
   },
   "file_extension": ".py",
   "mimetype": "text/x-python",
   "name": "python",
   "nbconvert_exporter": "python",
   "pygments_lexer": "ipython3",
   "version": "3.6.5"
  }
 },
 "nbformat": 4,
 "nbformat_minor": 2
}
