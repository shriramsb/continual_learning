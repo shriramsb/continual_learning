{
 "cells": [
  {
   "cell_type": "code",
   "execution_count": 1,
   "metadata": {},
   "outputs": [],
   "source": [
    "import numpy as np\n",
    "\n",
    "%matplotlib inline\n",
    "import matplotlib.pyplot as plt\n",
    "\n",
    "import argparse\n",
    "import time\n",
    "import tensorflow as tf\n",
    "\n",
    "from tuner import HyperparameterTuner\n",
    "\n",
    "use_tpu = True\n",
    "\n",
    "if use_tpu:\n",
    "    from tensorflow.contrib import tpu\n",
    "    from tensorflow.contrib.cluster_resolver import TPUClusterResolver\n",
    "    \n",
    "%load_ext autoreload\n",
    "%autoreload 2"
   ]
  },
  {
   "cell_type": "code",
   "execution_count": 2,
   "metadata": {},
   "outputs": [],
   "source": [
    "hidden_layers = 2\n",
    "hidden_units = 500\n",
    "trials = 10\n",
    "epochs = 10\n",
    "task_home = ''\n",
    "if use_tpu:\n",
    "    task_home = 'gs://continual_learning/permMNIST_EWC/'\n",
    "else:\n",
    "    task_home = './'\n",
    "checkpoint_path = task_home + 'fixed_softmax/checkpoints/'\n",
    "summaries_path = task_home + 'fixed_softmax/summaries/'\n",
    "data_path = task_home + 'MNIST_data/'\n",
    "split_path = './split.txt' \n",
    "if use_tpu:\n",
    "    tpu_name = 'gectpu'"
   ]
  },
  {
   "cell_type": "code",
   "execution_count": 3,
   "metadata": {},
   "outputs": [],
   "source": [
    "if use_tpu:\n",
    "    tpu_cluster = TPUClusterResolver(tpu=[tpu_name]).get_master()\n",
    "    sess = tf.Session(tpu_cluster)\n",
    "    sess.run(tpu.initialize_system())\n",
    "else:\n",
    "    sess = tf.Session()"
   ]
  },
  {
   "cell_type": "code",
   "execution_count": 4,
   "metadata": {
    "scrolled": true
   },
   "outputs": [
    {
     "name": "stdout",
     "output_type": "stream",
     "text": [
      "WARNING:tensorflow:From /home/sbshriram16/continual_learning/EWC_disjointMNIST/tuner.py:150: read_data_sets (from tensorflow.contrib.learn.python.learn.datasets.mnist) is deprecated and will be removed in a future version.\n",
      "Instructions for updating:\n",
      "Please use alternatives such as official/mnist/dataset.py from tensorflow/models.\n",
      "WARNING:tensorflow:From /home/sbshriram16/tf_venv/venv/lib/python3.6/site-packages/tensorflow/contrib/learn/python/learn/datasets/mnist.py:260: maybe_download (from tensorflow.contrib.learn.python.learn.datasets.base) is deprecated and will be removed in a future version.\n",
      "Instructions for updating:\n",
      "Please write your own downloading logic.\n",
      "WARNING:tensorflow:From /home/sbshriram16/tf_venv/venv/lib/python3.6/site-packages/tensorflow/contrib/learn/python/learn/datasets/mnist.py:262: extract_images (from tensorflow.contrib.learn.python.learn.datasets.mnist) is deprecated and will be removed in a future version.\n",
      "Instructions for updating:\n",
      "Please use tf.data to implement this functionality.\n",
      "Extracting gs://continual_learning/permMNIST_EWC/MNIST_data/train-images-idx3-ubyte.gz\n",
      "WARNING:tensorflow:From /home/sbshriram16/tf_venv/venv/lib/python3.6/site-packages/tensorflow/contrib/learn/python/learn/datasets/mnist.py:267: extract_labels (from tensorflow.contrib.learn.python.learn.datasets.mnist) is deprecated and will be removed in a future version.\n",
      "Instructions for updating:\n",
      "Please use tf.data to implement this functionality.\n",
      "Extracting gs://continual_learning/permMNIST_EWC/MNIST_data/train-labels-idx1-ubyte.gz\n",
      "WARNING:tensorflow:From /home/sbshriram16/tf_venv/venv/lib/python3.6/site-packages/tensorflow/contrib/learn/python/learn/datasets/mnist.py:110: dense_to_one_hot (from tensorflow.contrib.learn.python.learn.datasets.mnist) is deprecated and will be removed in a future version.\n",
      "Instructions for updating:\n",
      "Please use tf.one_hot on tensors.\n",
      "Extracting gs://continual_learning/permMNIST_EWC/MNIST_data/t10k-images-idx3-ubyte.gz\n",
      "Extracting gs://continual_learning/permMNIST_EWC/MNIST_data/t10k-labels-idx1-ubyte.gz\n",
      "WARNING:tensorflow:From /home/sbshriram16/tf_venv/venv/lib/python3.6/site-packages/tensorflow/contrib/learn/python/learn/datasets/mnist.py:290: DataSet.__init__ (from tensorflow.contrib.learn.python.learn.datasets.mnist) is deprecated and will be removed in a future version.\n",
      "Instructions for updating:\n",
      "Please use alternatives such as official/mnist/dataset.py from tensorflow/models.\n",
      "WARNING:tensorflow:From /home/sbshriram16/continual_learning/EWC_disjointMNIST/classifiers.py:100: softmax_cross_entropy_with_logits (from tensorflow.python.ops.nn_ops) is deprecated and will be removed in a future version.\n",
      "Instructions for updating:\n",
      "\n",
      "Future major versions of TensorFlow will allow gradients to flow\n",
      "into the labels input on backprop by default.\n",
      "\n",
      "See @{tf.nn.softmax_cross_entropy_with_logits_v2}.\n",
      "\n"
     ]
    }
   ],
   "source": [
    "tuner = HyperparameterTuner(sess=sess, hidden_layers=hidden_layers, hidden_units=hidden_units,\n",
    "                            trials=trials, epochs=epochs,\n",
    "                            checkpoint_path=checkpoint_path, summaries_path=summaries_path, \n",
    "                            data_path=data_path, split_path=split_path)"
   ]
  },
  {
   "cell_type": "code",
   "execution_count": 5,
   "metadata": {},
   "outputs": [],
   "source": [
    "from queue import PriorityQueue"
   ]
  },
  {
   "cell_type": "code",
   "execution_count": 6,
   "metadata": {
    "scrolled": true
   },
   "outputs": [
    {
     "name": "stdout",
     "output_type": "stream",
     "text": [
      "training layers=2,hidden=500,lr=0.00094,multiplier=1067.63,mbsize=250,epochs=10,perm=0 with weights initialized at None\n",
      "saving model layers=2,hidden=500,lr=0.00094,multiplier=1067.63,mbsize=250,epochs=10,perm=0 at time step 1759\n",
      "finished training layers=2,hidden=500,lr=0.00094,multiplier=1067.63,mbsize=250,epochs=10,perm=0\n",
      "INFO:tensorflow:Restoring parameters from gs://continual_learning/permMNIST_EWC/fixed_softmax/checkpoints/layers=2,hidden=500,lr=0.00094,multiplier=1067.63,mbsize=250,epochs=10,perm=0.ckpt-1759\n",
      "training layers=2,hidden=500,lr=0.00038,multiplier=2599.17,mbsize=250,epochs=10,perm=0 with weights initialized at None\n",
      "saving model layers=2,hidden=500,lr=0.00038,multiplier=2599.17,mbsize=250,epochs=10,perm=0 at time step 1759\n",
      "finished training layers=2,hidden=500,lr=0.00038,multiplier=2599.17,mbsize=250,epochs=10,perm=0\n",
      "INFO:tensorflow:Restoring parameters from gs://continual_learning/permMNIST_EWC/fixed_softmax/checkpoints/layers=2,hidden=500,lr=0.00038,multiplier=2599.17,mbsize=250,epochs=10,perm=0.ckpt-1759\n",
      "training layers=2,hidden=500,lr=0.00027,multiplier=3766.10,mbsize=250,epochs=10,perm=0 with weights initialized at None\n",
      "saving model layers=2,hidden=500,lr=0.00027,multiplier=3766.10,mbsize=250,epochs=10,perm=0 at time step 1759\n",
      "finished training layers=2,hidden=500,lr=0.00027,multiplier=3766.10,mbsize=250,epochs=10,perm=0\n",
      "INFO:tensorflow:Restoring parameters from gs://continual_learning/permMNIST_EWC/fixed_softmax/checkpoints/layers=2,hidden=500,lr=0.00027,multiplier=3766.10,mbsize=250,epochs=10,perm=0.ckpt-1759\n",
      "training layers=2,hidden=500,lr=0.00028,multiplier=3519.83,mbsize=250,epochs=10,perm=0 with weights initialized at None\n",
      "saving model layers=2,hidden=500,lr=0.00028,multiplier=3519.83,mbsize=250,epochs=10,perm=0 at time step 1759\n",
      "finished training layers=2,hidden=500,lr=0.00028,multiplier=3519.83,mbsize=250,epochs=10,perm=0\n",
      "INFO:tensorflow:Restoring parameters from gs://continual_learning/permMNIST_EWC/fixed_softmax/checkpoints/layers=2,hidden=500,lr=0.00028,multiplier=3519.83,mbsize=250,epochs=10,perm=0.ckpt-1759\n",
      "training layers=2,hidden=500,lr=0.00061,multiplier=1636.79,mbsize=250,epochs=10,perm=0 with weights initialized at None\n",
      "saving model layers=2,hidden=500,lr=0.00061,multiplier=1636.79,mbsize=250,epochs=10,perm=0 at time step 1759\n",
      "finished training layers=2,hidden=500,lr=0.00061,multiplier=1636.79,mbsize=250,epochs=10,perm=0\n",
      "INFO:tensorflow:Restoring parameters from gs://continual_learning/permMNIST_EWC/fixed_softmax/checkpoints/layers=2,hidden=500,lr=0.00061,multiplier=1636.79,mbsize=250,epochs=10,perm=0.ckpt-1759\n",
      "training layers=2,hidden=500,lr=0.00064,multiplier=1572.35,mbsize=250,epochs=10,perm=0 with weights initialized at None\n",
      "saving model layers=2,hidden=500,lr=0.00064,multiplier=1572.35,mbsize=250,epochs=10,perm=0 at time step 1759\n",
      "finished training layers=2,hidden=500,lr=0.00064,multiplier=1572.35,mbsize=250,epochs=10,perm=0\n",
      "INFO:tensorflow:Restoring parameters from gs://continual_learning/permMNIST_EWC/fixed_softmax/checkpoints/layers=2,hidden=500,lr=0.00064,multiplier=1572.35,mbsize=250,epochs=10,perm=0.ckpt-1759\n",
      "training layers=2,hidden=500,lr=0.00097,multiplier=1032.99,mbsize=250,epochs=10,perm=0 with weights initialized at None\n",
      "saving model layers=2,hidden=500,lr=0.00097,multiplier=1032.99,mbsize=250,epochs=10,perm=0 at time step 1759\n",
      "finished training layers=2,hidden=500,lr=0.00097,multiplier=1032.99,mbsize=250,epochs=10,perm=0\n",
      "INFO:tensorflow:Restoring parameters from gs://continual_learning/permMNIST_EWC/fixed_softmax/checkpoints/layers=2,hidden=500,lr=0.00097,multiplier=1032.99,mbsize=250,epochs=10,perm=0.ckpt-1759\n",
      "training layers=2,hidden=500,lr=0.00069,multiplier=1453.79,mbsize=250,epochs=10,perm=0 with weights initialized at None\n",
      "saving model layers=2,hidden=500,lr=0.00069,multiplier=1453.79,mbsize=250,epochs=10,perm=0 at time step 1759\n",
      "finished training layers=2,hidden=500,lr=0.00069,multiplier=1453.79,mbsize=250,epochs=10,perm=0\n",
      "INFO:tensorflow:Restoring parameters from gs://continual_learning/permMNIST_EWC/fixed_softmax/checkpoints/layers=2,hidden=500,lr=0.00069,multiplier=1453.79,mbsize=250,epochs=10,perm=0.ckpt-1759\n",
      "training layers=2,hidden=500,lr=0.00077,multiplier=1291.96,mbsize=250,epochs=10,perm=0 with weights initialized at None\n",
      "saving model layers=2,hidden=500,lr=0.00077,multiplier=1291.96,mbsize=250,epochs=10,perm=0 at time step 1759\n",
      "finished training layers=2,hidden=500,lr=0.00077,multiplier=1291.96,mbsize=250,epochs=10,perm=0\n",
      "INFO:tensorflow:Restoring parameters from gs://continual_learning/permMNIST_EWC/fixed_softmax/checkpoints/layers=2,hidden=500,lr=0.00077,multiplier=1291.96,mbsize=250,epochs=10,perm=0.ckpt-1759\n",
      "training layers=2,hidden=500,lr=0.00069,multiplier=1453.04,mbsize=250,epochs=10,perm=0 with weights initialized at None\n",
      "saving model layers=2,hidden=500,lr=0.00069,multiplier=1453.04,mbsize=250,epochs=10,perm=0 at time step 1759\n",
      "finished training layers=2,hidden=500,lr=0.00069,multiplier=1453.04,mbsize=250,epochs=10,perm=0\n",
      "INFO:tensorflow:Restoring parameters from gs://continual_learning/permMNIST_EWC/fixed_softmax/checkpoints/layers=2,hidden=500,lr=0.00069,multiplier=1453.04,mbsize=250,epochs=10,perm=0.ckpt-1759\n"
     ]
    }
   ],
   "source": [
    "# task 0\n",
    "t = 0\n",
    "queue = PriorityQueue()\n",
    "for learning_rate in tuner.trial_learning_rates:\n",
    "    tuner.train_on_task(t, learning_rate, queue)\n",
    "tuner.best_parameters.append(queue.get())"
   ]
  },
  {
   "cell_type": "code",
   "execution_count": 7,
   "metadata": {},
   "outputs": [
    {
     "name": "stdout",
     "output_type": "stream",
     "text": [
      "INFO:tensorflow:Restoring parameters from gs://continual_learning/permMNIST_EWC/fixed_softmax/checkpoints/layers=2,hidden=500,lr=0.00097,multiplier=1032.99,mbsize=250,epochs=10,perm=0.ckpt-1759\n",
      "task0 0.98837495\n",
      "INFO:tensorflow:Restoring parameters from gs://continual_learning/permMNIST_EWC/fixed_softmax/checkpoints/layers=2,hidden=500,lr=0.00097,multiplier=1032.99,mbsize=250,epochs=10,perm=0.ckpt-1759\n",
      "task1 0.0\n"
     ]
    }
   ],
   "source": [
    "# accuracy on validation sets\n",
    "t = 1\n",
    "# tuner.best_parameters = []\n",
    "# tuner.best_parameters.append((0.00077, 'layers=2,hidden=500,lr=0.00077,multiplier=1291.96,mbsize=250,epochs=10,perm=0'))\n",
    "print(\"task0\", tuner.classifier.test(sess=tuner.sess, model_name=tuner.best_parameters[t - 1][1], batch_xs=tuner.task_list[0].validation.images, batch_ys=tuner.task_list[0].validation.labels))\n",
    "print(\"task1\", tuner.classifier.test(sess=tuner.sess, model_name=tuner.best_parameters[t - 1][1], batch_xs=tuner.task_list[1].validation.images, batch_ys=tuner.task_list[1].validation.labels))"
   ]
  },
  {
   "cell_type": "code",
   "execution_count": 8,
   "metadata": {},
   "outputs": [],
   "source": [
    "# task1\n",
    "t = 1\n",
    "dataset_train = tuner.task_list[t].train\n",
    "dataset_lagged = tuner.task_list[t - 1].train if t > 0 else None\n",
    "model_init_name = tuner.best_parameters[t - 1][1] if t > 0 else None\n",
    "MINI_BATCH_SIZE = 256\n",
    "LOG_FREQUENCY = 100\n",
    "dataset_train.initialize_iterator(MINI_BATCH_SIZE)\n",
    "if (dataset_lagged is not None):\n",
    "    dataset_lagged.initialize_iterator(MINI_BATCH_SIZE)\n",
    "\n",
    "eval_frequency = 100\n",
    "dropout_input = 1.0\n",
    "result = {}"
   ]
  },
  {
   "cell_type": "code",
   "execution_count": 20,
   "metadata": {},
   "outputs": [],
   "source": [
    "def train(t, fisher_multiplier, lr, model_name, model_init_name, only_softmax_train, num_updates=0):\n",
    "    tuner.classifier.prepare_for_training(sess=tuner.sess, \n",
    "                                        model_name=model_name, \n",
    "                                        model_init_name=model_init_name, \n",
    "                                        fisher_multiplier=fisher_multiplier, \n",
    "                                        learning_rate=lr,\n",
    "                                        only_softmax_train=only_softmax_train)\n",
    "    val_acc = [[], []]\n",
    "    val_loss = [[], []]\n",
    "    loss = []\n",
    "    loss_with_penalty = []\n",
    "    cur_best_avg = 0.0\n",
    "    cur_best_avg_num_updates = -1\n",
    "    i = 0\n",
    "    count_not_improving = 0\n",
    "    while (True):\n",
    "        cur_loss, cur_loss_with_penalty = tuner.classifier.minibatch_sgd(tuner.sess, i, dataset_train, MINI_BATCH_SIZE, LOG_FREQUENCY,\n",
    "                                                                        tuner.softmax_weight_mask_values[t], \n",
    "                                                                        tuner.softmax_bias_mask_values[t])\n",
    "        loss.append(cur_loss)\n",
    "        loss_with_penalty.append(cur_loss_with_penalty)\n",
    "        if (i % eval_frequency == 0):\n",
    "            cur_iter_avg = 0.0\n",
    "            cur_iter_num_classes = 0 # actually doesn't depend on iterations\n",
    "            for j in range(t + 1):\n",
    "                val_data = tuner.task_list[j].validation\n",
    "                feed_dict = tuner.classifier.create_feed_dict(val_data.images, val_data.labels, keep_input=1.0, keep_hidden=1.0)\n",
    "                accuracy = sess.run([tuner.classifier.loss, tuner.classifier.accuracy], feed_dict=feed_dict)\n",
    "                val_loss[j].append(accuracy[0])\n",
    "                val_acc[j].append(accuracy[1])\n",
    "                cur_iter_avg += accuracy[1] * len(tuner.split[j]) # assuming all classes are equally likely\n",
    "                cur_iter_num_classes += len(tuner.split[j])\n",
    "            cur_iter_avg /= cur_iter_num_classes\n",
    "\n",
    "            if (val_acc[0][-1] < val_acc[1][-1]):\n",
    "                if (cur_best_avg >= cur_iter_avg):\n",
    "                    count_not_improving += 1\n",
    "                else:\n",
    "                    count_not_improving = 0\n",
    "\n",
    "            if (cur_iter_avg > cur_best_avg):\n",
    "                cur_best_avg = cur_iter_avg\n",
    "                cur_best_avg_num_updates = i\n",
    "\n",
    "            if (count_not_improving >= 5):\n",
    "                if (num_updates == 0):\n",
    "                    break\n",
    "        if ((num_updates != 0) and (i > num_updates)):\n",
    "            break\n",
    "        i += 1\n",
    "        \n",
    "    return val_acc, val_loss, loss, loss_with_penalty, cur_best_avg, cur_best_avg_num_updates"
   ]
  },
  {
   "cell_type": "code",
   "execution_count": 16,
   "metadata": {},
   "outputs": [
    {
     "name": "stdout",
     "output_type": "stream",
     "text": [
      "dropout: 1.000000, fisher_multiplier: 0.000000e+00, lr: 5.000000e-06\n",
      "INFO:tensorflow:Restoring parameters from gs://continual_learning/permMNIST_EWC/fixed_softmax/checkpoints/layers=2,hidden=500,lr=0.00097,multiplier=1032.99,mbsize=250,epochs=10,perm=0.ckpt-1759\n",
      "time taken: 181.053452\n",
      "loss with penalty: 0.157604, loss: 0.157604, val0 accuracy: 0.960178, val1 accuracy: 0.805195\n"
     ]
    }
   ],
   "source": [
    "only_softmax_train = True\n",
    "num_updates = 5000\n",
    "dropouts = [1.0]\n",
    "# fisher_multipliers = np.logspace(4, 7, 30)\n",
    "fisher_multipliers = [0.0]\n",
    "learning_rates = [5e-6]\n",
    "best_avg = 0.0\n",
    "best_params = -1\n",
    "best_num_updates = -1\n",
    "for dropout in dropouts:\n",
    "    for fisher_multiplier in fisher_multipliers:\n",
    "        for lr in learning_rates:\n",
    "            print(\"dropout: %f, fisher_multiplier: %e, lr: %e\" % (dropout, fisher_multiplier, lr))\n",
    "            start_time = time.time()\n",
    "            model_name = tuner.file_name(lr, t)\n",
    "            tuner.classifier.set_dropout(dropout_input, dropout)\n",
    "            val_acc, val_loss, loss, loss_with_penalty, cur_best_avg, cur_best_avg_num_updates = train(t, fisher_multiplier, lr, model_name, model_init_name, only_softmax_train)\n",
    "        cur_params = (dropout, fisher_multiplier, lr)\n",
    "        result[cur_params] = {}\n",
    "        result[cur_params][\"val_acc\"] = val_acc\n",
    "        result[cur_params][\"val_loss\"] = val_loss\n",
    "        result[cur_params][\"loss\"] = loss\n",
    "        result[cur_params][\"loss_with_penalty\"] = loss_with_penalty\n",
    "        result[cur_params][\"best_avg\"] = (cur_best_avg, cur_best_avg_num_updates)\n",
    "        if (best_avg < cur_best_avg):\n",
    "            best_avg = cur_best_avg\n",
    "            best_params = cur_params\n",
    "            best_num_updates = cur_best_avg_num_updates\n",
    "        print(\"time taken: %f\" % (time.time() - start_time))\n",
    "        print(\"loss with penalty: %f, loss: %f, val0 accuracy: %f, val1 accuracy: %f\"\n",
    "              % (loss_with_penalty[-1], loss[-1], \n",
    "                 val_acc[0][cur_best_avg_num_updates // eval_frequency], val_acc[1][cur_best_avg_num_updates // eval_frequency]))"
   ]
  },
  {
   "cell_type": "code",
   "execution_count": 17,
   "metadata": {},
   "outputs": [
    {
     "name": "stdout",
     "output_type": "stream",
     "text": [
      "best_avg: 9.429577e-01, best_params: (1.0, 0.0, 5e-06)\n",
      "best_params: dropout: 1.000000, fisher_multiplier: 0.000000e+00, lr: 5.000000e-06\n",
      "dropout: 1.000000, fisher_multiplier: 0.000000e+00, lr: 5.000000e-06\n",
      "cur_best_avg: 9.429577e-01, num_updates: 14100\n",
      "val0_acc: 0.960178, val1_acc: 0.805195\n",
      "final val0_acc: 0.909226, val1_acc: 0.937229\n"
     ]
    },
    {
     "data": {
      "image/png": "[encoded data removed]",
      "text/plain": [
       "<Figure size 432x288 with 1 Axes>"
      ]
     },
     "metadata": {},
     "output_type": "display_data"
    },
    {
     "data": {
      "image/png": "[encoded data removed]",
      "text/plain": [
       "<Figure size 432x288 with 1 Axes>"
      ]
     },
     "metadata": {},
     "output_type": "display_data"
    }
   ],
   "source": [
    "print(\"best_avg: %e, best_params: %s\" % (best_avg, str(best_params)))\n",
    "print(\"best_params: dropout: %f, fisher_multiplier: %e, lr: %e\" % best_params)\n",
    "\n",
    "for k, v in result.items():\n",
    "    cur_res = v\n",
    "    x = np.arange(0, len(cur_res['loss']), eval_frequency)\n",
    "    cur_best_avg = cur_res['best_avg']\n",
    "    print(\"dropout: %f, fisher_multiplier: %e, lr: %e\" % (k[0], k[1], k[2]))\n",
    "    print(\"cur_best_avg: %e, num_updates: %d\" % (cur_best_avg[0], cur_best_avg[1]))\n",
    "    print(\"val0_acc: %f, val1_acc: %f\" %\n",
    "        (cur_res['val_acc'][0][cur_best_avg[1] // eval_frequency], cur_res['val_acc'][1][cur_best_avg[1] // eval_frequency]))\n",
    "    print(\"final val0_acc: %f, val1_acc: %f\" % (cur_res['val_acc'][0][-1], cur_res['val_acc'][1][-1]))\n",
    "    plt.plot(cur_res['loss_with_penalty'], color='g')\n",
    "    plt.plot(cur_res['loss'], color='m')\n",
    "    plt.plot(x, cur_res['val_loss'][1], color='b')\n",
    "    plt.show()\n",
    "    plt.plot(cur_res['val_acc'][0], color='b')\n",
    "    plt.plot(cur_res['val_acc'][1], color='g')\n",
    "    plt.show()"
   ]
  },
  {
   "cell_type": "code",
   "execution_count": 18,
   "metadata": {},
   "outputs": [],
   "source": [
    "def get_confusion_matrix(tuner):\n",
    "    num_labels = 10\n",
    "    pred = np.array([])\n",
    "    actual = np.array([])\n",
    "    for j in range(t + 1):\n",
    "        val_data = tuner.task_list[j].validation\n",
    "        feed_dict = tuner.classifier.create_feed_dict(val_data.images, val_data.labels, keep_input=1.0, keep_hidden=1.0)\n",
    "        cur_scores, cur_y = tuner.classifier.get_predictions(sess, feed_dict)\n",
    "        cur_pred = np.argmax(cur_scores, 1)\n",
    "        cur_actual = np.argmax(cur_y, 1)\n",
    "        actual = np.concatenate([actual, cur_actual])\n",
    "        pred = np.concatenate([pred, cur_pred])\n",
    "    confusion_matrix = np.zeros((num_labels,num_labels), dtype=np.int64)\n",
    "\n",
    "    for i in range(actual.shape[0]):\n",
    "        confusion_matrix[int(actual[i]), int(pred[i])] += 1\n",
    "    return confusion_matrix\n",
    "\n",
    "def print_confusion_matrix(confusion_matrix):\n",
    "    print(\"%3d\" % (0, ), end=' ')\n",
    "    for j in range(confusion_matrix.shape[1]):\n",
    "        print(\"%3d\" % (j, ), end=' ')\n",
    "    print(\"\")\n",
    "    for i in range(confusion_matrix.shape[0]):\n",
    "        print(\"%3d\" % (i, ), end=' ')\n",
    "        for j in range(confusion_matrix.shape[1]):\n",
    "            print(\"%3d\" % (confusion_matrix[i][j], ), end= ' ')\n",
    "        print(\"\")"
   ]
  },
  {
   "cell_type": "code",
   "execution_count": 19,
   "metadata": {},
   "outputs": [
    {
     "name": "stdout",
     "output_type": "stream",
     "text": [
      "INFO:tensorflow:Restoring parameters from gs://continual_learning/permMNIST_EWC/fixed_softmax/checkpoints/layers=2,hidden=500,lr=0.00097,multiplier=1032.99,mbsize=250,epochs=10,perm=0.ckpt-1759\n",
      "  0   0   1   2   3   4   5   6   7   8   9 \n",
      "  0 477   0   0   1   0   0   1   0   0   0 \n",
      "  1   0 558   0   1   1   0   0   3   0   0 \n",
      "  2   0   1 486   0   0   0   0   1   0   0 \n",
      "  3   0   0   3 479   1   5   1   4   0   0 \n",
      "  4   0   0   1   0 531   1   0   2   0   0 \n",
      "  5   0   1   1   4   1 425   2   0   0   0 \n",
      "  6   1   1   1   0   1   1 496   0   0   0 \n",
      "  7   1   0   2   0   2   1   0 544   0   0 \n",
      "  8   5  27 158 137  26  85  16   8   0   0 \n",
      "  9   0   0   0   0   0   0   0   0   0   0 \n"
     ]
    }
   ],
   "source": [
    "# confusion matrix before training\n",
    "# train on best hyperparameters\n",
    "\n",
    "# best_params = (1.0, 10 ** (18 / 19 + 4), 5e-6)\n",
    "# best_num_updates = 3600\n",
    "\n",
    "dropout, fisher_multiplier, lr = best_params\n",
    "best_num_updates = result[best_params]['best_avg'][1]\n",
    "\n",
    "model_name = tuner.file_name(lr, t)\n",
    "tuner.classifier.prepare_for_training(sess=tuner.sess, \n",
    "                                    model_name=model_name, \n",
    "                                    model_init_name=model_init_name, \n",
    "                                    fisher_multiplier=fisher_multiplier, \n",
    "                                    learning_rate=lr,\n",
    "                                    only_softmax_train=only_softmax_train)\n",
    "\n",
    "confusion_matrix = get_confusion_matrix(tuner)\n",
    "print_confusion_matrix(confusion_matrix)\n"
   ]
  },
  {
   "cell_type": "code",
   "execution_count": 21,
   "metadata": {},
   "outputs": [
    {
     "name": "stdout",
     "output_type": "stream",
     "text": [
      "dropout: 1.000000, fisher_multiplier: 0.000000e+00, lr: 5.000000e-06\n",
      "INFO:tensorflow:Restoring parameters from gs://continual_learning/permMNIST_EWC/fixed_softmax/checkpoints/layers=2,hidden=500,lr=0.00097,multiplier=1032.99,mbsize=250,epochs=10,perm=0.ckpt-1759\n",
      "time taken: 157.005314\n",
      "loss with penalty: 0.493784, loss: 0.493784, val0 accuracy: 0.960178, val1 accuracy: 0.805195\n"
     ]
    }
   ],
   "source": [
    "# train on best hyperparameters\n",
    "dropout, fisher_multiplier, lr = best_params\n",
    "print(\"dropout: %f, fisher_multiplier: %e, lr: %e\" % (dropout, fisher_multiplier, lr))\n",
    "start_time = time.time()\n",
    "model_name = tuner.file_name(lr, t)\n",
    "tuner.classifier.set_dropout(dropout_input, dropout)\n",
    "val_acc, val_loss, loss, loss_with_penalty, cur_best_avg, cur_best_avg_num_updates = train(t, fisher_multiplier, lr, model_name, model_init_name, only_softmax_train, best_num_updates)\n",
    "# cur_params = (dropout, fisher_multiplier, lr)\n",
    "# result[cur_params] = {}\n",
    "# result[cur_params][\"val_acc\"] = val_acc\n",
    "# result[cur_params][\"val_loss\"] = val_loss\n",
    "# result[cur_params][\"loss\"] = loss\n",
    "# result[cur_params][\"loss_with_penalty\"] = loss_with_penalty\n",
    "# result[cur_params][\"best_avg\"] = (cur_best_avg, cur_best_avg_num_updates)\n",
    "print(\"time taken: %f\" % (time.time() - start_time))\n",
    "print(\"loss with penalty: %f, loss: %f, val0 accuracy: %f, val1 accuracy: %f\"\n",
    "      % (loss_with_penalty[-1], loss[-1], \n",
    "         val_acc[0][cur_best_avg_num_updates // eval_frequency], val_acc[1][cur_best_avg_num_updates // eval_frequency]))"
   ]
  },
  {
   "cell_type": "code",
   "execution_count": 22,
   "metadata": {},
   "outputs": [
    {
     "name": "stdout",
     "output_type": "stream",
     "text": [
      "  0   0   1   2   3   4   5   6   7   8   9 \n",
      "  0 458   0   0   1   0   0   1   0  19   0 \n",
      "  1   0 532   0   0   0   0   0   1  30   0 \n",
      "  2   0   0 463   0   0   0   0   1  24   0 \n",
      "  3   0   0   2 464   0   3   0   3  21   0 \n",
      "  4   0   0   0   0 526   1   0   2   6   0 \n",
      "  5   0   0   0   1   0 417   1   0  15   0 \n",
      "  6   1   0   0   0   1   0 486   0  13   0 \n",
      "  7   0   0   1   0   0   1   0 536  12   0 \n",
      "  8   1   5  19  30   4  28   3   0 372   0 \n",
      "  9   0   0   0   0   0   0   0   0   0   0 \n"
     ]
    }
   ],
   "source": [
    "# confusion matrix \n",
    "# finding which digits are being confused by classifier\n",
    "confusion_matrix = get_confusion_matrix(tuner)\n",
    "print_confusion_matrix(confusion_matrix)"
   ]
  },
  {
   "cell_type": "code",
   "execution_count": 23,
   "metadata": {},
   "outputs": [
    {
     "name": "stdout",
     "output_type": "stream",
     "text": [
      "dropout: 1.000000, fisher_multiplier: 0.000000e+00, lr: 5.000000e-06\n",
      "INFO:tensorflow:Restoring parameters from gs://continual_learning/permMNIST_EWC/fixed_softmax/checkpoints/layers=2,hidden=500,lr=0.00097,multiplier=1032.99,mbsize=250,epochs=10,perm=0.ckpt-1759\n",
      "time taken: 221.683051\n",
      "loss with penalty: 0.110508, loss: 0.110508, val0 accuracy: 0.960178, val1 accuracy: 0.805195\n",
      "  0   0   1   2   3   4   5   6   7   8   9 \n",
      "  0 327   0   0   0   0   0   0   0 152   0 \n",
      "  1   0 320   0   0   0   0   0   0 243   0 \n",
      "  2   0   0 331   0   0   0   0   1 156   0 \n",
      "  3   0   0   0 371   0   0   0   0 122   0 \n",
      "  4   0   0   0   0 469   0   0   0  66   0 \n",
      "  5   0   0   0   0   0 325   0   0 109   0 \n",
      "  6   0   0   0   0   0   0 424   0  77   0 \n",
      "  7   0   0   0   0   0   0   0 437 113   0 \n",
      "  8   0   0   1   2   0   3   0   0 456   0 \n",
      "  9   0   0   0   0   0   0   0   0   0   0 \n"
     ]
    }
   ],
   "source": [
    "# train on best hyperparameters\n",
    "dropout, fisher_multiplier, lr = best_params\n",
    "print(\"dropout: %f, fisher_multiplier: %e, lr: %e\" % (dropout, fisher_multiplier, lr))\n",
    "start_time = time.time()\n",
    "model_name = tuner.file_name(lr, t)\n",
    "tuner.classifier.set_dropout(dropout_input, dropout)\n",
    "val_acc, val_loss, loss, loss_with_penalty, cur_best_avg, cur_best_avg_num_updates = train(t, fisher_multiplier, lr, model_name, model_init_name, only_softmax_train, 20000)\n",
    "# cur_params = (dropout, fisher_multiplier, lr)\n",
    "# result[cur_params] = {}\n",
    "# result[cur_params][\"val_acc\"] = val_acc\n",
    "# result[cur_params][\"val_loss\"] = val_loss\n",
    "# result[cur_params][\"loss\"] = loss\n",
    "# result[cur_params][\"loss_with_penalty\"] = loss_with_penalty\n",
    "# result[cur_params][\"best_avg\"] = (cur_best_avg, cur_best_avg_num_updates)\n",
    "print(\"time taken: %f\" % (time.time() - start_time))\n",
    "print(\"loss with penalty: %f, loss: %f, val0 accuracy: %f, val1 accuracy: %f\"\n",
    "      % (loss_with_penalty[-1], loss[-1], \n",
    "         val_acc[0][cur_best_avg_num_updates // eval_frequency], val_acc[1][cur_best_avg_num_updates // eval_frequency]))\n",
    "\n",
    "# confusion matrix \n",
    "# finding which digits are being confused by classifier\n",
    "confusion_matrix = get_confusion_matrix(tuner)\n",
    "print_confusion_matrix(confusion_matrix)"
   ]
  },
  {
   "cell_type": "code",
   "execution_count": 24,
   "metadata": {},
   "outputs": [
    {
     "name": "stdout",
     "output_type": "stream",
     "text": [
      "[0.8161023, 0.7323188]\n",
      "[0.05061009, 0.98767966]\n"
     ]
    }
   ],
   "source": [
    "# test accuracy\n",
    "for j in range(t + 1):\n",
    "    test_data = tuner.task_list[j].test\n",
    "    feed_dict = tuner.classifier.create_feed_dict(test_data.images, test_data.labels, keep_input=1.0, keep_hidden=1.0)\n",
    "    accuracy = sess.run([tuner.classifier.loss, tuner.classifier.accuracy], feed_dict=feed_dict)\n",
    "    print(accuracy)"
   ]
  },
  {
   "cell_type": "code",
   "execution_count": 25,
   "metadata": {},
   "outputs": [],
   "source": [
    "if use_tpu:\n",
    "    sess.run(tpu.shutdown_system())\n",
    "\n",
    "sess.close()"
   ]
  },
  {
   "cell_type": "code",
   "execution_count": null,
   "metadata": {},
   "outputs": [],
   "source": []
  }
 ],
 "metadata": {
  "kernelspec": {
   "display_name": "Python 3",
   "language": "python",
   "name": "python3"
  },
  "language_info": {
   "codemirror_mode": {
    "name": "ipython",
    "version": 3
   },
   "file_extension": ".py",
   "mimetype": "text/x-python",
   "name": "python",
   "nbconvert_exporter": "python",
   "pygments_lexer": "ipython3",
   "version": "3.6.5"
  }
 },
 "nbformat": 4,
 "nbformat_minor": 2
}
