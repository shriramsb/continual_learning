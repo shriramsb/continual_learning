{
 "cells": [
  {
   "cell_type": "code",
   "execution_count": 1,
   "metadata": {},
   "outputs": [],
   "source": [
    "import argparse\n",
    "import tensorflow as tf\n",
    "\n",
    "from tuner import HyperparameterTuner\n",
    "\n",
    "from tensorflow.contrib import tpu\n",
    "from tensorflow.contrib.cluster_resolver import TPUClusterResolver"
   ]
  },
  {
   "cell_type": "code",
   "execution_count": 2,
   "metadata": {},
   "outputs": [],
   "source": [
    "hidden_layers = 2\n",
    "hidden_units = 500\n",
    "num_perms = 2\n",
    "trials = 10\n",
    "epochs = 10\n",
    "task_home = 'gs://continual_learning/permMNIST_EWC/'\n",
    "checkpoint_path = task_home + 'logs/checkpoints/'\n",
    "summaries_path = task_home + 'logs/summaries/'\n",
    "data_path = task_home + 'MNIST_data/'\n",
    "tpu_name = 'gectpu'"
   ]
  },
  {
   "cell_type": "code",
   "execution_count": 3,
   "metadata": {},
   "outputs": [
    {
     "data": {
      "text/plain": [
       "b'\\n\\x03\\x02\\x02\\x02\\x10\\x01\\x18\\x08\"\\x18\\x00\\x00\\x00\\x00\\x00\\x01\\x00\\x01\\x00\\x00\\x01\\x01\\x01\\x00\\x00\\x01\\x00\\x01\\x01\\x01\\x00\\x01\\x01\\x01'"
      ]
     },
     "execution_count": 3,
     "metadata": {},
     "output_type": "execute_result"
    }
   ],
   "source": [
    "tpu_cluster = TPUClusterResolver(tpu=[tpu_name]).get_master()\n",
    "sess = tf.Session(tpu_cluster)\n",
    "sess.run(tpu.initialize_system())"
   ]
  },
  {
   "cell_type": "code",
   "execution_count": 4,
   "metadata": {},
   "outputs": [
    {
     "name": "stdout",
     "output_type": "stream",
     "text": [
      "WARNING:tensorflow:From /home/sbshriram16/EWC/tuner.py:119: read_data_sets (from tensorflow.contrib.learn.python.learn.datasets.mnist) is deprecated and will be removed in a future version.\n",
      "Instructions for updating:\n",
      "Please use alternatives such as official/mnist/dataset.py from tensorflow/models.\n",
      "WARNING:tensorflow:From /home/sbshriram16/tf_venv/venv/lib/python3.6/site-packages/tensorflow/contrib/learn/python/learn/datasets/mnist.py:260: maybe_download (from tensorflow.contrib.learn.python.learn.datasets.base) is deprecated and will be removed in a future version.\n",
      "Instructions for updating:\n",
      "Please write your own downloading logic.\n",
      "WARNING:tensorflow:From /home/sbshriram16/tf_venv/venv/lib/python3.6/site-packages/tensorflow/contrib/learn/python/learn/datasets/mnist.py:262: extract_images (from tensorflow.contrib.learn.python.learn.datasets.mnist) is deprecated and will be removed in a future version.\n",
      "Instructions for updating:\n",
      "Please use tf.data to implement this functionality.\n",
      "Extracting gs://continual_learning/permMNIST_EWC/MNIST_data/train-images-idx3-ubyte.gz\n",
      "WARNING:tensorflow:From /home/sbshriram16/tf_venv/venv/lib/python3.6/site-packages/tensorflow/contrib/learn/python/learn/datasets/mnist.py:267: extract_labels (from tensorflow.contrib.learn.python.learn.datasets.mnist) is deprecated and will be removed in a future version.\n",
      "Instructions for updating:\n",
      "Please use tf.data to implement this functionality.\n",
      "Extracting gs://continual_learning/permMNIST_EWC/MNIST_data/train-labels-idx1-ubyte.gz\n",
      "WARNING:tensorflow:From /home/sbshriram16/tf_venv/venv/lib/python3.6/site-packages/tensorflow/contrib/learn/python/learn/datasets/mnist.py:110: dense_to_one_hot (from tensorflow.contrib.learn.python.learn.datasets.mnist) is deprecated and will be removed in a future version.\n",
      "Instructions for updating:\n",
      "Please use tf.one_hot on tensors.\n",
      "Extracting gs://continual_learning/permMNIST_EWC/MNIST_data/t10k-images-idx3-ubyte.gz\n",
      "Extracting gs://continual_learning/permMNIST_EWC/MNIST_data/t10k-labels-idx1-ubyte.gz\n",
      "WARNING:tensorflow:From /home/sbshriram16/tf_venv/venv/lib/python3.6/site-packages/tensorflow/contrib/learn/python/learn/datasets/mnist.py:290: DataSet.__init__ (from tensorflow.contrib.learn.python.learn.datasets.mnist) is deprecated and will be removed in a future version.\n",
      "Instructions for updating:\n",
      "Please use alternatives such as official/mnist/dataset.py from tensorflow/models.\n",
      "WARNING:tensorflow:From /home/sbshriram16/EWC/classifiers.py:79: softmax_cross_entropy_with_logits (from tensorflow.python.ops.nn_ops) is deprecated and will be removed in a future version.\n",
      "Instructions for updating:\n",
      "\n",
      "Future major versions of TensorFlow will allow gradients to flow\n",
      "into the labels input on backprop by default.\n",
      "\n",
      "See @{tf.nn.softmax_cross_entropy_with_logits_v2}.\n",
      "\n"
     ]
    }
   ],
   "source": [
    "tuner = HyperparameterTuner(sess=sess, hidden_layers=hidden_layers, hidden_units=hidden_units,\n",
    "                                        num_perms=num_perms, trials=trials, epochs=epochs,\n",
    "                                        checkpoint_path=checkpoint_path, summaries_path=summaries_path, \n",
    "                                        data_path=data_path)"
   ]
  },
  {
   "cell_type": "code",
   "execution_count": 5,
   "metadata": {},
   "outputs": [],
   "source": [
    "from queue import PriorityQueue"
   ]
  },
  {
   "cell_type": "code",
   "execution_count": 6,
   "metadata": {
    "scrolled": true
   },
   "outputs": [
    {
     "name": "stdout",
     "output_type": "stream",
     "text": [
      "training layers=2,hidden=500,lr=0.00094,multiplier=1067.63,mbsize=250,epochs=10,perm=0 with weights initialized at None\n",
      "saving model layers=2,hidden=500,lr=0.00094,multiplier=1067.63,mbsize=250,epochs=10,perm=0 at time step 1119\n",
      "finished training layers=2,hidden=500,lr=0.00094,multiplier=1067.63,mbsize=250,epochs=10,perm=0\n",
      "INFO:tensorflow:Restoring parameters from gs://continual_learning/permMNIST_EWC/logs/checkpoints/layers=2,hidden=500,lr=0.00094,multiplier=1067.63,mbsize=250,epochs=10,perm=0.ckpt-1119\n",
      "training layers=2,hidden=500,lr=0.00038,multiplier=2599.17,mbsize=250,epochs=10,perm=0 with weights initialized at None\n",
      "saving model layers=2,hidden=500,lr=0.00038,multiplier=2599.17,mbsize=250,epochs=10,perm=0 at time step 1119\n",
      "finished training layers=2,hidden=500,lr=0.00038,multiplier=2599.17,mbsize=250,epochs=10,perm=0\n",
      "INFO:tensorflow:Restoring parameters from gs://continual_learning/permMNIST_EWC/logs/checkpoints/layers=2,hidden=500,lr=0.00038,multiplier=2599.17,mbsize=250,epochs=10,perm=0.ckpt-1119\n",
      "training layers=2,hidden=500,lr=0.00027,multiplier=3766.10,mbsize=250,epochs=10,perm=0 with weights initialized at None\n",
      "saving model layers=2,hidden=500,lr=0.00027,multiplier=3766.10,mbsize=250,epochs=10,perm=0 at time step 1119\n",
      "finished training layers=2,hidden=500,lr=0.00027,multiplier=3766.10,mbsize=250,epochs=10,perm=0\n",
      "INFO:tensorflow:Restoring parameters from gs://continual_learning/permMNIST_EWC/logs/checkpoints/layers=2,hidden=500,lr=0.00027,multiplier=3766.10,mbsize=250,epochs=10,perm=0.ckpt-1119\n",
      "training layers=2,hidden=500,lr=0.00028,multiplier=3519.83,mbsize=250,epochs=10,perm=0 with weights initialized at None\n",
      "saving model layers=2,hidden=500,lr=0.00028,multiplier=3519.83,mbsize=250,epochs=10,perm=0 at time step 1119\n",
      "finished training layers=2,hidden=500,lr=0.00028,multiplier=3519.83,mbsize=250,epochs=10,perm=0\n",
      "INFO:tensorflow:Restoring parameters from gs://continual_learning/permMNIST_EWC/logs/checkpoints/layers=2,hidden=500,lr=0.00028,multiplier=3519.83,mbsize=250,epochs=10,perm=0.ckpt-1119\n",
      "training layers=2,hidden=500,lr=0.00061,multiplier=1636.79,mbsize=250,epochs=10,perm=0 with weights initialized at None\n",
      "saving model layers=2,hidden=500,lr=0.00061,multiplier=1636.79,mbsize=250,epochs=10,perm=0 at time step 1119\n",
      "finished training layers=2,hidden=500,lr=0.00061,multiplier=1636.79,mbsize=250,epochs=10,perm=0\n",
      "INFO:tensorflow:Restoring parameters from gs://continual_learning/permMNIST_EWC/logs/checkpoints/layers=2,hidden=500,lr=0.00061,multiplier=1636.79,mbsize=250,epochs=10,perm=0.ckpt-1119\n",
      "training layers=2,hidden=500,lr=0.00064,multiplier=1572.35,mbsize=250,epochs=10,perm=0 with weights initialized at None\n",
      "saving model layers=2,hidden=500,lr=0.00064,multiplier=1572.35,mbsize=250,epochs=10,perm=0 at time step 1119\n",
      "finished training layers=2,hidden=500,lr=0.00064,multiplier=1572.35,mbsize=250,epochs=10,perm=0\n",
      "INFO:tensorflow:Restoring parameters from gs://continual_learning/permMNIST_EWC/logs/checkpoints/layers=2,hidden=500,lr=0.00064,multiplier=1572.35,mbsize=250,epochs=10,perm=0.ckpt-1119\n",
      "training layers=2,hidden=500,lr=0.00097,multiplier=1032.99,mbsize=250,epochs=10,perm=0 with weights initialized at None\n",
      "saving model layers=2,hidden=500,lr=0.00097,multiplier=1032.99,mbsize=250,epochs=10,perm=0 at time step 1119\n",
      "finished training layers=2,hidden=500,lr=0.00097,multiplier=1032.99,mbsize=250,epochs=10,perm=0\n",
      "INFO:tensorflow:Restoring parameters from gs://continual_learning/permMNIST_EWC/logs/checkpoints/layers=2,hidden=500,lr=0.00097,multiplier=1032.99,mbsize=250,epochs=10,perm=0.ckpt-1119\n",
      "training layers=2,hidden=500,lr=0.00069,multiplier=1453.79,mbsize=250,epochs=10,perm=0 with weights initialized at None\n",
      "saving model layers=2,hidden=500,lr=0.00069,multiplier=1453.79,mbsize=250,epochs=10,perm=0 at time step 1119\n",
      "finished training layers=2,hidden=500,lr=0.00069,multiplier=1453.79,mbsize=250,epochs=10,perm=0\n",
      "INFO:tensorflow:Restoring parameters from gs://continual_learning/permMNIST_EWC/logs/checkpoints/layers=2,hidden=500,lr=0.00069,multiplier=1453.79,mbsize=250,epochs=10,perm=0.ckpt-1119\n",
      "training layers=2,hidden=500,lr=0.00077,multiplier=1291.96,mbsize=250,epochs=10,perm=0 with weights initialized at None\n",
      "saving model layers=2,hidden=500,lr=0.00077,multiplier=1291.96,mbsize=250,epochs=10,perm=0 at time step 1119\n",
      "finished training layers=2,hidden=500,lr=0.00077,multiplier=1291.96,mbsize=250,epochs=10,perm=0\n",
      "INFO:tensorflow:Restoring parameters from gs://continual_learning/permMNIST_EWC/logs/checkpoints/layers=2,hidden=500,lr=0.00077,multiplier=1291.96,mbsize=250,epochs=10,perm=0.ckpt-1119\n",
      "training layers=2,hidden=500,lr=0.00069,multiplier=1453.04,mbsize=250,epochs=10,perm=0 with weights initialized at None\n",
      "saving model layers=2,hidden=500,lr=0.00069,multiplier=1453.04,mbsize=250,epochs=10,perm=0 at time step 1119\n",
      "finished training layers=2,hidden=500,lr=0.00069,multiplier=1453.04,mbsize=250,epochs=10,perm=0\n",
      "INFO:tensorflow:Restoring parameters from gs://continual_learning/permMNIST_EWC/logs/checkpoints/layers=2,hidden=500,lr=0.00069,multiplier=1453.04,mbsize=250,epochs=10,perm=0.ckpt-1119\n"
     ]
    }
   ],
   "source": [
    "# task 0\n",
    "t = 0\n",
    "queue = PriorityQueue()\n",
    "for learning_rate in tuner.trial_learning_rates:\n",
    "    tuner.train_on_task(t, learning_rate, queue)\n",
    "tuner.best_parameters.append(queue.get())"
   ]
  },
  {
   "cell_type": "code",
   "execution_count": 7,
   "metadata": {},
   "outputs": [
    {
     "name": "stdout",
     "output_type": "stream",
     "text": [
      "INFO:tensorflow:Restoring parameters from gs://continual_learning/permMNIST_EWC/logs/checkpoints/layers=2,hidden=500,lr=0.00094,multiplier=1067.63,mbsize=250,epochs=10,perm=0.ckpt-1119\n",
      "task0 0.9917905\n",
      "INFO:tensorflow:Restoring parameters from gs://continual_learning/permMNIST_EWC/logs/checkpoints/layers=2,hidden=500,lr=0.00094,multiplier=1067.63,mbsize=250,epochs=10,perm=0.ckpt-1119\n",
      "task1 0.0\n"
     ]
    }
   ],
   "source": [
    "# accuracy on validation sets\n",
    "print(\"task0\", tuner.classifier.test(sess=tuner.sess, model_name=tuner.file_name(tuner.trial_learning_rates[0], 0), batch_xs=tuner.task_list[0].validation.images, batch_ys=tuner.task_list[0].validation.labels))\n",
    "print(\"task1\", tuner.classifier.test(sess=tuner.sess, model_name=tuner.file_name(tuner.trial_learning_rates[0], 0), batch_xs=tuner.task_list[1].validation.images, batch_ys=tuner.task_list[1].validation.labels))"
   ]
  },
  {
   "cell_type": "code",
   "execution_count": 9,
   "metadata": {},
   "outputs": [
    {
     "name": "stdout",
     "output_type": "stream",
     "text": [
      "The autoreload extension is already loaded. To reload it, use:\n",
      "  %reload_ext autoreload\n"
     ]
    }
   ],
   "source": [
    "%load_ext autoreload\n",
    "%autoreload 2\n",
    "\n",
    "%matplotlib inline\n",
    "import matplotlib.pyplot as plt\n",
    "\n",
    "import numpy as np"
   ]
  },
  {
   "cell_type": "code",
   "execution_count": 71,
   "metadata": {},
   "outputs": [],
   "source": [
    "# task1\n",
    "t = 1\n",
    "lr = 0.00094\n",
    "# 1e19 works good - [62, 72] for 15000\n",
    "#1e22 - [69, 68] for 15000\n",
    "fisher_multiplier = 1e24\n",
    "model_name = tuner.file_name(lr, t)\n",
    "dataset_train = tuner.task_list[t].train\n",
    "dataset_lagged = tuner.task_list[t - 1].train if t > 0 else None\n",
    "model_init_name = tuner.best_parameters[t - 1][1] if t > 0 else None\n",
    "MINI_BATCH_SIZE = 250\n",
    "LOG_FREQUENCY = 100\n",
    "dataset_train.initialize_iterator(MINI_BATCH_SIZE)\n",
    "if (dataset_lagged is not None):\n",
    "    dataset_lagged.initialize_iterator(MINI_BATCH_SIZE)"
   ]
  },
  {
   "cell_type": "code",
   "execution_count": 72,
   "metadata": {},
   "outputs": [
    {
     "name": "stdout",
     "output_type": "stream",
     "text": [
      "INFO:tensorflow:Restoring parameters from gs://continual_learning/permMNIST_EWC/logs/checkpoints/layers=2,hidden=500,lr=0.00094,multiplier=1067.63,mbsize=250,epochs=10,perm=0.ckpt-1119\n"
     ]
    }
   ],
   "source": [
    "tuner.classifier.prepare_for_training(sess=tuner.sess, \n",
    "                                    model_name=model_name, \n",
    "                                    model_init_name=model_init_name, \n",
    "                                    fisher_multiplier=fisher_multiplier, \n",
    "                                    learning_rate=lr)"
   ]
  },
  {
   "cell_type": "code",
   "execution_count": 73,
   "metadata": {},
   "outputs": [],
   "source": [
    "eval_frequency = 100\n",
    "num_updates = 15000"
   ]
  },
  {
   "cell_type": "code",
   "execution_count": 74,
   "metadata": {},
   "outputs": [],
   "source": [
    "all_accuracies = []\n",
    "for i in range(num_updates):\n",
    "    tuner.classifier.minibatch_sgd(tuner.sess, i, dataset_train, MINI_BATCH_SIZE, LOG_FREQUENCY)\n",
    "    if (i % eval_frequency == 0):\n",
    "        accuracies = []\n",
    "        for j in range(num_perms):\n",
    "            val_data = tuner.task_list[j].validation\n",
    "            feed_dict = tuner.classifier.create_feed_dict(val_data.images, val_data.labels, keep_input=1.0, keep_hidden=1.0)\n",
    "            accuracy = sess.run(tuner.classifier.accuracy, feed_dict=feed_dict)\n",
    "            accuracies.append(accuracy)\n",
    "        all_accuracies.append(accuracies)"
   ]
  },
  {
   "cell_type": "code",
   "execution_count": 75,
   "metadata": {},
   "outputs": [
    {
     "name": "stdout",
     "output_type": "stream",
     "text": [
      "[[0.9906177, 0.0], [0.9917905, 0.0], [0.9917905, 0.0], [0.9917905, 0.0], [0.9917905, 0.0], [0.9917905, 0.0], [0.9917905, 0.0], [0.9917905, 0.0], [0.9913995, 0.0024570024], [0.98944485, 0.023341523], [0.9851446, 0.04340704], [0.98319, 0.06306306], [0.9792807, 0.074529074], [0.9784988, 0.08763309], [0.9784988, 0.097870596], [0.97888976, 0.10401311], [0.97810787, 0.11629812], [0.9784988, 0.124078624], [0.97810787, 0.13513513], [0.977717, 0.14250614], [0.97537136, 0.15069614], [0.971853, 0.17321867], [0.97068024, 0.18714169], [0.96716183, 0.20966421], [0.9636435, 0.21867321], [0.9628616, 0.22563472], [0.96207976, 0.23587224], [0.94839716, 0.27231777], [0.94370604, 0.3018018], [0.94175136, 0.32186732], [0.9366693, 0.33742833], [0.92963254, 0.35913187], [0.92337763, 0.37100738], [0.9171228, 0.38411137], [0.9143862, 0.3976249], [0.90813136, 0.41482392], [0.90304923, 0.43079442], [0.90304923, 0.43816543], [0.8995309, 0.45085996], [0.8901486, 0.46068797], [0.88623923, 0.46232596], [0.8835027, 0.46969697], [0.87959343, 0.47870597], [0.87451136, 0.484439], [0.8733385, 0.49058148], [0.8690383, 0.4995905], [0.86356527, 0.50819004], [0.86161065, 0.5135135], [0.859656, 0.513923], [0.8522283, 0.521294], [0.8545739, 0.527027], [0.848319, 0.536036], [0.8436278, 0.54422605], [0.83737296, 0.5569205], [0.825645, 0.57411957], [0.8240813, 0.5823096], [0.81821734, 0.58927107], [0.81821734, 0.5904996], [0.81430805, 0.5925471], [0.81508994, 0.5945946], [0.814699, 0.5962326], [0.8135262, 0.5995086], [0.8057076, 0.6040131], [0.8017983, 0.6081081], [0.80140734, 0.6097461], [0.8010164, 0.61343163], [0.7971071, 0.6175266], [0.792025, 0.6187551], [0.79007035, 0.6220311], [0.7849883, 0.6257166], [0.78616107, 0.6261261], [0.7791243, 0.6306306], [0.7783424, 0.63472563], [0.77599686, 0.63431615], [0.77443314, 0.63595414], [0.7748241, 0.6351351], [0.7716966, 0.6363636], [0.769742, 0.63595414], [0.769742, 0.6351351], [0.7654418, 0.63923013], [0.76114154, 0.64045864], [0.7599687, 0.6425061], [0.7580141, 0.64209664], [0.7580141, 0.64209664], [0.7548866, 0.64496315], [0.75293195, 0.64619166], [0.7544957, 0.6441441], [0.75097734, 0.64742017], [0.7458952, 0.6502867], [0.7466771, 0.64987713], [0.7458952, 0.64987713], [0.7513683, 0.64987713], [0.7482408, 0.64946765], [0.74081314, 0.6486486], [0.73885846, 0.65192467], [0.7392494, 0.64987713], [0.73729473, 0.64946765], [0.7365129, 0.64987713], [0.7345582, 0.64987713], [0.73416734, 0.6470106], [0.7365129, 0.64905816], [0.7349492, 0.64782965], [0.7318217, 0.65110564], [0.7310399, 0.64946765], [0.72595775, 0.65069616], [0.72283036, 0.65110564], [0.7212666, 0.65233415], [0.72048473, 0.65397215], [0.7157936, 0.6592957], [0.7150117, 0.6576577], [0.7181392, 0.65888613], [0.71657544, 0.6605242], [0.71540266, 0.66298115], [0.7122752, 0.66339064], [0.7177482, 0.66257167], [0.7161845, 0.66134316], [0.7122752, 0.6650287], [0.7161845, 0.6638002], [0.7142299, 0.66461915], [0.7103206, 0.66584766], [0.7040657, 0.66871417], [0.7044566, 0.67076164], [0.7044566, 0.67321867], [0.70367473, 0.6728092], [0.707975, 0.6715807], [0.70641124, 0.67035216], [0.70250195, 0.67321867], [0.7048475, 0.6715807], [0.69624704, 0.67772317], [0.6982017, 0.6756757], [0.6942924, 0.6785422], [0.6919468, 0.67649466], [0.6915559, 0.6773137], [0.696638, 0.67649466], [0.6919468, 0.67813265], [0.6888194, 0.6797707], [0.6888194, 0.6769042], [0.6845192, 0.6830467], [0.691165, 0.6805897], [0.6927287, 0.67936116], [0.690774, 0.6797707], [0.69311965, 0.6805897], [0.691165, 0.6818182], [0.68842846, 0.6822277], [0.6860829, 0.68263716], [0.6813917, 0.6842752], [0.68217355, 0.6859132], [0.6837373, 0.6842752], [0.6841282, 0.6822277], [0.685301, 0.6814087]]\n"
     ]
    }
   ],
   "source": [
    "print(all_accuracies)"
   ]
  },
  {
   "cell_type": "code",
   "execution_count": 76,
   "metadata": {},
   "outputs": [
    {
     "data": {
      "image/png": "[encoded data removed]",
      "text/plain": [
       "<Figure size 432x288 with 1 Axes>"
      ]
     },
     "metadata": {},
     "output_type": "display_data"
    }
   ],
   "source": [
    "all_accuracies_plot = np.array(all_accuracies)\n",
    "plt.plot(all_accuracies_plot[:, 0], color='b')\n",
    "plt.plot(all_accuracies_plot[:, 1], color='g')\n",
    "plt.show()\n"
   ]
  },
  {
   "cell_type": "code",
   "execution_count": null,
   "metadata": {},
   "outputs": [],
   "source": []
  },
  {
   "cell_type": "code",
   "execution_count": 6,
   "metadata": {},
   "outputs": [
    {
     "ename": "NotFoundError",
     "evalue": "Container tpu_worker does not exist.\n\t [[Node: ShutdownDistributedTPU_1 = _ShutdownDistributedTPU[_device=\"/job:tpu_worker/replica:0/task:0/device:TPU_SYSTEM:0\"](^disconnect_tpu_host/_1)]]\n\nCaused by op 'ShutdownDistributedTPU_1', defined at:\n  File \"/usr/lib/python3.6/runpy.py\", line 193, in _run_module_as_main\n    \"__main__\", mod_spec)\n  File \"/usr/lib/python3.6/runpy.py\", line 85, in _run_code\n    exec(code, run_globals)\n  File \"/home/sbshriram16/tf_venv/venv/lib/python3.6/site-packages/ipykernel_launcher.py\", line 16, in <module>\n    app.launch_new_instance()\n  File \"/home/sbshriram16/tf_venv/venv/lib/python3.6/site-packages/traitlets/config/application.py\", line 658, in launch_instance\n    app.start()\n  File \"/home/sbshriram16/tf_venv/venv/lib/python3.6/site-packages/ipykernel/kernelapp.py\", line 486, in start\n    self.io_loop.start()\n  File \"/home/sbshriram16/tf_venv/venv/lib/python3.6/site-packages/tornado/platform/asyncio.py\", line 132, in start\n    self.asyncio_loop.run_forever()\n  File \"/usr/lib/python3.6/asyncio/base_events.py\", line 422, in run_forever\n    self._run_once()\n  File \"/usr/lib/python3.6/asyncio/base_events.py\", line 1432, in _run_once\n    handle._run()\n  File \"/usr/lib/python3.6/asyncio/events.py\", line 145, in _run\n    self._callback(*self._args)\n  File \"/home/sbshriram16/tf_venv/venv/lib/python3.6/site-packages/tornado/platform/asyncio.py\", line 122, in _handle_events\n    handler_func(fileobj, events)\n  File \"/home/sbshriram16/tf_venv/venv/lib/python3.6/site-packages/tornado/stack_context.py\", line 300, in null_wrapper\n    return fn(*args, **kwargs)\n  File \"/home/sbshriram16/tf_venv/venv/lib/python3.6/site-packages/zmq/eventloop/zmqstream.py\", line 450, in _handle_events\n    self._handle_recv()\n  File \"/home/sbshriram16/tf_venv/venv/lib/python3.6/site-packages/zmq/eventloop/zmqstream.py\", line 480, in _handle_recv\n    self._run_callback(callback, msg)\n  File \"/home/sbshriram16/tf_venv/venv/lib/python3.6/site-packages/zmq/eventloop/zmqstream.py\", line 432, in _run_callback\n    callback(*args, **kwargs)\n  File \"/home/sbshriram16/tf_venv/venv/lib/python3.6/site-packages/tornado/stack_context.py\", line 300, in null_wrapper\n    return fn(*args, **kwargs)\n  File \"/home/sbshriram16/tf_venv/venv/lib/python3.6/site-packages/ipykernel/kernelbase.py\", line 283, in dispatcher\n    return self.dispatch_shell(stream, msg)\n  File \"/home/sbshriram16/tf_venv/venv/lib/python3.6/site-packages/ipykernel/kernelbase.py\", line 233, in dispatch_shell\n    handler(stream, idents, msg)\n  File \"/home/sbshriram16/tf_venv/venv/lib/python3.6/site-packages/ipykernel/kernelbase.py\", line 399, in execute_request\n    user_expressions, allow_stdin)\n  File \"/home/sbshriram16/tf_venv/venv/lib/python3.6/site-packages/ipykernel/ipkernel.py\", line 208, in do_execute\n    res = shell.run_cell(code, store_history=store_history, silent=silent)\n  File \"/home/sbshriram16/tf_venv/venv/lib/python3.6/site-packages/ipykernel/zmqshell.py\", line 537, in run_cell\n    return super(ZMQInteractiveShell, self).run_cell(*args, **kwargs)\n  File \"/home/sbshriram16/tf_venv/venv/lib/python3.6/site-packages/IPython/core/interactiveshell.py\", line 2662, in run_cell\n    raw_cell, store_history, silent, shell_futures)\n  File \"/home/sbshriram16/tf_venv/venv/lib/python3.6/site-packages/IPython/core/interactiveshell.py\", line 2785, in _run_cell\n    interactivity=interactivity, compiler=compiler, result=result)\n  File \"/home/sbshriram16/tf_venv/venv/lib/python3.6/site-packages/IPython/core/interactiveshell.py\", line 2907, in run_ast_nodes\n    if self.run_code(code, result):\n  File \"/home/sbshriram16/tf_venv/venv/lib/python3.6/site-packages/IPython/core/interactiveshell.py\", line 2961, in run_code\n    exec(code_obj, self.user_global_ns, self.user_ns)\n  File \"<ipython-input-6-2bdc1a343162>\", line 1, in <module>\n    sess.run(tpu.shutdown_system())\n  File \"/home/sbshriram16/tf_venv/venv/lib/python3.6/site-packages/tensorflow/contrib/tpu/python/tpu/tpu.py\", line 98, in shutdown_system\n    shutdown_distributed_tpu = tpu_ops.shutdown_distributed_tpu()\n  File \"/home/sbshriram16/tf_venv/venv/lib/python3.6/site-packages/tensorflow/contrib/tpu/ops/gen_tpu_ops.py\", line 790, in shutdown_distributed_tpu\n    \"ShutdownDistributedTPU\", name=name)\n  File \"/home/sbshriram16/tf_venv/venv/lib/python3.6/site-packages/tensorflow/python/framework/op_def_library.py\", line 787, in _apply_op_helper\n    op_def=op_def)\n  File \"/home/sbshriram16/tf_venv/venv/lib/python3.6/site-packages/tensorflow/python/framework/ops.py\", line 3414, in create_op\n    op_def=op_def)\n  File \"/home/sbshriram16/tf_venv/venv/lib/python3.6/site-packages/tensorflow/python/framework/ops.py\", line 1740, in __init__\n    self._traceback = self._graph._extract_stack()  # pylint: disable=protected-access\n\nNotFoundError (see above for traceback): Container tpu_worker does not exist.\n\t [[Node: ShutdownDistributedTPU_1 = _ShutdownDistributedTPU[_device=\"/job:tpu_worker/replica:0/task:0/device:TPU_SYSTEM:0\"](^disconnect_tpu_host/_1)]]\n",
     "output_type": "error",
     "traceback": [
      "\u001b[0;31m---------------------------------------------------------------------------\u001b[0m",
      "\u001b[0;31mNotFoundError\u001b[0m                             Traceback (most recent call last)",
      "\u001b[0;32m~/tf_venv/venv/lib/python3.6/site-packages/tensorflow/python/client/session.py\u001b[0m in \u001b[0;36m_do_call\u001b[0;34m(self, fn, *args)\u001b[0m\n\u001b[1;32m   1321\u001b[0m     \u001b[0;32mtry\u001b[0m\u001b[0;34m:\u001b[0m\u001b[0;34m\u001b[0m\u001b[0m\n\u001b[0;32m-> 1322\u001b[0;31m       \u001b[0;32mreturn\u001b[0m \u001b[0mfn\u001b[0m\u001b[0;34m(\u001b[0m\u001b[0;34m*\u001b[0m\u001b[0margs\u001b[0m\u001b[0;34m)\u001b[0m\u001b[0;34m\u001b[0m\u001b[0m\n\u001b[0m\u001b[1;32m   1323\u001b[0m     \u001b[0;32mexcept\u001b[0m \u001b[0merrors\u001b[0m\u001b[0;34m.\u001b[0m\u001b[0mOpError\u001b[0m \u001b[0;32mas\u001b[0m \u001b[0me\u001b[0m\u001b[0;34m:\u001b[0m\u001b[0;34m\u001b[0m\u001b[0m\n",
      "\u001b[0;32m~/tf_venv/venv/lib/python3.6/site-packages/tensorflow/python/client/session.py\u001b[0m in \u001b[0;36m_run_fn\u001b[0;34m(feed_dict, fetch_list, target_list, options, run_metadata)\u001b[0m\n\u001b[1;32m   1306\u001b[0m       return self._call_tf_sessionrun(\n\u001b[0;32m-> 1307\u001b[0;31m           options, feed_dict, fetch_list, target_list, run_metadata)\n\u001b[0m\u001b[1;32m   1308\u001b[0m \u001b[0;34m\u001b[0m\u001b[0m\n",
      "\u001b[0;32m~/tf_venv/venv/lib/python3.6/site-packages/tensorflow/python/client/session.py\u001b[0m in \u001b[0;36m_call_tf_sessionrun\u001b[0;34m(self, options, feed_dict, fetch_list, target_list, run_metadata)\u001b[0m\n\u001b[1;32m   1408\u001b[0m           \u001b[0mself\u001b[0m\u001b[0;34m.\u001b[0m\u001b[0m_session\u001b[0m\u001b[0;34m,\u001b[0m \u001b[0moptions\u001b[0m\u001b[0;34m,\u001b[0m \u001b[0mfeed_dict\u001b[0m\u001b[0;34m,\u001b[0m \u001b[0mfetch_list\u001b[0m\u001b[0;34m,\u001b[0m \u001b[0mtarget_list\u001b[0m\u001b[0;34m,\u001b[0m\u001b[0;34m\u001b[0m\u001b[0m\n\u001b[0;32m-> 1409\u001b[0;31m           run_metadata)\n\u001b[0m\u001b[1;32m   1410\u001b[0m     \u001b[0;32melse\u001b[0m\u001b[0;34m:\u001b[0m\u001b[0;34m\u001b[0m\u001b[0m\n",
      "\u001b[0;31mNotFoundError\u001b[0m: Container tpu_worker does not exist.\n\t [[Node: ShutdownDistributedTPU_1 = _ShutdownDistributedTPU[_device=\"/job:tpu_worker/replica:0/task:0/device:TPU_SYSTEM:0\"](^disconnect_tpu_host/_1)]]",
      "\nDuring handling of the above exception, another exception occurred:\n",
      "\u001b[0;31mNotFoundError\u001b[0m                             Traceback (most recent call last)",
      "\u001b[0;32m<ipython-input-6-2bdc1a343162>\u001b[0m in \u001b[0;36m<module>\u001b[0;34m()\u001b[0m\n\u001b[0;32m----> 1\u001b[0;31m \u001b[0msess\u001b[0m\u001b[0;34m.\u001b[0m\u001b[0mrun\u001b[0m\u001b[0;34m(\u001b[0m\u001b[0mtpu\u001b[0m\u001b[0;34m.\u001b[0m\u001b[0mshutdown_system\u001b[0m\u001b[0;34m(\u001b[0m\u001b[0;34m)\u001b[0m\u001b[0;34m)\u001b[0m\u001b[0;34m\u001b[0m\u001b[0m\n\u001b[0m",
      "\u001b[0;32m~/tf_venv/venv/lib/python3.6/site-packages/tensorflow/python/client/session.py\u001b[0m in \u001b[0;36mrun\u001b[0;34m(self, fetches, feed_dict, options, run_metadata)\u001b[0m\n\u001b[1;32m    898\u001b[0m     \u001b[0;32mtry\u001b[0m\u001b[0;34m:\u001b[0m\u001b[0;34m\u001b[0m\u001b[0m\n\u001b[1;32m    899\u001b[0m       result = self._run(None, fetches, feed_dict, options_ptr,\n\u001b[0;32m--> 900\u001b[0;31m                          run_metadata_ptr)\n\u001b[0m\u001b[1;32m    901\u001b[0m       \u001b[0;32mif\u001b[0m \u001b[0mrun_metadata\u001b[0m\u001b[0;34m:\u001b[0m\u001b[0;34m\u001b[0m\u001b[0m\n\u001b[1;32m    902\u001b[0m         \u001b[0mproto_data\u001b[0m \u001b[0;34m=\u001b[0m \u001b[0mtf_session\u001b[0m\u001b[0;34m.\u001b[0m\u001b[0mTF_GetBuffer\u001b[0m\u001b[0;34m(\u001b[0m\u001b[0mrun_metadata_ptr\u001b[0m\u001b[0;34m)\u001b[0m\u001b[0;34m\u001b[0m\u001b[0m\n",
      "\u001b[0;32m~/tf_venv/venv/lib/python3.6/site-packages/tensorflow/python/client/session.py\u001b[0m in \u001b[0;36m_run\u001b[0;34m(self, handle, fetches, feed_dict, options, run_metadata)\u001b[0m\n\u001b[1;32m   1133\u001b[0m     \u001b[0;32mif\u001b[0m \u001b[0mfinal_fetches\u001b[0m \u001b[0;32mor\u001b[0m \u001b[0mfinal_targets\u001b[0m \u001b[0;32mor\u001b[0m \u001b[0;34m(\u001b[0m\u001b[0mhandle\u001b[0m \u001b[0;32mand\u001b[0m \u001b[0mfeed_dict_tensor\u001b[0m\u001b[0;34m)\u001b[0m\u001b[0;34m:\u001b[0m\u001b[0;34m\u001b[0m\u001b[0m\n\u001b[1;32m   1134\u001b[0m       results = self._do_run(handle, final_targets, final_fetches,\n\u001b[0;32m-> 1135\u001b[0;31m                              feed_dict_tensor, options, run_metadata)\n\u001b[0m\u001b[1;32m   1136\u001b[0m     \u001b[0;32melse\u001b[0m\u001b[0;34m:\u001b[0m\u001b[0;34m\u001b[0m\u001b[0m\n\u001b[1;32m   1137\u001b[0m       \u001b[0mresults\u001b[0m \u001b[0;34m=\u001b[0m \u001b[0;34m[\u001b[0m\u001b[0;34m]\u001b[0m\u001b[0;34m\u001b[0m\u001b[0m\n",
      "\u001b[0;32m~/tf_venv/venv/lib/python3.6/site-packages/tensorflow/python/client/session.py\u001b[0m in \u001b[0;36m_do_run\u001b[0;34m(self, handle, target_list, fetch_list, feed_dict, options, run_metadata)\u001b[0m\n\u001b[1;32m   1314\u001b[0m     \u001b[0;32mif\u001b[0m \u001b[0mhandle\u001b[0m \u001b[0;32mis\u001b[0m \u001b[0;32mNone\u001b[0m\u001b[0;34m:\u001b[0m\u001b[0;34m\u001b[0m\u001b[0m\n\u001b[1;32m   1315\u001b[0m       return self._do_call(_run_fn, feeds, fetches, targets, options,\n\u001b[0;32m-> 1316\u001b[0;31m                            run_metadata)\n\u001b[0m\u001b[1;32m   1317\u001b[0m     \u001b[0;32melse\u001b[0m\u001b[0;34m:\u001b[0m\u001b[0;34m\u001b[0m\u001b[0m\n\u001b[1;32m   1318\u001b[0m       \u001b[0;32mreturn\u001b[0m \u001b[0mself\u001b[0m\u001b[0;34m.\u001b[0m\u001b[0m_do_call\u001b[0m\u001b[0;34m(\u001b[0m\u001b[0m_prun_fn\u001b[0m\u001b[0;34m,\u001b[0m \u001b[0mhandle\u001b[0m\u001b[0;34m,\u001b[0m \u001b[0mfeeds\u001b[0m\u001b[0;34m,\u001b[0m \u001b[0mfetches\u001b[0m\u001b[0;34m)\u001b[0m\u001b[0;34m\u001b[0m\u001b[0m\n",
      "\u001b[0;32m~/tf_venv/venv/lib/python3.6/site-packages/tensorflow/python/client/session.py\u001b[0m in \u001b[0;36m_do_call\u001b[0;34m(self, fn, *args)\u001b[0m\n\u001b[1;32m   1333\u001b[0m         \u001b[0;32mexcept\u001b[0m \u001b[0mKeyError\u001b[0m\u001b[0;34m:\u001b[0m\u001b[0;34m\u001b[0m\u001b[0m\n\u001b[1;32m   1334\u001b[0m           \u001b[0;32mpass\u001b[0m\u001b[0;34m\u001b[0m\u001b[0m\n\u001b[0;32m-> 1335\u001b[0;31m       \u001b[0;32mraise\u001b[0m \u001b[0mtype\u001b[0m\u001b[0;34m(\u001b[0m\u001b[0me\u001b[0m\u001b[0;34m)\u001b[0m\u001b[0;34m(\u001b[0m\u001b[0mnode_def\u001b[0m\u001b[0;34m,\u001b[0m \u001b[0mop\u001b[0m\u001b[0;34m,\u001b[0m \u001b[0mmessage\u001b[0m\u001b[0;34m)\u001b[0m\u001b[0;34m\u001b[0m\u001b[0m\n\u001b[0m\u001b[1;32m   1336\u001b[0m \u001b[0;34m\u001b[0m\u001b[0m\n\u001b[1;32m   1337\u001b[0m   \u001b[0;32mdef\u001b[0m \u001b[0m_extend_graph\u001b[0m\u001b[0;34m(\u001b[0m\u001b[0mself\u001b[0m\u001b[0;34m)\u001b[0m\u001b[0;34m:\u001b[0m\u001b[0;34m\u001b[0m\u001b[0m\n",
      "\u001b[0;31mNotFoundError\u001b[0m: Container tpu_worker does not exist.\n\t [[Node: ShutdownDistributedTPU_1 = _ShutdownDistributedTPU[_device=\"/job:tpu_worker/replica:0/task:0/device:TPU_SYSTEM:0\"](^disconnect_tpu_host/_1)]]\n\nCaused by op 'ShutdownDistributedTPU_1', defined at:\n  File \"/usr/lib/python3.6/runpy.py\", line 193, in _run_module_as_main\n    \"__main__\", mod_spec)\n  File \"/usr/lib/python3.6/runpy.py\", line 85, in _run_code\n    exec(code, run_globals)\n  File \"/home/sbshriram16/tf_venv/venv/lib/python3.6/site-packages/ipykernel_launcher.py\", line 16, in <module>\n    app.launch_new_instance()\n  File \"/home/sbshriram16/tf_venv/venv/lib/python3.6/site-packages/traitlets/config/application.py\", line 658, in launch_instance\n    app.start()\n  File \"/home/sbshriram16/tf_venv/venv/lib/python3.6/site-packages/ipykernel/kernelapp.py\", line 486, in start\n    self.io_loop.start()\n  File \"/home/sbshriram16/tf_venv/venv/lib/python3.6/site-packages/tornado/platform/asyncio.py\", line 132, in start\n    self.asyncio_loop.run_forever()\n  File \"/usr/lib/python3.6/asyncio/base_events.py\", line 422, in run_forever\n    self._run_once()\n  File \"/usr/lib/python3.6/asyncio/base_events.py\", line 1432, in _run_once\n    handle._run()\n  File \"/usr/lib/python3.6/asyncio/events.py\", line 145, in _run\n    self._callback(*self._args)\n  File \"/home/sbshriram16/tf_venv/venv/lib/python3.6/site-packages/tornado/platform/asyncio.py\", line 122, in _handle_events\n    handler_func(fileobj, events)\n  File \"/home/sbshriram16/tf_venv/venv/lib/python3.6/site-packages/tornado/stack_context.py\", line 300, in null_wrapper\n    return fn(*args, **kwargs)\n  File \"/home/sbshriram16/tf_venv/venv/lib/python3.6/site-packages/zmq/eventloop/zmqstream.py\", line 450, in _handle_events\n    self._handle_recv()\n  File \"/home/sbshriram16/tf_venv/venv/lib/python3.6/site-packages/zmq/eventloop/zmqstream.py\", line 480, in _handle_recv\n    self._run_callback(callback, msg)\n  File \"/home/sbshriram16/tf_venv/venv/lib/python3.6/site-packages/zmq/eventloop/zmqstream.py\", line 432, in _run_callback\n    callback(*args, **kwargs)\n  File \"/home/sbshriram16/tf_venv/venv/lib/python3.6/site-packages/tornado/stack_context.py\", line 300, in null_wrapper\n    return fn(*args, **kwargs)\n  File \"/home/sbshriram16/tf_venv/venv/lib/python3.6/site-packages/ipykernel/kernelbase.py\", line 283, in dispatcher\n    return self.dispatch_shell(stream, msg)\n  File \"/home/sbshriram16/tf_venv/venv/lib/python3.6/site-packages/ipykernel/kernelbase.py\", line 233, in dispatch_shell\n    handler(stream, idents, msg)\n  File \"/home/sbshriram16/tf_venv/venv/lib/python3.6/site-packages/ipykernel/kernelbase.py\", line 399, in execute_request\n    user_expressions, allow_stdin)\n  File \"/home/sbshriram16/tf_venv/venv/lib/python3.6/site-packages/ipykernel/ipkernel.py\", line 208, in do_execute\n    res = shell.run_cell(code, store_history=store_history, silent=silent)\n  File \"/home/sbshriram16/tf_venv/venv/lib/python3.6/site-packages/ipykernel/zmqshell.py\", line 537, in run_cell\n    return super(ZMQInteractiveShell, self).run_cell(*args, **kwargs)\n  File \"/home/sbshriram16/tf_venv/venv/lib/python3.6/site-packages/IPython/core/interactiveshell.py\", line 2662, in run_cell\n    raw_cell, store_history, silent, shell_futures)\n  File \"/home/sbshriram16/tf_venv/venv/lib/python3.6/site-packages/IPython/core/interactiveshell.py\", line 2785, in _run_cell\n    interactivity=interactivity, compiler=compiler, result=result)\n  File \"/home/sbshriram16/tf_venv/venv/lib/python3.6/site-packages/IPython/core/interactiveshell.py\", line 2907, in run_ast_nodes\n    if self.run_code(code, result):\n  File \"/home/sbshriram16/tf_venv/venv/lib/python3.6/site-packages/IPython/core/interactiveshell.py\", line 2961, in run_code\n    exec(code_obj, self.user_global_ns, self.user_ns)\n  File \"<ipython-input-6-2bdc1a343162>\", line 1, in <module>\n    sess.run(tpu.shutdown_system())\n  File \"/home/sbshriram16/tf_venv/venv/lib/python3.6/site-packages/tensorflow/contrib/tpu/python/tpu/tpu.py\", line 98, in shutdown_system\n    shutdown_distributed_tpu = tpu_ops.shutdown_distributed_tpu()\n  File \"/home/sbshriram16/tf_venv/venv/lib/python3.6/site-packages/tensorflow/contrib/tpu/ops/gen_tpu_ops.py\", line 790, in shutdown_distributed_tpu\n    \"ShutdownDistributedTPU\", name=name)\n  File \"/home/sbshriram16/tf_venv/venv/lib/python3.6/site-packages/tensorflow/python/framework/op_def_library.py\", line 787, in _apply_op_helper\n    op_def=op_def)\n  File \"/home/sbshriram16/tf_venv/venv/lib/python3.6/site-packages/tensorflow/python/framework/ops.py\", line 3414, in create_op\n    op_def=op_def)\n  File \"/home/sbshriram16/tf_venv/venv/lib/python3.6/site-packages/tensorflow/python/framework/ops.py\", line 1740, in __init__\n    self._traceback = self._graph._extract_stack()  # pylint: disable=protected-access\n\nNotFoundError (see above for traceback): Container tpu_worker does not exist.\n\t [[Node: ShutdownDistributedTPU_1 = _ShutdownDistributedTPU[_device=\"/job:tpu_worker/replica:0/task:0/device:TPU_SYSTEM:0\"](^disconnect_tpu_host/_1)]]\n"
     ]
    }
   ],
   "source": [
    "sess.run(tpu.shutdown_system())"
   ]
  },
  {
   "cell_type": "code",
   "execution_count": null,
   "metadata": {},
   "outputs": [],
   "source": []
  }
 ],
 "metadata": {
  "kernelspec": {
   "display_name": "Python 3",
   "language": "python",
   "name": "python3"
  },
  "language_info": {
   "codemirror_mode": {
    "name": "ipython",
    "version": 3
   },
   "file_extension": ".py",
   "mimetype": "text/x-python",
   "name": "python",
   "nbconvert_exporter": "python",
   "pygments_lexer": "ipython3",
   "version": "3.6.5"
  }
 },
 "nbformat": 4,
 "nbformat_minor": 2
}
