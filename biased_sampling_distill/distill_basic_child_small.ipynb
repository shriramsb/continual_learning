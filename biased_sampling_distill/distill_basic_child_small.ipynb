{
 "cells": [
  {
   "cell_type": "markdown",
   "metadata": {},
   "source": [
    "### Import required packages and limit GPU usage"
   ]
  },
  {
   "cell_type": "code",
   "execution_count": 1,
   "metadata": {
    "code_folding": []
   },
   "outputs": [],
   "source": [
    "import numpy as np\n",
    "import math\n",
    "\n",
    "%matplotlib inline\n",
    "import matplotlib.pyplot as plt\n",
    "\n",
    "import pickle\n",
    "import argparse\n",
    "import time\n",
    "import itertools\n",
    "from copy import deepcopy\n",
    "\n",
    "import torch\n",
    "import torch.nn as nn\n",
    "import torch.nn.functional as F\n",
    "import torch.optim as optim\n",
    "\n",
    "import networks\n",
    "import utils\n",
    "\n",
    "use_gpu = True\n",
    "\n",
    "if use_gpu:\n",
    "    import os\n",
    "    \n",
    "%load_ext autoreload\n",
    "%autoreload 2"
   ]
  },
  {
   "cell_type": "code",
   "execution_count": 2,
   "metadata": {},
   "outputs": [],
   "source": [
    "gpu_id = 2\n",
    "cpu_device = torch.device('cpu')\n",
    "fast_device = torch.device('cpu')\n",
    "if use_gpu:\n",
    "    os.environ['CUDA_VISIBLE_DEVICES'] = '0,1,2'\n",
    "    fast_device = torch.device('cuda:' + str(gpu_id))"
   ]
  },
  {
   "cell_type": "code",
   "execution_count": 3,
   "metadata": {},
   "outputs": [],
   "source": [
    "# Ensure reproducibility\n",
    "def reproducibilitySeed():\n",
    "    torch_init_seed = 0\n",
    "    torch.manual_seed(torch_init_seed)\n",
    "    numpy_init_seed = 0\n",
    "    np.random.seed(numpy_init_seed)\n",
    "    if use_gpu:\n",
    "        torch.backends.cudnn.deterministic = True\n",
    "        torch.backends.cudnn.benchmark = False\n",
    "\n",
    "reproducibilitySeed()"
   ]
  },
  {
   "cell_type": "markdown",
   "metadata": {},
   "source": [
    "### Load dataset"
   ]
  },
  {
   "cell_type": "code",
   "execution_count": 4,
   "metadata": {},
   "outputs": [],
   "source": [
    "import torchvision\n",
    "import torchvision.transforms as transforms\n",
    "\n",
    "transform = transforms.Compose(\n",
    "                [\n",
    "                    transforms.ToTensor(),\n",
    "                    transforms.Normalize((0.5, 0.5), (0.5, 0.5))\n",
    "                ]\n",
    "            )\n",
    "\n",
    "train_val_dataset = torchvision.datasets.MNIST(root='./MNIST_dataset/', train=True, \n",
    "                                            download=True, transform=transform)\n",
    "\n",
    "test_dataset = torchvision.datasets.MNIST(root='./MNIST_dataset/', train=False, \n",
    "                                            download=True, transform=transform)\n",
    "\n",
    "num_train = int(1.0 * len(train_val_dataset) * 95 / 100)\n",
    "num_val = len(train_val_dataset) - num_train\n",
    "train_dataset, val_dataset = torch.utils.data.random_split(train_val_dataset, [num_train, num_val])\n",
    "\n",
    "batch_size = 128\n",
    "train_val_loader = torch.utils.data.DataLoader(train_val_dataset, batch_size=128, shuffle=True, num_workers=2)\n",
    "train_loader = torch.utils.data.DataLoader(train_dataset, batch_size=128, shuffle=True, num_workers=2)\n",
    "val_loader = torch.utils.data.DataLoader(val_dataset, batch_size=128, shuffle=False, num_workers=2)\n",
    "test_loader = torch.utils.data.DataLoader(test_dataset, batch_size=128, shuffle=False, num_workers=2)"
   ]
  },
  {
   "cell_type": "markdown",
   "metadata": {},
   "source": [
    "### Load parent network"
   ]
  },
  {
   "cell_type": "code",
   "execution_count": 5,
   "metadata": {},
   "outputs": [],
   "source": [
    "learning_rates = [1e-2]\n",
    "learning_rate_decays = [0.95]\n",
    "weight_decays = [1e-5]\n",
    "momentums = [0.9]\n",
    "# keeping dropout input = dropout hidden\n",
    "dropout_probabilities = [(0.2, 0.5)]\n",
    "hparams_list = []\n",
    "for hparam_tuple in itertools.product(dropout_probabilities, weight_decays, learning_rate_decays, \n",
    "                                        momentums, learning_rates):\n",
    "    hparam = {}\n",
    "    hparam['dropout_input'] = hparam_tuple[0][0]\n",
    "    hparam['dropout_hidden'] = hparam_tuple[0][1]\n",
    "    hparam['weight_decay'] = hparam_tuple[1]\n",
    "    hparam['lr_decay'] = hparam_tuple[2]\n",
    "    hparam['momentum'] = hparam_tuple[3]\n",
    "    hparam['lr'] = hparam_tuple[4]\n",
    "    hparams_list.append(hparam)\n",
    "load_path = 'checkpoints/' + utils.hparamToString(hparams_list[0]) + '_final.tar'\n",
    "parent_net = networks.ParentNetwork()\n",
    "parent_net.load_state_dict(torch.load(load_path, map_location=fast_device)['model_state_dict'])\n",
    "parent_net = parent_net.to(fast_device)"
   ]
  },
  {
   "cell_type": "code",
   "execution_count": 6,
   "metadata": {},
   "outputs": [
    {
     "name": "stdout",
     "output_type": "stream",
     "text": [
      "parent test accuracy:  0.9843\n"
     ]
    }
   ],
   "source": [
    "# Calculate parent test accuracy\n",
    "test_accuracy = utils.getTestAccuracy(parent_net, test_loader, fast_device)\n",
    "print('parent test accuracy: ', test_accuracy)"
   ]
  },
  {
   "cell_type": "markdown",
   "metadata": {},
   "source": [
    "### Train child network without distillation"
   ]
  },
  {
   "cell_type": "code",
   "execution_count": 7,
   "metadata": {},
   "outputs": [],
   "source": [
    "num_epochs = 20\n",
    "print_every = 100"
   ]
  },
  {
   "cell_type": "code",
   "execution_count": 8,
   "metadata": {},
   "outputs": [],
   "source": [
    "hparams_set = set()"
   ]
  },
  {
   "cell_type": "code",
   "execution_count": 15,
   "metadata": {
    "scrolled": true
   },
   "outputs": [],
   "source": [
    "temperatures = [1]\n",
    "# trade-off between soft-target (st) cross-entropy and true-target (tt) cross-entropy;\n",
    "# loss = alpha * st + (1 - alpha) * tt\n",
    "alphas = [0.0]\n",
    "learning_rates = [1e-2]\n",
    "learning_rate_decays = [0.95]\n",
    "weight_decays = [1e-5]\n",
    "momentums = [0.9]\n",
    "# keeping dropout input = dropout hidden\n",
    "# dropout_probabilities = [(0.0, 0.0), (0.2, 0.5)]\n",
    "dropout_probabilities = [(0.0, 0.0)]\n",
    "hparams_list = []\n",
    "for hparam_tuple in itertools.product(alphas, temperatures, dropout_probabilities, weight_decays, learning_rate_decays, \n",
    "                                        momentums, learning_rates):\n",
    "    hparam = {}\n",
    "    hparam['alpha'] = hparam_tuple[0]\n",
    "    hparam['T'] = hparam_tuple[1]\n",
    "    hparam['dropout_input'] = hparam_tuple[2][0]\n",
    "    hparam['dropout_hidden'] = hparam_tuple[2][1]\n",
    "    hparam['weight_decay'] = hparam_tuple[3]\n",
    "    hparam['lr_decay'] = hparam_tuple[4]\n",
    "    hparam['momentum'] = hparam_tuple[5]\n",
    "    hparam['lr'] = hparam_tuple[6]\n",
    "    hparams_list.append(hparam)\n",
    "    hparams_set.add(utils.hparamDictToTuple(hparam))\n",
    "\n",
    "results = {}\n",
    "for hparam in hparams_list:\n",
    "    print('Training with hparams', end='')\n",
    "    utils.printHparam(hparam)\n",
    "    reproducibilitySeed()\n",
    "    child_net = networks.ChildNetworkSmall()\n",
    "    child_net = child_net.to(fast_device)\n",
    "    hparam_tuple = utils.hparamDictToTuple(hparam)\n",
    "    results[hparam_tuple] = utils.trainChildOnHparam(parent_net, child_net, hparam, num_epochs, \n",
    "                                                        train_val_loader, None, \n",
    "                                                        print_every=print_every, \n",
    "                                                        fast_device=fast_device)\n",
    "    save_path = 'checkpoints_child_small/' + utils.hparamToString(hparam) + '_final.tar'\n",
    "    torch.save({'results' : results[hparam_tuple], \n",
    "                'model_state_dict' : child_net.state_dict(), \n",
    "                'epoch' : num_epochs}, save_path)"
   ]
  },
  {
   "cell_type": "code",
   "execution_count": 14,
   "metadata": {},
   "outputs": [
    {
     "name": "stdout",
     "output_type": "stream",
     "text": [
      "child test accuracy (w/o distillation):  0.961\n"
     ]
    }
   ],
   "source": [
    "# Calculate child test accuracy\n",
    "test_accuracy = utils.getTestAccuracy(child_net, test_loader, fast_device)\n",
    "print('child test accuracy (w/o distillation): ', test_accuracy)"
   ]
  },
  {
   "cell_type": "markdown",
   "metadata": {
    "heading_collapsed": true
   },
   "source": [
    "### Hyperparameter search utils"
   ]
  },
  {
   "cell_type": "code",
   "execution_count": 12,
   "metadata": {
    "hidden": true
   },
   "outputs": [
    {
     "data": {
      "image/png": "[encoded data removed]",
      "text/plain": [
       "<Figure size 432x288 with 2 Axes>"
      ]
     },
     "metadata": {
      "needs_background": "light"
     },
     "output_type": "display_data"
    }
   ],
   "source": [
    "# plt.rcParams['figure.figsize'] = [10, 5]\n",
    "weight_decay_scatter = ([math.log10(h['weight_decay']) if h['weight_decay'] > 0 else -6 for h in hparams_list])\n",
    "dropout_scatter = [int(h['dropout_input'] == 0.2) for h in hparams_list]\n",
    "colors = []\n",
    "for i in range(len(hparams_list)):\n",
    "    cur_hparam_tuple = utils.hparamDictToTuple(hparams_list[i])\n",
    "    colors.append(results[cur_hparam_tuple]['val_acc'][-1])\n",
    "    \n",
    "marker_size = 100\n",
    "fig, ax = plt.subplots()\n",
    "plt.scatter(weight_decay_scatter, dropout_scatter, marker_size, c=colors, edgecolors='black')\n",
    "plt.colorbar()\n",
    "for i in range(len(weight_decay_scatter)):\n",
    "    ax.annotate(str('%0.4f' % (colors[i], )), (weight_decay_scatter[i], dropout_scatter[i]))\n",
    "plt.show()"
   ]
  },
  {
   "cell_type": "markdown",
   "metadata": {},
   "source": [
    "### Train child network using distillation"
   ]
  },
  {
   "cell_type": "code",
   "execution_count": 16,
   "metadata": {},
   "outputs": [],
   "source": [
    "num_epochs = 20\n",
    "print_every = 100"
   ]
  },
  {
   "cell_type": "code",
   "execution_count": 19,
   "metadata": {
    "scrolled": true
   },
   "outputs": [
    {
     "name": "stdout",
     "output_type": "stream",
     "text": [
      "Training with hparams, T=2, alpha=1.0, dropout_hidden=0.0, dropout_input=0.0, lr=0.01, lr_decay=0.95, momentum=0.9, weight_decay=1e-05\n",
      "epoch: 0 validation accuracy: 0.067\n",
      "[1,   100/  446] train loss: 1.076 train accuracy: 0.883\n",
      "[1,   200/  446] train loss: 1.264 train accuracy: 0.875\n",
      "[1,   300/  446] train loss: 0.726 train accuracy: 0.922\n",
      "[1,   400/  446] train loss: 1.119 train accuracy: 0.844\n",
      "epoch: 1 validation accuracy: 0.918\n",
      "[2,   100/  446] train loss: 0.530 train accuracy: 0.938\n",
      "[2,   200/  446] train loss: 0.667 train accuracy: 0.953\n",
      "[2,   300/  446] train loss: 0.464 train accuracy: 0.938\n",
      "[2,   400/  446] train loss: 0.503 train accuracy: 0.930\n",
      "epoch: 2 validation accuracy: 0.938\n",
      "[3,   100/  446] train loss: 0.410 train accuracy: 0.945\n",
      "[3,   200/  446] train loss: 0.320 train accuracy: 0.977\n",
      "[3,   300/  446] train loss: 0.370 train accuracy: 0.969\n",
      "[3,   400/  446] train loss: 0.287 train accuracy: 0.961\n",
      "epoch: 3 validation accuracy: 0.937\n",
      "[4,   100/  446] train loss: 0.382 train accuracy: 0.953\n",
      "[4,   200/  446] train loss: 0.246 train accuracy: 0.961\n",
      "[4,   300/  446] train loss: 0.387 train accuracy: 0.938\n",
      "[4,   400/  446] train loss: 0.208 train accuracy: 0.984\n",
      "epoch: 4 validation accuracy: 0.950\n",
      "[5,   100/  446] train loss: 0.239 train accuracy: 0.969\n",
      "[5,   200/  446] train loss: 0.196 train accuracy: 0.977\n",
      "[5,   300/  446] train loss: 0.221 train accuracy: 0.961\n",
      "[5,   400/  446] train loss: 0.437 train accuracy: 0.938\n",
      "epoch: 5 validation accuracy: 0.957\n",
      "[6,   100/  446] train loss: 0.365 train accuracy: 0.953\n",
      "[6,   200/  446] train loss: 0.225 train accuracy: 0.969\n",
      "[6,   300/  446] train loss: 0.280 train accuracy: 0.945\n",
      "[6,   400/  446] train loss: 0.270 train accuracy: 0.961\n",
      "epoch: 6 validation accuracy: 0.958\n",
      "[7,   100/  446] train loss: 0.263 train accuracy: 0.953\n",
      "[7,   200/  446] train loss: 0.312 train accuracy: 0.938\n",
      "[7,   300/  446] train loss: 0.285 train accuracy: 0.945\n",
      "[7,   400/  446] train loss: 0.120 train accuracy: 0.984\n",
      "epoch: 7 validation accuracy: 0.958\n",
      "[8,   100/  446] train loss: 0.286 train accuracy: 0.953\n",
      "[8,   200/  446] train loss: 0.393 train accuracy: 0.953\n",
      "[8,   300/  446] train loss: 0.224 train accuracy: 0.984\n",
      "[8,   400/  446] train loss: 0.245 train accuracy: 0.984\n",
      "epoch: 8 validation accuracy: 0.961\n",
      "[9,   100/  446] train loss: 0.181 train accuracy: 0.992\n",
      "[9,   200/  446] train loss: 0.179 train accuracy: 0.977\n",
      "[9,   300/  446] train loss: 0.258 train accuracy: 0.945\n",
      "[9,   400/  446] train loss: 0.181 train accuracy: 0.984\n",
      "epoch: 9 validation accuracy: 0.961\n",
      "[10,   100/  446] train loss: 0.159 train accuracy: 0.969\n",
      "[10,   200/  446] train loss: 0.254 train accuracy: 0.945\n",
      "[10,   300/  446] train loss: 0.278 train accuracy: 0.969\n",
      "[10,   400/  446] train loss: 0.359 train accuracy: 0.938\n",
      "epoch: 10 validation accuracy: 0.962\n",
      "[11,   100/  446] train loss: 0.224 train accuracy: 0.977\n",
      "[11,   200/  446] train loss: 0.160 train accuracy: 0.984\n",
      "[11,   300/  446] train loss: 0.231 train accuracy: 0.953\n",
      "[11,   400/  446] train loss: 0.184 train accuracy: 0.977\n",
      "epoch: 11 validation accuracy: 0.961\n",
      "[12,   100/  446] train loss: 0.252 train accuracy: 0.977\n",
      "[12,   200/  446] train loss: 0.195 train accuracy: 0.984\n",
      "[12,   300/  446] train loss: 0.123 train accuracy: 0.977\n",
      "[12,   400/  446] train loss: 0.169 train accuracy: 0.992\n",
      "epoch: 12 validation accuracy: 0.960\n",
      "[13,   100/  446] train loss: 0.156 train accuracy: 0.977\n",
      "[13,   200/  446] train loss: 0.159 train accuracy: 0.969\n",
      "[13,   300/  446] train loss: 0.242 train accuracy: 0.945\n",
      "[13,   400/  446] train loss: 0.211 train accuracy: 0.945\n",
      "epoch: 13 validation accuracy: 0.962\n",
      "[14,   100/  446] train loss: 0.186 train accuracy: 0.961\n",
      "[14,   200/  446] train loss: 0.172 train accuracy: 0.977\n",
      "[14,   300/  446] train loss: 0.269 train accuracy: 0.969\n",
      "[14,   400/  446] train loss: 0.131 train accuracy: 0.984\n",
      "epoch: 14 validation accuracy: 0.965\n",
      "[15,   100/  446] train loss: 0.138 train accuracy: 0.977\n",
      "[15,   200/  446] train loss: 0.133 train accuracy: 0.984\n",
      "[15,   300/  446] train loss: 0.249 train accuracy: 0.969\n",
      "[15,   400/  446] train loss: 0.150 train accuracy: 0.984\n",
      "epoch: 15 validation accuracy: 0.965\n",
      "[16,   100/  446] train loss: 0.187 train accuracy: 0.977\n",
      "[16,   200/  446] train loss: 0.283 train accuracy: 0.945\n",
      "[16,   300/  446] train loss: 0.180 train accuracy: 0.953\n",
      "[16,   400/  446] train loss: 0.170 train accuracy: 0.984\n",
      "epoch: 16 validation accuracy: 0.965\n",
      "[17,   100/  446] train loss: 0.128 train accuracy: 0.984\n",
      "[17,   200/  446] train loss: 0.256 train accuracy: 0.969\n",
      "[17,   300/  446] train loss: 0.239 train accuracy: 0.953\n",
      "[17,   400/  446] train loss: 0.258 train accuracy: 0.953\n",
      "epoch: 17 validation accuracy: 0.962\n",
      "[18,   100/  446] train loss: 0.188 train accuracy: 0.961\n",
      "[18,   200/  446] train loss: 0.161 train accuracy: 0.984\n",
      "[18,   300/  446] train loss: 0.203 train accuracy: 0.953\n",
      "[18,   400/  446] train loss: 0.205 train accuracy: 0.953\n",
      "epoch: 18 validation accuracy: 0.964\n",
      "[19,   100/  446] train loss: 0.194 train accuracy: 0.961\n",
      "[19,   200/  446] train loss: 0.188 train accuracy: 0.953\n",
      "[19,   300/  446] train loss: 0.192 train accuracy: 0.977\n",
      "[19,   400/  446] train loss: 0.134 train accuracy: 0.969\n",
      "epoch: 19 validation accuracy: 0.963\n",
      "[20,   100/  446] train loss: 0.151 train accuracy: 0.969\n",
      "[20,   200/  446] train loss: 0.201 train accuracy: 0.969\n",
      "[20,   300/  446] train loss: 0.166 train accuracy: 0.992\n",
      "[20,   400/  446] train loss: 0.238 train accuracy: 0.969\n",
      "epoch: 20 validation accuracy: 0.967\n"
     ]
    }
   ],
   "source": [
    "temperatures = [2]\n",
    "# trade-off between soft-target (st) cross-entropy and true-target (tt) cross-entropy;\n",
    "# loss = alpha * st + (1 - alpha) * tt\n",
    "alphas = [1.0]\n",
    "learning_rates = [1e-2]\n",
    "learning_rate_decays = [0.95]\n",
    "weight_decays = [1e-5]\n",
    "momentums = [0.9]\n",
    "# keeping dropout input = dropout hidden\n",
    "# dropout_probabilities = [(0.2, 0.5)]\n",
    "dropout_probabilities = [(0.0, 0.0)]\n",
    "hparams_list = []\n",
    "for hparam_tuple in itertools.product(alphas, temperatures, dropout_probabilities, weight_decays, learning_rate_decays, \n",
    "                                        momentums, learning_rates):\n",
    "    hparam = {}\n",
    "    hparam['alpha'] = hparam_tuple[0]\n",
    "    hparam['T'] = hparam_tuple[1]\n",
    "    hparam['dropout_input'] = hparam_tuple[2][0]\n",
    "    hparam['dropout_hidden'] = hparam_tuple[2][1]\n",
    "    hparam['weight_decay'] = hparam_tuple[3]\n",
    "    hparam['lr_decay'] = hparam_tuple[4]\n",
    "    hparam['momentum'] = hparam_tuple[5]\n",
    "    hparam['lr'] = hparam_tuple[6]\n",
    "    hparams_list.append(hparam)\n",
    "    hparams_set.add(utils.hparamDictToTuple(hparam))\n",
    "\n",
    "results = {}\n",
    "for hparam in hparams_list:\n",
    "    print('Training with hparams', end='')\n",
    "    utils.printHparam(hparam)\n",
    "    reproducibilitySeed()\n",
    "    child_net = networks.ChildNetworkSmall()\n",
    "    child_net = child_net.to(fast_device)\n",
    "    hparam_tuple = utils.hparamDictToTuple(hparam)\n",
    "    results[hparam_tuple] = utils.trainChildOnHparam(parent_net, child_net, hparam, num_epochs, \n",
    "                                                        train_loader, val_loader, \n",
    "                                                        print_every=print_every, \n",
    "                                                        fast_device=fast_device)\n",
    "    save_path = 'checkpoints_child/' + utils.hparamToString(hparam) + '_final.tar'\n",
    "    torch.save({'results' : results[hparam_tuple], \n",
    "                'model_state_dict' : child_net.state_dict(), \n",
    "                'epoch' : num_epochs}, save_path)\n"
   ]
  },
  {
   "cell_type": "code",
   "execution_count": 20,
   "metadata": {},
   "outputs": [
    {
     "name": "stdout",
     "output_type": "stream",
     "text": [
      "child test accuracy (w distillation):  0.9682\n"
     ]
    }
   ],
   "source": [
    "# Calculate child test accuracy\n",
    "test_accuracy = utils.getTestAccuracy(child_net, test_loader, fast_device)\n",
    "print('child test accuracy (w distillation): ', test_accuracy)"
   ]
  },
  {
   "cell_type": "code",
   "execution_count": 25,
   "metadata": {},
   "outputs": [
    {
     "data": {
      "image/png": "[encoded data removed]",
      "text/plain": [
       "<Figure size 432x288 with 1 Axes>"
      ]
     },
     "metadata": {
      "needs_background": "light"
     },
     "output_type": "display_data"
    },
    {
     "name": "stdout",
     "output_type": "stream",
     "text": [
      "final epoch train accuracy: 0.9739205756929638\n"
     ]
    }
   ],
   "source": [
    "# plot train accuracy\n",
    "train_acc_per_epoch = utils.getTrainAccuracyPerEpoch(results[hparam_tuple]['train_acc'], len(train_val_loader))\n",
    "plt.plot(train_acc_per_epoch)\n",
    "plt.show()\n",
    "print('final epoch train accuracy:', train_acc_per_epoch[-1])"
   ]
  },
  {
   "cell_type": "markdown",
   "metadata": {},
   "source": [
    "### Hyperparameter search utils"
   ]
  },
  {
   "cell_type": "code",
   "execution_count": 18,
   "metadata": {},
   "outputs": [
    {
     "data": {
      "image/png": "[encoded data removed]",
      "text/plain": [
       "<Figure size 432x288 with 2 Axes>"
      ]
     },
     "metadata": {
      "needs_background": "light"
     },
     "output_type": "display_data"
    }
   ],
   "source": [
    "# plt.rcParams['figure.figsize'] = [10, 5]\n",
    "T_scatter = [math.log(h['T']) for h in hparams_list]\n",
    "alpha_scatter = [h['alpha'] for h in hparams_list]\n",
    "colors = []\n",
    "for i in range(len(hparams_list)):\n",
    "    cur_hparam_tuple = utils.hparamDictToTuple(hparams_list[i])\n",
    "    colors.append(results[cur_hparam_tuple]['val_acc'][-1])\n",
    "    \n",
    "marker_size = 100\n",
    "fig, ax = plt.subplots()\n",
    "plt.scatter(T_scatter, alpha_scatter, marker_size, c=colors, edgecolors='black')\n",
    "plt.colorbar()\n",
    "for i in range(len(T_scatter)):\n",
    "    ax.annotate(str('%0.4f' % (colors[i], )), (T_scatter[i], alpha_scatter[i]))\n",
    "plt.show()"
   ]
  },
  {
   "cell_type": "code",
   "execution_count": null,
   "metadata": {},
   "outputs": [],
   "source": [
    "with open('child_hparams_set.dat', 'wb') as f:\n",
    "    pickle.dump(hparams_set, f)"
   ]
  }
 ],
 "metadata": {
  "kernelspec": {
   "display_name": "Python 3",
   "language": "python",
   "name": "python3"
  },
  "language_info": {
   "codemirror_mode": {
    "name": "ipython",
    "version": 3
   },
   "file_extension": ".py",
   "mimetype": "text/x-python",
   "name": "python",
   "nbconvert_exporter": "python",
   "pygments_lexer": "ipython3",
   "version": "3.6.6"
  }
 },
 "nbformat": 4,
 "nbformat_minor": 2
}
