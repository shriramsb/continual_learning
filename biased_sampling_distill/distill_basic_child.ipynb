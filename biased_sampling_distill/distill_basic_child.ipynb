{
 "cells": [
  {
   "cell_type": "markdown",
   "metadata": {},
   "source": [
    "### Import required packages and limit GPU usage"
   ]
  },
  {
   "cell_type": "code",
   "execution_count": 1,
   "metadata": {
    "code_folding": []
   },
   "outputs": [],
   "source": [
    "import numpy as np\n",
    "import math\n",
    "\n",
    "%matplotlib inline\n",
    "import matplotlib.pyplot as plt\n",
    "\n",
    "import pickle\n",
    "import argparse\n",
    "import time\n",
    "import itertools\n",
    "from copy import deepcopy\n",
    "\n",
    "import torch\n",
    "import torch.nn as nn\n",
    "import torch.nn.functional as F\n",
    "import torch.optim as optim\n",
    "\n",
    "import networks\n",
    "import utils\n",
    "\n",
    "use_gpu = True\n",
    "\n",
    "if use_gpu:\n",
    "    import os\n",
    "    \n",
    "%load_ext autoreload\n",
    "%autoreload 2"
   ]
  },
  {
   "cell_type": "code",
   "execution_count": 2,
   "metadata": {},
   "outputs": [],
   "source": [
    "gpu_id = 2\n",
    "cpu_device = torch.device('cpu')\n",
    "fast_device = torch.device('cpu')\n",
    "if use_gpu:\n",
    "    os.environ['CUDA_VISIBLE_DEVICES'] = '0,1,2'\n",
    "    fast_device = torch.device('cuda:' + str(gpu_id))"
   ]
  },
  {
   "cell_type": "code",
   "execution_count": 3,
   "metadata": {},
   "outputs": [],
   "source": [
    "# Ensure reproducibility\n",
    "def reproducibilitySeed():\n",
    "    torch_init_seed = 0\n",
    "    torch.manual_seed(torch_init_seed)\n",
    "    numpy_init_seed = 0\n",
    "    np.random.seed(numpy_init_seed)\n",
    "    if use_gpu:\n",
    "        torch.backends.cudnn.deterministic = True\n",
    "        torch.backends.cudnn.benchmark = False\n",
    "\n",
    "reproducibilitySeed()"
   ]
  },
  {
   "cell_type": "markdown",
   "metadata": {},
   "source": [
    "### Load dataset"
   ]
  },
  {
   "cell_type": "code",
   "execution_count": 4,
   "metadata": {},
   "outputs": [],
   "source": [
    "import torchvision\n",
    "import torchvision.transforms as transforms\n",
    "\n",
    "transform = transforms.Compose(\n",
    "                [\n",
    "                    transforms.ToTensor(),\n",
    "                    transforms.Normalize((0.5, 0.5), (0.5, 0.5))\n",
    "                ]\n",
    "            )\n",
    "\n",
    "train_val_dataset = torchvision.datasets.MNIST(root='./MNIST_dataset/', train=True, \n",
    "                                            download=True, transform=transform)\n",
    "\n",
    "test_dataset = torchvision.datasets.MNIST(root='./MNIST_dataset/', train=False, \n",
    "                                            download=True, transform=transform)\n",
    "\n",
    "num_train = int(1.0 * len(train_val_dataset) * 95 / 100)\n",
    "num_val = len(train_val_dataset) - num_train\n",
    "train_dataset, val_dataset = torch.utils.data.random_split(train_val_dataset, [num_train, num_val])\n",
    "\n",
    "batch_size = 128\n",
    "train_val_loader = torch.utils.data.DataLoader(train_val_dataset, batch_size=128, shuffle=True, num_workers=2)\n",
    "train_loader = torch.utils.data.DataLoader(train_dataset, batch_size=128, shuffle=True, num_workers=2)\n",
    "val_loader = torch.utils.data.DataLoader(val_dataset, batch_size=128, shuffle=False, num_workers=2)\n",
    "test_loader = torch.utils.data.DataLoader(test_dataset, batch_size=128, shuffle=False, num_workers=2)"
   ]
  },
  {
   "cell_type": "markdown",
   "metadata": {},
   "source": [
    "### Load parent network"
   ]
  },
  {
   "cell_type": "code",
   "execution_count": 5,
   "metadata": {},
   "outputs": [],
   "source": [
    "learning_rates = [1e-2]\n",
    "learning_rate_decays = [0.95]\n",
    "weight_decays = [1e-5]\n",
    "momentums = [0.9]\n",
    "# keeping dropout input = dropout hidden\n",
    "dropout_probabilities = [(0.2, 0.5)]\n",
    "hparams_list = []\n",
    "for hparam_tuple in itertools.product(dropout_probabilities, weight_decays, learning_rate_decays, \n",
    "                                        momentums, learning_rates):\n",
    "    hparam = {}\n",
    "    hparam['dropout_input'] = hparam_tuple[0][0]\n",
    "    hparam['dropout_hidden'] = hparam_tuple[0][1]\n",
    "    hparam['weight_decay'] = hparam_tuple[1]\n",
    "    hparam['lr_decay'] = hparam_tuple[2]\n",
    "    hparam['momentum'] = hparam_tuple[3]\n",
    "    hparam['lr'] = hparam_tuple[4]\n",
    "    hparams_list.append(hparam)\n",
    "load_path = 'checkpoints/' + utils.hparamToString(hparams_list[0]) + '_final.tar'\n",
    "parent_net = networks.ParentNetwork()\n",
    "parent_net.load_state_dict(torch.load(load_path, map_location=fast_device)['model_state_dict'])\n",
    "parent_net = parent_net.to(fast_device)"
   ]
  },
  {
   "cell_type": "code",
   "execution_count": 6,
   "metadata": {},
   "outputs": [
    {
     "name": "stdout",
     "output_type": "stream",
     "text": [
      "parent test accuracy:  0.9843\n"
     ]
    }
   ],
   "source": [
    "# Calculate parent test accuracy\n",
    "test_accuracy = utils.getTestAccuracy(parent_net, test_loader, fast_device)\n",
    "print('parent test accuracy: ', test_accuracy)"
   ]
  },
  {
   "cell_type": "markdown",
   "metadata": {},
   "source": [
    "### Train child network without distillation"
   ]
  },
  {
   "cell_type": "code",
   "execution_count": 14,
   "metadata": {},
   "outputs": [],
   "source": [
    "num_epochs = 60\n",
    "print_every = 100"
   ]
  },
  {
   "cell_type": "code",
   "execution_count": 19,
   "metadata": {},
   "outputs": [],
   "source": [
    "hparams_set = set()"
   ]
  },
  {
   "cell_type": "code",
   "execution_count": 20,
   "metadata": {},
   "outputs": [],
   "source": [
    "temperatures = [1]\n",
    "# trade-off between soft-target (st) cross-entropy and true-target (tt) cross-entropy;\n",
    "# loss = alpha * st + (1 - alpha) * tt\n",
    "alphas = [0.0]\n",
    "learning_rates = [1e-2]\n",
    "learning_rate_decays = [0.95]\n",
    "weight_decays = [1e-5]\n",
    "momentums = [0.9]\n",
    "# keeping dropout input = dropout hidden\n",
    "# dropout_probabilities = [(0.0, 0.0), (0.2, 0.5)]\n",
    "dropout_probabilities = [(0.0, 0.0)]\n",
    "hparams_list = []\n",
    "for hparam_tuple in itertools.product(alphas, temperatures, dropout_probabilities, weight_decays, learning_rate_decays, \n",
    "                                        momentums, learning_rates):\n",
    "    hparam = {}\n",
    "    hparam['alpha'] = hparam_tuple[0]\n",
    "    hparam['T'] = hparam_tuple[1]\n",
    "    hparam['dropout_input'] = hparam_tuple[2][0]\n",
    "    hparam['dropout_hidden'] = hparam_tuple[2][1]\n",
    "    hparam['weight_decay'] = hparam_tuple[3]\n",
    "    hparam['lr_decay'] = hparam_tuple[4]\n",
    "    hparam['momentum'] = hparam_tuple[5]\n",
    "    hparam['lr'] = hparam_tuple[6]\n",
    "    hparams_list.append(hparam)\n",
    "\n",
    "results = {}\n",
    "for hparam in hparams_list:\n",
    "    print('Training with hparams', end='')\n",
    "    utils.printHparam(hparam)\n",
    "    reproducibilitySeed()\n",
    "    child_net = networks.ChildNetwork()\n",
    "    child_net = child_net.to(fast_device)\n",
    "    hparam_tuple = utils.hparamDictToTuple(hparam)\n",
    "    results[hparam_tuple] = utils.trainChildOnHparam(parent_net, child_net, hparam, num_epochs, \n",
    "                                                        train_val_loader, None, \n",
    "                                                        print_every=print_every, \n",
    "                                                        fast_device=fast_device)\n",
    "    save_path = 'checkpoints_child/' + utils.hparamToString(hparam) + '_final.tar'\n",
    "    torch.save({'results' : results[hparam_tuple], \n",
    "                'model_state_dict' : child_net.state_dict(), \n",
    "                'epoch' : num_epochs}, save_path)"
   ]
  },
  {
   "cell_type": "code",
   "execution_count": 16,
   "metadata": {},
   "outputs": [
    {
     "name": "stdout",
     "output_type": "stream",
     "text": [
      "child test accuracy (w/o distillation):  0.9702\n"
     ]
    }
   ],
   "source": [
    "# Calculate child test accuracy\n",
    "test_accuracy = utils.getTestAccuracy(child_net, test_loader, fast_device)\n",
    "print('child test accuracy (w/o distillation): ', test_accuracy)"
   ]
  },
  {
   "cell_type": "markdown",
   "metadata": {
    "heading_collapsed": true
   },
   "source": [
    "### Hyperparameter search utils"
   ]
  },
  {
   "cell_type": "code",
   "execution_count": 9,
   "metadata": {
    "hidden": true
   },
   "outputs": [
    {
     "data": {
      "image/png": "[encoded data removed]",
      "text/plain": [
       "<Figure size 432x288 with 2 Axes>"
      ]
     },
     "metadata": {
      "needs_background": "light"
     },
     "output_type": "display_data"
    }
   ],
   "source": [
    "# plt.rcParams['figure.figsize'] = [10, 5]\n",
    "weight_decay_scatter = ([math.log10(h['weight_decay']) if h['weight_decay'] > 0 else -6 for h in hparams_list])\n",
    "dropout_scatter = [int(h['dropout_input'] == 0.2) for h in hparams_list]\n",
    "colors = []\n",
    "for i in range(len(hparams_list)):\n",
    "    cur_hparam_tuple = utils.hparamDictToTuple(hparams_list[i])\n",
    "    colors.append(results[cur_hparam_tuple]['val_acc'][-1])\n",
    "    \n",
    "marker_size = 100\n",
    "fig, ax = plt.subplots()\n",
    "plt.scatter(weight_decay_scatter, dropout_scatter, marker_size, c=colors, edgecolors='black')\n",
    "plt.colorbar()\n",
    "for i in range(len(weight_decay_scatter)):\n",
    "    ax.annotate(str('%0.4f' % (colors[i], )), (weight_decay_scatter[i], dropout_scatter[i]))\n",
    "plt.show()"
   ]
  },
  {
   "cell_type": "markdown",
   "metadata": {},
   "source": [
    "### Train child network using distillation"
   ]
  },
  {
   "cell_type": "code",
   "execution_count": 31,
   "metadata": {},
   "outputs": [],
   "source": [
    "num_epochs = 60\n",
    "print_every = 100"
   ]
  },
  {
   "cell_type": "code",
   "execution_count": 36,
   "metadata": {
    "scrolled": true
   },
   "outputs": [
    {
     "name": "stdout",
     "output_type": "stream",
     "text": [
      "Training with hparams, T=2, alpha=1.0, dropout_hidden=0.0, dropout_input=0.0, lr=0.01, lr_decay=0.95, momentum=0.9, weight_decay=1e-05\n",
      "[1,   100/  469] train loss: 1.754 train accuracy: 0.852\n",
      "[1,   200/  469] train loss: 0.637 train accuracy: 0.945\n",
      "[1,   300/  469] train loss: 0.814 train accuracy: 0.906\n",
      "[1,   400/  469] train loss: 0.503 train accuracy: 0.945\n",
      "[2,   100/  469] train loss: 0.538 train accuracy: 0.938\n",
      "[2,   200/  469] train loss: 0.357 train accuracy: 0.945\n",
      "[2,   300/  469] train loss: 0.402 train accuracy: 0.945\n",
      "[2,   400/  469] train loss: 0.411 train accuracy: 0.930\n",
      "[3,   100/  469] train loss: 0.432 train accuracy: 0.930\n",
      "[3,   200/  469] train loss: 0.268 train accuracy: 0.969\n",
      "[3,   300/  469] train loss: 0.289 train accuracy: 0.945\n",
      "[3,   400/  469] train loss: 0.243 train accuracy: 0.969\n",
      "[4,   100/  469] train loss: 0.278 train accuracy: 0.961\n",
      "[4,   200/  469] train loss: 0.336 train accuracy: 0.938\n",
      "[4,   300/  469] train loss: 0.220 train accuracy: 0.969\n",
      "[4,   400/  469] train loss: 0.166 train accuracy: 0.984\n",
      "[5,   100/  469] train loss: 0.206 train accuracy: 0.969\n",
      "[5,   200/  469] train loss: 0.263 train accuracy: 0.945\n",
      "[5,   300/  469] train loss: 0.209 train accuracy: 0.977\n",
      "[5,   400/  469] train loss: 0.219 train accuracy: 0.969\n",
      "[6,   100/  469] train loss: 0.275 train accuracy: 0.945\n",
      "[6,   200/  469] train loss: 0.183 train accuracy: 0.977\n",
      "[6,   300/  469] train loss: 0.162 train accuracy: 0.992\n",
      "[6,   400/  469] train loss: 0.129 train accuracy: 0.984\n",
      "[7,   100/  469] train loss: 0.284 train accuracy: 0.961\n",
      "[7,   200/  469] train loss: 0.152 train accuracy: 0.969\n",
      "[7,   300/  469] train loss: 0.182 train accuracy: 0.977\n",
      "[7,   400/  469] train loss: 0.232 train accuracy: 0.984\n",
      "[8,   100/  469] train loss: 0.157 train accuracy: 0.969\n",
      "[8,   200/  469] train loss: 0.092 train accuracy: 1.000\n",
      "[8,   300/  469] train loss: 0.197 train accuracy: 0.953\n",
      "[8,   400/  469] train loss: 0.212 train accuracy: 0.953\n",
      "[9,   100/  469] train loss: 0.118 train accuracy: 0.977\n",
      "[9,   200/  469] train loss: 0.190 train accuracy: 0.977\n",
      "[9,   300/  469] train loss: 0.135 train accuracy: 0.953\n",
      "[9,   400/  469] train loss: 0.235 train accuracy: 0.945\n",
      "[10,   100/  469] train loss: 0.163 train accuracy: 0.953\n",
      "[10,   200/  469] train loss: 0.169 train accuracy: 0.938\n",
      "[10,   300/  469] train loss: 0.153 train accuracy: 0.969\n",
      "[10,   400/  469] train loss: 0.175 train accuracy: 0.961\n",
      "[11,   100/  469] train loss: 0.218 train accuracy: 0.961\n",
      "[11,   200/  469] train loss: 0.190 train accuracy: 0.969\n",
      "[11,   300/  469] train loss: 0.144 train accuracy: 0.938\n",
      "[11,   400/  469] train loss: 0.171 train accuracy: 0.969\n",
      "[12,   100/  469] train loss: 0.207 train accuracy: 0.977\n",
      "[12,   200/  469] train loss: 0.211 train accuracy: 0.945\n",
      "[12,   300/  469] train loss: 0.146 train accuracy: 0.969\n",
      "[12,   400/  469] train loss: 0.151 train accuracy: 0.969\n",
      "[13,   100/  469] train loss: 0.101 train accuracy: 1.000\n",
      "[13,   200/  469] train loss: 0.078 train accuracy: 0.992\n",
      "[13,   300/  469] train loss: 0.129 train accuracy: 0.977\n",
      "[13,   400/  469] train loss: 0.098 train accuracy: 0.969\n",
      "[14,   100/  469] train loss: 0.138 train accuracy: 0.984\n",
      "[14,   200/  469] train loss: 0.117 train accuracy: 0.984\n",
      "[14,   300/  469] train loss: 0.186 train accuracy: 0.945\n",
      "[14,   400/  469] train loss: 0.116 train accuracy: 0.984\n",
      "[15,   100/  469] train loss: 0.118 train accuracy: 0.977\n",
      "[15,   200/  469] train loss: 0.124 train accuracy: 0.984\n",
      "[15,   300/  469] train loss: 0.080 train accuracy: 0.992\n",
      "[15,   400/  469] train loss: 0.132 train accuracy: 0.977\n",
      "[16,   100/  469] train loss: 0.096 train accuracy: 0.992\n",
      "[16,   200/  469] train loss: 0.147 train accuracy: 0.977\n",
      "[16,   300/  469] train loss: 0.149 train accuracy: 0.977\n",
      "[16,   400/  469] train loss: 0.131 train accuracy: 0.969\n",
      "[17,   100/  469] train loss: 0.104 train accuracy: 0.984\n",
      "[17,   200/  469] train loss: 0.074 train accuracy: 0.992\n",
      "[17,   300/  469] train loss: 0.089 train accuracy: 0.992\n",
      "[17,   400/  469] train loss: 0.112 train accuracy: 0.969\n",
      "[18,   100/  469] train loss: 0.153 train accuracy: 0.984\n",
      "[18,   200/  469] train loss: 0.109 train accuracy: 0.984\n",
      "[18,   300/  469] train loss: 0.069 train accuracy: 0.992\n",
      "[18,   400/  469] train loss: 0.065 train accuracy: 1.000\n",
      "[19,   100/  469] train loss: 0.186 train accuracy: 0.953\n",
      "[19,   200/  469] train loss: 0.152 train accuracy: 0.977\n",
      "[19,   300/  469] train loss: 0.106 train accuracy: 0.977\n",
      "[19,   400/  469] train loss: 0.088 train accuracy: 0.992\n",
      "[20,   100/  469] train loss: 0.132 train accuracy: 0.984\n",
      "[20,   200/  469] train loss: 0.142 train accuracy: 0.961\n",
      "[20,   300/  469] train loss: 0.081 train accuracy: 0.977\n",
      "[20,   400/  469] train loss: 0.111 train accuracy: 0.969\n",
      "[21,   100/  469] train loss: 0.120 train accuracy: 0.977\n",
      "[21,   200/  469] train loss: 0.111 train accuracy: 0.984\n",
      "[21,   300/  469] train loss: 0.112 train accuracy: 0.977\n",
      "[21,   400/  469] train loss: 0.104 train accuracy: 0.977\n",
      "[22,   100/  469] train loss: 0.126 train accuracy: 0.992\n",
      "[22,   200/  469] train loss: 0.115 train accuracy: 0.977\n",
      "[22,   300/  469] train loss: 0.105 train accuracy: 0.992\n",
      "[22,   400/  469] train loss: 0.124 train accuracy: 0.977\n",
      "[23,   100/  469] train loss: 0.116 train accuracy: 0.984\n",
      "[23,   200/  469] train loss: 0.075 train accuracy: 1.000\n",
      "[23,   300/  469] train loss: 0.124 train accuracy: 0.992\n",
      "[23,   400/  469] train loss: 0.115 train accuracy: 0.984\n",
      "[24,   100/  469] train loss: 0.076 train accuracy: 0.977\n",
      "[24,   200/  469] train loss: 0.055 train accuracy: 0.984\n",
      "[24,   300/  469] train loss: 0.125 train accuracy: 0.977\n",
      "[24,   400/  469] train loss: 0.108 train accuracy: 0.992\n",
      "[25,   100/  469] train loss: 0.114 train accuracy: 0.977\n",
      "[25,   200/  469] train loss: 0.155 train accuracy: 0.961\n",
      "[25,   300/  469] train loss: 0.114 train accuracy: 0.992\n",
      "[25,   400/  469] train loss: 0.106 train accuracy: 0.992\n",
      "[26,   100/  469] train loss: 0.061 train accuracy: 1.000\n",
      "[26,   200/  469] train loss: 0.071 train accuracy: 0.984\n",
      "[26,   300/  469] train loss: 0.122 train accuracy: 0.969\n",
      "[26,   400/  469] train loss: 0.084 train accuracy: 0.992\n",
      "[27,   100/  469] train loss: 0.075 train accuracy: 0.992\n",
      "[27,   200/  469] train loss: 0.087 train accuracy: 0.977\n",
      "[27,   300/  469] train loss: 0.096 train accuracy: 0.992\n",
      "[27,   400/  469] train loss: 0.089 train accuracy: 0.977\n",
      "[28,   100/  469] train loss: 0.070 train accuracy: 1.000\n",
      "[28,   200/  469] train loss: 0.116 train accuracy: 0.969\n",
      "[28,   300/  469] train loss: 0.145 train accuracy: 0.953\n",
      "[28,   400/  469] train loss: 0.070 train accuracy: 0.992\n",
      "[29,   100/  469] train loss: 0.090 train accuracy: 0.984\n",
      "[29,   200/  469] train loss: 0.101 train accuracy: 0.984\n",
      "[29,   300/  469] train loss: 0.126 train accuracy: 0.969\n",
      "[29,   400/  469] train loss: 0.058 train accuracy: 0.992\n",
      "[30,   100/  469] train loss: 0.114 train accuracy: 0.984\n",
      "[30,   200/  469] train loss: 0.108 train accuracy: 0.977\n",
      "[30,   300/  469] train loss: 0.075 train accuracy: 0.984\n",
      "[30,   400/  469] train loss: 0.103 train accuracy: 0.992\n",
      "[31,   100/  469] train loss: 0.120 train accuracy: 0.992\n",
      "[31,   200/  469] train loss: 0.104 train accuracy: 0.977\n",
      "[31,   300/  469] train loss: 0.092 train accuracy: 0.977\n",
      "[31,   400/  469] train loss: 0.085 train accuracy: 0.992\n",
      "[32,   100/  469] train loss: 0.116 train accuracy: 0.984\n",
      "[32,   200/  469] train loss: 0.080 train accuracy: 0.984\n",
      "[32,   300/  469] train loss: 0.139 train accuracy: 0.969\n",
      "[32,   400/  469] train loss: 0.086 train accuracy: 0.992\n",
      "[33,   100/  469] train loss: 0.136 train accuracy: 0.969\n",
      "[33,   200/  469] train loss: 0.083 train accuracy: 0.984\n",
      "[33,   300/  469] train loss: 0.124 train accuracy: 0.977\n",
      "[33,   400/  469] train loss: 0.058 train accuracy: 0.992\n",
      "[34,   100/  469] train loss: 0.096 train accuracy: 0.992\n",
      "[34,   200/  469] train loss: 0.067 train accuracy: 0.977\n",
      "[34,   300/  469] train loss: 0.114 train accuracy: 0.977\n",
      "[34,   400/  469] train loss: 0.084 train accuracy: 0.992\n",
      "[35,   100/  469] train loss: 0.101 train accuracy: 0.984\n",
      "[35,   200/  469] train loss: 0.086 train accuracy: 0.984\n",
      "[35,   300/  469] train loss: 0.093 train accuracy: 0.984\n",
      "[35,   400/  469] train loss: 0.122 train accuracy: 0.961\n"
     ]
    },
    {
     "name": "stdout",
     "output_type": "stream",
     "text": [
      "[36,   100/  469] train loss: 0.077 train accuracy: 0.992\n",
      "[36,   200/  469] train loss: 0.071 train accuracy: 0.984\n",
      "[36,   300/  469] train loss: 0.092 train accuracy: 0.984\n",
      "[36,   400/  469] train loss: 0.090 train accuracy: 0.977\n",
      "[37,   100/  469] train loss: 0.069 train accuracy: 0.992\n",
      "[37,   200/  469] train loss: 0.141 train accuracy: 0.977\n",
      "[37,   300/  469] train loss: 0.079 train accuracy: 0.992\n",
      "[37,   400/  469] train loss: 0.085 train accuracy: 0.992\n",
      "[38,   100/  469] train loss: 0.074 train accuracy: 0.977\n",
      "[38,   200/  469] train loss: 0.088 train accuracy: 0.992\n",
      "[38,   300/  469] train loss: 0.068 train accuracy: 0.992\n",
      "[38,   400/  469] train loss: 0.136 train accuracy: 0.953\n",
      "[39,   100/  469] train loss: 0.100 train accuracy: 0.969\n",
      "[39,   200/  469] train loss: 0.142 train accuracy: 0.961\n",
      "[39,   300/  469] train loss: 0.079 train accuracy: 0.992\n",
      "[39,   400/  469] train loss: 0.066 train accuracy: 0.984\n",
      "[40,   100/  469] train loss: 0.089 train accuracy: 0.984\n",
      "[40,   200/  469] train loss: 0.080 train accuracy: 0.992\n",
      "[40,   300/  469] train loss: 0.057 train accuracy: 0.984\n",
      "[40,   400/  469] train loss: 0.080 train accuracy: 0.992\n",
      "[41,   100/  469] train loss: 0.078 train accuracy: 0.984\n",
      "[41,   200/  469] train loss: 0.121 train accuracy: 0.969\n",
      "[41,   300/  469] train loss: 0.072 train accuracy: 1.000\n",
      "[41,   400/  469] train loss: 0.082 train accuracy: 0.984\n",
      "[42,   100/  469] train loss: 0.097 train accuracy: 0.977\n",
      "[42,   200/  469] train loss: 0.140 train accuracy: 0.969\n",
      "[42,   300/  469] train loss: 0.094 train accuracy: 0.992\n",
      "[42,   400/  469] train loss: 0.120 train accuracy: 0.977\n",
      "[43,   100/  469] train loss: 0.091 train accuracy: 0.992\n",
      "[43,   200/  469] train loss: 0.081 train accuracy: 1.000\n",
      "[43,   300/  469] train loss: 0.097 train accuracy: 0.984\n",
      "[43,   400/  469] train loss: 0.104 train accuracy: 0.992\n",
      "[44,   100/  469] train loss: 0.073 train accuracy: 0.992\n",
      "[44,   200/  469] train loss: 0.113 train accuracy: 0.969\n",
      "[44,   300/  469] train loss: 0.077 train accuracy: 0.992\n",
      "[44,   400/  469] train loss: 0.069 train accuracy: 0.992\n",
      "[45,   100/  469] train loss: 0.107 train accuracy: 0.953\n",
      "[45,   200/  469] train loss: 0.111 train accuracy: 0.977\n",
      "[45,   300/  469] train loss: 0.076 train accuracy: 0.992\n",
      "[45,   400/  469] train loss: 0.087 train accuracy: 0.992\n",
      "[46,   100/  469] train loss: 0.113 train accuracy: 0.984\n",
      "[46,   200/  469] train loss: 0.086 train accuracy: 0.977\n",
      "[46,   300/  469] train loss: 0.074 train accuracy: 0.992\n",
      "[46,   400/  469] train loss: 0.066 train accuracy: 0.984\n",
      "[47,   100/  469] train loss: 0.084 train accuracy: 0.984\n",
      "[47,   200/  469] train loss: 0.120 train accuracy: 0.953\n",
      "[47,   300/  469] train loss: 0.094 train accuracy: 0.984\n",
      "[47,   400/  469] train loss: 0.082 train accuracy: 0.984\n",
      "[48,   100/  469] train loss: 0.107 train accuracy: 0.969\n",
      "[48,   200/  469] train loss: 0.095 train accuracy: 0.977\n",
      "[48,   300/  469] train loss: 0.071 train accuracy: 0.992\n",
      "[48,   400/  469] train loss: 0.116 train accuracy: 0.969\n",
      "[49,   100/  469] train loss: 0.068 train accuracy: 0.984\n",
      "[49,   200/  469] train loss: 0.124 train accuracy: 0.961\n",
      "[49,   300/  469] train loss: 0.082 train accuracy: 0.992\n",
      "[49,   400/  469] train loss: 0.073 train accuracy: 0.977\n",
      "[50,   100/  469] train loss: 0.083 train accuracy: 0.969\n",
      "[50,   200/  469] train loss: 0.056 train accuracy: 1.000\n",
      "[50,   300/  469] train loss: 0.107 train accuracy: 0.969\n",
      "[50,   400/  469] train loss: 0.052 train accuracy: 0.977\n",
      "[51,   100/  469] train loss: 0.088 train accuracy: 0.977\n",
      "[51,   200/  469] train loss: 0.103 train accuracy: 0.977\n",
      "[51,   300/  469] train loss: 0.051 train accuracy: 1.000\n",
      "[51,   400/  469] train loss: 0.085 train accuracy: 0.984\n",
      "[52,   100/  469] train loss: 0.105 train accuracy: 0.977\n",
      "[52,   200/  469] train loss: 0.098 train accuracy: 0.953\n",
      "[52,   300/  469] train loss: 0.086 train accuracy: 0.984\n",
      "[52,   400/  469] train loss: 0.084 train accuracy: 0.984\n",
      "[53,   100/  469] train loss: 0.108 train accuracy: 0.977\n",
      "[53,   200/  469] train loss: 0.106 train accuracy: 0.984\n",
      "[53,   300/  469] train loss: 0.135 train accuracy: 0.984\n",
      "[53,   400/  469] train loss: 0.071 train accuracy: 0.992\n",
      "[54,   100/  469] train loss: 0.080 train accuracy: 0.984\n",
      "[54,   200/  469] train loss: 0.071 train accuracy: 0.969\n",
      "[54,   300/  469] train loss: 0.123 train accuracy: 0.969\n",
      "[54,   400/  469] train loss: 0.092 train accuracy: 0.977\n",
      "[55,   100/  469] train loss: 0.082 train accuracy: 0.984\n",
      "[55,   200/  469] train loss: 0.086 train accuracy: 0.984\n",
      "[55,   300/  469] train loss: 0.114 train accuracy: 0.977\n",
      "[55,   400/  469] train loss: 0.069 train accuracy: 0.992\n",
      "[56,   100/  469] train loss: 0.080 train accuracy: 0.984\n",
      "[56,   200/  469] train loss: 0.079 train accuracy: 0.984\n",
      "[56,   300/  469] train loss: 0.083 train accuracy: 0.992\n",
      "[56,   400/  469] train loss: 0.060 train accuracy: 1.000\n",
      "[57,   100/  469] train loss: 0.102 train accuracy: 0.961\n",
      "[57,   200/  469] train loss: 0.074 train accuracy: 1.000\n",
      "[57,   300/  469] train loss: 0.093 train accuracy: 0.938\n",
      "[57,   400/  469] train loss: 0.061 train accuracy: 0.984\n",
      "[58,   100/  469] train loss: 0.055 train accuracy: 0.992\n",
      "[58,   200/  469] train loss: 0.071 train accuracy: 0.992\n",
      "[58,   300/  469] train loss: 0.127 train accuracy: 0.961\n",
      "[58,   400/  469] train loss: 0.110 train accuracy: 0.992\n",
      "[59,   100/  469] train loss: 0.097 train accuracy: 0.984\n",
      "[59,   200/  469] train loss: 0.155 train accuracy: 0.969\n",
      "[59,   300/  469] train loss: 0.060 train accuracy: 0.992\n",
      "[59,   400/  469] train loss: 0.112 train accuracy: 0.961\n",
      "[60,   100/  469] train loss: 0.096 train accuracy: 0.984\n",
      "[60,   200/  469] train loss: 0.105 train accuracy: 0.977\n",
      "[60,   300/  469] train loss: 0.069 train accuracy: 0.992\n",
      "[60,   400/  469] train loss: 0.079 train accuracy: 0.992\n"
     ]
    }
   ],
   "source": [
    "temperatures = [2]\n",
    "# trade-off between soft-target (st) cross-entropy and true-target (tt) cross-entropy;\n",
    "# loss = alpha * st + (1 - alpha) * tt\n",
    "alphas = [1.0]\n",
    "learning_rates = [1e-2]\n",
    "learning_rate_decays = [0.95]\n",
    "weight_decays = [1e-5]\n",
    "momentums = [0.9]\n",
    "# keeping dropout input = dropout hidden\n",
    "# dropout_probabilities = [(0.2, 0.5)]\n",
    "dropout_probabilities = [(0.0, 0.0)]\n",
    "hparams_list = []\n",
    "for hparam_tuple in itertools.product(alphas, temperatures, dropout_probabilities, weight_decays, learning_rate_decays, \n",
    "                                        momentums, learning_rates):\n",
    "    hparam = {}\n",
    "    hparam['alpha'] = hparam_tuple[0]\n",
    "    hparam['T'] = hparam_tuple[1]\n",
    "    hparam['dropout_input'] = hparam_tuple[2][0]\n",
    "    hparam['dropout_hidden'] = hparam_tuple[2][1]\n",
    "    hparam['weight_decay'] = hparam_tuple[3]\n",
    "    hparam['lr_decay'] = hparam_tuple[4]\n",
    "    hparam['momentum'] = hparam_tuple[5]\n",
    "    hparam['lr'] = hparam_tuple[6]\n",
    "    hparams_list.append(hparam)\n",
    "    hparams_set.add(utils.hparamDictToTuple(hparam))\n",
    "\n",
    "results = {}\n",
    "for hparam in hparams_list:\n",
    "    print('Training with hparams', end='')\n",
    "    utils.printHparam(hparam)\n",
    "    reproducibilitySeed()\n",
    "    child_net = networks.ChildNetwork()\n",
    "    child_net = child_net.to(fast_device)\n",
    "    hparam_tuple = utils.hparamDictToTuple(hparam)\n",
    "    results[hparam_tuple] = utils.trainChildOnHparam(parent_net, child_net, hparam, num_epochs, \n",
    "                                                        train_val_loader, None, \n",
    "                                                        print_every=print_every, \n",
    "                                                        fast_device=fast_device)\n",
    "    save_path = 'checkpoints_child/' + utils.hparamToString(hparam) + '_final.tar'\n",
    "    torch.save({'results' : results[hparam_tuple], \n",
    "                'model_state_dict' : child_net.state_dict(), \n",
    "                'epoch' : num_epochs}, save_path)\n"
   ]
  },
  {
   "cell_type": "code",
   "execution_count": 37,
   "metadata": {},
   "outputs": [
    {
     "name": "stdout",
     "output_type": "stream",
     "text": [
      "child test accuracy (w distillation):  0.9732\n"
     ]
    }
   ],
   "source": [
    "# Calculate child test accuracy\n",
    "test_accuracy = utils.getTestAccuracy(child_net, test_loader, fast_device)\n",
    "print('child test accuracy (w distillation): ', test_accuracy)"
   ]
  },
  {
   "cell_type": "markdown",
   "metadata": {
    "heading_collapsed": true
   },
   "source": [
    "### Hyperparameter search utils"
   ]
  },
  {
   "cell_type": "code",
   "execution_count": 27,
   "metadata": {
    "hidden": true
   },
   "outputs": [
    {
     "data": {
      "image/png": "[encoded data removed]",
      "text/plain": [
       "<Figure size 432x288 with 2 Axes>"
      ]
     },
     "metadata": {
      "needs_background": "light"
     },
     "output_type": "display_data"
    }
   ],
   "source": [
    "# plt.rcParams['figure.figsize'] = [10, 5]\n",
    "T_scatter = [math.log(h['T']) for h in hparams_list]\n",
    "alpha_scatter = [h['alpha'] for h in hparams_list]\n",
    "colors = []\n",
    "for i in range(len(hparams_list)):\n",
    "    cur_hparam_tuple = utils.hparamDictToTuple(hparams_list[i])\n",
    "    colors.append(results[cur_hparam_tuple]['val_acc'][-1])\n",
    "    \n",
    "marker_size = 100\n",
    "fig, ax = plt.subplots()\n",
    "plt.scatter(T_scatter, alpha_scatter, marker_size, c=colors, edgecolors='black')\n",
    "plt.colorbar()\n",
    "for i in range(len(T_scatter)):\n",
    "    ax.annotate(str('%0.4f' % (colors[i], )), (T_scatter[i], alpha_scatter[i]))\n",
    "plt.show()"
   ]
  },
  {
   "cell_type": "code",
   "execution_count": 30,
   "metadata": {
    "hidden": true
   },
   "outputs": [],
   "source": [
    "with open('child_hparams_set.dat', 'wb') as f:\n",
    "    pickle.dump(hparams_set, f)"
   ]
  }
 ],
 "metadata": {
  "kernelspec": {
   "display_name": "Python 3",
   "language": "python",
   "name": "python3"
  },
  "language_info": {
   "codemirror_mode": {
    "name": "ipython",
    "version": 3
   },
   "file_extension": ".py",
   "mimetype": "text/x-python",
   "name": "python",
   "nbconvert_exporter": "python",
   "pygments_lexer": "ipython3",
   "version": "3.6.6"
  }
 },
 "nbformat": 4,
 "nbformat_minor": 2
}
