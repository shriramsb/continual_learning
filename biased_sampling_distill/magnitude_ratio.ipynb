{
 "cells": [
  {
   "cell_type": "code",
   "execution_count": 1,
   "metadata": {},
   "outputs": [],
   "source": [
    "# Magnitude of true label cross-entropy at temperature 1 vs cross-entropy of soft targets at various temperatures\n",
    "\n",
    "import torch\n",
    "\n",
    "import numpy as np\n",
    "\n",
    "%matplotlib inline\n",
    "import matplotlib.pyplot as plt\n",
    "\n",
    "%load_ext autoreload\n",
    "%autoreload 2"
   ]
  },
  {
   "cell_type": "code",
   "execution_count": 17,
   "metadata": {},
   "outputs": [],
   "source": [
    "# function to compute gradient magnitude at a given temperature\n",
    "def getGradient(z, v, T, softmax_fn):\n",
    "    z_softmax = softmax_fn(torch.from_numpy(z.numpy() / T))\n",
    "    v_softmax = softmax_fn(torch.from_numpy(v.numpy() / T))\n",
    "    return (torch.norm(z_softmax - v_softmax).item() / T)"
   ]
  },
  {
   "cell_type": "code",
   "execution_count": 18,
   "metadata": {},
   "outputs": [],
   "source": [
    "# softmax function\n",
    "softmax_fn = torch.nn.Softmax(dim=0)"
   ]
  },
  {
   "cell_type": "code",
   "execution_count": 19,
   "metadata": {},
   "outputs": [],
   "source": [
    "# get sample vectors\n",
    "# v - target vector; z - trainable variables\n",
    "size = 100\n",
    "a = -20\n",
    "b = 20\n",
    "np.random.seed(0)\n",
    "z = a + (b - a) * np.random.rand(size)\n",
    "v = np.random.rand(size)\n",
    "v = a + (b - a) * np.random.rand(size)"
   ]
  },
  {
   "cell_type": "code",
   "execution_count": 28,
   "metadata": {},
   "outputs": [],
   "source": [
    "# For each temperature value, get magnitude of gradient.\n",
    "num_temp = 100\n",
    "x = np.arange(num_temp) + 1\n",
    "y = np.empty((num_temp, ))\n",
    "for i in range(x.shape[0]):\n",
    "    y[i] = getGradient(torch.from_numpy(z), torch.from_numpy(v), x[i], softmax_fn)\n",
    "    \n",
    "# normalize the gradients with that at temperature 1\n",
    "y /= y[0]\n",
    "\n",
    "x_ref = np.arange(num_temp) + 1\n",
    "y_ref = 1 / x_ref ** 2"
   ]
  },
  {
   "cell_type": "code",
   "execution_count": 29,
   "metadata": {},
   "outputs": [
    {
     "data": {
      "image/png": "[encoded data removed]",
      "text/plain": [
       "<Figure size 432x288 with 1 Axes>"
      ]
     },
     "metadata": {
      "needs_background": "light"
     },
     "output_type": "display_data"
    }
   ],
   "source": [
    "plt.plot(x, y / y_ref)\n",
    "plt.show()\n",
    "\n",
    "# this plot shows that multiplying gradient magnitude by T^2 helps to avoid change of learning rate\n",
    "# It also helps to avoid change of weight between true label cross-entropy and soft label cross-entropy"
   ]
  },
  {
   "cell_type": "code",
   "execution_count": null,
   "metadata": {},
   "outputs": [],
   "source": []
  }
 ],
 "metadata": {
  "kernelspec": {
   "display_name": "Python 3",
   "language": "python",
   "name": "python3"
  },
  "language_info": {
   "codemirror_mode": {
    "name": "ipython",
    "version": 3
   },
   "file_extension": ".py",
   "mimetype": "text/x-python",
   "name": "python",
   "nbconvert_exporter": "python",
   "pygments_lexer": "ipython3",
   "version": "3.6.6"
  }
 },
 "nbformat": 4,
 "nbformat_minor": 2
}
