{
 "cells": [
  {
   "cell_type": "markdown",
   "metadata": {},
   "source": [
    "### Import and init GPU"
   ]
  },
  {
   "cell_type": "code",
   "execution_count": 1,
   "metadata": {},
   "outputs": [],
   "source": [
    "from IPython.display import Audio"
   ]
  },
  {
   "cell_type": "code",
   "execution_count": 2,
   "metadata": {},
   "outputs": [],
   "source": [
    "import sys\n",
    "sys.path.append('../../../')"
   ]
  },
  {
   "cell_type": "code",
   "execution_count": 3,
   "metadata": {},
   "outputs": [],
   "source": [
    "import numpy as np\n",
    "import math\n",
    "\n",
    "%matplotlib inline\n",
    "import matplotlib.pyplot as plt\n",
    "import seaborn\n",
    "\n",
    "import pickle\n",
    "import argparse\n",
    "import time\n",
    "import itertools\n",
    "from copy import deepcopy\n",
    "import tensorflow as tf\n",
    "\n",
    "from tuner import HyperparameterTuner\n",
    "from tuner import MyTask\n",
    "\n",
    "use_tpu = False\n",
    "use_gpu = True\n",
    "\n",
    "if use_tpu:\n",
    "    from tensorflow.contrib import tpu\n",
    "    from tensorflow.contrib.cluster_resolver import TPUClusterResolver\n",
    "\n",
    "if use_gpu:\n",
    "    import os\n",
    "    \n",
    "%load_ext autoreload\n",
    "%autoreload 2"
   ]
  },
  {
   "cell_type": "code",
   "execution_count": 4,
   "metadata": {
    "code_folding": []
   },
   "outputs": [],
   "source": [
    "if use_gpu:\n",
    "    os.environ['CUDA_VISIBLE_DEVICES'] = '2'\n",
    "    config = tf.ConfigProto()\n",
    "    config.gpu_options.allow_growth = True"
   ]
  },
  {
   "cell_type": "code",
   "execution_count": 5,
   "metadata": {},
   "outputs": [],
   "source": [
    "if use_tpu:\n",
    "    tpu_cluster = TPUClusterResolver(tpu=[tpu_name]).get_master()\n",
    "    sess = tf.Session(tpu_cluster)\n",
    "    sess.run(tpu.initialize_system())\n",
    "elif use_gpu:\n",
    "    sess = tf.Session(config=config)\n",
    "else:\n",
    "    sess = tf.Session()"
   ]
  },
  {
   "cell_type": "code",
   "execution_count": 6,
   "metadata": {},
   "outputs": [],
   "source": [
    "from resnet import Network"
   ]
  },
  {
   "cell_type": "code",
   "execution_count": 7,
   "metadata": {},
   "outputs": [],
   "source": [
    "network = Network()"
   ]
  },
  {
   "cell_type": "code",
   "execution_count": 8,
   "metadata": {},
   "outputs": [],
   "source": [
    "task_home = ''\n",
    "if use_tpu:\n",
    "    pass\n",
    "#     task_home = 'gs://continual_learning/permMNIST_EWC/'\n",
    "else:\n",
    "    task_home = '../../../../'\n",
    "\n",
    "cur_dir = './'\n",
    "checkpoint_path = cur_dir + 'checkpoints_99_1_0/'\n",
    "summaries_path = cur_dir + 'summaries_99_1_0/'\n",
    "data_path = task_home + 'cifar-100-python/'\n",
    "split_path = './split.txt' \n",
    "if use_tpu:\n",
    "    tpu_name = 'gectpu'\n",
    "    \n",
    "BATCH_SIZE = 128"
   ]
  },
  {
   "cell_type": "markdown",
   "metadata": {},
   "source": [
    "### Dataset loading functions"
   ]
  },
  {
   "cell_type": "code",
   "execution_count": 9,
   "metadata": {
    "code_folding": [
     2,
     29,
     36,
     41
    ]
   },
   "outputs": [],
   "source": [
    "label_smooth_param = 0\n",
    "\n",
    "def splitDataset(dataset, dataset_split, seed):\n",
    "    np.random.seed(seed)\n",
    "    task_list = []\n",
    "    train_labels = np.argmax(dataset.train.labels, axis=1)\n",
    "    validation_labels = np.argmax(dataset.validation.labels, axis=1)\n",
    "    test_labels = np.argmax(dataset.test.labels, axis=1)\n",
    "    for i in range(len(dataset_split)):\n",
    "        cur_train_indices = [False] * dataset.train.images.shape[0]\n",
    "        cur_validation_indices = [False] * dataset.validation.images.shape[0]\n",
    "        cur_test_indices = [False] * dataset.test.images.shape[0]\n",
    "        for j in range(len(dataset_split[i])):\n",
    "            cur_train_indices = np.logical_or(cur_train_indices, (train_labels == dataset_split[i][j]))\n",
    "            cur_validation_indices = np.logical_or(cur_validation_indices, (validation_labels == dataset_split[i][j]))\n",
    "            cur_test_indices = np.logical_or(cur_test_indices, (test_labels == dataset_split[i][j]))\n",
    "\n",
    "        task = deepcopy(dataset)\n",
    "        task.train.images = task.train.images[cur_train_indices]\n",
    "        task.train.labels = task.train.labels[cur_train_indices]\n",
    "        task.validation.images = task.validation.images[cur_validation_indices]\n",
    "        task.validation.labels = task.validation.labels[cur_validation_indices]\n",
    "        task.test.images = task.test.images[cur_test_indices]\n",
    "        task.test.labels = task.test.labels[cur_test_indices]\n",
    "        task = MyTask(task)\n",
    "        task_list.append(task)\n",
    "\n",
    "    return task_list\n",
    "    \n",
    "def smoothLabels(dataset):\n",
    "    train_labels = dataset.train.labels\n",
    "    train_labels_argmax = np.argmax(train_labels, axis=1)\n",
    "    train_labels = train_labels + label_smooth_param / (train_labels.shape[1] - 1)\n",
    "    train_labels[range(train_labels.shape[0]), train_labels_argmax] = 1 - label_smooth_param\n",
    "    dataset.train._labels = train_labels\n",
    "\n",
    "class TempDataset(object):\n",
    "    def __init__(self):\n",
    "        self.images = None\n",
    "        self.labels = None\n",
    "    \n",
    "class TempTask(object):\n",
    "    def __init__(self):\n",
    "        self.train = TempDataset()\n",
    "        self.validation = TempDataset()\n",
    "        self.test = TempDataset()\n",
    "    \n",
    "    \n",
    "def readDatasets():\n",
    "    num_class = 100\n",
    "    class_per_task = 2\n",
    "    k = 0\n",
    "    labels_list = list(range(num_class))\n",
    "    seed = 0\n",
    "    np.random.seed(seed)\n",
    "    np.random.shuffle(labels_list)\n",
    "    split = []\n",
    "    task_weights = []\n",
    "    \n",
    "    split = [range(99), [99]]\n",
    "    task_weights = [0.99, 0.01]\n",
    "    num_tasks = len(split)\n",
    "    \n",
    "    with open(data_path + 'train', 'rb') as f:\n",
    "        f_train_data = pickle.load(f, encoding='bytes')\n",
    "        \n",
    "    with open(data_path + 'test', 'rb') as f:\n",
    "        f_test_data = pickle.load(f, encoding='bytes')\n",
    "        \n",
    "    cifar_100 = TempTask()\n",
    "    temp_train_labels = np.array(f_train_data[b'fine_labels'], dtype=np.int32)\n",
    "    temp_test_labels = np.array(f_test_data[b'fine_labels'], dtype=np.int32)\n",
    "    f_train_data[b'fine_labels'] = np.zeros((temp_train_labels.shape[0], num_class))\n",
    "    (f_train_data[b'fine_labels'])[range(temp_train_labels.shape[0]), temp_train_labels] = 1\n",
    "    f_test_data[b'fine_labels'] = np.zeros((temp_test_labels.shape[0], num_class))\n",
    "    (f_test_data[b'fine_labels'])[range(temp_test_labels.shape[0]), temp_test_labels] = 1\n",
    "    f_train_data[b'data'] = np.reshape(f_train_data[b'data'], (-1, 3, 32, 32))\n",
    "    f_test_data[b'data'] = np.reshape(f_test_data[b'data'], (-1, 3, 32, 32))\n",
    "    f_train_data[b'data'] = np.transpose(f_train_data[b'data'], (0, 2, 3, 1))\n",
    "    f_test_data[b'data'] = np.transpose(f_test_data[b'data'], (0, 2, 3, 1))\n",
    "    \n",
    "    tr_data = f_train_data[b'data']\n",
    "    te_data = f_test_data[b'data']\n",
    "    # normalizing data\n",
    "    avg = np.mean(tr_data, axis=(0, 1, 2))\n",
    "    std = np.std(tr_data, axis=(0, 1, 2))\n",
    "    \n",
    "    f_train_data[b'data'] = (tr_data - avg) / std\n",
    "    f_test_data[b'data'] = (te_data - avg) / std\n",
    "    \n",
    "    seed = 0\n",
    "    np.random.seed(0)\n",
    "    shuffle_train_perm = np.random.permutation(f_train_data[b'data'].shape[0])\n",
    "    f_train_data[b'data'] = f_train_data[b'data'][shuffle_train_perm]\n",
    "    f_train_data[b'fine_labels'] = f_train_data[b'fine_labels'][shuffle_train_perm]\n",
    "    \n",
    "    num_val_per_class = 20\n",
    "    \n",
    "    for i in range(num_class):\n",
    "        pos = (np.argmax(f_train_data[b'fine_labels'], axis=1) == i)\n",
    "        \n",
    "        if (i == 0):\n",
    "            cifar_100.validation.images = (f_train_data[b'data'][pos])[0 : num_val_per_class]\n",
    "            cifar_100.validation.labels = (f_train_data[b'fine_labels'][pos])[0 : num_val_per_class]\n",
    "\n",
    "            cifar_100.train.images = (f_train_data[b'data'][pos])[num_val_per_class : ]\n",
    "            cifar_100.train.labels = (f_train_data[b'fine_labels'][pos])[num_val_per_class : ]\n",
    "        else:\n",
    "            cifar_100.validation.images = np.concatenate((cifar_100.validation.images, (f_train_data[b'data'][pos])[0 : num_val_per_class]))\n",
    "            cifar_100.validation.labels = np.concatenate((cifar_100.validation.labels, (f_train_data[b'fine_labels'][pos])[0 : num_val_per_class]))\n",
    "\n",
    "            cifar_100.train.images = np.concatenate((cifar_100.train.images, (f_train_data[b'data'][pos])[num_val_per_class : ]))\n",
    "            cifar_100.train.labels = np.concatenate((cifar_100.train.labels, (f_train_data[b'fine_labels'][pos])[num_val_per_class : ]))\n",
    "        \n",
    "    cifar_100.test.images = f_test_data[b'data']\n",
    "    cifar_100.test.labels = f_test_data[b'fine_labels']\n",
    "    \n",
    "    shuffle_train_perm = np.random.permutation(cifar_100.train.images.shape[0])\n",
    "    cifar_100.train.images = cifar_100.train.images[shuffle_train_perm]\n",
    "    cifar_100.train.labels = cifar_100.train.labels[shuffle_train_perm]\n",
    "    \n",
    "    if (label_smooth_param != 0):\n",
    "        smoothLabels(cifar_100)\n",
    "        \n",
    "    task_list = splitDataset(cifar_100, split, seed)\n",
    "    return split, num_tasks, task_weights, task_list"
   ]
  },
  {
   "cell_type": "markdown",
   "metadata": {},
   "source": [
    "### Create tuner object and train!!"
   ]
  },
  {
   "cell_type": "code",
   "execution_count": 10,
   "metadata": {},
   "outputs": [],
   "source": [
    "with open(data_path + 'train', 'rb') as f:\n",
    "    f_train_data = pickle.load(f, encoding='bytes')\n",
    "    \n",
    "with open(data_path + 'meta', 'rb') as f:\n",
    "    f_meta_data = pickle.load(f, encoding='bytes')"
   ]
  },
  {
   "cell_type": "code",
   "execution_count": 11,
   "metadata": {},
   "outputs": [
    {
     "name": "stdout",
     "output_type": "stream",
     "text": [
      "b'snake'\n",
      "b'plate'\n",
      "b'worm'\n"
     ]
    }
   ],
   "source": [
    "print(f_meta_data[b'fine_label_names'][78])\n",
    "print(f_meta_data[b'fine_label_names'][61])\n",
    "print(f_meta_data[b'fine_label_names'][99])"
   ]
  },
  {
   "cell_type": "code",
   "execution_count": 12,
   "metadata": {},
   "outputs": [],
   "source": [
    "input_shape = (32, 32, 3)\n",
    "output_shape = (100, )"
   ]
  },
  {
   "cell_type": "code",
   "execution_count": 13,
   "metadata": {},
   "outputs": [
    {
     "name": "stdout",
     "output_type": "stream",
     "text": [
      "WARNING:tensorflow:From ../../../classifiers.py:84: softmax_cross_entropy_with_logits (from tensorflow.python.ops.nn_ops) is deprecated and will be removed in a future version.\n",
      "Instructions for updating:\n",
      "\n",
      "Future major versions of TensorFlow will allow gradients to flow\n",
      "into the labels input on backprop by default.\n",
      "\n",
      "See @{tf.nn.softmax_cross_entropy_with_logits_v2}.\n",
      "\n"
     ]
    }
   ],
   "source": [
    "tuner = HyperparameterTuner(sess=sess, network=network, \n",
    "                            input_shape=input_shape, output_shape=output_shape,\n",
    "                            checkpoint_path=checkpoint_path, summaries_path=summaries_path, \n",
    "                            readDatasets=readDatasets, load_best_hparams=False, \n",
    "                            reweigh_points_loss=False)"
   ]
  },
  {
   "cell_type": "code",
   "execution_count": 14,
   "metadata": {},
   "outputs": [],
   "source": [
    "tuner.setPerExampleAppend(int(1))\n",
    "tuner.updateTunerHparams({'mask_softmax' : True})\n",
    "tuner.updateTunerHparams({'bf_num_images' : 2000})\n",
    "tuner.setPerExampleAppend(1.0)"
   ]
  },
  {
   "cell_type": "markdown",
   "metadata": {
    "heading_collapsed": true
   },
   "source": [
    "### Training each task separately"
   ]
  },
  {
   "cell_type": "code",
   "execution_count": 15,
   "metadata": {
    "hidden": true,
    "scrolled": true
   },
   "outputs": [],
   "source": [
    "t = 0\n",
    "learning_rates = [1e-1]\n",
    "momentums = [0.9]\n",
    "regs = [0.0001]\n",
    "dropout_input_probs = [1.0]\n",
    "dropout_hidden_probs = [0.9]\n",
    "prod = list(itertools.product(regs, dropout_input_probs, dropout_hidden_probs, momentums, learning_rates))\n",
    "hparams = []\n",
    "for hparams_tuple in prod:\n",
    "    cur_dict = {}\n",
    "    cur_dict['reg'] = hparams_tuple[0]\n",
    "    cur_dict['dropout_input_prob'] = hparams_tuple[2]\n",
    "    cur_dict['dropout_hidden_prob'] = hparams_tuple[2]\n",
    "    cur_dict['momentum'] = hparams_tuple[3]\n",
    "    cur_dict['learning_rate'] = hparams_tuple[4]\n",
    "    hparams.append(cur_dict)\n",
    "\n",
    "tuner.hparams_list[t] = hparams"
   ]
  },
  {
   "cell_type": "code",
   "execution_count": 16,
   "metadata": {
    "hidden": true
   },
   "outputs": [],
   "source": [
    "num_epochs = 160\n",
    "num_updates = math.ceil(tuner.task_list[t].train.images.shape[0] / BATCH_SIZE) * num_epochs\n",
    "tuner.print_every = 10"
   ]
  },
  {
   "cell_type": "code",
   "execution_count": 17,
   "metadata": {
    "hidden": true
   },
   "outputs": [
    {
     "ename": "TypeError",
     "evalue": "tuneOnTask() got an unexpected keyword argument 'save_weights'",
     "output_type": "error",
     "traceback": [
      "\u001b[0;31m---------------------------------------------------------------------------\u001b[0m",
      "\u001b[0;31mTypeError\u001b[0m                                 Traceback (most recent call last)",
      "\u001b[0;32m<ipython-input-17-923f796fc2a8>\u001b[0m in \u001b[0;36m<module>\u001b[0;34m\u001b[0m\n\u001b[1;32m      3\u001b[0m                                           \u001b[0msave_weights\u001b[0m\u001b[0;34m=\u001b[0m\u001b[0;32mFalse\u001b[0m\u001b[0;34m,\u001b[0m\u001b[0;34m\u001b[0m\u001b[0m\n\u001b[1;32m      4\u001b[0m                                           \u001b[0mnum_updates\u001b[0m\u001b[0;34m=\u001b[0m\u001b[0mnum_updates\u001b[0m\u001b[0;34m,\u001b[0m \u001b[0mverbose\u001b[0m\u001b[0;34m=\u001b[0m\u001b[0;32mTrue\u001b[0m\u001b[0;34m,\u001b[0m\u001b[0;34m\u001b[0m\u001b[0m\n\u001b[0;32m----> 5\u001b[0;31m                                           random_crop_flip=True)\n\u001b[0m\u001b[1;32m      6\u001b[0m \u001b[0mprint\u001b[0m\u001b[0;34m(\u001b[0m\u001b[0;34m\"time taken : %d\"\u001b[0m \u001b[0;34m%\u001b[0m \u001b[0;34m(\u001b[0m\u001b[0mtime\u001b[0m\u001b[0;34m.\u001b[0m\u001b[0mtime\u001b[0m\u001b[0;34m(\u001b[0m\u001b[0;34m)\u001b[0m \u001b[0;34m-\u001b[0m \u001b[0mstart_time\u001b[0m\u001b[0;34m)\u001b[0m\u001b[0;34m)\u001b[0m\u001b[0;34m\u001b[0m\u001b[0m\n\u001b[1;32m      7\u001b[0m \u001b[0msound_file\u001b[0m \u001b[0;34m=\u001b[0m \u001b[0;34m'/mnt/a99/d0/shriramsb/code/Alan Walker - Alone.mp3'\u001b[0m\u001b[0;34m\u001b[0m\u001b[0m\n",
      "\u001b[0;31mTypeError\u001b[0m: tuneOnTask() got an unexpected keyword argument 'save_weights'"
     ]
    }
   ],
   "source": [
    "start_time = time.time()\n",
    "best_avg, best_hparams = tuner.tuneOnTask(t, BATCH_SIZE, \n",
    "                                          save_weights=False, \n",
    "                                          num_updates=num_updates, verbose=True, \n",
    "                                          random_crop_flip=True)\n",
    "print(\"time taken : %d\" % (time.time() - start_time))\n",
    "sound_file = '/mnt/a99/d0/shriramsb/code/Alan Walker - Alone.mp3'\n",
    "Audio(sound_file, autoplay=True)"
   ]
  },
  {
   "cell_type": "code",
   "execution_count": null,
   "metadata": {
    "hidden": true
   },
   "outputs": [],
   "source": [
    "import math\n",
    "plt.rcParams['figure.figsize'] = [10, 5]\n",
    "lr_scatter = ([math.log10(h['learning_rate']) for h in hparams])\n",
    "dropout_scatter = [h['dropout_hidden_prob'] for h in hparams]\n",
    "colors = []\n",
    "for i in range(len(hparams)):\n",
    "    cur_hparam_tuple = tuner.hparamsDictToTuple(hparams[i], tuner.tuner_hparams)\n",
    "    colors.append(tuner.results_list[t][cur_hparam_tuple]['best_avg'])\n",
    "    \n",
    "marker_size = 100\n",
    "fig, ax = plt.subplots()\n",
    "plt.scatter(lr_scatter, dropout_scatter, marker_size, c=colors, edgecolors='black')\n",
    "plt.colorbar()\n",
    "for i in range(len(lr_scatter)):\n",
    "    ax.annotate(str('%0.4f' % (colors[i], )), (lr_scatter[i], dropout_scatter[i]))\n",
    "plt.show()"
   ]
  },
  {
   "cell_type": "code",
   "execution_count": null,
   "metadata": {
    "hidden": true
   },
   "outputs": [],
   "source": [
    "plt.rcParams['figure.figsize'] = [10, 10]\n",
    "best_hparams_tuple = tuner.hparamsDictToTuple(hparams[0], tuner.tuner_hparams)\n",
    "cur_res = tuner.results_list[t][best_hparams_tuple]\n",
    "x = np.arange(0, cur_res['total_updates'], cur_res['updates_per_epoch'])\n",
    "cur_best_avg = cur_res['best_avg']\n",
    "cur_best_avg_updates = cur_res['best_avg_updates']\n",
    "updates_per_epoch = cur_res['updates_per_epoch']\n",
    "# print(\"dropout: %f, fisher_multiplier: %e, lr: %e\" % (k[0], k[1], k[2]))\n",
    "print(\"cur_best_avg: %e, num_updates: %d\" % (cur_best_avg, cur_best_avg_updates))\n",
    "print(\"best val_acc: %s\" % (str(np.array(cur_res['val_acc'])[:, (cur_best_avg_updates // updates_per_epoch - 1) // tuner.eval_frequency])))\n",
    "# plt.plot(cur_res['loss_with_penalty'], color='g')\n",
    "plt.plot(cur_res['loss'], color='m')\n",
    "plt.plot(x, cur_res['val_loss'][-1], color='b')\n",
    "plt.show()\n",
    "# plt.ylim(ymin=0.9)\n",
    "plt.plot(cur_res['val_acc'][0], color='b', )\n",
    "# plt.plot(cur_res['val_acc'][1], color='g')\n",
    "\n",
    "plt.show()"
   ]
  },
  {
   "cell_type": "code",
   "execution_count": null,
   "metadata": {
    "hidden": true
   },
   "outputs": [],
   "source": [
    "# print(best_avg, best_hparams)\n",
    "VALIDATION_BATCH_SIZE = 128\n",
    "print(tuner.validationAccuracy(t, VALIDATION_BATCH_SIZE, restore_model=False))"
   ]
  },
  {
   "cell_type": "code",
   "execution_count": null,
   "metadata": {
    "hidden": true
   },
   "outputs": [],
   "source": [
    "t = 1\n",
    "learning_rates = [1e-1]\n",
    "momentums = [0.9]\n",
    "regs = [0.0001]\n",
    "dropout_input_probs = [1.0]\n",
    "dropout_hidden_probs = [0.9]\n",
    "prod = list(itertools.product(regs, dropout_input_probs, dropout_hidden_probs, momentums, learning_rates))\n",
    "hparams = []\n",
    "for hparams_tuple in prod:\n",
    "    cur_dict = {}\n",
    "    cur_dict['reg'] = hparams_tuple[0]\n",
    "    cur_dict['dropout_input_prob'] = hparams_tuple[2]\n",
    "    cur_dict['dropout_hidden_prob'] = hparams_tuple[2]\n",
    "    cur_dict['momentum'] = hparams_tuple[3]\n",
    "    cur_dict['learning_rate'] = hparams_tuple[4]\n",
    "    hparams.append(cur_dict)\n",
    "\n",
    "tuner.hparams_list[t] = hparams"
   ]
  },
  {
   "cell_type": "code",
   "execution_count": null,
   "metadata": {
    "hidden": true
   },
   "outputs": [],
   "source": [
    "num_epochs = 160\n",
    "num_updates = math.ceil(tuner.task_list[t].train.images.shape[0] / BATCH_SIZE) * num_epochs\n",
    "tuner.print_every = 10"
   ]
  },
  {
   "cell_type": "code",
   "execution_count": null,
   "metadata": {
    "hidden": true
   },
   "outputs": [],
   "source": [
    "start_time = time.time()\n",
    "best_avg, best_hparams = tuner.tuneOnTask(t, BATCH_SIZE, \n",
    "                                          save_weights=False, \n",
    "                                          num_updates=num_updates, verbose=True, \n",
    "                                          random_crop_flip=True)\n",
    "print(\"time taken : %d\" % (time.time() - start_time))\n",
    "sound_file = '/mnt/a99/d0/shriramsb/code/Alan Walker - Alone.mp3'\n",
    "Audio(sound_file, autoplay=True)"
   ]
  },
  {
   "cell_type": "code",
   "execution_count": null,
   "metadata": {
    "hidden": true
   },
   "outputs": [],
   "source": [
    "import math\n",
    "plt.rcParams['figure.figsize'] = [10, 5]\n",
    "lr_scatter = ([math.log10(h['learning_rate']) for h in hparams])\n",
    "dropout_scatter = [h['dropout_hidden_prob'] for h in hparams]\n",
    "colors = []\n",
    "for i in range(len(hparams)):\n",
    "    cur_hparam_tuple = tuner.hparamsDictToTuple(hparams[i], tuner.tuner_hparams)\n",
    "    colors.append(tuner.results_list[t][cur_hparam_tuple]['best_avg'])\n",
    "    \n",
    "marker_size = 100\n",
    "fig, ax = plt.subplots()\n",
    "plt.scatter(lr_scatter, dropout_scatter, marker_size, c=colors, edgecolors='black')\n",
    "plt.colorbar()\n",
    "for i in range(len(lr_scatter)):\n",
    "    ax.annotate(str('%0.4f' % (colors[i], )), (lr_scatter[i], dropout_scatter[i]))\n",
    "plt.show()"
   ]
  },
  {
   "cell_type": "code",
   "execution_count": null,
   "metadata": {
    "hidden": true
   },
   "outputs": [],
   "source": [
    "plt.rcParams['figure.figsize'] = [10, 10]\n",
    "best_hparams_tuple = tuner.hparamsDictToTuple(hparams[0], tuner.tuner_hparams)\n",
    "cur_res = tuner.results_list[t][best_hparams_tuple]\n",
    "x = np.arange(0, cur_res['total_updates'], cur_res['updates_per_epoch'])\n",
    "cur_best_avg = cur_res['best_avg']\n",
    "cur_best_avg_updates = cur_res['best_avg_updates']\n",
    "updates_per_epoch = cur_res['updates_per_epoch']\n",
    "# print(\"dropout: %f, fisher_multiplier: %e, lr: %e\" % (k[0], k[1], k[2]))\n",
    "print(\"cur_best_avg: %e, num_updates: %d\" % (cur_best_avg, cur_best_avg_updates))\n",
    "print(\"best val_acc: %s\" % (str(np.array(cur_res['val_acc'])[:, (cur_best_avg_updates // updates_per_epoch - 1) // tuner.eval_frequency])))\n",
    "# plt.plot(cur_res['loss_with_penalty'], color='g')\n",
    "plt.plot(cur_res['loss'], color='m')\n",
    "plt.plot(x, cur_res['val_loss'][-1], color='b')\n",
    "plt.show()\n",
    "# plt.ylim(ymin=0.9)\n",
    "plt.plot(cur_res['val_acc'][0], color='b', )\n",
    "plt.plot(cur_res['val_acc'][1], color='g')\n",
    "\n",
    "plt.show()"
   ]
  },
  {
   "cell_type": "markdown",
   "metadata": {},
   "source": [
    "### Train tasks together"
   ]
  },
  {
   "cell_type": "code",
   "execution_count": 18,
   "metadata": {},
   "outputs": [],
   "source": [
    "t = 0\n",
    "learning_rates = [(((49, 1e-1), (63, 1e-1 / 5), 1e-1 / (5 * 5)), (1e-1, ))]\n",
    "momentums = [0.9]\n",
    "regs = [0.0001]\n",
    "dropout_input_probs = [1.0]\n",
    "dropout_hidden_probs = [0.9]\n",
    "prod = list(itertools.product(regs, dropout_input_probs, dropout_hidden_probs, momentums, learning_rates))\n",
    "hparams = []\n",
    "for hparams_tuple in prod:\n",
    "    cur_dict = {}\n",
    "    cur_dict['reg'] = hparams_tuple[0]\n",
    "    cur_dict['dropout_input_prob'] = hparams_tuple[2]\n",
    "    cur_dict['dropout_hidden_prob'] = hparams_tuple[2]\n",
    "    cur_dict['momentum'] = hparams_tuple[3]\n",
    "    cur_dict['learning_rate'] = hparams_tuple[4]\n",
    "    hparams.append(cur_dict)\n",
    "    \n",
    "for i in range(0, t + 1):\n",
    "    tuner.hparams_list[i] = hparams\n",
    "    "
   ]
  },
  {
   "cell_type": "code",
   "execution_count": 19,
   "metadata": {},
   "outputs": [],
   "source": [
    "t = 1\n",
    "learning_rates = [(((20, 1e-1), (30, 1e-1 / 5), 1e-1 / 25), ((20, 1e-2), 1e-2 / 5))]\n",
    "momentums = [0.9]\n",
    "regs = [0.0001]\n",
    "dropout_input_probs = [1.0]\n",
    "dropout_hidden_probs = [0.9]\n",
    "# epsilons = [0.0, 0.1, 0.2, 0.5, 1.0]\n",
    "epsilons = [0.5]\n",
    "prod = list(itertools.product(regs, dropout_input_probs, dropout_hidden_probs, momentums, learning_rates, \n",
    "                                epsilons))\n",
    "hparams = []\n",
    "for hparams_tuple in prod:\n",
    "    cur_dict = {}\n",
    "    cur_dict['reg'] = hparams_tuple[0]\n",
    "    cur_dict['dropout_input_prob'] = hparams_tuple[2]\n",
    "    cur_dict['dropout_hidden_prob'] = hparams_tuple[2]\n",
    "    cur_dict['momentum'] = hparams_tuple[3]\n",
    "    cur_dict['learning_rate'] = hparams_tuple[4]\n",
    "    cur_dict['epsilon'] = hparams_tuple[5]\n",
    "    hparams.append(cur_dict)\n",
    "    \n",
    "for i in range(t, t + 1):\n",
    "    tuner.hparams_list[i] = hparams\n",
    "\n",
    "for i in range(0, t):\n",
    "    for _ in range(len(hparams)):\n",
    "        tuner.hparams_list[i].append(tuner.hparams_list[i][0])\n",
    "    "
   ]
  },
  {
   "cell_type": "code",
   "execution_count": 20,
   "metadata": {},
   "outputs": [],
   "source": [
    "num_hparams = len(hparams)\n",
    "num_epochs = 40\n",
    "num_updates = math.ceil(tuner.task_list[t].train.images.shape[0] / BATCH_SIZE) * num_epochs\n",
    "num_epochs_bf = 30\n",
    "num_updates_bf = math.ceil(tuner.task_list[t].train.images.shape[0] / BATCH_SIZE) * num_epochs_bf"
   ]
  },
  {
   "cell_type": "code",
   "execution_count": 21,
   "metadata": {},
   "outputs": [
    {
     "name": "stdout",
     "output_type": "stream",
     "text": [
      "INFO:tensorflow:Restoring parameters from ./checkpoints_99_1_0/dropout_hidden_prob=0.9,dropout_input_prob=0.9,learning_rate=too_long,momentum=0.9,reg=0.0001,bf_num_images=2000,mask_softmax=True,old:new=1.0,task=0.ckpt-26040\n",
      "Training with dropout_hidden_prob=0.9,dropout_input_prob=0.9,epsilon=0.5,fisher_multiplier=0.0,learning_rate=too_long,momentum=0.9,reg=0.0001,bf_num_images=2000,mask_softmax=True,old:new=1.0,task=1\n",
      "Restoring paramters from dropout_hidden_prob=0.9,dropout_input_prob=0.9,learning_rate=too_long,momentum=0.9,reg=0.0001,bf_num_images=2000,mask_softmax=True,old:new=1.0,task=0\n",
      "INFO:tensorflow:Restoring parameters from ./checkpoints_99_1_0/dropout_hidden_prob=0.9,dropout_input_prob=0.9,learning_rate=too_long,momentum=0.9,reg=0.0001,bf_num_images=2000,mask_softmax=True,old:new=1.0,task=0.ckpt-26040\n",
      "epoch: 1, iter: 0/4, validation accuracies: [0.63181817 0.05      ], average train loss: 2.136993, average train accuracy: 0.738281\n",
      "epoch: 2, iter: 0/4, validation accuracies: [0.54343435 0.2       ], average train loss: 0.920957, average train accuracy: 0.757812\n",
      "epoch: 2, iter: 2/4, loss: 1.804113, accuracy: 0.468750\n",
      "epoch: 3, iter: 0/4, validation accuracies: [0.32323233 0.89999998], average train loss: 1.639329, average train accuracy: 0.548828\n",
      "epoch: 4, iter: 0/4, validation accuracies: [0.40757576 0.        ], average train loss: 1.725600, average train accuracy: 0.529297\n",
      "epoch: 5, iter: 0/4, validation accuracies: [0.37676767 0.85000002], average train loss: 1.593438, average train accuracy: 0.597656\n",
      "epoch: 5, iter: 0/4, loss: 1.474452, accuracy: 0.609375\n",
      "epoch: 6, iter: 0/4, validation accuracies: [0.43989899 0.40000001], average train loss: 1.298189, average train accuracy: 0.625000\n",
      "epoch: 7, iter: 0/4, validation accuracies: [0.47575757 0.30000001], average train loss: 1.471599, average train accuracy: 0.597656\n",
      "epoch: 7, iter: 2/4, loss: 1.164124, accuracy: 0.648438\n",
      "epoch: 8, iter: 0/4, validation accuracies: [0.42676768 0.85000002], average train loss: 1.638603, average train accuracy: 0.578125\n",
      "epoch: 9, iter: 0/4, validation accuracies: [0.48737373 0.        ], average train loss: 1.062397, average train accuracy: 0.685547\n",
      "epoch: 10, iter: 0/4, validation accuracies: [0.19040404 1.        ], average train loss: 1.791987, average train accuracy: 0.574219\n",
      "epoch: 10, iter: 0/4, loss: 0.992121, accuracy: 0.734375\n",
      "epoch: 11, iter: 0/4, validation accuracies: [0.44191919 0.05      ], average train loss: 1.955426, average train accuracy: 0.535156\n",
      "epoch: 12, iter: 0/4, validation accuracies: [0.46111112 0.30000001], average train loss: 2.607460, average train accuracy: 0.544922\n",
      "epoch: 12, iter: 2/4, loss: 1.153601, accuracy: 0.687500\n",
      "epoch: 13, iter: 0/4, validation accuracies: [0.37474747 1.        ], average train loss: 1.248197, average train accuracy: 0.646484\n",
      "epoch: 14, iter: 0/4, validation accuracies: [0.48080808 0.44999999], average train loss: 1.326397, average train accuracy: 0.583984\n",
      "epoch: 15, iter: 0/4, validation accuracies: [0.48232323 0.2       ], average train loss: 1.417670, average train accuracy: 0.595703\n",
      "epoch: 15, iter: 0/4, loss: 0.925187, accuracy: 0.679688\n",
      "epoch: 16, iter: 0/4, validation accuracies: [0.43030303 0.85000002], average train loss: 1.198556, average train accuracy: 0.626953\n",
      "epoch: 17, iter: 0/4, validation accuracies: [0.42676767 1.        ], average train loss: 1.478596, average train accuracy: 0.599609\n",
      "epoch: 17, iter: 2/4, loss: 0.835522, accuracy: 0.750000\n",
      "epoch: 18, iter: 0/4, validation accuracies: [0.49040404 0.34999999], average train loss: 1.199079, average train accuracy: 0.636719\n",
      "epoch: 19, iter: 0/4, validation accuracies: [0.49292929 0.44999999], average train loss: 1.827753, average train accuracy: 0.568359\n",
      "epoch: 20, iter: 0/4, validation accuracies: [0.3429293 1.       ], average train loss: 1.020844, average train accuracy: 0.697266\n",
      "epoch: 20, iter: 0/4, loss: 1.533206, accuracy: 0.531250\n",
      "epoch: 21, iter: 0/4, validation accuracies: [0.45353535 1.        ], average train loss: 1.423659, average train accuracy: 0.576172\n",
      "epoch: 22, iter: 0/4, validation accuracies: [0.53383837 0.80000001], average train loss: 0.785198, average train accuracy: 0.761719\n",
      "epoch: 22, iter: 2/4, loss: 0.894381, accuracy: 0.687500\n",
      "epoch: 23, iter: 0/4, validation accuracies: [0.56363637 0.60000002], average train loss: 0.975050, average train accuracy: 0.707031\n",
      "epoch: 24, iter: 0/4, validation accuracies: [0.58030302 0.5       ], average train loss: 0.954704, average train accuracy: 0.705078\n",
      "epoch: 25, iter: 0/4, validation accuracies: [0.57828282 0.60000002], average train loss: 0.848239, average train accuracy: 0.765625\n",
      "epoch: 25, iter: 0/4, loss: 0.864074, accuracy: 0.750000\n",
      "epoch: 26, iter: 0/4, validation accuracies: [0.56616162 0.80000001], average train loss: 0.827057, average train accuracy: 0.769531\n",
      "epoch: 27, iter: 0/4, validation accuracies: [0.5429293  0.94999999], average train loss: 0.827948, average train accuracy: 0.746094\n",
      "epoch: 27, iter: 2/4, loss: 0.994846, accuracy: 0.703125\n",
      "epoch: 28, iter: 0/4, validation accuracies: [0.54242425 0.94999999], average train loss: 0.891198, average train accuracy: 0.726562\n",
      "epoch: 29, iter: 0/4, validation accuracies: [0.56666667 0.85000002], average train loss: 0.812881, average train accuracy: 0.732422\n",
      "epoch: 30, iter: 0/4, validation accuracies: [0.57171718 0.80000001], average train loss: 0.456176, average train accuracy: 0.892578\n",
      "epoch: 30, iter: 0/4, loss: 0.394268, accuracy: 0.906250\n",
      "epoch: 31, iter: 0/4, validation accuracies: [0.57626264 0.80000001], average train loss: 0.900377, average train accuracy: 0.722656\n",
      "epoch: 32, iter: 0/4, validation accuracies: [0.57929294 0.80000001], average train loss: 0.650223, average train accuracy: 0.808594\n",
      "epoch: 32, iter: 2/4, loss: 0.890472, accuracy: 0.703125\n",
      "epoch: 33, iter: 0/4, validation accuracies: [0.58181819 0.80000001], average train loss: 0.605117, average train accuracy: 0.826172\n",
      "epoch: 34, iter: 0/4, validation accuracies: [0.58686869 0.80000001], average train loss: 0.762624, average train accuracy: 0.748047\n",
      "epoch: 35, iter: 0/4, validation accuracies: [0.58434342 0.80000001], average train loss: 0.546908, average train accuracy: 0.847656\n",
      "epoch: 35, iter: 0/4, loss: 0.619764, accuracy: 0.820312\n",
      "epoch: 36, iter: 0/4, validation accuracies: [0.58131312 0.80000001], average train loss: 0.556272, average train accuracy: 0.851562\n",
      "epoch: 37, iter: 0/4, validation accuracies: [0.58383839 0.85000002], average train loss: 0.941401, average train accuracy: 0.724609\n",
      "epoch: 37, iter: 2/4, loss: 0.431367, accuracy: 0.890625\n",
      "epoch: 38, iter: 0/4, validation accuracies: [0.58434343 0.80000001], average train loss: 0.460755, average train accuracy: 0.882812\n",
      "epoch: 39, iter: 0/4, validation accuracies: [0.58686869 0.85000002], average train loss: 0.608954, average train accuracy: 0.837891\n",
      "epoch: 40, iter: 0/4, validation accuracies: [0.58939395 0.85000002], average train loss: 0.777466, average train accuracy: 0.759766\n",
      "epoch: 40, iter: 0/4, loss: 0.863750, accuracy: 0.750000\n",
      "epochs: 40.000000, final train loss: 0.863750, validation accuracies: [0.58939395 0.85000002]\n",
      "best epochs: 1.000000, best_avg: 0.626000, validation accuracies: [0.63181817 0.05      ]\n",
      "Training with dropout_hidden_prob=0.9,dropout_input_prob=0.9,epsilon=0.5,fisher_multiplier=0.0,learning_rate=too_long,momentum=0.9,reg=0.0001,bf_num_images=2000,mask_softmax=True,old:new=1.0,task=1\n",
      "epoch: 1, iter: 0/4, validation accuracies: [0.59343433 0.85000002], average train loss: 0.811830, average train accuracy: 0.753906\n",
      "epoch: 2, iter: 0/4, validation accuracies: [0.60757577 0.85000002], average train loss: 0.740243, average train accuracy: 0.775391\n",
      "epoch: 2, iter: 2/4, loss: 0.894279, accuracy: 0.734375\n",
      "epoch: 3, iter: 0/4, validation accuracies: [0.61111111 0.75      ], average train loss: 0.813965, average train accuracy: 0.742188\n",
      "epoch: 4, iter: 0/4, validation accuracies: [0.61666668 0.75      ], average train loss: 0.834276, average train accuracy: 0.738281\n",
      "epoch: 5, iter: 0/4, validation accuracies: [0.61666667 0.64999998], average train loss: 0.722718, average train accuracy: 0.779297\n",
      "epoch: 5, iter: 0/4, loss: 0.605259, accuracy: 0.828125\n"
     ]
    },
    {
     "name": "stdout",
     "output_type": "stream",
     "text": [
      "epoch: 6, iter: 0/4, validation accuracies: [0.62070707 0.60000002], average train loss: 0.649102, average train accuracy: 0.789062\n",
      "epoch: 7, iter: 0/4, validation accuracies: [0.62070707 0.5       ], average train loss: 0.747545, average train accuracy: 0.783203\n",
      "epoch: 7, iter: 2/4, loss: 0.730516, accuracy: 0.789062\n",
      "epoch: 8, iter: 0/4, validation accuracies: [0.62070707 0.5       ], average train loss: 0.683175, average train accuracy: 0.810547\n",
      "epoch: 9, iter: 0/4, validation accuracies: [0.62424242 0.44999999], average train loss: 0.607347, average train accuracy: 0.826172\n",
      "epoch: 10, iter: 0/4, validation accuracies: [0.62272728 0.5       ], average train loss: 0.654997, average train accuracy: 0.830078\n",
      "epoch: 10, iter: 0/4, loss: 0.729419, accuracy: 0.789062\n",
      "epoch: 11, iter: 0/4, validation accuracies: [0.62272728 0.5       ], average train loss: 0.590778, average train accuracy: 0.832031\n",
      "epoch: 12, iter: 0/4, validation accuracies: [0.62373736 0.5       ], average train loss: 0.635185, average train accuracy: 0.824219\n",
      "epoch: 12, iter: 2/4, loss: 0.618414, accuracy: 0.820312\n",
      "epoch: 13, iter: 0/4, validation accuracies: [0.61919193 0.55000001], average train loss: 0.534582, average train accuracy: 0.849609\n",
      "epoch: 14, iter: 0/4, validation accuracies: [0.61868686 0.55000001], average train loss: 0.619641, average train accuracy: 0.835938\n",
      "epoch: 15, iter: 0/4, validation accuracies: [0.62222223 0.55000001], average train loss: 0.515425, average train accuracy: 0.863281\n",
      "epoch: 15, iter: 0/4, loss: 0.467913, accuracy: 0.875000\n",
      "epoch: 16, iter: 0/4, validation accuracies: [0.62424243 0.55000001], average train loss: 0.618514, average train accuracy: 0.812500\n",
      "epoch: 17, iter: 0/4, validation accuracies: [0.62676767 0.55000001], average train loss: 0.623421, average train accuracy: 0.806641\n",
      "epoch: 17, iter: 2/4, loss: 0.588055, accuracy: 0.835938\n",
      "epoch: 18, iter: 0/4, validation accuracies: [0.62727272 0.55000001], average train loss: 0.522177, average train accuracy: 0.853516\n",
      "epoch: 19, iter: 0/4, validation accuracies: [0.62878788 0.55000001], average train loss: 0.499457, average train accuracy: 0.875000\n",
      "epoch: 20, iter: 0/4, validation accuracies: [0.63131312 0.5       ], average train loss: 0.478072, average train accuracy: 0.859375\n",
      "epoch: 20, iter: 0/4, loss: 0.478941, accuracy: 0.859375\n",
      "epoch: 21, iter: 0/4, validation accuracies: [0.62878788 0.5       ], average train loss: 0.499110, average train accuracy: 0.863281\n",
      "epoch: 22, iter: 0/4, validation accuracies: [0.62929294 0.5       ], average train loss: 0.547656, average train accuracy: 0.833984\n",
      "epoch: 22, iter: 2/4, loss: 0.490356, accuracy: 0.851562\n",
      "epoch: 23, iter: 0/4, validation accuracies: [0.63131312 0.5       ], average train loss: 0.487340, average train accuracy: 0.857422\n",
      "epoch: 24, iter: 0/4, validation accuracies: [0.62929293 0.5       ], average train loss: 0.535174, average train accuracy: 0.841797\n",
      "epoch: 25, iter: 0/4, validation accuracies: [0.63232323 0.5       ], average train loss: 0.483451, average train accuracy: 0.853516\n",
      "epoch: 25, iter: 0/4, loss: 0.479263, accuracy: 0.867188\n",
      "epoch: 26, iter: 0/4, validation accuracies: [0.62929292 0.5       ], average train loss: 0.511777, average train accuracy: 0.857422\n",
      "epoch: 27, iter: 0/4, validation accuracies: [0.62777779 0.5       ], average train loss: 0.545925, average train accuracy: 0.843750\n",
      "epoch: 27, iter: 2/4, loss: 0.411344, accuracy: 0.890625\n",
      "epoch: 28, iter: 0/4, validation accuracies: [0.62727274 0.5       ], average train loss: 0.498179, average train accuracy: 0.851562\n",
      "epoch: 29, iter: 0/4, validation accuracies: [0.62676769 0.5       ], average train loss: 0.442691, average train accuracy: 0.876953\n",
      "epoch: 30, iter: 0/4, validation accuracies: [0.62676769 0.5       ], average train loss: 0.506941, average train accuracy: 0.849609\n",
      "epoch: 30, iter: 0/4, loss: 0.517433, accuracy: 0.820312\n",
      "epochs: 30.000000, final train loss: 0.517433, validation accuracies: [0.62676769 0.5       ]\n",
      "best epochs: 25.000000, best_avg: 0.631000, validation accuracies: [0.63232323 0.5       ]\n",
      "saving model dropout_hidden_prob=0.9,dropout_input_prob=0.9,epsilon=0.5,learning_rate=too_long,momentum=0.9,reg=0.0001,bf_num_images=2000,mask_softmax=True,old:new=1.0,task=1 at time step 280\n",
      "calculating penultimate output...\n",
      "time taken: %f 3.414236545562744\n",
      "saving penultimate output...\n"
     ]
    }
   ],
   "source": [
    "best_avg, best_hparams_index = tuner.tuneTasksInRange(1, t, BATCH_SIZE, num_hparams, \n",
    "                                                        num_updates=num_updates, verbose=True, \n",
    "                                                        random_crop_flip=True, \n",
    "                                                        is_sampling_reweighing=True, \n",
    "                                                        do_bf_finetuning=True, num_updates_bf=num_updates_bf, \n",
    "                                                        bf_only_penultimate_train=False, \n",
    "                                                        sigma=1000.0)"
   ]
  },
  {
   "cell_type": "code",
   "execution_count": null,
   "metadata": {
    "scrolled": true
   },
   "outputs": [],
   "source": [
    "plt.rcParams['figure.figsize'] = [5, 5]\n",
    "best_hparams_tuple = tuner.hparamsDictToTuple(hparams[best_hparams_index], tuner.tuner_hparams)\n",
    "cur_res = tuner.results_list[t][best_hparams_tuple]\n",
    "x = np.arange(0, cur_res[0]['total_updates'] + cur_res[1]['total_updates'], cur_res[0]['updates_per_epoch'])\n",
    "cur_best_avg = cur_res[1]['best_avg']\n",
    "cur_best_epoch = cur_res[1]['best_epoch']\n",
    "updates_per_epoch = cur_res[1]['updates_per_epoch']\n",
    "# print(\"dropout: %f, fisher_multiplier: %e, lr: %e\" % (k[0], k[1], k[2]))\n",
    "print(\"cur_best_avg: %e, num_updates: %d\" % (cur_best_avg, cur_best_epoch))\n",
    "print(\"best val_acc: %s\" % (str(np.array(cur_res[1]['val_acc'])[:, (cur_best_epoch - 1) // tuner.eval_frequency])))\n",
    "# plt.plot(cur_res['loss_with_penalty'], color='g')\n",
    "# plt.plot(np.concatenate((cur_res['loss'][0][-1], cur_res['loss'][1][-1]), axis=0), color='b')\n",
    "# plt.plot(np.concatenate((cur_res[0]['val_loss'][-1], cur_res[1]['val_loss'][-1]), axis=0), color='b')\n",
    "# plt.show()\n",
    "# plt.ylim(ymin=0.9)\n",
    "plt.plot(np.concatenate((cur_res[0]['val_acc'][-1], cur_res[1]['val_acc'][-1]), axis=0), color='b')\n",
    "plt.plot(np.concatenate((cur_res[0]['val_acc'][0], cur_res[1]['val_acc'][0]), axis=0), color='g')\n",
    "# plt.plot(cur_res['val_acc'][1], color='g')\n",
    "\n",
    "plt.show()"
   ]
  },
  {
   "cell_type": "code",
   "execution_count": 22,
   "metadata": {
    "scrolled": true
   },
   "outputs": [
    {
     "name": "stdout",
     "output_type": "stream",
     "text": [
      "0 0.001188264736057331\n",
      "1 0.004414208724722559\n",
      "2 0.002078123718060176\n",
      "3 0.0010416672445317469\n",
      "4 0.0010417025057140477\n",
      "5 0.00026045333358756074\n",
      "6 2.257424186417409e-09\n",
      "7 0.004369113268736182\n",
      "8 0.006492632891895505\n",
      "9 0.002903209359551758\n",
      "10 0.010297140406573762\n",
      "11 0.001004462138153627\n",
      "12 0.0029902672774151096\n",
      "13 0.0007493036873265493\n",
      "14 0.004343719565766423\n",
      "15 0.002091696841355189\n",
      "16 0.0028016484114135867\n",
      "17 1.3509541528568287e-16\n",
      "18 0.021731781007483877\n",
      "19 9.226632788962331e-07\n",
      "20 0.001655457188613929\n",
      "21 0.0007034562995464027\n",
      "22 0.030151306544673358\n",
      "23 0.002183212978419625\n",
      "24 2.9206027571997234e-12\n",
      "25 0.007565300238982131\n",
      "26 0.0061005607576614836\n",
      "27 0.006593075106314963\n",
      "28 0.009549556201138664\n",
      "29 0.001082566254157212\n",
      "30 0.0027305178838581265\n",
      "31 0.0011122952723468247\n",
      "32 0.002151705943064726\n",
      "33 0.0041674209585837495\n",
      "34 1.1092004816106925e-07\n",
      "35 8.701552136396638e-11\n",
      "36 3.787160013535058e-05\n",
      "37 1.564172429546028e-08\n",
      "38 3.7942153437396523e-06\n",
      "39 0.006469482752561895\n",
      "40 0.018810337035454903\n",
      "41 0.0069299338477431804\n",
      "42 0.0025962336787914205\n",
      "43 0.0010437908753121628\n",
      "44 0.03367112375136348\n",
      "45 0.004586276330810086\n",
      "46 0.0010341844031058714\n",
      "47 4.29725518403955e-21\n",
      "48 0.00021688079948637586\n",
      "49 0.0009932556394714014\n",
      "50 0.0011962772257842146\n",
      "51 0.0033875426960281963\n",
      "52 8.128180288490476e-33\n",
      "53 0.003049247885129448\n",
      "54 0.004166716518069607\n",
      "55 0.002125245799886108\n",
      "56 1.8300557637516112e-08\n",
      "57 0.003391600770642646\n",
      "58 7.917277438768345e-06\n",
      "59 0.001041685768321523\n",
      "60 0.00102737519046883\n",
      "61 0.04605220302989785\n",
      "62 0.00010864603191454887\n",
      "63 0.005079922476046142\n",
      "64 0.002029285158439741\n",
      "65 0.0010432785393684047\n",
      "66 0.00012216102261497874\n",
      "67 0.013815135941503236\n",
      "68 0.0010376749506980935\n",
      "69 0.020244412146786107\n",
      "70 0.0043486171920391805\n",
      "71 0.001040537597523282\n",
      "72 0.004057373590166167\n",
      "73 0.013766454492509038\n",
      "74 0.0022712449919971285\n",
      "75 0.008556008537254588\n",
      "76 0.003190954426559293\n",
      "77 0.005175528447535526\n",
      "78 0.08370830672204962\n",
      "79 0.0010428194588826068\n",
      "80 0.001100595962797513\n",
      "81 7.450639045825512e-12\n",
      "82 0.0010336948589398575\n",
      "83 0.0031579635417459855\n",
      "84 0.0017112819862279203\n",
      "85 3.472667599923548e-12\n",
      "86 0.0063244731425050535\n",
      "87 0.0037885664955871535\n",
      "88 5.132416373206023e-10\n",
      "89 0.00036264426163270613\n",
      "90 1.1642907023217626e-05\n",
      "91 0.005902842805229281\n",
      "92 0.0011902792079087421\n",
      "93 0.002065906572547184\n",
      "94 5.297090417795346e-14\n",
      "95 0.00985869757762444\n",
      "96 0.004162480985097031\n",
      "97 0.0010416623300434078\n",
      "98 0.00026303409468845184\n",
      "99 0.499999997312374\n"
     ]
    }
   ],
   "source": [
    "# Weights given to each class\n",
    "num_class = 100\n",
    "for i in range(num_class):\n",
    "    print(i, np.sum(tuner.appended_task_list[-1].train.weights[(np.argmax(tuner.appended_task_list[-1].train.labels, axis=1) == i)]))"
   ]
  },
  {
   "cell_type": "code",
   "execution_count": 34,
   "metadata": {},
   "outputs": [
    {
     "name": "stdout",
     "output_type": "stream",
     "text": [
      "(47520,)\n",
      "46080\n",
      "600\n"
     ]
    }
   ],
   "source": [
    "old_weights = tuner.appended_task_list[1].train.weights[np.argmax(tuner.appended_task_list[1].train.labels, axis=1) != 99]\n",
    "plt.rcParams['figure.figsize'] = [10, 10]\n",
    "# plt.hist(old_weights)\n",
    "# seaborn.distplot(old_weights)\n",
    "print(old_weights.shape)\n",
    "print(np.sum(old_weights < 1e-10))\n",
    "print(np.sum((old_weights >= 1e-5) * (old_weights < 1e-2)))\n",
    "# for i in range(1000):\n",
    "#     print(w[i])"
   ]
  },
  {
   "cell_type": "code",
   "execution_count": null,
   "metadata": {},
   "outputs": [],
   "source": [
    "tuner.saveResultsList()\n",
    "tuner.saveBestHparams()"
   ]
  },
  {
   "cell_type": "code",
   "execution_count": null,
   "metadata": {
    "scrolled": true
   },
   "outputs": [],
   "source": [
    "TEST_BATCH_SIZE = 128\n",
    "test_accuracies = []\n",
    "for i in range(t + 1):\n",
    "    accuracy = tuner.test(i, TEST_BATCH_SIZE, restore_model=True)\n",
    "    test_accuracies.append(np.mean(accuracy))"
   ]
  },
  {
   "cell_type": "code",
   "execution_count": null,
   "metadata": {},
   "outputs": [],
   "source": [
    "plt.plot(test_accuracies)\n",
    "plt.ylim(ymin=0, ymax=1)\n",
    "plt.show()"
   ]
  },
  {
   "cell_type": "code",
   "execution_count": null,
   "metadata": {},
   "outputs": [],
   "source": [
    "%store -r DB1_test_accuracies\n",
    "plt.plot(test_accuracies, color='g')\n",
    "plt.plot(DB1_test_accuracies, color='b')\n",
    "plt.ylim(ymin=0, ymax=1)\n",
    "plt.show()"
   ]
  },
  {
   "cell_type": "code",
   "execution_count": null,
   "metadata": {},
   "outputs": [],
   "source": [
    "plt.hist(tuner.appended_task_list[-1].train.weights[0 : tuner.appended_task_list[-2].train.weights.shape[0]], bins='auto')"
   ]
  },
  {
   "cell_type": "code",
   "execution_count": null,
   "metadata": {},
   "outputs": [],
   "source": [
    "if use_tpu:\n",
    "    sess.run(tpu.shutdown_system())\n",
    "\n",
    "sess.close()"
   ]
  },
  {
   "cell_type": "code",
   "execution_count": null,
   "metadata": {},
   "outputs": [],
   "source": [
    "import shelve\n",
    "filename='code_state.bak'\n",
    "my_shelf = shelve.open(filename,'n') # 'n' for new\n",
    "\n",
    "for key in dir():\n",
    "    try:\n",
    "        my_shelf[key] = globals()[key]\n",
    "    except TypeError:\n",
    "        #\n",
    "        # __builtins__, my_shelf, and imported modules can not be shelved.\n",
    "        #\n",
    "        print('ERROR shelving: {0}'.format(key))\n",
    "my_shelf.close()"
   ]
  },
  {
   "cell_type": "code",
   "execution_count": null,
   "metadata": {},
   "outputs": [],
   "source": []
  }
 ],
 "metadata": {
  "kernelspec": {
   "display_name": "Python 3",
   "language": "python",
   "name": "python3"
  },
  "language_info": {
   "codemirror_mode": {
    "name": "ipython",
    "version": 3
   },
   "file_extension": ".py",
   "mimetype": "text/x-python",
   "name": "python",
   "nbconvert_exporter": "python",
   "pygments_lexer": "ipython3",
   "version": "3.6.6"
  }
 },
 "nbformat": 4,
 "nbformat_minor": 2
}
