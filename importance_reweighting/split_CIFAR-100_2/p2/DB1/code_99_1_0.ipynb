{
 "cells": [
  {
   "cell_type": "markdown",
   "metadata": {},
   "source": [
    "### Import and init GPU"
   ]
  },
  {
   "cell_type": "code",
   "execution_count": 1,
   "metadata": {},
   "outputs": [],
   "source": [
    "from IPython.display import Audio"
   ]
  },
  {
   "cell_type": "code",
   "execution_count": 2,
   "metadata": {},
   "outputs": [],
   "source": [
    "import sys\n",
    "sys.path.append('../../../')"
   ]
  },
  {
   "cell_type": "code",
   "execution_count": 3,
   "metadata": {},
   "outputs": [],
   "source": [
    "import numpy as np\n",
    "import math\n",
    "\n",
    "%matplotlib inline\n",
    "import matplotlib.pyplot as plt\n",
    "\n",
    "import pickle\n",
    "import argparse\n",
    "import time\n",
    "import itertools\n",
    "from copy import deepcopy\n",
    "import tensorflow as tf\n",
    "\n",
    "from tuner import HyperparameterTuner\n",
    "from tuner import MyTask\n",
    "\n",
    "use_tpu = False\n",
    "use_gpu = True\n",
    "\n",
    "if use_tpu:\n",
    "    from tensorflow.contrib import tpu\n",
    "    from tensorflow.contrib.cluster_resolver import TPUClusterResolver\n",
    "\n",
    "if use_gpu:\n",
    "    import os\n",
    "    \n",
    "%load_ext autoreload\n",
    "%autoreload 2"
   ]
  },
  {
   "cell_type": "code",
   "execution_count": 4,
   "metadata": {
    "code_folding": []
   },
   "outputs": [],
   "source": [
    "if use_gpu:\n",
    "    os.environ['CUDA_VISIBLE_DEVICES'] = '2'\n",
    "    config = tf.ConfigProto()\n",
    "    config.gpu_options.allow_growth = True"
   ]
  },
  {
   "cell_type": "code",
   "execution_count": 5,
   "metadata": {},
   "outputs": [],
   "source": [
    "if use_tpu:\n",
    "    tpu_cluster = TPUClusterResolver(tpu=[tpu_name]).get_master()\n",
    "    sess = tf.Session(tpu_cluster)\n",
    "    sess.run(tpu.initialize_system())\n",
    "elif use_gpu:\n",
    "    sess = tf.Session(config=config)\n",
    "else:\n",
    "    sess = tf.Session()"
   ]
  },
  {
   "cell_type": "code",
   "execution_count": 6,
   "metadata": {},
   "outputs": [],
   "source": [
    "from resnet import Network"
   ]
  },
  {
   "cell_type": "code",
   "execution_count": 7,
   "metadata": {},
   "outputs": [],
   "source": [
    "network = Network()"
   ]
  },
  {
   "cell_type": "code",
   "execution_count": 8,
   "metadata": {},
   "outputs": [],
   "source": [
    "task_home = ''\n",
    "if use_tpu:\n",
    "    pass\n",
    "#     task_home = 'gs://continual_learning/permMNIST_EWC/'\n",
    "else:\n",
    "    task_home = '../../../../'\n",
    "\n",
    "cur_dir = './'\n",
    "checkpoint_path = cur_dir + 'checkpoints_99_1_0/'\n",
    "summaries_path = cur_dir + 'summaries_99_1_0/'\n",
    "data_path = task_home + 'cifar-100-python/'\n",
    "split_path = './split.txt' \n",
    "if use_tpu:\n",
    "    tpu_name = 'gectpu'\n",
    "    \n",
    "BATCH_SIZE = 128"
   ]
  },
  {
   "cell_type": "markdown",
   "metadata": {},
   "source": [
    "### Dataset loading functions"
   ]
  },
  {
   "cell_type": "code",
   "execution_count": 9,
   "metadata": {
    "code_folding": [
     2,
     29,
     36,
     41
    ]
   },
   "outputs": [],
   "source": [
    "label_smooth_param = 0\n",
    "\n",
    "def splitDataset(dataset, dataset_split, seed):\n",
    "    np.random.seed(seed)\n",
    "    task_list = []\n",
    "    train_labels = np.argmax(dataset.train.labels, axis=1)\n",
    "    validation_labels = np.argmax(dataset.validation.labels, axis=1)\n",
    "    test_labels = np.argmax(dataset.test.labels, axis=1)\n",
    "    for i in range(len(dataset_split)):\n",
    "        cur_train_indices = [False] * dataset.train.images.shape[0]\n",
    "        cur_validation_indices = [False] * dataset.validation.images.shape[0]\n",
    "        cur_test_indices = [False] * dataset.test.images.shape[0]\n",
    "        for j in range(len(dataset_split[i])):\n",
    "            cur_train_indices = np.logical_or(cur_train_indices, (train_labels == dataset_split[i][j]))\n",
    "            cur_validation_indices = np.logical_or(cur_validation_indices, (validation_labels == dataset_split[i][j]))\n",
    "            cur_test_indices = np.logical_or(cur_test_indices, (test_labels == dataset_split[i][j]))\n",
    "\n",
    "        task = deepcopy(dataset)\n",
    "        task.train.images = task.train.images[cur_train_indices]\n",
    "        task.train.labels = task.train.labels[cur_train_indices]\n",
    "        task.validation.images = task.validation.images[cur_validation_indices]\n",
    "        task.validation.labels = task.validation.labels[cur_validation_indices]\n",
    "        task.test.images = task.test.images[cur_test_indices]\n",
    "        task.test.labels = task.test.labels[cur_test_indices]\n",
    "        task = MyTask(task)\n",
    "        task_list.append(task)\n",
    "\n",
    "    return task_list\n",
    "    \n",
    "def smoothLabels(dataset):\n",
    "    train_labels = dataset.train.labels\n",
    "    train_labels_argmax = np.argmax(train_labels, axis=1)\n",
    "    train_labels = train_labels + label_smooth_param / (train_labels.shape[1] - 1)\n",
    "    train_labels[range(train_labels.shape[0]), train_labels_argmax] = 1 - label_smooth_param\n",
    "    dataset.train._labels = train_labels\n",
    "\n",
    "class TempDataset(object):\n",
    "    def __init__(self):\n",
    "        self.images = None\n",
    "        self.labels = None\n",
    "    \n",
    "class TempTask(object):\n",
    "    def __init__(self):\n",
    "        self.train = TempDataset()\n",
    "        self.validation = TempDataset()\n",
    "        self.test = TempDataset()\n",
    "    \n",
    "    \n",
    "def readDatasets():\n",
    "    num_class = 100\n",
    "    class_per_task = 2\n",
    "    k = 0\n",
    "    labels_list = list(range(num_class))\n",
    "    seed = 0\n",
    "    np.random.seed(seed)\n",
    "    np.random.shuffle(labels_list)\n",
    "    split = []\n",
    "    task_weights = []\n",
    "    \n",
    "    split = [range(99), [99]]\n",
    "    task_weights = [0.99, 0.01]\n",
    "    num_tasks = len(split)\n",
    "    \n",
    "    with open(data_path + 'train', 'rb') as f:\n",
    "        f_train_data = pickle.load(f, encoding='bytes')\n",
    "        \n",
    "    with open(data_path + 'test', 'rb') as f:\n",
    "        f_test_data = pickle.load(f, encoding='bytes')\n",
    "        \n",
    "    cifar_100 = TempTask()\n",
    "    temp_train_labels = np.array(f_train_data[b'fine_labels'], dtype=np.int32)\n",
    "    temp_test_labels = np.array(f_test_data[b'fine_labels'], dtype=np.int32)\n",
    "    f_train_data[b'fine_labels'] = np.zeros((temp_train_labels.shape[0], num_class))\n",
    "    (f_train_data[b'fine_labels'])[range(temp_train_labels.shape[0]), temp_train_labels] = 1\n",
    "    f_test_data[b'fine_labels'] = np.zeros((temp_test_labels.shape[0], num_class))\n",
    "    (f_test_data[b'fine_labels'])[range(temp_test_labels.shape[0]), temp_test_labels] = 1\n",
    "    f_train_data[b'data'] = np.reshape(f_train_data[b'data'], (-1, 3, 32, 32))\n",
    "    f_test_data[b'data'] = np.reshape(f_test_data[b'data'], (-1, 3, 32, 32))\n",
    "    f_train_data[b'data'] = np.transpose(f_train_data[b'data'], (0, 2, 3, 1))\n",
    "    f_test_data[b'data'] = np.transpose(f_test_data[b'data'], (0, 2, 3, 1))\n",
    "    \n",
    "    tr_data = f_train_data[b'data']\n",
    "    te_data = f_test_data[b'data']\n",
    "    # normalizing data\n",
    "    avg = np.mean(tr_data, axis=(0, 1, 2))\n",
    "    std = np.std(tr_data, axis=(0, 1, 2))\n",
    "    \n",
    "    f_train_data[b'data'] = (tr_data - avg) / std\n",
    "    f_test_data[b'data'] = (te_data - avg) / std\n",
    "    \n",
    "    seed = 0\n",
    "    np.random.seed(0)\n",
    "    shuffle_train_perm = np.random.permutation(f_train_data[b'data'].shape[0])\n",
    "    f_train_data[b'data'] = f_train_data[b'data'][shuffle_train_perm]\n",
    "    f_train_data[b'fine_labels'] = f_train_data[b'fine_labels'][shuffle_train_perm]\n",
    "    \n",
    "    num_val_per_class = 20\n",
    "    \n",
    "    for i in range(num_class):\n",
    "        pos = (np.argmax(f_train_data[b'fine_labels'], axis=1) == i)\n",
    "        \n",
    "        if (i == 0):\n",
    "            cifar_100.validation.images = (f_train_data[b'data'][pos])[0 : num_val_per_class]\n",
    "            cifar_100.validation.labels = (f_train_data[b'fine_labels'][pos])[0 : num_val_per_class]\n",
    "\n",
    "            cifar_100.train.images = (f_train_data[b'data'][pos])[num_val_per_class : ]\n",
    "            cifar_100.train.labels = (f_train_data[b'fine_labels'][pos])[num_val_per_class : ]\n",
    "        else:\n",
    "            cifar_100.validation.images = np.concatenate((cifar_100.validation.images, (f_train_data[b'data'][pos])[0 : num_val_per_class]))\n",
    "            cifar_100.validation.labels = np.concatenate((cifar_100.validation.labels, (f_train_data[b'fine_labels'][pos])[0 : num_val_per_class]))\n",
    "\n",
    "            cifar_100.train.images = np.concatenate((cifar_100.train.images, (f_train_data[b'data'][pos])[num_val_per_class : ]))\n",
    "            cifar_100.train.labels = np.concatenate((cifar_100.train.labels, (f_train_data[b'fine_labels'][pos])[num_val_per_class : ]))\n",
    "        \n",
    "    cifar_100.test.images = f_test_data[b'data']\n",
    "    cifar_100.test.labels = f_test_data[b'fine_labels']\n",
    "    \n",
    "    shuffle_train_perm = np.random.permutation(cifar_100.train.images.shape[0])\n",
    "    cifar_100.train.images = cifar_100.train.images[shuffle_train_perm]\n",
    "    cifar_100.train.labels = cifar_100.train.labels[shuffle_train_perm]\n",
    "    \n",
    "    if (label_smooth_param != 0):\n",
    "        smoothLabels(cifar_100)\n",
    "        \n",
    "    task_list = splitDataset(cifar_100, split, seed)\n",
    "    return split, num_tasks, task_weights, task_list"
   ]
  },
  {
   "cell_type": "markdown",
   "metadata": {},
   "source": [
    "### Create tuner object and train!!"
   ]
  },
  {
   "cell_type": "code",
   "execution_count": 10,
   "metadata": {},
   "outputs": [],
   "source": [
    "input_shape = (32, 32, 3)\n",
    "output_shape = (100, )"
   ]
  },
  {
   "cell_type": "code",
   "execution_count": 11,
   "metadata": {},
   "outputs": [
    {
     "name": "stdout",
     "output_type": "stream",
     "text": [
      "WARNING:tensorflow:From ../../../classifiers.py:98: softmax_cross_entropy_with_logits (from tensorflow.python.ops.nn_ops) is deprecated and will be removed in a future version.\n",
      "Instructions for updating:\n",
      "\n",
      "Future major versions of TensorFlow will allow gradients to flow\n",
      "into the labels input on backprop by default.\n",
      "\n",
      "See @{tf.nn.softmax_cross_entropy_with_logits_v2}.\n",
      "\n"
     ]
    }
   ],
   "source": [
    "tuner = HyperparameterTuner(sess=sess, network=network, \n",
    "                            input_shape=input_shape, output_shape=output_shape,\n",
    "                            checkpoint_path=checkpoint_path, summaries_path=summaries_path, \n",
    "                            readDatasets=readDatasets, load_best_hparams=False)"
   ]
  },
  {
   "cell_type": "code",
   "execution_count": 12,
   "metadata": {},
   "outputs": [],
   "source": [
    "tuner.setPerExampleAppend(1.0)\n",
    "tuner.updateTunerHparams({'mask_softmax' : True})"
   ]
  },
  {
   "cell_type": "markdown",
   "metadata": {
    "heading_collapsed": true
   },
   "source": [
    "### Training each task separately"
   ]
  },
  {
   "cell_type": "code",
   "execution_count": null,
   "metadata": {
    "hidden": true,
    "scrolled": true
   },
   "outputs": [],
   "source": [
    "t = 0\n",
    "learning_rates = [1e-1]\n",
    "momentums = [0.9]\n",
    "regs = [0.0001]\n",
    "dropout_input_probs = [1.0]\n",
    "dropout_hidden_probs = [0.9]\n",
    "prod = list(itertools.product(regs, dropout_input_probs, dropout_hidden_probs, momentums, learning_rates))\n",
    "hparams = []\n",
    "for hparams_tuple in prod:\n",
    "    cur_dict = {}\n",
    "    cur_dict['reg'] = hparams_tuple[0]\n",
    "    cur_dict['dropout_input_prob'] = hparams_tuple[2]\n",
    "    cur_dict['dropout_hidden_prob'] = hparams_tuple[2]\n",
    "    cur_dict['momentum'] = hparams_tuple[3]\n",
    "    cur_dict['learning_rate'] = hparams_tuple[4]\n",
    "    hparams.append(cur_dict)\n",
    "\n",
    "tuner.hparams_list[t] = hparams"
   ]
  },
  {
   "cell_type": "code",
   "execution_count": null,
   "metadata": {
    "hidden": true
   },
   "outputs": [],
   "source": [
    "num_epochs = 160\n",
    "num_updates = math.ceil(tuner.task_list[t].train.images.shape[0] / BATCH_SIZE) * num_epochs\n",
    "tuner.print_every = 10"
   ]
  },
  {
   "cell_type": "code",
   "execution_count": null,
   "metadata": {
    "hidden": true
   },
   "outputs": [],
   "source": [
    "start_time = time.time()\n",
    "best_avg, best_hparams = tuner.tuneOnTask(t, BATCH_SIZE, \n",
    "                                          save_weights=False, \n",
    "                                          num_updates=num_updates, verbose=True, \n",
    "                                          random_crop_flip=True)\n",
    "print(\"time taken : %d\" % (time.time() - start_time))\n",
    "sound_file = '/mnt/a99/d0/shriramsb/code/Alan Walker - Alone.mp3'\n",
    "Audio(sound_file, autoplay=True)"
   ]
  },
  {
   "cell_type": "code",
   "execution_count": null,
   "metadata": {
    "hidden": true
   },
   "outputs": [],
   "source": [
    "import math\n",
    "plt.rcParams['figure.figsize'] = [10, 5]\n",
    "lr_scatter = ([math.log10(h['learning_rate']) for h in hparams])\n",
    "dropout_scatter = [h['dropout_hidden_prob'] for h in hparams]\n",
    "colors = []\n",
    "for i in range(len(hparams)):\n",
    "    cur_hparam_tuple = tuner.hparamsDictToTuple(hparams[i], tuner.tuner_hparams)\n",
    "    colors.append(tuner.results_list[t][cur_hparam_tuple]['best_avg'])\n",
    "    \n",
    "marker_size = 100\n",
    "fig, ax = plt.subplots()\n",
    "plt.scatter(lr_scatter, dropout_scatter, marker_size, c=colors, edgecolors='black')\n",
    "plt.colorbar()\n",
    "for i in range(len(lr_scatter)):\n",
    "    ax.annotate(str('%0.4f' % (colors[i], )), (lr_scatter[i], dropout_scatter[i]))\n",
    "plt.show()"
   ]
  },
  {
   "cell_type": "code",
   "execution_count": null,
   "metadata": {
    "hidden": true
   },
   "outputs": [],
   "source": [
    "plt.rcParams['figure.figsize'] = [10, 10]\n",
    "best_hparams_tuple = tuner.hparamsDictToTuple(hparams[0], tuner.tuner_hparams)\n",
    "cur_res = tuner.results_list[t][best_hparams_tuple]\n",
    "x = np.arange(0, cur_res['total_updates'], cur_res['updates_per_epoch'])\n",
    "cur_best_avg = cur_res['best_avg']\n",
    "cur_best_avg_updates = cur_res['best_avg_updates']\n",
    "updates_per_epoch = cur_res['updates_per_epoch']\n",
    "# print(\"dropout: %f, fisher_multiplier: %e, lr: %e\" % (k[0], k[1], k[2]))\n",
    "print(\"cur_best_avg: %e, num_updates: %d\" % (cur_best_avg, cur_best_avg_updates))\n",
    "print(\"best val_acc: %s\" % (str(np.array(cur_res['val_acc'])[:, (cur_best_avg_updates // updates_per_epoch - 1) // tuner.eval_frequency])))\n",
    "# plt.plot(cur_res['loss_with_penalty'], color='g')\n",
    "plt.plot(cur_res['loss'], color='m')\n",
    "plt.plot(x, cur_res['val_loss'][-1], color='b')\n",
    "plt.show()\n",
    "# plt.ylim(ymin=0.9)\n",
    "plt.plot(cur_res['val_acc'][0], color='b', )\n",
    "# plt.plot(cur_res['val_acc'][1], color='g')\n",
    "\n",
    "plt.show()"
   ]
  },
  {
   "cell_type": "code",
   "execution_count": null,
   "metadata": {
    "hidden": true
   },
   "outputs": [],
   "source": [
    "# print(best_avg, best_hparams)\n",
    "VALIDATION_BATCH_SIZE = 128\n",
    "print(tuner.validationAccuracy(t, VALIDATION_BATCH_SIZE, restore_model=False))"
   ]
  },
  {
   "cell_type": "code",
   "execution_count": null,
   "metadata": {
    "hidden": true
   },
   "outputs": [],
   "source": [
    "t = 1\n",
    "learning_rates = [1e-1]\n",
    "momentums = [0.9]\n",
    "regs = [0.0001]\n",
    "dropout_input_probs = [1.0]\n",
    "dropout_hidden_probs = [0.9]\n",
    "prod = list(itertools.product(regs, dropout_input_probs, dropout_hidden_probs, momentums, learning_rates))\n",
    "hparams = []\n",
    "for hparams_tuple in prod:\n",
    "    cur_dict = {}\n",
    "    cur_dict['reg'] = hparams_tuple[0]\n",
    "    cur_dict['dropout_input_prob'] = hparams_tuple[2]\n",
    "    cur_dict['dropout_hidden_prob'] = hparams_tuple[2]\n",
    "    cur_dict['momentum'] = hparams_tuple[3]\n",
    "    cur_dict['learning_rate'] = hparams_tuple[4]\n",
    "    hparams.append(cur_dict)\n",
    "\n",
    "tuner.hparams_list[t] = hparams"
   ]
  },
  {
   "cell_type": "code",
   "execution_count": null,
   "metadata": {
    "hidden": true
   },
   "outputs": [],
   "source": [
    "num_epochs = 160\n",
    "num_updates = math.ceil(tuner.task_list[t].train.images.shape[0] / BATCH_SIZE) * num_epochs\n",
    "tuner.print_every = 10"
   ]
  },
  {
   "cell_type": "code",
   "execution_count": null,
   "metadata": {
    "hidden": true
   },
   "outputs": [],
   "source": [
    "start_time = time.time()\n",
    "best_avg, best_hparams = tuner.tuneOnTask(t, BATCH_SIZE, \n",
    "                                          save_weights=False, \n",
    "                                          num_updates=num_updates, verbose=True, \n",
    "                                          random_crop_flip=True)\n",
    "print(\"time taken : %d\" % (time.time() - start_time))\n",
    "sound_file = '/mnt/a99/d0/shriramsb/code/Alan Walker - Alone.mp3'\n",
    "Audio(sound_file, autoplay=True)"
   ]
  },
  {
   "cell_type": "code",
   "execution_count": null,
   "metadata": {
    "hidden": true
   },
   "outputs": [],
   "source": [
    "import math\n",
    "plt.rcParams['figure.figsize'] = [10, 5]\n",
    "lr_scatter = ([math.log10(h['learning_rate']) for h in hparams])\n",
    "dropout_scatter = [h['dropout_hidden_prob'] for h in hparams]\n",
    "colors = []\n",
    "for i in range(len(hparams)):\n",
    "    cur_hparam_tuple = tuner.hparamsDictToTuple(hparams[i], tuner.tuner_hparams)\n",
    "    colors.append(tuner.results_list[t][cur_hparam_tuple]['best_avg'])\n",
    "    \n",
    "marker_size = 100\n",
    "fig, ax = plt.subplots()\n",
    "plt.scatter(lr_scatter, dropout_scatter, marker_size, c=colors, edgecolors='black')\n",
    "plt.colorbar()\n",
    "for i in range(len(lr_scatter)):\n",
    "    ax.annotate(str('%0.4f' % (colors[i], )), (lr_scatter[i], dropout_scatter[i]))\n",
    "plt.show()"
   ]
  },
  {
   "cell_type": "code",
   "execution_count": null,
   "metadata": {
    "hidden": true
   },
   "outputs": [],
   "source": [
    "plt.rcParams['figure.figsize'] = [10, 10]\n",
    "best_hparams_tuple = tuner.hparamsDictToTuple(hparams[0], tuner.tuner_hparams)\n",
    "cur_res = tuner.results_list[t][best_hparams_tuple]\n",
    "x = np.arange(0, cur_res['total_updates'], cur_res['updates_per_epoch'])\n",
    "cur_best_avg = cur_res['best_avg']\n",
    "cur_best_avg_updates = cur_res['best_avg_updates']\n",
    "updates_per_epoch = cur_res['updates_per_epoch']\n",
    "# print(\"dropout: %f, fisher_multiplier: %e, lr: %e\" % (k[0], k[1], k[2]))\n",
    "print(\"cur_best_avg: %e, num_updates: %d\" % (cur_best_avg, cur_best_avg_updates))\n",
    "print(\"best val_acc: %s\" % (str(np.array(cur_res['val_acc'])[:, (cur_best_avg_updates // updates_per_epoch - 1) // tuner.eval_frequency])))\n",
    "# plt.plot(cur_res['loss_with_penalty'], color='g')\n",
    "plt.plot(cur_res['loss'], color='m')\n",
    "plt.plot(x, cur_res['val_loss'][-1], color='b')\n",
    "plt.show()\n",
    "# plt.ylim(ymin=0.9)\n",
    "plt.plot(cur_res['val_acc'][0], color='b', )\n",
    "plt.plot(cur_res['val_acc'][1], color='g')\n",
    "\n",
    "plt.show()"
   ]
  },
  {
   "cell_type": "markdown",
   "metadata": {},
   "source": [
    "### Train tasks together"
   ]
  },
  {
   "cell_type": "code",
   "execution_count": 21,
   "metadata": {},
   "outputs": [],
   "source": [
    "t = 0\n",
    "learning_rates = [(((49, 1e-1), (63, 1e-1 / 5), 1e-1 / (5 * 5)), (1e-1, ))]\n",
    "momentums = [0.9]\n",
    "regs = [0.00001]\n",
    "dropout_input_probs = [1.0]\n",
    "dropout_hidden_probs = [0.9]\n",
    "prod = list(itertools.product(regs, dropout_input_probs, dropout_hidden_probs, momentums, learning_rates))\n",
    "hparams = []\n",
    "for hparams_tuple in prod:\n",
    "    cur_dict = {}\n",
    "    cur_dict['reg'] = hparams_tuple[0]\n",
    "    cur_dict['dropout_input_prob'] = hparams_tuple[2]\n",
    "    cur_dict['dropout_hidden_prob'] = hparams_tuple[2]\n",
    "    cur_dict['momentum'] = hparams_tuple[3]\n",
    "    cur_dict['learning_rate'] = hparams_tuple[4]\n",
    "    hparams.append(cur_dict)\n",
    "    \n",
    "for i in range(0, t + 1):\n",
    "    tuner.hparams_list[i] = hparams\n",
    "    "
   ]
  },
  {
   "cell_type": "code",
   "execution_count": 22,
   "metadata": {},
   "outputs": [],
   "source": [
    "num_hparams = len(hparams)\n",
    "num_epochs = 70\n",
    "num_updates = math.ceil(tuner.task_list[t].train.images.shape[0] / BATCH_SIZE) * num_epochs\n",
    "tuner.print_every = 100"
   ]
  },
  {
   "cell_type": "code",
   "execution_count": 23,
   "metadata": {},
   "outputs": [
    {
     "name": "stdout",
     "output_type": "stream",
     "text": [
      "Training with T=None,alpha=0.0,dropout_hidden_prob=0.9,dropout_input_prob=0.9,epsilon=0.0,fisher_multiplier=0.0,learning_rate=too_long,momentum=0.9,reg=1e-05,bf_num_images=2000,mask_softmax=True,old:new=1.0,task=0\n",
      "epoch: 0, iter: 100/372, loss: 4.078877, accuracy: 0.062500\n",
      "epoch: 0, iter: 200/372, loss: 3.832933, accuracy: 0.117188\n",
      "epoch: 0, iter: 300/372, loss: 3.683741, accuracy: 0.085938\n",
      "epoch: 1, iter: 0/372, validation accuracies: [0.0989899], average train loss: 4.026836, average train accuracy: 0.074807\n",
      "epoch: 1, iter: 28/372, loss: 3.747323, accuracy: 0.093750\n",
      "epoch: 1, iter: 128/372, loss: 3.546686, accuracy: 0.078125\n",
      "epoch: 1, iter: 228/372, loss: 3.606417, accuracy: 0.164062\n",
      "epoch: 1, iter: 328/372, loss: 3.229083, accuracy: 0.203125\n",
      "epoch: 2, iter: 0/372, validation accuracies: [0.17929293], average train loss: 3.427123, average train accuracy: 0.165449\n",
      "epoch: 2, iter: 56/372, loss: 3.232556, accuracy: 0.164062\n",
      "epoch: 2, iter: 156/372, loss: 3.069692, accuracy: 0.203125\n",
      "epoch: 2, iter: 256/372, loss: 2.966223, accuracy: 0.234375\n",
      "epoch: 2, iter: 356/372, loss: 2.710510, accuracy: 0.226562\n",
      "epoch: 3, iter: 0/372, validation accuracies: [0.25353535], average train loss: 3.006546, average train accuracy: 0.240360\n",
      "epoch: 3, iter: 84/372, loss: 2.838476, accuracy: 0.281250\n",
      "epoch: 3, iter: 184/372, loss: 2.665554, accuracy: 0.312500\n",
      "epoch: 3, iter: 284/372, loss: 2.575456, accuracy: 0.367188\n",
      "epoch: 4, iter: 0/372, validation accuracies: [0.32222222], average train loss: 2.618496, average train accuracy: 0.318947\n",
      "epoch: 4, iter: 12/372, loss: 2.168360, accuracy: 0.335938\n",
      "epoch: 4, iter: 112/372, loss: 2.175857, accuracy: 0.437500\n",
      "epoch: 4, iter: 212/372, loss: 2.254723, accuracy: 0.375000\n",
      "epoch: 4, iter: 312/372, loss: 1.894215, accuracy: 0.460938\n",
      "epoch: 5, iter: 0/372, validation accuracies: [0.34393939], average train loss: 2.314864, average train accuracy: 0.384493\n",
      "epoch: 5, iter: 40/372, loss: 2.191927, accuracy: 0.414062\n",
      "epoch: 5, iter: 140/372, loss: 2.166665, accuracy: 0.351562\n",
      "epoch: 5, iter: 240/372, loss: 2.099378, accuracy: 0.421875\n",
      "epoch: 5, iter: 340/372, loss: 1.961857, accuracy: 0.507812\n",
      "epoch: 6, iter: 0/372, validation accuracies: [0.40656565], average train loss: 2.110469, average train accuracy: 0.431284\n",
      "epoch: 6, iter: 68/372, loss: 1.904800, accuracy: 0.460938\n",
      "epoch: 6, iter: 168/372, loss: 1.565915, accuracy: 0.593750\n",
      "epoch: 6, iter: 268/372, loss: 2.126306, accuracy: 0.453125\n",
      "epoch: 6, iter: 368/372, loss: 1.948223, accuracy: 0.484375\n",
      "epoch: 7, iter: 0/372, validation accuracies: [0.42828282], average train loss: 1.926944, average train accuracy: 0.471102\n",
      "epoch: 7, iter: 96/372, loss: 1.735259, accuracy: 0.523438\n",
      "epoch: 7, iter: 196/372, loss: 1.720818, accuracy: 0.562500\n",
      "epoch: 7, iter: 296/372, loss: 1.822723, accuracy: 0.500000\n",
      "epoch: 8, iter: 0/372, validation accuracies: [0.42929293], average train loss: 1.808394, average train accuracy: 0.495338\n",
      "epoch: 8, iter: 24/372, loss: 1.778143, accuracy: 0.546875\n",
      "epoch: 8, iter: 124/372, loss: 1.593401, accuracy: 0.523438\n",
      "epoch: 8, iter: 224/372, loss: 1.390084, accuracy: 0.554688\n",
      "epoch: 8, iter: 324/372, loss: 1.863707, accuracy: 0.523438\n",
      "epoch: 9, iter: 0/372, validation accuracies: [0.42979798], average train loss: 1.711662, average train accuracy: 0.524110\n",
      "epoch: 9, iter: 52/372, loss: 1.641402, accuracy: 0.546875\n",
      "epoch: 9, iter: 152/372, loss: 1.505101, accuracy: 0.640625\n",
      "epoch: 9, iter: 252/372, loss: 1.493066, accuracy: 0.554688\n",
      "epoch: 9, iter: 352/372, loss: 1.563834, accuracy: 0.554688\n",
      "epoch: 10, iter: 0/372, validation accuracies: [0.48080809], average train loss: 1.604129, average train accuracy: 0.547400\n",
      "epoch: 10, iter: 80/372, loss: 1.287951, accuracy: 0.671875\n",
      "epoch: 10, iter: 180/372, loss: 1.670268, accuracy: 0.523438\n",
      "epoch: 10, iter: 280/372, loss: 1.688706, accuracy: 0.531250\n",
      "epoch: 11, iter: 0/372, validation accuracies: [0.50151515], average train loss: 1.537594, average train accuracy: 0.564222\n",
      "epoch: 11, iter: 8/372, loss: 1.407756, accuracy: 0.570312\n",
      "epoch: 11, iter: 108/372, loss: 1.637191, accuracy: 0.562500\n",
      "epoch: 11, iter: 208/372, loss: 1.249053, accuracy: 0.656250\n",
      "epoch: 11, iter: 308/372, loss: 1.278292, accuracy: 0.617188\n",
      "epoch: 12, iter: 0/372, validation accuracies: [0.51060606], average train loss: 1.458135, average train accuracy: 0.586946\n",
      "epoch: 12, iter: 36/372, loss: 1.354674, accuracy: 0.632812\n",
      "epoch: 12, iter: 136/372, loss: 1.429045, accuracy: 0.585938\n",
      "epoch: 12, iter: 236/372, loss: 1.380151, accuracy: 0.601562\n",
      "epoch: 12, iter: 336/372, loss: 1.456538, accuracy: 0.578125\n",
      "epoch: 13, iter: 0/372, validation accuracies: [0.51262625], average train loss: 1.395894, average train accuracy: 0.598307\n",
      "epoch: 13, iter: 64/372, loss: 1.417865, accuracy: 0.578125\n",
      "epoch: 13, iter: 164/372, loss: 1.222033, accuracy: 0.648438\n",
      "epoch: 13, iter: 264/372, loss: 1.191968, accuracy: 0.625000\n",
      "epoch: 13, iter: 364/372, loss: 1.428134, accuracy: 0.570312\n",
      "epoch: 14, iter: 0/372, validation accuracies: [0.5171717], average train loss: 1.346988, average train accuracy: 0.612021\n",
      "epoch: 14, iter: 92/372, loss: 1.522280, accuracy: 0.593750\n",
      "epoch: 14, iter: 192/372, loss: 1.389354, accuracy: 0.585938\n",
      "epoch: 14, iter: 292/372, loss: 1.173183, accuracy: 0.640625\n",
      "epoch: 15, iter: 0/372, validation accuracies: [0.53333333], average train loss: 1.288480, average train accuracy: 0.626260\n",
      "epoch: 15, iter: 20/372, loss: 1.413082, accuracy: 0.648438\n",
      "epoch: 15, iter: 120/372, loss: 1.254250, accuracy: 0.601562\n",
      "epoch: 15, iter: 220/372, loss: 1.242644, accuracy: 0.664062\n",
      "epoch: 15, iter: 320/372, loss: 1.456495, accuracy: 0.648438\n",
      "epoch: 16, iter: 0/372, validation accuracies: [0.53939394], average train loss: 1.245565, average train accuracy: 0.637433\n",
      "epoch: 16, iter: 48/372, loss: 1.280461, accuracy: 0.593750\n",
      "epoch: 16, iter: 148/372, loss: 1.189667, accuracy: 0.640625\n",
      "epoch: 16, iter: 248/372, loss: 1.213227, accuracy: 0.625000\n",
      "epoch: 16, iter: 348/372, loss: 1.257546, accuracy: 0.585938\n",
      "epoch: 17, iter: 0/372, validation accuracies: [0.5419192], average train loss: 1.222163, average train accuracy: 0.643712\n",
      "epoch: 17, iter: 76/372, loss: 1.120628, accuracy: 0.656250\n",
      "epoch: 17, iter: 176/372, loss: 0.965257, accuracy: 0.726562\n",
      "epoch: 17, iter: 276/372, loss: 0.967509, accuracy: 0.718750\n",
      "epoch: 18, iter: 0/372, validation accuracies: [0.51060606], average train loss: 1.178469, average train accuracy: 0.654465\n",
      "epoch: 18, iter: 4/372, loss: 1.546860, accuracy: 0.570312\n",
      "epoch: 18, iter: 104/372, loss: 1.374022, accuracy: 0.585938\n",
      "epoch: 18, iter: 204/372, loss: 1.232173, accuracy: 0.625000\n",
      "epoch: 18, iter: 304/372, loss: 1.304496, accuracy: 0.617188\n",
      "epoch: 19, iter: 0/372, validation accuracies: [0.54343433], average train loss: 1.138288, average train accuracy: 0.665029\n",
      "epoch: 19, iter: 32/372, loss: 1.170742, accuracy: 0.648438\n",
      "epoch: 19, iter: 132/372, loss: 1.058573, accuracy: 0.734375\n",
      "epoch: 19, iter: 232/372, loss: 0.997249, accuracy: 0.687500\n",
      "epoch: 19, iter: 332/372, loss: 1.303455, accuracy: 0.664062\n",
      "epoch: 20, iter: 0/372, validation accuracies: [0.54595961], average train loss: 1.108753, average train accuracy: 0.676390\n",
      "epoch: 20, iter: 60/372, loss: 1.233782, accuracy: 0.664062\n",
      "epoch: 20, iter: 160/372, loss: 0.949405, accuracy: 0.726562\n",
      "epoch: 20, iter: 260/372, loss: 0.959074, accuracy: 0.710938\n",
      "epoch: 20, iter: 360/372, loss: 1.012072, accuracy: 0.726562\n",
      "epoch: 21, iter: 0/372, validation accuracies: [0.56010102], average train loss: 1.078771, average train accuracy: 0.684644\n",
      "epoch: 21, iter: 88/372, loss: 1.212550, accuracy: 0.601562\n",
      "epoch: 21, iter: 188/372, loss: 0.877087, accuracy: 0.750000\n",
      "epoch: 21, iter: 288/372, loss: 1.003217, accuracy: 0.679688\n",
      "epoch: 22, iter: 0/372, validation accuracies: [0.53535353], average train loss: 1.036516, average train accuracy: 0.695880\n",
      "epoch: 22, iter: 16/372, loss: 1.095290, accuracy: 0.687500\n",
      "epoch: 22, iter: 116/372, loss: 1.203351, accuracy: 0.671875\n",
      "epoch: 22, iter: 216/372, loss: 0.905547, accuracy: 0.718750\n",
      "epoch: 22, iter: 316/372, loss: 0.996359, accuracy: 0.695312\n",
      "epoch: 23, iter: 0/372, validation accuracies: [0.57878788], average train loss: 1.019788, average train accuracy: 0.696741\n",
      "epoch: 23, iter: 44/372, loss: 0.924554, accuracy: 0.750000\n"
     ]
    },
    {
     "name": "stdout",
     "output_type": "stream",
     "text": [
      "epoch: 23, iter: 144/372, loss: 0.909636, accuracy: 0.726562\n",
      "epoch: 23, iter: 244/372, loss: 0.948680, accuracy: 0.718750\n",
      "epoch: 23, iter: 344/372, loss: 0.959768, accuracy: 0.703125\n",
      "epoch: 24, iter: 0/372, validation accuracies: [0.57676768], average train loss: 0.986215, average train accuracy: 0.704133\n",
      "epoch: 24, iter: 72/372, loss: 0.942377, accuracy: 0.742188\n",
      "epoch: 24, iter: 172/372, loss: 1.232765, accuracy: 0.671875\n",
      "epoch: 24, iter: 272/372, loss: 0.864063, accuracy: 0.718750\n",
      "epoch: 25, iter: 0/372, validation accuracies: [0.57878788], average train loss: 0.971412, average train accuracy: 0.708837\n",
      "epoch: 25, iter: 0/372, loss: 0.928288, accuracy: 0.656250\n",
      "epoch: 25, iter: 100/372, loss: 0.912417, accuracy: 0.726562\n",
      "epoch: 25, iter: 200/372, loss: 0.727339, accuracy: 0.781250\n",
      "epoch: 25, iter: 300/372, loss: 1.001565, accuracy: 0.679688\n",
      "epoch: 26, iter: 0/372, validation accuracies: [0.56717171], average train loss: 0.953128, average train accuracy: 0.715579\n",
      "epoch: 26, iter: 28/372, loss: 0.906111, accuracy: 0.679688\n",
      "epoch: 26, iter: 128/372, loss: 1.065855, accuracy: 0.703125\n",
      "epoch: 26, iter: 228/372, loss: 0.876813, accuracy: 0.757812\n",
      "epoch: 26, iter: 328/372, loss: 0.905166, accuracy: 0.750000\n",
      "epoch: 27, iter: 0/372, validation accuracies: [0.55606062], average train loss: 0.916386, average train accuracy: 0.724630\n",
      "epoch: 27, iter: 56/372, loss: 0.916535, accuracy: 0.710938\n",
      "epoch: 27, iter: 156/372, loss: 1.008570, accuracy: 0.718750\n",
      "epoch: 27, iter: 256/372, loss: 0.898564, accuracy: 0.734375\n",
      "epoch: 27, iter: 356/372, loss: 0.995886, accuracy: 0.718750\n",
      "epoch: 28, iter: 0/372, validation accuracies: [0.5969697], average train loss: 0.900950, average train accuracy: 0.731918\n",
      "epoch: 28, iter: 84/372, loss: 0.810403, accuracy: 0.734375\n",
      "epoch: 28, iter: 184/372, loss: 0.802182, accuracy: 0.757812\n",
      "epoch: 28, iter: 284/372, loss: 0.700562, accuracy: 0.789062\n",
      "epoch: 29, iter: 0/372, validation accuracies: [0.57272728], average train loss: 0.864557, average train accuracy: 0.738386\n",
      "epoch: 29, iter: 12/372, loss: 0.907258, accuracy: 0.726562\n",
      "epoch: 29, iter: 112/372, loss: 0.632960, accuracy: 0.835938\n",
      "epoch: 29, iter: 212/372, loss: 0.886310, accuracy: 0.726562\n",
      "epoch: 29, iter: 312/372, loss: 1.002932, accuracy: 0.703125\n",
      "epoch: 30, iter: 0/372, validation accuracies: [0.57727273], average train loss: 0.849587, average train accuracy: 0.742419\n",
      "epoch: 30, iter: 40/372, loss: 0.616939, accuracy: 0.789062\n",
      "epoch: 30, iter: 140/372, loss: 0.850013, accuracy: 0.750000\n",
      "epoch: 30, iter: 240/372, loss: 1.081400, accuracy: 0.750000\n",
      "epoch: 30, iter: 340/372, loss: 0.777861, accuracy: 0.750000\n",
      "epoch: 31, iter: 0/372, validation accuracies: [0.57575758], average train loss: 0.834889, average train accuracy: 0.747900\n",
      "epoch: 31, iter: 68/372, loss: 0.949432, accuracy: 0.742188\n",
      "epoch: 31, iter: 168/372, loss: 0.999807, accuracy: 0.765625\n",
      "epoch: 31, iter: 268/372, loss: 0.987521, accuracy: 0.671875\n",
      "epoch: 31, iter: 368/372, loss: 0.976245, accuracy: 0.726562\n",
      "epoch: 32, iter: 0/372, validation accuracies: [0.55858586], average train loss: 0.819344, average train accuracy: 0.753297\n",
      "epoch: 32, iter: 96/372, loss: 0.920558, accuracy: 0.757812\n",
      "epoch: 32, iter: 196/372, loss: 0.932454, accuracy: 0.710938\n",
      "epoch: 32, iter: 296/372, loss: 0.918064, accuracy: 0.726562\n",
      "epoch: 33, iter: 0/372, validation accuracies: [0.59848484], average train loss: 0.805808, average train accuracy: 0.754452\n",
      "epoch: 33, iter: 24/372, loss: 0.649169, accuracy: 0.765625\n",
      "epoch: 33, iter: 124/372, loss: 0.747717, accuracy: 0.757812\n",
      "epoch: 33, iter: 224/372, loss: 0.745506, accuracy: 0.781250\n",
      "epoch: 33, iter: 324/372, loss: 0.728924, accuracy: 0.796875\n",
      "epoch: 34, iter: 0/372, validation accuracies: [0.59444443], average train loss: 0.792121, average train accuracy: 0.759724\n",
      "epoch: 34, iter: 52/372, loss: 0.742579, accuracy: 0.796875\n",
      "epoch: 34, iter: 152/372, loss: 0.633431, accuracy: 0.765625\n",
      "epoch: 34, iter: 252/372, loss: 0.725653, accuracy: 0.773438\n",
      "epoch: 34, iter: 352/372, loss: 0.809111, accuracy: 0.742188\n",
      "epoch: 35, iter: 0/372, validation accuracies: [0.5969697], average train loss: 0.761024, average train accuracy: 0.766591\n",
      "epoch: 35, iter: 80/372, loss: 0.719412, accuracy: 0.742188\n",
      "epoch: 35, iter: 180/372, loss: 0.731295, accuracy: 0.781250\n",
      "epoch: 35, iter: 280/372, loss: 0.864382, accuracy: 0.765625\n",
      "epoch: 36, iter: 0/372, validation accuracies: [0.5979798], average train loss: 0.759220, average train accuracy: 0.768187\n",
      "epoch: 36, iter: 8/372, loss: 0.591496, accuracy: 0.757812\n",
      "epoch: 36, iter: 108/372, loss: 0.981848, accuracy: 0.664062\n",
      "epoch: 36, iter: 208/372, loss: 0.669950, accuracy: 0.804688\n",
      "epoch: 36, iter: 308/372, loss: 0.764801, accuracy: 0.781250\n",
      "epoch: 37, iter: 0/372, validation accuracies: [0.6050505], average train loss: 0.733903, average train accuracy: 0.775286\n",
      "epoch: 37, iter: 36/372, loss: 0.615470, accuracy: 0.804688\n",
      "epoch: 37, iter: 136/372, loss: 0.556754, accuracy: 0.843750\n",
      "epoch: 37, iter: 236/372, loss: 0.860300, accuracy: 0.773438\n",
      "epoch: 37, iter: 336/372, loss: 0.721148, accuracy: 0.796875\n",
      "epoch: 38, iter: 0/372, validation accuracies: [0.5909091], average train loss: 0.731337, average train accuracy: 0.773501\n",
      "epoch: 38, iter: 64/372, loss: 0.579078, accuracy: 0.820312\n",
      "epoch: 38, iter: 164/372, loss: 0.564082, accuracy: 0.820312\n",
      "epoch: 38, iter: 264/372, loss: 0.708039, accuracy: 0.796875\n",
      "epoch: 38, iter: 364/372, loss: 0.763020, accuracy: 0.765625\n",
      "epoch: 39, iter: 0/372, validation accuracies: [0.59292928], average train loss: 0.707253, average train accuracy: 0.782972\n",
      "epoch: 39, iter: 92/372, loss: 0.833653, accuracy: 0.773438\n",
      "epoch: 39, iter: 192/372, loss: 0.568405, accuracy: 0.835938\n",
      "epoch: 39, iter: 292/372, loss: 0.730051, accuracy: 0.789062\n",
      "epoch: 40, iter: 0/372, validation accuracies: [0.58030303], average train loss: 0.704740, average train accuracy: 0.782699\n",
      "epoch: 40, iter: 20/372, loss: 0.896109, accuracy: 0.710938\n",
      "epoch: 40, iter: 120/372, loss: 0.581403, accuracy: 0.765625\n",
      "epoch: 40, iter: 220/372, loss: 0.772025, accuracy: 0.742188\n",
      "epoch: 40, iter: 320/372, loss: 0.781519, accuracy: 0.773438\n",
      "epoch: 41, iter: 0/372, validation accuracies: [0.58383839], average train loss: 0.689253, average train accuracy: 0.785639\n",
      "epoch: 41, iter: 48/372, loss: 0.895012, accuracy: 0.773438\n",
      "epoch: 41, iter: 148/372, loss: 0.747795, accuracy: 0.804688\n",
      "epoch: 41, iter: 248/372, loss: 0.730789, accuracy: 0.789062\n",
      "epoch: 41, iter: 348/372, loss: 0.772126, accuracy: 0.796875\n",
      "epoch: 42, iter: 0/372, validation accuracies: [0.59949496], average train loss: 0.679802, average train accuracy: 0.789525\n",
      "epoch: 42, iter: 76/372, loss: 0.472042, accuracy: 0.867188\n",
      "epoch: 42, iter: 176/372, loss: 0.579063, accuracy: 0.828125\n",
      "epoch: 42, iter: 276/372, loss: 0.580824, accuracy: 0.828125\n",
      "epoch: 43, iter: 0/372, validation accuracies: [0.5848485], average train loss: 0.663408, average train accuracy: 0.796812\n",
      "epoch: 43, iter: 4/372, loss: 0.693863, accuracy: 0.781250\n",
      "epoch: 43, iter: 104/372, loss: 0.668509, accuracy: 0.789062\n",
      "epoch: 43, iter: 204/372, loss: 0.567483, accuracy: 0.828125\n",
      "epoch: 43, iter: 304/372, loss: 0.631117, accuracy: 0.820312\n",
      "epoch: 44, iter: 0/372, validation accuracies: [0.61767676], average train loss: 0.645894, average train accuracy: 0.798975\n",
      "epoch: 44, iter: 32/372, loss: 0.534829, accuracy: 0.820312\n",
      "epoch: 44, iter: 132/372, loss: 0.512332, accuracy: 0.804688\n",
      "epoch: 44, iter: 232/372, loss: 0.581743, accuracy: 0.859375\n",
      "epoch: 44, iter: 332/372, loss: 0.641444, accuracy: 0.804688\n",
      "epoch: 45, iter: 0/372, validation accuracies: [0.60505052], average train loss: 0.639202, average train accuracy: 0.802587\n",
      "epoch: 45, iter: 60/372, loss: 0.611803, accuracy: 0.812500\n",
      "epoch: 45, iter: 160/372, loss: 0.556063, accuracy: 0.851562\n",
      "epoch: 45, iter: 260/372, loss: 0.580961, accuracy: 0.820312\n",
      "epoch: 45, iter: 360/372, loss: 0.579098, accuracy: 0.820312\n",
      "epoch: 46, iter: 0/372, validation accuracies: [0.60353535], average train loss: 0.622345, average train accuracy: 0.804498\n",
      "epoch: 46, iter: 88/372, loss: 0.518633, accuracy: 0.843750\n",
      "epoch: 46, iter: 188/372, loss: 0.538395, accuracy: 0.843750\n",
      "epoch: 46, iter: 288/372, loss: 0.680052, accuracy: 0.820312\n",
      "epoch: 47, iter: 0/372, validation accuracies: [0.60404042], average train loss: 0.618165, average train accuracy: 0.808006\n"
     ]
    },
    {
     "name": "stdout",
     "output_type": "stream",
     "text": [
      "epoch: 47, iter: 16/372, loss: 0.708699, accuracy: 0.789062\n",
      "epoch: 47, iter: 116/372, loss: 0.497682, accuracy: 0.851562\n",
      "epoch: 47, iter: 216/372, loss: 0.646488, accuracy: 0.796875\n",
      "epoch: 47, iter: 316/372, loss: 0.757140, accuracy: 0.765625\n",
      "epoch: 48, iter: 0/372, validation accuracies: [0.60000001], average train loss: 0.620689, average train accuracy: 0.807712\n",
      "epoch: 48, iter: 44/372, loss: 0.547865, accuracy: 0.796875\n",
      "epoch: 48, iter: 144/372, loss: 0.585980, accuracy: 0.812500\n",
      "epoch: 48, iter: 244/372, loss: 0.615397, accuracy: 0.843750\n",
      "epoch: 48, iter: 344/372, loss: 0.441603, accuracy: 0.875000\n",
      "epoch: 49, iter: 0/372, validation accuracies: [0.59848486], average train loss: 0.600055, average train accuracy: 0.813718\n",
      "epoch: 49, iter: 72/372, loss: 0.474889, accuracy: 0.828125\n",
      "epoch: 49, iter: 172/372, loss: 0.417942, accuracy: 0.890625\n",
      "epoch: 49, iter: 272/372, loss: 0.520220, accuracy: 0.835938\n",
      "epoch: 50, iter: 0/372, validation accuracies: [0.64848485], average train loss: 0.449454, average train accuracy: 0.861727\n",
      "epoch: 50, iter: 0/372, loss: 0.403391, accuracy: 0.859375\n",
      "epoch: 50, iter: 100/372, loss: 0.438819, accuracy: 0.890625\n",
      "epoch: 50, iter: 200/372, loss: 0.375101, accuracy: 0.914062\n",
      "epoch: 50, iter: 300/372, loss: 0.375885, accuracy: 0.882812\n",
      "epoch: 51, iter: 0/372, validation accuracies: [0.64393938], average train loss: 0.401637, average train accuracy: 0.876092\n",
      "epoch: 51, iter: 28/372, loss: 0.238164, accuracy: 0.937500\n",
      "epoch: 51, iter: 128/372, loss: 0.370454, accuracy: 0.875000\n",
      "epoch: 51, iter: 228/372, loss: 0.373071, accuracy: 0.898438\n",
      "epoch: 51, iter: 328/372, loss: 0.250917, accuracy: 0.914062\n",
      "epoch: 52, iter: 0/372, validation accuracies: [0.6550505], average train loss: 0.381584, average train accuracy: 0.881741\n",
      "epoch: 52, iter: 56/372, loss: 0.390298, accuracy: 0.882812\n",
      "epoch: 52, iter: 156/372, loss: 0.367817, accuracy: 0.890625\n",
      "epoch: 52, iter: 256/372, loss: 0.409988, accuracy: 0.875000\n",
      "epoch: 52, iter: 356/372, loss: 0.293540, accuracy: 0.921875\n",
      "epoch: 53, iter: 0/372, validation accuracies: [0.64797981], average train loss: 0.364006, average train accuracy: 0.887139\n",
      "epoch: 53, iter: 84/372, loss: 0.491106, accuracy: 0.859375\n",
      "epoch: 53, iter: 184/372, loss: 0.226920, accuracy: 0.937500\n",
      "epoch: 53, iter: 284/372, loss: 0.422574, accuracy: 0.867188\n",
      "epoch: 54, iter: 0/372, validation accuracies: [0.64393939], average train loss: 0.354643, average train accuracy: 0.891192\n",
      "epoch: 54, iter: 12/372, loss: 0.405934, accuracy: 0.898438\n",
      "epoch: 54, iter: 112/372, loss: 0.346272, accuracy: 0.859375\n",
      "epoch: 54, iter: 212/372, loss: 0.274878, accuracy: 0.937500\n",
      "epoch: 54, iter: 312/372, loss: 0.313904, accuracy: 0.906250\n",
      "epoch: 55, iter: 0/372, validation accuracies: [0.64646463], average train loss: 0.338274, average train accuracy: 0.895308\n",
      "epoch: 55, iter: 40/372, loss: 0.259317, accuracy: 0.914062\n",
      "epoch: 55, iter: 140/372, loss: 0.388816, accuracy: 0.867188\n",
      "epoch: 55, iter: 240/372, loss: 0.328782, accuracy: 0.914062\n",
      "epoch: 55, iter: 340/372, loss: 0.388368, accuracy: 0.859375\n",
      "epoch: 56, iter: 0/372, validation accuracies: [0.64747474], average train loss: 0.333202, average train accuracy: 0.896568\n",
      "epoch: 56, iter: 68/372, loss: 0.366550, accuracy: 0.875000\n",
      "epoch: 56, iter: 168/372, loss: 0.327074, accuracy: 0.890625\n",
      "epoch: 56, iter: 268/372, loss: 0.232886, accuracy: 0.937500\n",
      "epoch: 56, iter: 368/372, loss: 0.309544, accuracy: 0.898438\n",
      "epoch: 57, iter: 0/372, validation accuracies: [0.65454546], average train loss: 0.330391, average train accuracy: 0.896610\n",
      "epoch: 57, iter: 96/372, loss: 0.257851, accuracy: 0.906250\n",
      "epoch: 57, iter: 196/372, loss: 0.267758, accuracy: 0.898438\n",
      "epoch: 57, iter: 296/372, loss: 0.408226, accuracy: 0.875000\n",
      "epoch: 58, iter: 0/372, validation accuracies: [0.64545453], average train loss: 0.314284, average train accuracy: 0.900538\n",
      "epoch: 58, iter: 24/372, loss: 0.245796, accuracy: 0.921875\n",
      "epoch: 58, iter: 124/372, loss: 0.312966, accuracy: 0.890625\n",
      "epoch: 58, iter: 224/372, loss: 0.320187, accuracy: 0.929688\n",
      "epoch: 58, iter: 324/372, loss: 0.309375, accuracy: 0.890625\n",
      "epoch: 59, iter: 0/372, validation accuracies: [0.65], average train loss: 0.317017, average train accuracy: 0.900664\n",
      "epoch: 59, iter: 52/372, loss: 0.318760, accuracy: 0.890625\n",
      "epoch: 59, iter: 152/372, loss: 0.253132, accuracy: 0.921875\n",
      "epoch: 59, iter: 252/372, loss: 0.437347, accuracy: 0.835938\n",
      "epoch: 59, iter: 352/372, loss: 0.328865, accuracy: 0.906250\n",
      "epoch: 60, iter: 0/372, validation accuracies: [0.64898991], average train loss: 0.306063, average train accuracy: 0.906040\n",
      "epoch: 60, iter: 80/372, loss: 0.303045, accuracy: 0.906250\n",
      "epoch: 60, iter: 180/372, loss: 0.313301, accuracy: 0.890625\n",
      "epoch: 60, iter: 280/372, loss: 0.243544, accuracy: 0.914062\n",
      "epoch: 61, iter: 0/372, validation accuracies: [0.6439394], average train loss: 0.305286, average train accuracy: 0.903982\n",
      "epoch: 61, iter: 8/372, loss: 0.268995, accuracy: 0.898438\n",
      "epoch: 61, iter: 108/372, loss: 0.251744, accuracy: 0.921875\n",
      "epoch: 61, iter: 208/372, loss: 0.282252, accuracy: 0.914062\n",
      "epoch: 61, iter: 308/372, loss: 0.305147, accuracy: 0.890625\n",
      "epoch: 62, iter: 0/372, validation accuracies: [0.65151515], average train loss: 0.289207, average train accuracy: 0.909862\n",
      "epoch: 62, iter: 36/372, loss: 0.235567, accuracy: 0.945312\n",
      "epoch: 62, iter: 136/372, loss: 0.244373, accuracy: 0.906250\n",
      "epoch: 62, iter: 236/372, loss: 0.267278, accuracy: 0.937500\n",
      "epoch: 62, iter: 336/372, loss: 0.335618, accuracy: 0.859375\n",
      "epoch: 63, iter: 0/372, validation accuracies: [0.64747474], average train loss: 0.295443, average train accuracy: 0.905998\n",
      "epoch: 63, iter: 64/372, loss: 0.201577, accuracy: 0.945312\n",
      "epoch: 63, iter: 164/372, loss: 0.293819, accuracy: 0.898438\n",
      "epoch: 63, iter: 264/372, loss: 0.335749, accuracy: 0.906250\n",
      "epoch: 63, iter: 364/372, loss: 0.237016, accuracy: 0.921875\n",
      "epoch: 64, iter: 0/372, validation accuracies: [0.64747474], average train loss: 0.275506, average train accuracy: 0.914861\n",
      "epoch: 64, iter: 92/372, loss: 0.221991, accuracy: 0.945312\n",
      "epoch: 64, iter: 192/372, loss: 0.224850, accuracy: 0.906250\n",
      "epoch: 64, iter: 292/372, loss: 0.228385, accuracy: 0.921875\n",
      "epoch: 65, iter: 0/372, validation accuracies: [0.6489899], average train loss: 0.261450, average train accuracy: 0.919313\n",
      "epoch: 65, iter: 20/372, loss: 0.284666, accuracy: 0.914062\n",
      "epoch: 65, iter: 120/372, loss: 0.184310, accuracy: 0.953125\n",
      "epoch: 65, iter: 220/372, loss: 0.190672, accuracy: 0.945312\n",
      "epoch: 65, iter: 320/372, loss: 0.274447, accuracy: 0.921875\n",
      "epoch: 66, iter: 0/372, validation accuracies: [0.64747475], average train loss: 0.261351, average train accuracy: 0.919838\n",
      "epoch: 66, iter: 48/372, loss: 0.244493, accuracy: 0.906250\n",
      "epoch: 66, iter: 148/372, loss: 0.331938, accuracy: 0.851562\n",
      "epoch: 66, iter: 248/372, loss: 0.194750, accuracy: 0.921875\n",
      "epoch: 66, iter: 348/372, loss: 0.262275, accuracy: 0.921875\n",
      "epoch: 67, iter: 0/372, validation accuracies: [0.64797979], average train loss: 0.256878, average train accuracy: 0.921119\n",
      "epoch: 67, iter: 76/372, loss: 0.371744, accuracy: 0.859375\n",
      "epoch: 67, iter: 176/372, loss: 0.331945, accuracy: 0.914062\n",
      "epoch: 67, iter: 276/372, loss: 0.252541, accuracy: 0.906250\n",
      "epoch: 68, iter: 0/372, validation accuracies: [0.65], average train loss: 0.257252, average train accuracy: 0.921560\n",
      "epoch: 68, iter: 4/372, loss: 0.251458, accuracy: 0.898438\n",
      "epoch: 68, iter: 104/372, loss: 0.247947, accuracy: 0.945312\n",
      "epoch: 68, iter: 204/372, loss: 0.386396, accuracy: 0.898438\n",
      "epoch: 68, iter: 304/372, loss: 0.268448, accuracy: 0.906250\n",
      "epoch: 69, iter: 0/372, validation accuracies: [0.64797979], average train loss: 0.253332, average train accuracy: 0.921476\n",
      "epoch: 69, iter: 32/372, loss: 0.238300, accuracy: 0.945312\n",
      "epoch: 69, iter: 132/372, loss: 0.290609, accuracy: 0.937500\n",
      "epoch: 69, iter: 232/372, loss: 0.331757, accuracy: 0.921875\n",
      "epoch: 69, iter: 332/372, loss: 0.336870, accuracy: 0.906250\n",
      "epoch: 70, iter: 0/372, validation accuracies: [0.64999999], average train loss: 0.255993, average train accuracy: 0.919817\n",
      "epochs: 70.000000, final train loss: 0.251201, validation accuracies: [0.64999999]\n",
      "best epochs: 52.000000, best_avg: 0.655051, validation accuracies: [0.6550505]\n"
     ]
    },
    {
     "name": "stdout",
     "output_type": "stream",
     "text": [
      "saving model dropout_hidden_prob=0.9,dropout_input_prob=0.9,learning_rate=too_long,momentum=0.9,reg=1e-05,bf_num_images=2000,mask_softmax=True,old:new=1.0,task=0 at time step 26040\n",
      "calculating penultimate output...\n",
      "time taken: %f 6.820344924926758\n",
      "saving penultimate output...\n",
      "calculating final output...\n",
      "time taken: %f 6.587778806686401\n",
      "saving final output...\n"
     ]
    }
   ],
   "source": [
    "best_avg, best_hparams_index = tuner.tuneTasksInRange(0, t, BATCH_SIZE, num_hparams, \n",
    "                                                        num_updates=num_updates, verbose=True, \n",
    "                                                        random_crop_flip=True, \n",
    "                                                        equal_weights=True)"
   ]
  },
  {
   "cell_type": "code",
   "execution_count": 20,
   "metadata": {},
   "outputs": [
    {
     "name": "stdout",
     "output_type": "stream",
     "text": [
      "cur_best_avg: 6.595960e-01, num_updates: 57\n",
      "best val_acc: [0.65959597]\n"
     ]
    },
    {
     "data": {
      "image/png": "[encoded data removed]",
      "text/plain": [
       "<Figure size 720x720 with 1 Axes>"
      ]
     },
     "metadata": {
      "needs_background": "light"
     },
     "output_type": "display_data"
    },
    {
     "data": {
      "image/png": "[encoded data removed]",
      "text/plain": [
       "<Figure size 720x720 with 1 Axes>"
      ]
     },
     "metadata": {
      "needs_background": "light"
     },
     "output_type": "display_data"
    }
   ],
   "source": [
    "plt.rcParams['figure.figsize'] = [10, 10]\n",
    "best_hparams_tuple = tuner.hparamsDictToTuple(hparams[0], tuner.tuner_hparams)\n",
    "cur_res = tuner.results_list[t][best_hparams_tuple][0]\n",
    "x = np.arange(0, cur_res['total_updates'], cur_res['updates_per_epoch'])\n",
    "cur_best_avg = cur_res['best_avg']\n",
    "cur_best_epoch = cur_res['best_epoch']\n",
    "updates_per_epoch = cur_res['updates_per_epoch']\n",
    "# print(\"dropout: %f, fisher_multiplier: %e, lr: %e\" % (k[0], k[1], k[2]))\n",
    "print(\"cur_best_avg: %e, num_updates: %d\" % (cur_best_avg, cur_best_epoch))\n",
    "print(\"best val_acc: %s\" % (str(np.array(cur_res['val_acc'])[:, (cur_best_epoch - 1) // tuner.eval_frequency])))\n",
    "# plt.plot(cur_res['loss_with_penalty'], color='g')\n",
    "plt.plot(cur_res['loss'], color='m')\n",
    "plt.plot(x, cur_res['val_loss'][-1], color='b')\n",
    "plt.show()\n",
    "# plt.ylim(ymin=0.9)\n",
    "plt.plot(cur_res['val_acc'][-1], color='b', )\n",
    "plt.plot(cur_res['val_acc'][0], color='g', )\n",
    "# plt.plot(cur_res['val_acc'][1], color='g')\n",
    "\n",
    "plt.show()"
   ]
  },
  {
   "cell_type": "code",
   "execution_count": null,
   "metadata": {},
   "outputs": [],
   "source": [
    "t = 1\n",
    "learning_rates = [(((49, 1e-1), (63, 1e-1 / 5), 1e-1 / (5 * 5)), (1e-1, ))]\n",
    "momentums = [0.9]\n",
    "regs = [0.0001]\n",
    "dropout_input_probs = [1.0]\n",
    "dropout_hidden_probs = [0.9]\n",
    "prod = list(itertools.product(regs, dropout_input_probs, dropout_hidden_probs, momentums, learning_rates))\n",
    "hparams = []\n",
    "for hparams_tuple in prod:\n",
    "    cur_dict = {}\n",
    "    cur_dict['reg'] = hparams_tuple[0]\n",
    "    cur_dict['dropout_input_prob'] = hparams_tuple[2]\n",
    "    cur_dict['dropout_hidden_prob'] = hparams_tuple[2]\n",
    "    cur_dict['momentum'] = hparams_tuple[3]\n",
    "    cur_dict['learning_rate'] = hparams_tuple[4]\n",
    "    hparams.append(cur_dict)\n",
    "    \n",
    "for i in range(t, t + 1):\n",
    "    tuner.hparams_list[i] = hparams"
   ]
  },
  {
   "cell_type": "code",
   "execution_count": null,
   "metadata": {},
   "outputs": [],
   "source": [
    "num_hparams = len(hparams)\n",
    "num_epochs = 70\n",
    "num_updates = math.ceil(tuner.task_list[t].train.images.shape[0] / BATCH_SIZE) * num_epochs\n",
    "tuner.print_every = 100"
   ]
  },
  {
   "cell_type": "code",
   "execution_count": null,
   "metadata": {},
   "outputs": [],
   "source": [
    "best_avg, best_hparams_index = tuner.tuneTasksInRange(1, t, BATCH_SIZE, num_hparams, \n",
    "                                                        num_updates=num_updates, verbose=True, \n",
    "                                                        random_crop_flip=True, \n",
    "                                                        equal_weights=True)"
   ]
  },
  {
   "cell_type": "code",
   "execution_count": null,
   "metadata": {},
   "outputs": [],
   "source": [
    "plt.rcParams['figure.figsize'] = [10, 10]\n",
    "best_hparams_tuple = tuner.hparamsDictToTuple(hparams[0], tuner.tuner_hparams)\n",
    "cur_res = tuner.results_list[t][best_hparams_tuple]\n",
    "x = np.arange(0, cur_res['total_updates'], cur_res['updates_per_epoch'])\n",
    "cur_best_avg = cur_res['best_avg']\n",
    "cur_best_epoch = cur_res['best_epoch']\n",
    "updates_per_epoch = cur_res['updates_per_epoch']\n",
    "# print(\"dropout: %f, fisher_multiplier: %e, lr: %e\" % (k[0], k[1], k[2]))\n",
    "print(\"cur_best_avg: %e, num_updates: %d\" % (cur_best_avg, cur_best_epoch))\n",
    "print(\"best val_acc: %s\" % (str(np.array(cur_res['val_acc'])[:, (cur_best_epoch - 1) // tuner.eval_frequency])))\n",
    "# plt.plot(cur_res['loss_with_penalty'], color='g')\n",
    "plt.plot(cur_res['loss'], color='m')\n",
    "plt.plot(x, cur_res['val_loss'][-1], color='b')\n",
    "plt.show()\n",
    "# plt.ylim(ymin=0.9)\n",
    "plt.plot(cur_res['val_acc'][-1], color='b', )\n",
    "# plt.plot(cur_res['val_acc'][1], color='g')\n",
    "\n",
    "plt.show()"
   ]
  },
  {
   "cell_type": "code",
   "execution_count": null,
   "metadata": {},
   "outputs": [],
   "source": [
    "tuner.saveResultsList()\n",
    "tuner.saveBestHparams()"
   ]
  },
  {
   "cell_type": "code",
   "execution_count": null,
   "metadata": {
    "scrolled": true
   },
   "outputs": [],
   "source": [
    "TEST_BATCH_SIZE = 128\n",
    "test_accuracies = []\n",
    "for i in range(t + 1):\n",
    "    accuracy = tuner.test(i, TEST_BATCH_SIZE, restore_model=True)\n",
    "    test_accuracies.append(np.mean(accuracy))"
   ]
  },
  {
   "cell_type": "code",
   "execution_count": null,
   "metadata": {},
   "outputs": [],
   "source": [
    "plt.plot(test_accuracies)\n",
    "plt.ylim(ymin=0, ymax=1)\n",
    "plt.show()"
   ]
  },
  {
   "cell_type": "code",
   "execution_count": null,
   "metadata": {},
   "outputs": [],
   "source": [
    "DB1_test_accuracies = test_accuracies\n",
    "%store DB1_test_accuracies"
   ]
  },
  {
   "cell_type": "code",
   "execution_count": null,
   "metadata": {},
   "outputs": [],
   "source": [
    "if use_tpu:\n",
    "    sess.run(tpu.shutdown_system())\n",
    "\n",
    "sess.close()"
   ]
  },
  {
   "cell_type": "code",
   "execution_count": null,
   "metadata": {},
   "outputs": [],
   "source": [
    "import shelve\n",
    "filename='code_state.bak'\n",
    "my_shelf = shelve.open(filename,'n') # 'n' for new\n",
    "\n",
    "for key in dir():\n",
    "    try:\n",
    "        my_shelf[key] = globals()[key]\n",
    "    except TypeError:\n",
    "        #\n",
    "        # __builtins__, my_shelf, and imported modules can not be shelved.\n",
    "        #\n",
    "        print('ERROR shelving: {0}'.format(key))\n",
    "my_shelf.close()"
   ]
  },
  {
   "cell_type": "code",
   "execution_count": null,
   "metadata": {},
   "outputs": [],
   "source": []
  }
 ],
 "metadata": {
  "kernelspec": {
   "display_name": "Python 3",
   "language": "python",
   "name": "python3"
  },
  "language_info": {
   "codemirror_mode": {
    "name": "ipython",
    "version": 3
   },
   "file_extension": ".py",
   "mimetype": "text/x-python",
   "name": "python",
   "nbconvert_exporter": "python",
   "pygments_lexer": "ipython3",
   "version": "3.6.6"
  }
 },
 "nbformat": 4,
 "nbformat_minor": 2
}
