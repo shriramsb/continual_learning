{
 "cells": [
  {
   "cell_type": "markdown",
   "metadata": {},
   "source": [
    "### Import and init GPU"
   ]
  },
  {
   "cell_type": "code",
   "execution_count": 1,
   "metadata": {},
   "outputs": [],
   "source": [
    "from IPython.display import Audio"
   ]
  },
  {
   "cell_type": "code",
   "execution_count": 2,
   "metadata": {},
   "outputs": [],
   "source": [
    "import sys\n",
    "sys.path.append('../../../')"
   ]
  },
  {
   "cell_type": "code",
   "execution_count": 3,
   "metadata": {},
   "outputs": [],
   "source": [
    "import numpy as np\n",
    "import math\n",
    "\n",
    "%matplotlib inline\n",
    "import matplotlib.pyplot as plt\n",
    "\n",
    "import pickle\n",
    "import argparse\n",
    "import time\n",
    "import itertools\n",
    "from copy import deepcopy\n",
    "import tensorflow as tf\n",
    "\n",
    "from tuner import HyperparameterTuner\n",
    "from tuner import MyTask\n",
    "\n",
    "use_tpu = False\n",
    "use_gpu = True\n",
    "\n",
    "if use_tpu:\n",
    "    from tensorflow.contrib import tpu\n",
    "    from tensorflow.contrib.cluster_resolver import TPUClusterResolver\n",
    "\n",
    "if use_gpu:\n",
    "    import os\n",
    "    \n",
    "%load_ext autoreload\n",
    "%autoreload 2"
   ]
  },
  {
   "cell_type": "code",
   "execution_count": 4,
   "metadata": {
    "code_folding": []
   },
   "outputs": [],
   "source": [
    "if use_gpu:\n",
    "    os.environ['CUDA_VISIBLE_DEVICES'] = '0'\n",
    "    config = tf.ConfigProto()\n",
    "    config.gpu_options.allow_growth = True"
   ]
  },
  {
   "cell_type": "code",
   "execution_count": 5,
   "metadata": {},
   "outputs": [],
   "source": [
    "if use_tpu:\n",
    "    tpu_cluster = TPUClusterResolver(tpu=[tpu_name]).get_master()\n",
    "    sess = tf.Session(tpu_cluster)\n",
    "    sess.run(tpu.initialize_system())\n",
    "elif use_gpu:\n",
    "    sess = tf.Session(config=config)\n",
    "else:\n",
    "    sess = tf.Session()"
   ]
  },
  {
   "cell_type": "code",
   "execution_count": 6,
   "metadata": {},
   "outputs": [],
   "source": [
    "from resnet import Network"
   ]
  },
  {
   "cell_type": "code",
   "execution_count": 7,
   "metadata": {},
   "outputs": [],
   "source": [
    "network = Network()"
   ]
  },
  {
   "cell_type": "code",
   "execution_count": 8,
   "metadata": {},
   "outputs": [],
   "source": [
    "task_home = ''\n",
    "if use_tpu:\n",
    "    pass\n",
    "#     task_home = 'gs://continual_learning/permMNIST_EWC/'\n",
    "else:\n",
    "    task_home = '../../../../'\n",
    "\n",
    "cur_dir = './'\n",
    "checkpoint_path = cur_dir + 'checkpoints_99_1_0/'\n",
    "summaries_path = cur_dir + 'summaries_99_1_0/'\n",
    "data_path = task_home + 'cifar-100-python/'\n",
    "split_path = './split.txt' \n",
    "if use_tpu:\n",
    "    tpu_name = 'gectpu'\n",
    "    \n",
    "BATCH_SIZE = 128"
   ]
  },
  {
   "cell_type": "markdown",
   "metadata": {},
   "source": [
    "### Dataset loading functions"
   ]
  },
  {
   "cell_type": "code",
   "execution_count": 9,
   "metadata": {
    "code_folding": [
     2,
     29,
     36,
     41
    ]
   },
   "outputs": [],
   "source": [
    "label_smooth_param = 0\n",
    "\n",
    "def splitDataset(dataset, dataset_split, seed):\n",
    "    np.random.seed(seed)\n",
    "    task_list = []\n",
    "    train_labels = np.argmax(dataset.train.labels, axis=1)\n",
    "    validation_labels = np.argmax(dataset.validation.labels, axis=1)\n",
    "    test_labels = np.argmax(dataset.test.labels, axis=1)\n",
    "    for i in range(len(dataset_split)):\n",
    "        cur_train_indices = [False] * dataset.train.images.shape[0]\n",
    "        cur_validation_indices = [False] * dataset.validation.images.shape[0]\n",
    "        cur_test_indices = [False] * dataset.test.images.shape[0]\n",
    "        for j in range(len(dataset_split[i])):\n",
    "            cur_train_indices = np.logical_or(cur_train_indices, (train_labels == dataset_split[i][j]))\n",
    "            cur_validation_indices = np.logical_or(cur_validation_indices, (validation_labels == dataset_split[i][j]))\n",
    "            cur_test_indices = np.logical_or(cur_test_indices, (test_labels == dataset_split[i][j]))\n",
    "\n",
    "        task = deepcopy(dataset)\n",
    "        task.train.images = task.train.images[cur_train_indices]\n",
    "        task.train.labels = task.train.labels[cur_train_indices]\n",
    "        task.validation.images = task.validation.images[cur_validation_indices]\n",
    "        task.validation.labels = task.validation.labels[cur_validation_indices]\n",
    "        task.test.images = task.test.images[cur_test_indices]\n",
    "        task.test.labels = task.test.labels[cur_test_indices]\n",
    "        task = MyTask(task)\n",
    "        task_list.append(task)\n",
    "\n",
    "    return task_list\n",
    "    \n",
    "def smoothLabels(dataset):\n",
    "    train_labels = dataset.train.labels\n",
    "    train_labels_argmax = np.argmax(train_labels, axis=1)\n",
    "    train_labels = train_labels + label_smooth_param / (train_labels.shape[1] - 1)\n",
    "    train_labels[range(train_labels.shape[0]), train_labels_argmax] = 1 - label_smooth_param\n",
    "    dataset.train._labels = train_labels\n",
    "\n",
    "class TempDataset(object):\n",
    "    def __init__(self):\n",
    "        self.images = None\n",
    "        self.labels = None\n",
    "    \n",
    "class TempTask(object):\n",
    "    def __init__(self):\n",
    "        self.train = TempDataset()\n",
    "        self.validation = TempDataset()\n",
    "        self.test = TempDataset()\n",
    "    \n",
    "    \n",
    "def readDatasets():\n",
    "    num_class = 100\n",
    "    class_per_task = 2\n",
    "    k = 0\n",
    "    labels_list = list(range(num_class))\n",
    "    seed = 0\n",
    "    np.random.seed(seed)\n",
    "    np.random.shuffle(labels_list)\n",
    "    split = []\n",
    "    task_weights = []\n",
    "    \n",
    "    split = [range(99), [99]]\n",
    "    task_weights = [0.99, 0.01]\n",
    "    num_tasks = len(split)\n",
    "    \n",
    "    with open(data_path + 'train', 'rb') as f:\n",
    "        f_train_data = pickle.load(f, encoding='bytes')\n",
    "        \n",
    "    with open(data_path + 'test', 'rb') as f:\n",
    "        f_test_data = pickle.load(f, encoding='bytes')\n",
    "        \n",
    "    cifar_100 = TempTask()\n",
    "    temp_train_labels = np.array(f_train_data[b'fine_labels'], dtype=np.int32)\n",
    "    temp_test_labels = np.array(f_test_data[b'fine_labels'], dtype=np.int32)\n",
    "    f_train_data[b'fine_labels'] = np.zeros((temp_train_labels.shape[0], num_class))\n",
    "    (f_train_data[b'fine_labels'])[range(temp_train_labels.shape[0]), temp_train_labels] = 1\n",
    "    f_test_data[b'fine_labels'] = np.zeros((temp_test_labels.shape[0], num_class))\n",
    "    (f_test_data[b'fine_labels'])[range(temp_test_labels.shape[0]), temp_test_labels] = 1\n",
    "    f_train_data[b'data'] = np.reshape(f_train_data[b'data'], (-1, 3, 32, 32))\n",
    "    f_test_data[b'data'] = np.reshape(f_test_data[b'data'], (-1, 3, 32, 32))\n",
    "    f_train_data[b'data'] = np.transpose(f_train_data[b'data'], (0, 2, 3, 1))\n",
    "    f_test_data[b'data'] = np.transpose(f_test_data[b'data'], (0, 2, 3, 1))\n",
    "    \n",
    "    tr_data = f_train_data[b'data']\n",
    "    te_data = f_test_data[b'data']\n",
    "    # normalizing data\n",
    "    avg = np.mean(tr_data, axis=(0, 1, 2))\n",
    "    std = np.std(tr_data, axis=(0, 1, 2))\n",
    "    \n",
    "    f_train_data[b'data'] = (tr_data - avg) / std\n",
    "    f_test_data[b'data'] = (te_data - avg) / std\n",
    "    \n",
    "    seed = 0\n",
    "    np.random.seed(0)\n",
    "    shuffle_train_perm = np.random.permutation(f_train_data[b'data'].shape[0])\n",
    "    f_train_data[b'data'] = f_train_data[b'data'][shuffle_train_perm]\n",
    "    f_train_data[b'fine_labels'] = f_train_data[b'fine_labels'][shuffle_train_perm]\n",
    "    \n",
    "    num_val_per_class = 20\n",
    "    \n",
    "    for i in range(num_class):\n",
    "        pos = (np.argmax(f_train_data[b'fine_labels'], axis=1) == i)\n",
    "        \n",
    "        if (i == 0):\n",
    "            cifar_100.validation.images = (f_train_data[b'data'][pos])[0 : num_val_per_class]\n",
    "            cifar_100.validation.labels = (f_train_data[b'fine_labels'][pos])[0 : num_val_per_class]\n",
    "\n",
    "            cifar_100.train.images = (f_train_data[b'data'][pos])[num_val_per_class : ]\n",
    "            cifar_100.train.labels = (f_train_data[b'fine_labels'][pos])[num_val_per_class : ]\n",
    "        else:\n",
    "            cifar_100.validation.images = np.concatenate((cifar_100.validation.images, (f_train_data[b'data'][pos])[0 : num_val_per_class]))\n",
    "            cifar_100.validation.labels = np.concatenate((cifar_100.validation.labels, (f_train_data[b'fine_labels'][pos])[0 : num_val_per_class]))\n",
    "\n",
    "            cifar_100.train.images = np.concatenate((cifar_100.train.images, (f_train_data[b'data'][pos])[num_val_per_class : ]))\n",
    "            cifar_100.train.labels = np.concatenate((cifar_100.train.labels, (f_train_data[b'fine_labels'][pos])[num_val_per_class : ]))\n",
    "        \n",
    "    cifar_100.test.images = f_test_data[b'data']\n",
    "    cifar_100.test.labels = f_test_data[b'fine_labels']\n",
    "    \n",
    "    shuffle_train_perm = np.random.permutation(cifar_100.train.images.shape[0])\n",
    "    cifar_100.train.images = cifar_100.train.images[shuffle_train_perm]\n",
    "    cifar_100.train.labels = cifar_100.train.labels[shuffle_train_perm]\n",
    "    \n",
    "    if (label_smooth_param != 0):\n",
    "        smoothLabels(cifar_100)\n",
    "        \n",
    "    task_list = splitDataset(cifar_100, split, seed)\n",
    "    return split, num_tasks, task_weights, task_list"
   ]
  },
  {
   "cell_type": "markdown",
   "metadata": {},
   "source": [
    "### Create tuner object and train!!"
   ]
  },
  {
   "cell_type": "code",
   "execution_count": 10,
   "metadata": {},
   "outputs": [],
   "source": [
    "input_shape = (32, 32, 3)\n",
    "output_shape = (100, )"
   ]
  },
  {
   "cell_type": "code",
   "execution_count": 11,
   "metadata": {},
   "outputs": [
    {
     "name": "stdout",
     "output_type": "stream",
     "text": [
      "WARNING:tensorflow:From ../../../classifiers.py:100: softmax_cross_entropy_with_logits (from tensorflow.python.ops.nn_ops) is deprecated and will be removed in a future version.\n",
      "Instructions for updating:\n",
      "\n",
      "Future major versions of TensorFlow will allow gradients to flow\n",
      "into the labels input on backprop by default.\n",
      "\n",
      "See @{tf.nn.softmax_cross_entropy_with_logits_v2}.\n",
      "\n"
     ]
    }
   ],
   "source": [
    "tuner = HyperparameterTuner(sess=sess, network=network, \n",
    "                            input_shape=input_shape, output_shape=output_shape,\n",
    "                            checkpoint_path=checkpoint_path, summaries_path=summaries_path, \n",
    "                            readDatasets=readDatasets, load_best_hparams=False)"
   ]
  },
  {
   "cell_type": "code",
   "execution_count": 12,
   "metadata": {},
   "outputs": [],
   "source": [
    "tuner.setPerExampleAppend(1.0)\n",
    "tuner.updateTunerHparams({'mask_softmax' : True})"
   ]
  },
  {
   "cell_type": "markdown",
   "metadata": {
    "heading_collapsed": true
   },
   "source": [
    "### Training each task separately"
   ]
  },
  {
   "cell_type": "code",
   "execution_count": null,
   "metadata": {
    "hidden": true,
    "scrolled": true
   },
   "outputs": [],
   "source": [
    "t = 0\n",
    "learning_rates = [1e-1]\n",
    "momentums = [0.9]\n",
    "regs = [0.0001]\n",
    "dropout_input_probs = [1.0]\n",
    "dropout_hidden_probs = [0.9]\n",
    "prod = list(itertools.product(regs, dropout_input_probs, dropout_hidden_probs, momentums, learning_rates))\n",
    "hparams = []\n",
    "for hparams_tuple in prod:\n",
    "    cur_dict = {}\n",
    "    cur_dict['reg'] = hparams_tuple[0]\n",
    "    cur_dict['dropout_input_prob'] = hparams_tuple[2]\n",
    "    cur_dict['dropout_hidden_prob'] = hparams_tuple[2]\n",
    "    cur_dict['momentum'] = hparams_tuple[3]\n",
    "    cur_dict['learning_rate'] = hparams_tuple[4]\n",
    "    hparams.append(cur_dict)\n",
    "\n",
    "tuner.hparams_list[t] = hparams"
   ]
  },
  {
   "cell_type": "code",
   "execution_count": null,
   "metadata": {
    "hidden": true
   },
   "outputs": [],
   "source": [
    "num_epochs = 160\n",
    "num_updates = math.ceil(tuner.task_list[t].train.images.shape[0] / BATCH_SIZE) * num_epochs\n",
    "tuner.print_every = 10"
   ]
  },
  {
   "cell_type": "code",
   "execution_count": null,
   "metadata": {
    "hidden": true
   },
   "outputs": [],
   "source": [
    "start_time = time.time()\n",
    "best_avg, best_hparams = tuner.tuneOnTask(t, BATCH_SIZE, \n",
    "                                          save_weights=False, \n",
    "                                          num_updates=num_updates, verbose=True, \n",
    "                                          random_crop_flip=True)\n",
    "print(\"time taken : %d\" % (time.time() - start_time))\n",
    "sound_file = '/mnt/a99/d0/shriramsb/code/Alan Walker - Alone.mp3'\n",
    "Audio(sound_file, autoplay=True)"
   ]
  },
  {
   "cell_type": "code",
   "execution_count": null,
   "metadata": {
    "hidden": true
   },
   "outputs": [],
   "source": [
    "import math\n",
    "plt.rcParams['figure.figsize'] = [10, 5]\n",
    "lr_scatter = ([math.log10(h['learning_rate']) for h in hparams])\n",
    "dropout_scatter = [h['dropout_hidden_prob'] for h in hparams]\n",
    "colors = []\n",
    "for i in range(len(hparams)):\n",
    "    cur_hparam_tuple = tuner.hparamsDictToTuple(hparams[i], tuner.tuner_hparams)\n",
    "    colors.append(tuner.results_list[t][cur_hparam_tuple]['best_avg'])\n",
    "    \n",
    "marker_size = 100\n",
    "fig, ax = plt.subplots()\n",
    "plt.scatter(lr_scatter, dropout_scatter, marker_size, c=colors, edgecolors='black')\n",
    "plt.colorbar()\n",
    "for i in range(len(lr_scatter)):\n",
    "    ax.annotate(str('%0.4f' % (colors[i], )), (lr_scatter[i], dropout_scatter[i]))\n",
    "plt.show()"
   ]
  },
  {
   "cell_type": "code",
   "execution_count": null,
   "metadata": {
    "hidden": true
   },
   "outputs": [],
   "source": [
    "plt.rcParams['figure.figsize'] = [10, 10]\n",
    "best_hparams_tuple = tuner.hparamsDictToTuple(hparams[0], tuner.tuner_hparams)\n",
    "cur_res = tuner.results_list[t][best_hparams_tuple]\n",
    "x = np.arange(0, cur_res['total_updates'], cur_res['updates_per_epoch'])\n",
    "cur_best_avg = cur_res['best_avg']\n",
    "cur_best_avg_updates = cur_res['best_avg_updates']\n",
    "updates_per_epoch = cur_res['updates_per_epoch']\n",
    "# print(\"dropout: %f, fisher_multiplier: %e, lr: %e\" % (k[0], k[1], k[2]))\n",
    "print(\"cur_best_avg: %e, num_updates: %d\" % (cur_best_avg, cur_best_avg_updates))\n",
    "print(\"best val_acc: %s\" % (str(np.array(cur_res['val_acc'])[:, (cur_best_avg_updates // updates_per_epoch - 1) // tuner.eval_frequency])))\n",
    "# plt.plot(cur_res['loss_with_penalty'], color='g')\n",
    "plt.plot(cur_res['loss'], color='m')\n",
    "plt.plot(x, cur_res['val_loss'][-1], color='b')\n",
    "plt.show()\n",
    "# plt.ylim(ymin=0.9)\n",
    "plt.plot(cur_res['val_acc'][0], color='b', )\n",
    "# plt.plot(cur_res['val_acc'][1], color='g')\n",
    "\n",
    "plt.show()"
   ]
  },
  {
   "cell_type": "code",
   "execution_count": null,
   "metadata": {
    "hidden": true
   },
   "outputs": [],
   "source": [
    "# print(best_avg, best_hparams)\n",
    "VALIDATION_BATCH_SIZE = 128\n",
    "print(tuner.validationAccuracy(t, VALIDATION_BATCH_SIZE, restore_model=False))"
   ]
  },
  {
   "cell_type": "code",
   "execution_count": null,
   "metadata": {
    "hidden": true
   },
   "outputs": [],
   "source": [
    "t = 1\n",
    "learning_rates = [1e-1]\n",
    "momentums = [0.9]\n",
    "regs = [0.0001]\n",
    "dropout_input_probs = [1.0]\n",
    "dropout_hidden_probs = [0.9]\n",
    "prod = list(itertools.product(regs, dropout_input_probs, dropout_hidden_probs, momentums, learning_rates))\n",
    "hparams = []\n",
    "for hparams_tuple in prod:\n",
    "    cur_dict = {}\n",
    "    cur_dict['reg'] = hparams_tuple[0]\n",
    "    cur_dict['dropout_input_prob'] = hparams_tuple[2]\n",
    "    cur_dict['dropout_hidden_prob'] = hparams_tuple[2]\n",
    "    cur_dict['momentum'] = hparams_tuple[3]\n",
    "    cur_dict['learning_rate'] = hparams_tuple[4]\n",
    "    hparams.append(cur_dict)\n",
    "\n",
    "tuner.hparams_list[t] = hparams"
   ]
  },
  {
   "cell_type": "code",
   "execution_count": null,
   "metadata": {
    "hidden": true
   },
   "outputs": [],
   "source": [
    "num_epochs = 160\n",
    "num_updates = math.ceil(tuner.task_list[t].train.images.shape[0] / BATCH_SIZE) * num_epochs\n",
    "tuner.print_every = 10"
   ]
  },
  {
   "cell_type": "code",
   "execution_count": null,
   "metadata": {
    "hidden": true
   },
   "outputs": [],
   "source": [
    "start_time = time.time()\n",
    "best_avg, best_hparams = tuner.tuneOnTask(t, BATCH_SIZE, \n",
    "                                          save_weights=False, \n",
    "                                          num_updates=num_updates, verbose=True, \n",
    "                                          random_crop_flip=True)\n",
    "print(\"time taken : %d\" % (time.time() - start_time))\n",
    "sound_file = '/mnt/a99/d0/shriramsb/code/Alan Walker - Alone.mp3'\n",
    "Audio(sound_file, autoplay=True)"
   ]
  },
  {
   "cell_type": "code",
   "execution_count": null,
   "metadata": {
    "hidden": true
   },
   "outputs": [],
   "source": [
    "import math\n",
    "plt.rcParams['figure.figsize'] = [10, 5]\n",
    "lr_scatter = ([math.log10(h['learning_rate']) for h in hparams])\n",
    "dropout_scatter = [h['dropout_hidden_prob'] for h in hparams]\n",
    "colors = []\n",
    "for i in range(len(hparams)):\n",
    "    cur_hparam_tuple = tuner.hparamsDictToTuple(hparams[i], tuner.tuner_hparams)\n",
    "    colors.append(tuner.results_list[t][cur_hparam_tuple]['best_avg'])\n",
    "    \n",
    "marker_size = 100\n",
    "fig, ax = plt.subplots()\n",
    "plt.scatter(lr_scatter, dropout_scatter, marker_size, c=colors, edgecolors='black')\n",
    "plt.colorbar()\n",
    "for i in range(len(lr_scatter)):\n",
    "    ax.annotate(str('%0.4f' % (colors[i], )), (lr_scatter[i], dropout_scatter[i]))\n",
    "plt.show()"
   ]
  },
  {
   "cell_type": "code",
   "execution_count": null,
   "metadata": {
    "hidden": true
   },
   "outputs": [],
   "source": [
    "plt.rcParams['figure.figsize'] = [10, 10]\n",
    "best_hparams_tuple = tuner.hparamsDictToTuple(hparams[0], tuner.tuner_hparams)\n",
    "cur_res = tuner.results_list[t][best_hparams_tuple]\n",
    "x = np.arange(0, cur_res['total_updates'], cur_res['updates_per_epoch'])\n",
    "cur_best_avg = cur_res['best_avg']\n",
    "cur_best_avg_updates = cur_res['best_avg_updates']\n",
    "updates_per_epoch = cur_res['updates_per_epoch']\n",
    "# print(\"dropout: %f, fisher_multiplier: %e, lr: %e\" % (k[0], k[1], k[2]))\n",
    "print(\"cur_best_avg: %e, num_updates: %d\" % (cur_best_avg, cur_best_avg_updates))\n",
    "print(\"best val_acc: %s\" % (str(np.array(cur_res['val_acc'])[:, (cur_best_avg_updates // updates_per_epoch - 1) // tuner.eval_frequency])))\n",
    "# plt.plot(cur_res['loss_with_penalty'], color='g')\n",
    "plt.plot(cur_res['loss'], color='m')\n",
    "plt.plot(x, cur_res['val_loss'][-1], color='b')\n",
    "plt.show()\n",
    "# plt.ylim(ymin=0.9)\n",
    "plt.plot(cur_res['val_acc'][0], color='b', )\n",
    "plt.plot(cur_res['val_acc'][1], color='g')\n",
    "\n",
    "plt.show()"
   ]
  },
  {
   "cell_type": "markdown",
   "metadata": {},
   "source": [
    "### Train tasks together"
   ]
  },
  {
   "cell_type": "code",
   "execution_count": 13,
   "metadata": {},
   "outputs": [],
   "source": [
    "t = 0\n",
    "learning_rates = [(((49, 1e-1), (63, 1e-1 / 5), 1e-1 / (5 * 5)), (1e-1, ))]\n",
    "momentums = [0.9]\n",
    "regs = [0.00001]\n",
    "dropout_input_probs = [1.0]\n",
    "dropout_hidden_probs = [0.9]\n",
    "prod = list(itertools.product(regs, dropout_input_probs, dropout_hidden_probs, momentums, learning_rates))\n",
    "hparams = []\n",
    "for hparams_tuple in prod:\n",
    "    cur_dict = {}\n",
    "    cur_dict['reg'] = hparams_tuple[0]\n",
    "    cur_dict['dropout_input_prob'] = hparams_tuple[2]\n",
    "    cur_dict['dropout_hidden_prob'] = hparams_tuple[2]\n",
    "    cur_dict['momentum'] = hparams_tuple[3]\n",
    "    cur_dict['learning_rate'] = hparams_tuple[4]\n",
    "    hparams.append(cur_dict)\n",
    "    \n",
    "for i in range(0, t + 1):\n",
    "    tuner.hparams_list[i] = hparams\n",
    "    "
   ]
  },
  {
   "cell_type": "code",
   "execution_count": 14,
   "metadata": {},
   "outputs": [],
   "source": [
    "num_hparams = len(hparams)\n",
    "num_epochs = 70\n",
    "num_updates = math.ceil(tuner.task_list[t].train.images.shape[0] / BATCH_SIZE) * num_epochs\n",
    "tuner.print_every = 100"
   ]
  },
  {
   "cell_type": "code",
   "execution_count": 15,
   "metadata": {},
   "outputs": [
    {
     "name": "stdout",
     "output_type": "stream",
     "text": [
      "Training with T=None,alpha=0.0,dropout_hidden_prob=0.9,dropout_input_prob=0.9,epsilon=0.0,fisher_multiplier=0.0,learning_rate=too_long,momentum=0.9,reg=1e-05,bf_num_images=2000,mask_softmax=True,old:new=1.0,task=0\n",
      "epoch: 0, iter: 100/372, loss: 4.173347, accuracy: 0.078125\n",
      "epoch: 0, iter: 200/372, loss: 4.002195, accuracy: 0.093750\n",
      "epoch: 0, iter: 300/372, loss: 3.795276, accuracy: 0.085938\n",
      "epoch: 1, iter: 0/372, validation accuracies: [0.10151515], average train loss: 4.097406, average train accuracy: 0.067498\n",
      "epoch: 1, iter: 28/372, loss: 3.437898, accuracy: 0.179688\n",
      "epoch: 1, iter: 128/372, loss: 3.471918, accuracy: 0.164062\n",
      "epoch: 1, iter: 228/372, loss: 3.314840, accuracy: 0.179688\n",
      "epoch: 1, iter: 328/372, loss: 3.135498, accuracy: 0.203125\n",
      "epoch: 2, iter: 0/372, validation accuracies: [0.17424242], average train loss: 3.472073, average train accuracy: 0.158812\n",
      "epoch: 2, iter: 56/372, loss: 3.134105, accuracy: 0.203125\n",
      "epoch: 2, iter: 156/372, loss: 3.021557, accuracy: 0.265625\n",
      "epoch: 2, iter: 256/372, loss: 2.959991, accuracy: 0.304688\n",
      "epoch: 2, iter: 356/372, loss: 2.822788, accuracy: 0.289062\n",
      "epoch: 3, iter: 0/372, validation accuracies: [0.22828283], average train loss: 3.004789, average train accuracy: 0.247690\n",
      "epoch: 3, iter: 84/372, loss: 2.998809, accuracy: 0.273438\n",
      "epoch: 3, iter: 184/372, loss: 2.816897, accuracy: 0.265625\n",
      "epoch: 3, iter: 284/372, loss: 2.563600, accuracy: 0.312500\n",
      "epoch: 4, iter: 0/372, validation accuracies: [0.32121212], average train loss: 2.651684, average train accuracy: 0.314642\n",
      "epoch: 4, iter: 12/372, loss: 2.524006, accuracy: 0.335938\n",
      "epoch: 4, iter: 112/372, loss: 2.611451, accuracy: 0.320312\n",
      "epoch: 4, iter: 212/372, loss: 2.373035, accuracy: 0.351562\n",
      "epoch: 4, iter: 312/372, loss: 2.417246, accuracy: 0.343750\n",
      "epoch: 5, iter: 0/372, validation accuracies: [0.34141414], average train loss: 2.389021, average train accuracy: 0.369351\n",
      "epoch: 5, iter: 40/372, loss: 2.159824, accuracy: 0.375000\n",
      "epoch: 5, iter: 140/372, loss: 2.395220, accuracy: 0.398438\n",
      "epoch: 5, iter: 240/372, loss: 2.164943, accuracy: 0.398438\n",
      "epoch: 5, iter: 340/372, loss: 2.206475, accuracy: 0.429688\n",
      "epoch: 6, iter: 0/372, validation accuracies: [0.37272727], average train loss: 2.165238, average train accuracy: 0.415722\n",
      "epoch: 6, iter: 68/372, loss: 2.081774, accuracy: 0.453125\n",
      "epoch: 6, iter: 168/372, loss: 1.644490, accuracy: 0.531250\n",
      "epoch: 6, iter: 268/372, loss: 1.841661, accuracy: 0.523438\n",
      "epoch: 6, iter: 368/372, loss: 1.851420, accuracy: 0.468750\n",
      "epoch: 7, iter: 0/372, validation accuracies: [0.44191919], average train loss: 1.966473, average train accuracy: 0.463479\n",
      "epoch: 7, iter: 96/372, loss: 2.138028, accuracy: 0.453125\n",
      "epoch: 7, iter: 196/372, loss: 1.936482, accuracy: 0.453125\n",
      "epoch: 7, iter: 296/372, loss: 1.641529, accuracy: 0.562500\n",
      "epoch: 8, iter: 0/372, validation accuracies: [0.47121213], average train loss: 1.831902, average train accuracy: 0.493826\n",
      "epoch: 8, iter: 24/372, loss: 1.764825, accuracy: 0.515625\n",
      "epoch: 8, iter: 124/372, loss: 1.860065, accuracy: 0.484375\n",
      "epoch: 8, iter: 224/372, loss: 1.799196, accuracy: 0.531250\n",
      "epoch: 8, iter: 324/372, loss: 1.828252, accuracy: 0.507812\n",
      "epoch: 9, iter: 0/372, validation accuracies: [0.43939393], average train loss: 1.709904, average train accuracy: 0.522765\n",
      "epoch: 9, iter: 52/372, loss: 1.517613, accuracy: 0.578125\n",
      "epoch: 9, iter: 152/372, loss: 1.787469, accuracy: 0.484375\n",
      "epoch: 9, iter: 252/372, loss: 1.498157, accuracy: 0.578125\n",
      "epoch: 9, iter: 352/372, loss: 1.704985, accuracy: 0.546875\n",
      "epoch: 10, iter: 0/372, validation accuracies: [0.439899], average train loss: 1.617967, average train accuracy: 0.546434\n",
      "epoch: 10, iter: 80/372, loss: 1.513485, accuracy: 0.593750\n",
      "epoch: 10, iter: 180/372, loss: 1.521710, accuracy: 0.562500\n",
      "epoch: 10, iter: 280/372, loss: 1.578929, accuracy: 0.562500\n",
      "epoch: 11, iter: 0/372, validation accuracies: [0.49848486], average train loss: 1.525524, average train accuracy: 0.566784\n",
      "epoch: 11, iter: 8/372, loss: 1.496125, accuracy: 0.578125\n",
      "epoch: 11, iter: 108/372, loss: 1.612717, accuracy: 0.539062\n",
      "epoch: 11, iter: 208/372, loss: 1.388530, accuracy: 0.601562\n",
      "epoch: 11, iter: 308/372, loss: 1.637277, accuracy: 0.523438\n",
      "epoch: 12, iter: 0/372, validation accuracies: [0.53686868], average train loss: 1.461987, average train accuracy: 0.585706\n",
      "epoch: 12, iter: 36/372, loss: 1.247963, accuracy: 0.640625\n",
      "epoch: 12, iter: 136/372, loss: 1.417042, accuracy: 0.601562\n",
      "epoch: 12, iter: 236/372, loss: 1.263507, accuracy: 0.648438\n",
      "epoch: 12, iter: 336/372, loss: 0.971195, accuracy: 0.742188\n",
      "epoch: 13, iter: 0/372, validation accuracies: [0.50555557], average train loss: 1.394741, average train accuracy: 0.600554\n",
      "epoch: 13, iter: 64/372, loss: 1.297061, accuracy: 0.609375\n",
      "epoch: 13, iter: 164/372, loss: 1.358634, accuracy: 0.609375\n",
      "epoch: 13, iter: 264/372, loss: 1.278674, accuracy: 0.640625\n",
      "epoch: 13, iter: 364/372, loss: 1.123616, accuracy: 0.710938\n",
      "epoch: 14, iter: 0/372, validation accuracies: [0.53535353], average train loss: 1.339485, average train accuracy: 0.614184\n",
      "epoch: 14, iter: 92/372, loss: 1.264114, accuracy: 0.640625\n",
      "epoch: 14, iter: 192/372, loss: 1.319583, accuracy: 0.632812\n",
      "epoch: 14, iter: 292/372, loss: 1.523443, accuracy: 0.632812\n",
      "epoch: 15, iter: 0/372, validation accuracies: [0.53535354], average train loss: 1.298037, average train accuracy: 0.628717\n",
      "epoch: 15, iter: 20/372, loss: 1.205675, accuracy: 0.679688\n",
      "epoch: 15, iter: 120/372, loss: 1.095555, accuracy: 0.687500\n",
      "epoch: 15, iter: 220/372, loss: 1.217059, accuracy: 0.695312\n",
      "epoch: 15, iter: 320/372, loss: 1.152269, accuracy: 0.664062\n",
      "epoch: 16, iter: 0/372, validation accuracies: [0.53838385], average train loss: 1.245897, average train accuracy: 0.637328\n",
      "epoch: 16, iter: 48/372, loss: 1.159087, accuracy: 0.679688\n",
      "epoch: 16, iter: 148/372, loss: 1.362749, accuracy: 0.601562\n",
      "epoch: 16, iter: 248/372, loss: 1.148404, accuracy: 0.679688\n",
      "epoch: 16, iter: 348/372, loss: 1.508867, accuracy: 0.562500\n",
      "epoch: 17, iter: 0/372, validation accuracies: [0.53989899], average train loss: 1.208517, average train accuracy: 0.649719\n",
      "epoch: 17, iter: 76/372, loss: 1.268931, accuracy: 0.593750\n",
      "epoch: 17, iter: 176/372, loss: 1.477784, accuracy: 0.617188\n",
      "epoch: 17, iter: 276/372, loss: 1.292573, accuracy: 0.625000\n",
      "epoch: 18, iter: 0/372, validation accuracies: [0.5459596], average train loss: 1.167543, average train accuracy: 0.659778\n",
      "epoch: 18, iter: 4/372, loss: 1.165107, accuracy: 0.671875\n",
      "epoch: 18, iter: 104/372, loss: 1.127613, accuracy: 0.679688\n",
      "epoch: 18, iter: 204/372, loss: 1.104158, accuracy: 0.687500\n",
      "epoch: 18, iter: 304/372, loss: 1.074391, accuracy: 0.664062\n",
      "epoch: 19, iter: 0/372, validation accuracies: [0.56414141], average train loss: 1.128951, average train accuracy: 0.669775\n",
      "epoch: 19, iter: 32/372, loss: 1.246625, accuracy: 0.617188\n",
      "epoch: 19, iter: 132/372, loss: 1.069503, accuracy: 0.664062\n",
      "epoch: 19, iter: 232/372, loss: 0.947572, accuracy: 0.726562\n",
      "epoch: 19, iter: 332/372, loss: 1.205616, accuracy: 0.664062\n",
      "epoch: 20, iter: 0/372, validation accuracies: [0.55202021], average train loss: 1.093344, average train accuracy: 0.679099\n",
      "epoch: 20, iter: 60/372, loss: 0.975534, accuracy: 0.687500\n",
      "epoch: 20, iter: 160/372, loss: 1.118450, accuracy: 0.703125\n",
      "epoch: 20, iter: 260/372, loss: 1.223427, accuracy: 0.632812\n",
      "epoch: 20, iter: 360/372, loss: 0.829638, accuracy: 0.781250\n",
      "epoch: 21, iter: 0/372, validation accuracies: [0.55757575], average train loss: 1.081876, average train accuracy: 0.679877\n",
      "epoch: 21, iter: 88/372, loss: 1.155719, accuracy: 0.617188\n",
      "epoch: 21, iter: 188/372, loss: 0.896416, accuracy: 0.679688\n",
      "epoch: 21, iter: 288/372, loss: 1.035363, accuracy: 0.679688\n",
      "epoch: 22, iter: 0/372, validation accuracies: [0.56767676], average train loss: 1.042075, average train accuracy: 0.691133\n",
      "epoch: 22, iter: 16/372, loss: 0.816010, accuracy: 0.726562\n",
      "epoch: 22, iter: 116/372, loss: 1.223918, accuracy: 0.562500\n",
      "epoch: 22, iter: 216/372, loss: 1.259830, accuracy: 0.632812\n",
      "epoch: 22, iter: 316/372, loss: 1.043335, accuracy: 0.671875\n",
      "epoch: 23, iter: 0/372, validation accuracies: [0.57525252], average train loss: 1.006006, average train accuracy: 0.703041\n",
      "epoch: 23, iter: 44/372, loss: 1.030638, accuracy: 0.710938\n"
     ]
    },
    {
     "name": "stdout",
     "output_type": "stream",
     "text": [
      "epoch: 23, iter: 144/372, loss: 0.877232, accuracy: 0.734375\n",
      "epoch: 23, iter: 244/372, loss: 0.813174, accuracy: 0.765625\n",
      "epoch: 23, iter: 344/372, loss: 0.948308, accuracy: 0.703125\n",
      "epoch: 24, iter: 0/372, validation accuracies: [0.56464648], average train loss: 0.990208, average train accuracy: 0.705624\n",
      "epoch: 24, iter: 72/372, loss: 0.900117, accuracy: 0.734375\n",
      "epoch: 24, iter: 172/372, loss: 0.995205, accuracy: 0.718750\n",
      "epoch: 24, iter: 272/372, loss: 1.314943, accuracy: 0.609375\n",
      "epoch: 25, iter: 0/372, validation accuracies: [0.57575758], average train loss: 0.957619, average train accuracy: 0.715306\n",
      "epoch: 25, iter: 0/372, loss: 1.190141, accuracy: 0.718750\n",
      "epoch: 25, iter: 100/372, loss: 1.022503, accuracy: 0.718750\n",
      "epoch: 25, iter: 200/372, loss: 0.872940, accuracy: 0.781250\n",
      "epoch: 25, iter: 300/372, loss: 0.797689, accuracy: 0.742188\n",
      "epoch: 26, iter: 0/372, validation accuracies: [0.58585859], average train loss: 0.935582, average train accuracy: 0.720010\n",
      "epoch: 26, iter: 28/372, loss: 1.101579, accuracy: 0.726562\n",
      "epoch: 26, iter: 128/372, loss: 0.841151, accuracy: 0.742188\n",
      "epoch: 26, iter: 228/372, loss: 1.124157, accuracy: 0.679688\n",
      "epoch: 26, iter: 328/372, loss: 0.738446, accuracy: 0.718750\n",
      "epoch: 27, iter: 0/372, validation accuracies: [0.57070708], average train loss: 0.911151, average train accuracy: 0.724987\n",
      "epoch: 27, iter: 56/372, loss: 0.656251, accuracy: 0.773438\n",
      "epoch: 27, iter: 156/372, loss: 0.798803, accuracy: 0.804688\n",
      "epoch: 27, iter: 256/372, loss: 0.767479, accuracy: 0.742188\n",
      "epoch: 27, iter: 356/372, loss: 0.936111, accuracy: 0.734375\n",
      "epoch: 28, iter: 0/372, validation accuracies: [0.60050505], average train loss: 0.885957, average train accuracy: 0.732863\n",
      "epoch: 28, iter: 84/372, loss: 0.929650, accuracy: 0.710938\n",
      "epoch: 28, iter: 184/372, loss: 1.173701, accuracy: 0.695312\n",
      "epoch: 28, iter: 284/372, loss: 0.795310, accuracy: 0.773438\n",
      "epoch: 29, iter: 0/372, validation accuracies: [0.58939393], average train loss: 0.871265, average train accuracy: 0.736706\n",
      "epoch: 29, iter: 12/372, loss: 0.825576, accuracy: 0.804688\n",
      "epoch: 29, iter: 112/372, loss: 0.644744, accuracy: 0.781250\n",
      "epoch: 29, iter: 212/372, loss: 1.016781, accuracy: 0.703125\n",
      "epoch: 29, iter: 312/372, loss: 0.860603, accuracy: 0.789062\n",
      "epoch: 30, iter: 0/372, validation accuracies: [0.58232324], average train loss: 0.854169, average train accuracy: 0.743763\n",
      "epoch: 30, iter: 40/372, loss: 0.737358, accuracy: 0.757812\n",
      "epoch: 30, iter: 140/372, loss: 0.956516, accuracy: 0.718750\n",
      "epoch: 30, iter: 240/372, loss: 0.835973, accuracy: 0.757812\n",
      "epoch: 30, iter: 340/372, loss: 1.237053, accuracy: 0.671875\n",
      "epoch: 31, iter: 0/372, validation accuracies: [0.58939394], average train loss: 0.831694, average train accuracy: 0.750210\n",
      "epoch: 31, iter: 68/372, loss: 0.772768, accuracy: 0.734375\n",
      "epoch: 31, iter: 168/372, loss: 0.931973, accuracy: 0.750000\n",
      "epoch: 31, iter: 268/372, loss: 0.664961, accuracy: 0.796875\n",
      "epoch: 31, iter: 368/372, loss: 0.779082, accuracy: 0.781250\n",
      "epoch: 32, iter: 0/372, validation accuracies: [0.59999999], average train loss: 0.818521, average train accuracy: 0.751554\n",
      "epoch: 32, iter: 96/372, loss: 0.865190, accuracy: 0.757812\n",
      "epoch: 32, iter: 196/372, loss: 0.853854, accuracy: 0.726562\n",
      "epoch: 32, iter: 296/372, loss: 0.826419, accuracy: 0.765625\n",
      "epoch: 33, iter: 0/372, validation accuracies: [0.58282827], average train loss: 0.790795, average train accuracy: 0.759178\n",
      "epoch: 33, iter: 24/372, loss: 0.676038, accuracy: 0.820312\n",
      "epoch: 33, iter: 124/372, loss: 0.635502, accuracy: 0.781250\n",
      "epoch: 33, iter: 224/372, loss: 0.757073, accuracy: 0.765625\n",
      "epoch: 33, iter: 324/372, loss: 0.574740, accuracy: 0.843750\n",
      "epoch: 34, iter: 0/372, validation accuracies: [0.58434345], average train loss: 0.775489, average train accuracy: 0.763630\n",
      "epoch: 34, iter: 52/372, loss: 0.881655, accuracy: 0.734375\n",
      "epoch: 34, iter: 152/372, loss: 0.867501, accuracy: 0.710938\n",
      "epoch: 34, iter: 252/372, loss: 0.760825, accuracy: 0.757812\n",
      "epoch: 34, iter: 352/372, loss: 0.795838, accuracy: 0.710938\n",
      "epoch: 35, iter: 0/372, validation accuracies: [0.5959596], average train loss: 0.753597, average train accuracy: 0.767515\n",
      "epoch: 35, iter: 80/372, loss: 0.789441, accuracy: 0.820312\n",
      "epoch: 35, iter: 180/372, loss: 0.753637, accuracy: 0.757812\n",
      "epoch: 35, iter: 280/372, loss: 0.703536, accuracy: 0.781250\n",
      "epoch: 36, iter: 0/372, validation accuracies: [0.59898989], average train loss: 0.760468, average train accuracy: 0.769195\n",
      "epoch: 36, iter: 8/372, loss: 0.734407, accuracy: 0.781250\n",
      "epoch: 36, iter: 108/372, loss: 0.712408, accuracy: 0.750000\n",
      "epoch: 36, iter: 208/372, loss: 0.963553, accuracy: 0.710938\n",
      "epoch: 36, iter: 308/372, loss: 0.637398, accuracy: 0.796875\n",
      "epoch: 37, iter: 0/372, validation accuracies: [0.59141413], average train loss: 0.740349, average train accuracy: 0.774530\n",
      "epoch: 37, iter: 36/372, loss: 0.684318, accuracy: 0.804688\n",
      "epoch: 37, iter: 136/372, loss: 0.741688, accuracy: 0.765625\n",
      "epoch: 37, iter: 236/372, loss: 0.679913, accuracy: 0.804688\n",
      "epoch: 37, iter: 336/372, loss: 0.744101, accuracy: 0.757812\n",
      "epoch: 38, iter: 0/372, validation accuracies: [0.60454546], average train loss: 0.726659, average train accuracy: 0.776987\n",
      "epoch: 38, iter: 64/372, loss: 0.668724, accuracy: 0.781250\n",
      "epoch: 38, iter: 164/372, loss: 0.687230, accuracy: 0.804688\n",
      "epoch: 38, iter: 264/372, loss: 0.654642, accuracy: 0.781250\n",
      "epoch: 38, iter: 364/372, loss: 0.652318, accuracy: 0.773438\n",
      "epoch: 39, iter: 0/372, validation accuracies: [0.59696969], average train loss: 0.718309, average train accuracy: 0.779549\n",
      "epoch: 39, iter: 92/372, loss: 0.599571, accuracy: 0.828125\n",
      "epoch: 39, iter: 192/372, loss: 0.667271, accuracy: 0.789062\n",
      "epoch: 39, iter: 292/372, loss: 0.966235, accuracy: 0.750000\n",
      "epoch: 40, iter: 0/372, validation accuracies: [0.60959595], average train loss: 0.702491, average train accuracy: 0.784232\n",
      "epoch: 40, iter: 20/372, loss: 0.807411, accuracy: 0.757812\n",
      "epoch: 40, iter: 120/372, loss: 0.718095, accuracy: 0.789062\n",
      "epoch: 40, iter: 220/372, loss: 0.845606, accuracy: 0.773438\n",
      "epoch: 40, iter: 320/372, loss: 0.766034, accuracy: 0.750000\n",
      "epoch: 41, iter: 0/372, validation accuracies: [0.6040404], average train loss: 0.679503, average train accuracy: 0.789294\n",
      "epoch: 41, iter: 48/372, loss: 0.710605, accuracy: 0.820312\n",
      "epoch: 41, iter: 148/372, loss: 0.586269, accuracy: 0.820312\n",
      "epoch: 41, iter: 248/372, loss: 0.774477, accuracy: 0.757812\n",
      "epoch: 41, iter: 348/372, loss: 0.533244, accuracy: 0.835938\n",
      "epoch: 42, iter: 0/372, validation accuracies: [0.60050505], average train loss: 0.687332, average train accuracy: 0.789126\n",
      "epoch: 42, iter: 76/372, loss: 0.562085, accuracy: 0.835938\n",
      "epoch: 42, iter: 176/372, loss: 0.603791, accuracy: 0.812500\n",
      "epoch: 42, iter: 276/372, loss: 0.759216, accuracy: 0.796875\n",
      "epoch: 43, iter: 0/372, validation accuracies: [0.60353536], average train loss: 0.654168, average train accuracy: 0.799206\n",
      "epoch: 43, iter: 4/372, loss: 0.752309, accuracy: 0.757812\n",
      "epoch: 43, iter: 104/372, loss: 0.815190, accuracy: 0.789062\n",
      "epoch: 43, iter: 204/372, loss: 0.540831, accuracy: 0.812500\n",
      "epoch: 43, iter: 304/372, loss: 0.634832, accuracy: 0.796875\n",
      "epoch: 44, iter: 0/372, validation accuracies: [0.59292929], average train loss: 0.644825, average train accuracy: 0.800592\n",
      "epoch: 44, iter: 32/372, loss: 0.599249, accuracy: 0.812500\n",
      "epoch: 44, iter: 132/372, loss: 0.663841, accuracy: 0.789062\n",
      "epoch: 44, iter: 232/372, loss: 0.526725, accuracy: 0.796875\n",
      "epoch: 44, iter: 332/372, loss: 0.762858, accuracy: 0.789062\n",
      "epoch: 45, iter: 0/372, validation accuracies: [0.61010102], average train loss: 0.640762, average train accuracy: 0.800424\n",
      "epoch: 45, iter: 60/372, loss: 0.446208, accuracy: 0.890625\n",
      "epoch: 45, iter: 160/372, loss: 0.596687, accuracy: 0.859375\n",
      "epoch: 45, iter: 260/372, loss: 0.706351, accuracy: 0.773438\n",
      "epoch: 45, iter: 360/372, loss: 0.738677, accuracy: 0.781250\n",
      "epoch: 46, iter: 0/372, validation accuracies: [0.610101], average train loss: 0.629847, average train accuracy: 0.805360\n",
      "epoch: 46, iter: 88/372, loss: 0.413917, accuracy: 0.867188\n",
      "epoch: 46, iter: 188/372, loss: 0.506394, accuracy: 0.875000\n",
      "epoch: 46, iter: 288/372, loss: 0.514454, accuracy: 0.820312\n",
      "epoch: 47, iter: 0/372, validation accuracies: [0.61262627], average train loss: 0.625723, average train accuracy: 0.804225\n"
     ]
    },
    {
     "name": "stdout",
     "output_type": "stream",
     "text": [
      "epoch: 47, iter: 16/372, loss: 0.549604, accuracy: 0.804688\n",
      "epoch: 47, iter: 116/372, loss: 0.553108, accuracy: 0.804688\n",
      "epoch: 47, iter: 216/372, loss: 0.768441, accuracy: 0.773438\n",
      "epoch: 47, iter: 316/372, loss: 0.528895, accuracy: 0.820312\n",
      "epoch: 48, iter: 0/372, validation accuracies: [0.60606061], average train loss: 0.612741, average train accuracy: 0.807985\n",
      "epoch: 48, iter: 44/372, loss: 0.608382, accuracy: 0.789062\n",
      "epoch: 48, iter: 144/372, loss: 0.543260, accuracy: 0.835938\n",
      "epoch: 48, iter: 244/372, loss: 0.696023, accuracy: 0.789062\n",
      "epoch: 48, iter: 344/372, loss: 0.621576, accuracy: 0.820312\n",
      "epoch: 49, iter: 0/372, validation accuracies: [0.59747473], average train loss: 0.595294, average train accuracy: 0.814999\n",
      "epoch: 49, iter: 72/372, loss: 0.574457, accuracy: 0.843750\n",
      "epoch: 49, iter: 172/372, loss: 0.483279, accuracy: 0.867188\n",
      "epoch: 49, iter: 272/372, loss: 0.407621, accuracy: 0.851562\n",
      "epoch: 50, iter: 0/372, validation accuracies: [0.6469697], average train loss: 0.456204, average train accuracy: 0.859963\n",
      "epoch: 50, iter: 0/372, loss: 0.436147, accuracy: 0.875000\n",
      "epoch: 50, iter: 100/372, loss: 0.359707, accuracy: 0.882812\n",
      "epoch: 50, iter: 200/372, loss: 0.544481, accuracy: 0.859375\n",
      "epoch: 50, iter: 300/372, loss: 0.539821, accuracy: 0.843750\n",
      "epoch: 51, iter: 0/372, validation accuracies: [0.64595959], average train loss: 0.408131, average train accuracy: 0.874937\n",
      "epoch: 51, iter: 28/372, loss: 0.439686, accuracy: 0.851562\n",
      "epoch: 51, iter: 128/372, loss: 0.442722, accuracy: 0.898438\n",
      "epoch: 51, iter: 228/372, loss: 0.457360, accuracy: 0.835938\n",
      "epoch: 51, iter: 328/372, loss: 0.377816, accuracy: 0.890625\n",
      "epoch: 52, iter: 0/372, validation accuracies: [0.64797979], average train loss: 0.388413, average train accuracy: 0.883485\n",
      "epoch: 52, iter: 56/372, loss: 0.500446, accuracy: 0.835938\n",
      "epoch: 52, iter: 156/372, loss: 0.391067, accuracy: 0.867188\n",
      "epoch: 52, iter: 256/372, loss: 0.380742, accuracy: 0.882812\n",
      "epoch: 52, iter: 356/372, loss: 0.217956, accuracy: 0.914062\n",
      "epoch: 53, iter: 0/372, validation accuracies: [0.64242423], average train loss: 0.362390, average train accuracy: 0.889029\n",
      "epoch: 53, iter: 84/372, loss: 0.234073, accuracy: 0.929688\n",
      "epoch: 53, iter: 184/372, loss: 0.375330, accuracy: 0.882812\n",
      "epoch: 53, iter: 284/372, loss: 0.369652, accuracy: 0.867188\n",
      "epoch: 54, iter: 0/372, validation accuracies: [0.65202021], average train loss: 0.353569, average train accuracy: 0.890415\n",
      "epoch: 54, iter: 12/372, loss: 0.298125, accuracy: 0.867188\n",
      "epoch: 54, iter: 112/372, loss: 0.432027, accuracy: 0.835938\n",
      "epoch: 54, iter: 212/372, loss: 0.414215, accuracy: 0.867188\n",
      "epoch: 54, iter: 312/372, loss: 0.519966, accuracy: 0.812500\n",
      "epoch: 55, iter: 0/372, validation accuracies: [0.64696968], average train loss: 0.347320, average train accuracy: 0.893271\n",
      "epoch: 55, iter: 40/372, loss: 0.254470, accuracy: 0.914062\n",
      "epoch: 55, iter: 140/372, loss: 0.386599, accuracy: 0.875000\n",
      "epoch: 55, iter: 240/372, loss: 0.414999, accuracy: 0.867188\n",
      "epoch: 55, iter: 340/372, loss: 0.370911, accuracy: 0.882812\n",
      "epoch: 56, iter: 0/372, validation accuracies: [0.65000001], average train loss: 0.330659, average train accuracy: 0.896757\n",
      "epoch: 56, iter: 68/372, loss: 0.360940, accuracy: 0.914062\n",
      "epoch: 56, iter: 168/372, loss: 0.312254, accuracy: 0.882812\n",
      "epoch: 56, iter: 268/372, loss: 0.292459, accuracy: 0.898438\n",
      "epoch: 56, iter: 368/372, loss: 0.425602, accuracy: 0.851562\n",
      "epoch: 57, iter: 0/372, validation accuracies: [0.64747475], average train loss: 0.328931, average train accuracy: 0.898143\n",
      "epoch: 57, iter: 96/372, loss: 0.302598, accuracy: 0.898438\n",
      "epoch: 57, iter: 196/372, loss: 0.319088, accuracy: 0.867188\n",
      "epoch: 57, iter: 296/372, loss: 0.293665, accuracy: 0.898438\n",
      "epoch: 58, iter: 0/372, validation accuracies: [0.6530303], average train loss: 0.322617, average train accuracy: 0.899509\n",
      "epoch: 58, iter: 24/372, loss: 0.248581, accuracy: 0.914062\n",
      "epoch: 58, iter: 124/372, loss: 0.387037, accuracy: 0.867188\n",
      "epoch: 58, iter: 224/372, loss: 0.333667, accuracy: 0.890625\n",
      "epoch: 58, iter: 324/372, loss: 0.188241, accuracy: 0.937500\n",
      "epoch: 59, iter: 0/372, validation accuracies: [0.64898991], average train loss: 0.313783, average train accuracy: 0.903184\n",
      "epoch: 59, iter: 52/372, loss: 0.375024, accuracy: 0.898438\n",
      "epoch: 59, iter: 152/372, loss: 0.291340, accuracy: 0.921875\n",
      "epoch: 59, iter: 252/372, loss: 0.298562, accuracy: 0.890625\n",
      "epoch: 59, iter: 352/372, loss: 0.253173, accuracy: 0.921875\n",
      "epoch: 60, iter: 0/372, validation accuracies: [0.65202019], average train loss: 0.308147, average train accuracy: 0.904045\n",
      "epoch: 60, iter: 80/372, loss: 0.237405, accuracy: 0.929688\n",
      "epoch: 60, iter: 180/372, loss: 0.341219, accuracy: 0.906250\n",
      "epoch: 60, iter: 280/372, loss: 0.297537, accuracy: 0.890625\n",
      "epoch: 61, iter: 0/372, validation accuracies: [0.65353536], average train loss: 0.304058, average train accuracy: 0.905851\n",
      "epoch: 61, iter: 8/372, loss: 0.263559, accuracy: 0.890625\n",
      "epoch: 61, iter: 108/372, loss: 0.310823, accuracy: 0.890625\n",
      "epoch: 61, iter: 208/372, loss: 0.294501, accuracy: 0.914062\n",
      "epoch: 61, iter: 308/372, loss: 0.454760, accuracy: 0.882812\n",
      "epoch: 62, iter: 0/372, validation accuracies: [0.64696971], average train loss: 0.301614, average train accuracy: 0.906943\n",
      "epoch: 62, iter: 36/372, loss: 0.270815, accuracy: 0.914062\n",
      "epoch: 62, iter: 136/372, loss: 0.286275, accuracy: 0.921875\n",
      "epoch: 62, iter: 236/372, loss: 0.237271, accuracy: 0.953125\n",
      "epoch: 62, iter: 336/372, loss: 0.269706, accuracy: 0.914062\n",
      "epoch: 63, iter: 0/372, validation accuracies: [0.64848485], average train loss: 0.308184, average train accuracy: 0.903730\n",
      "epoch: 63, iter: 64/372, loss: 0.226606, accuracy: 0.914062\n",
      "epoch: 63, iter: 164/372, loss: 0.284653, accuracy: 0.906250\n",
      "epoch: 63, iter: 264/372, loss: 0.161167, accuracy: 0.953125\n",
      "epoch: 63, iter: 364/372, loss: 0.272734, accuracy: 0.921875\n",
      "epoch: 64, iter: 0/372, validation accuracies: [0.65757575], average train loss: 0.277241, average train accuracy: 0.914042\n",
      "epoch: 64, iter: 92/372, loss: 0.266449, accuracy: 0.898438\n",
      "epoch: 64, iter: 192/372, loss: 0.245250, accuracy: 0.929688\n",
      "epoch: 64, iter: 292/372, loss: 0.207660, accuracy: 0.953125\n",
      "epoch: 65, iter: 0/372, validation accuracies: [0.64949494], average train loss: 0.268678, average train accuracy: 0.917486\n",
      "epoch: 65, iter: 20/372, loss: 0.340170, accuracy: 0.890625\n",
      "epoch: 65, iter: 120/372, loss: 0.186991, accuracy: 0.929688\n",
      "epoch: 65, iter: 220/372, loss: 0.243880, accuracy: 0.906250\n",
      "epoch: 65, iter: 320/372, loss: 0.257616, accuracy: 0.882812\n",
      "epoch: 66, iter: 0/372, validation accuracies: [0.65404041], average train loss: 0.263003, average train accuracy: 0.920027\n",
      "epoch: 66, iter: 48/372, loss: 0.268761, accuracy: 0.937500\n",
      "epoch: 66, iter: 148/372, loss: 0.244221, accuracy: 0.914062\n",
      "epoch: 66, iter: 248/372, loss: 0.389348, accuracy: 0.882812\n",
      "epoch: 66, iter: 348/372, loss: 0.326017, accuracy: 0.882812\n",
      "epoch: 67, iter: 0/372, validation accuracies: [0.65505049], average train loss: 0.257349, average train accuracy: 0.921644\n",
      "epoch: 67, iter: 76/372, loss: 0.364353, accuracy: 0.859375\n",
      "epoch: 67, iter: 176/372, loss: 0.228086, accuracy: 0.945312\n",
      "epoch: 67, iter: 276/372, loss: 0.434205, accuracy: 0.851562\n",
      "epoch: 68, iter: 0/372, validation accuracies: [0.6560606], average train loss: 0.258027, average train accuracy: 0.919208\n",
      "epoch: 68, iter: 4/372, loss: 0.164335, accuracy: 0.937500\n",
      "epoch: 68, iter: 104/372, loss: 0.244757, accuracy: 0.921875\n",
      "epoch: 68, iter: 204/372, loss: 0.234471, accuracy: 0.929688\n",
      "epoch: 68, iter: 304/372, loss: 0.276669, accuracy: 0.890625\n",
      "epoch: 69, iter: 0/372, validation accuracies: [0.65252524], average train loss: 0.259076, average train accuracy: 0.920762\n",
      "epoch: 69, iter: 32/372, loss: 0.182660, accuracy: 0.960938\n",
      "epoch: 69, iter: 132/372, loss: 0.347498, accuracy: 0.906250\n",
      "epoch: 69, iter: 232/372, loss: 0.254901, accuracy: 0.921875\n",
      "epoch: 69, iter: 332/372, loss: 0.199600, accuracy: 0.937500\n",
      "epoch: 70, iter: 0/372, validation accuracies: [0.6560606], average train loss: 0.260979, average train accuracy: 0.920342\n",
      "epochs: 70.000000, final train loss: 0.183828, validation accuracies: [0.6560606]\n",
      "best epochs: 64.000000, best_avg: 0.657576, validation accuracies: [0.65757575]\n"
     ]
    },
    {
     "name": "stdout",
     "output_type": "stream",
     "text": [
      "saving model dropout_hidden_prob=0.9,dropout_input_prob=0.9,learning_rate=too_long,momentum=0.9,reg=1e-05,bf_num_images=2000,mask_softmax=True,old:new=1.0,task=0 at time step 26040\n",
      "calculating penultimate output...\n",
      "time taken: %f 6.9297192096710205\n",
      "saving penultimate output...\n",
      "calculating final output...\n",
      "time taken: %f 6.781034708023071\n",
      "saving final output...\n"
     ]
    }
   ],
   "source": [
    "best_avg, best_hparams_index = tuner.tuneTasksInRange(0, t, BATCH_SIZE, num_hparams, \n",
    "                                                        num_updates=num_updates, verbose=True, \n",
    "                                                        random_crop_flip=True, \n",
    "                                                        equal_weights=True)"
   ]
  },
  {
   "cell_type": "code",
   "execution_count": 16,
   "metadata": {},
   "outputs": [
    {
     "name": "stdout",
     "output_type": "stream",
     "text": [
      "cur_best_avg: 6.575757e-01, num_updates: 64\n",
      "best val_acc: [0.65757575]\n"
     ]
    },
    {
     "data": {
      "image/png": "[encoded data removed]",
      "text/plain": [
       "<Figure size 720x720 with 1 Axes>"
      ]
     },
     "metadata": {
      "needs_background": "light"
     },
     "output_type": "display_data"
    },
    {
     "data": {
      "image/png": "[encoded data removed]",
      "text/plain": [
       "<Figure size 720x720 with 1 Axes>"
      ]
     },
     "metadata": {
      "needs_background": "light"
     },
     "output_type": "display_data"
    }
   ],
   "source": [
    "plt.rcParams['figure.figsize'] = [10, 10]\n",
    "best_hparams_tuple = tuner.hparamsDictToTuple(hparams[0], tuner.tuner_hparams)\n",
    "cur_res = tuner.results_list[t][best_hparams_tuple][0]\n",
    "x = np.arange(0, cur_res['total_updates'], cur_res['updates_per_epoch'])\n",
    "cur_best_avg = cur_res['best_avg']\n",
    "cur_best_epoch = cur_res['best_epoch']\n",
    "updates_per_epoch = cur_res['updates_per_epoch']\n",
    "# print(\"dropout: %f, fisher_multiplier: %e, lr: %e\" % (k[0], k[1], k[2]))\n",
    "print(\"cur_best_avg: %e, num_updates: %d\" % (cur_best_avg, cur_best_epoch))\n",
    "print(\"best val_acc: %s\" % (str(np.array(cur_res['val_acc'])[:, (cur_best_epoch - 1) // tuner.eval_frequency])))\n",
    "# plt.plot(cur_res['loss_with_penalty'], color='g')\n",
    "plt.plot(cur_res['loss'], color='m')\n",
    "plt.plot(x, cur_res['val_loss'][-1], color='b')\n",
    "plt.show()\n",
    "# plt.ylim(ymin=0.9)\n",
    "plt.plot(cur_res['val_acc'][-1], color='b', )\n",
    "plt.plot(cur_res['val_acc'][0], color='g', )\n",
    "# plt.plot(cur_res['val_acc'][1], color='g')\n",
    "\n",
    "plt.show()"
   ]
  },
  {
   "cell_type": "code",
   "execution_count": 17,
   "metadata": {},
   "outputs": [],
   "source": [
    "t = 1\n",
    "learning_rates = [(((49, 1e-1), (63, 1e-1 / 5), 1e-1 / (5 * 5)), (1e-1, ))]\n",
    "momentums = [0.9]\n",
    "regs = [0.00001]\n",
    "dropout_input_probs = [1.0]\n",
    "dropout_hidden_probs = [0.9]\n",
    "prod = list(itertools.product(regs, dropout_input_probs, dropout_hidden_probs, momentums, learning_rates))\n",
    "hparams = []\n",
    "for hparams_tuple in prod:\n",
    "    cur_dict = {}\n",
    "    cur_dict['reg'] = hparams_tuple[0]\n",
    "    cur_dict['dropout_input_prob'] = hparams_tuple[2]\n",
    "    cur_dict['dropout_hidden_prob'] = hparams_tuple[2]\n",
    "    cur_dict['momentum'] = hparams_tuple[3]\n",
    "    cur_dict['learning_rate'] = hparams_tuple[4]\n",
    "    hparams.append(cur_dict)\n",
    "    \n",
    "for i in range(t, t + 1):\n",
    "    tuner.hparams_list[i] = hparams"
   ]
  },
  {
   "cell_type": "code",
   "execution_count": 25,
   "metadata": {},
   "outputs": [],
   "source": [
    "num_hparams = len(hparams)\n",
    "num_epochs = 70\n",
    "num_updates = math.ceil(tuner.task_list[t].train.images.shape[0] / BATCH_SIZE) * num_epochs\n",
    "tuner.print_every = 100"
   ]
  },
  {
   "cell_type": "code",
   "execution_count": 26,
   "metadata": {},
   "outputs": [
    {
     "name": "stdout",
     "output_type": "stream",
     "text": [
      "Training with T=None,alpha=0.0,dropout_hidden_prob=0.9,dropout_input_prob=0.9,epsilon=0.0,fisher_multiplier=0.0,learning_rate=too_long,momentum=0.9,reg=1e-05,bf_num_images=2000,mask_softmax=True,old:new=1.0,task=1\n",
      "Restoring paramters from dropout_hidden_prob=0.9,dropout_input_prob=0.9,learning_rate=too_long,momentum=0.9,reg=1e-05,bf_num_images=2000,mask_softmax=True,old:new=1.0,task=0\n",
      "INFO:tensorflow:Restoring parameters from ./checkpoints_99_1_0/dropout_hidden_prob=0.9,dropout_input_prob=0.9,learning_rate=too_long,momentum=0.9,reg=1e-05,bf_num_images=2000,mask_softmax=True,old:new=1.0,task=0.ckpt-26040\n",
      "epoch: 1, iter: 0/4, validation accuracies: [0.6550505 0.       ], average train loss: 0.321487, average train accuracy: 0.919922\n",
      "epoch: 2, iter: 0/4, validation accuracies: [0.64090908 0.        ], average train loss: 0.461159, average train accuracy: 0.916016\n",
      "epoch: 3, iter: 0/4, validation accuracies: [0.63686869 0.        ], average train loss: 0.423832, average train accuracy: 0.882812\n",
      "epoch: 4, iter: 0/4, validation accuracies: [0.62626262 0.        ], average train loss: 0.497365, average train accuracy: 0.904297\n",
      "epoch: 5, iter: 0/4, validation accuracies: [0.62070707 0.        ], average train loss: 0.521828, average train accuracy: 0.855469\n",
      "epoch: 6, iter: 0/4, validation accuracies: [0.61767677 0.        ], average train loss: 0.532795, average train accuracy: 0.835938\n",
      "epoch: 7, iter: 0/4, validation accuracies: [0.610101 0.05    ], average train loss: 0.483595, average train accuracy: 0.847656\n",
      "epoch: 8, iter: 0/4, validation accuracies: [0.60151516 0.        ], average train loss: 0.443516, average train accuracy: 0.863281\n",
      "epoch: 9, iter: 0/4, validation accuracies: [0.60656566 0.        ], average train loss: 0.549510, average train accuracy: 0.814453\n",
      "epoch: 10, iter: 0/4, validation accuracies: [0.6020202 0.05     ], average train loss: 0.517854, average train accuracy: 0.828125\n",
      "epoch: 11, iter: 0/4, validation accuracies: [0.59242423 0.05      ], average train loss: 0.535383, average train accuracy: 0.837891\n",
      "epoch: 12, iter: 0/4, validation accuracies: [0.58080808 0.1       ], average train loss: 0.505609, average train accuracy: 0.851562\n",
      "epoch: 13, iter: 0/4, validation accuracies: [0.58636365 0.15000001], average train loss: 0.556210, average train accuracy: 0.818359\n",
      "epoch: 14, iter: 0/4, validation accuracies: [0.58131312 0.2       ], average train loss: 0.643854, average train accuracy: 0.814453\n",
      "epoch: 15, iter: 0/4, validation accuracies: [0.57828282 0.15000001], average train loss: 0.520115, average train accuracy: 0.837891\n",
      "epoch: 16, iter: 0/4, validation accuracies: [0.57626262 0.1       ], average train loss: 0.682902, average train accuracy: 0.796875\n",
      "epoch: 17, iter: 0/4, validation accuracies: [0.56212121 0.05      ], average train loss: 0.641281, average train accuracy: 0.816406\n",
      "epoch: 18, iter: 0/4, validation accuracies: [0.57323232 0.15000001], average train loss: 0.671462, average train accuracy: 0.787109\n",
      "epoch: 19, iter: 0/4, validation accuracies: [0.55757577 0.15000001], average train loss: 0.632077, average train accuracy: 0.798828\n",
      "epoch: 20, iter: 0/4, validation accuracies: [0.54999999 0.05      ], average train loss: 0.625692, average train accuracy: 0.792969\n",
      "epoch: 21, iter: 0/4, validation accuracies: [0.56919191 0.2       ], average train loss: 0.708211, average train accuracy: 0.781250\n",
      "epoch: 22, iter: 0/4, validation accuracies: [0.57525253 0.15000001], average train loss: 0.595628, average train accuracy: 0.816406\n",
      "epoch: 23, iter: 0/4, validation accuracies: [0.57676768 0.2       ], average train loss: 0.642314, average train accuracy: 0.804688\n",
      "epoch: 24, iter: 0/4, validation accuracies: [0.56969698 0.15000001], average train loss: 0.599754, average train accuracy: 0.820312\n",
      "epoch: 25, iter: 0/4, validation accuracies: [0.56818183 0.2       ], average train loss: 0.620296, average train accuracy: 0.806641\n",
      "epoch: 25, iter: 0/4, loss: 0.788262, accuracy: 0.773438\n",
      "epoch: 26, iter: 0/4, validation accuracies: [0.58282828 0.2       ], average train loss: 0.616647, average train accuracy: 0.808594\n",
      "epoch: 27, iter: 0/4, validation accuracies: [0.57323234 0.25      ], average train loss: 0.681069, average train accuracy: 0.789062\n",
      "epoch: 28, iter: 0/4, validation accuracies: [0.59141413 0.25      ], average train loss: 0.599658, average train accuracy: 0.804688\n",
      "epoch: 29, iter: 0/4, validation accuracies: [0.58787877 0.2       ], average train loss: 0.673309, average train accuracy: 0.789062\n",
      "epoch: 30, iter: 0/4, validation accuracies: [0.57474746 0.15000001], average train loss: 0.547176, average train accuracy: 0.832031\n",
      "epoch: 31, iter: 0/4, validation accuracies: [0.56515151 0.        ], average train loss: 0.663822, average train accuracy: 0.814453\n",
      "epoch: 32, iter: 0/4, validation accuracies: [0.56616161 0.1       ], average train loss: 0.597607, average train accuracy: 0.810547\n",
      "epoch: 33, iter: 0/4, validation accuracies: [0.56363636 0.2       ], average train loss: 0.621691, average train accuracy: 0.789062\n",
      "epoch: 34, iter: 0/4, validation accuracies: [0.56414141 0.44999999], average train loss: 0.614781, average train accuracy: 0.804688\n",
      "epoch: 35, iter: 0/4, validation accuracies: [0.57272727 0.60000002], average train loss: 0.726600, average train accuracy: 0.769531\n",
      "epoch: 36, iter: 0/4, validation accuracies: [0.57171718 0.44999999], average train loss: 0.605983, average train accuracy: 0.798828\n",
      "epoch: 37, iter: 0/4, validation accuracies: [0.58838382 0.40000001], average train loss: 0.652333, average train accuracy: 0.798828\n",
      "epoch: 38, iter: 0/4, validation accuracies: [0.59444444 0.25      ], average train loss: 0.671023, average train accuracy: 0.789062\n",
      "epoch: 39, iter: 0/4, validation accuracies: [0.58333334 0.2       ], average train loss: 0.666509, average train accuracy: 0.785156\n",
      "epoch: 40, iter: 0/4, validation accuracies: [0.58131314 0.2       ], average train loss: 0.622697, average train accuracy: 0.814453\n",
      "epoch: 41, iter: 0/4, validation accuracies: [0.57222222 0.1       ], average train loss: 0.538367, average train accuracy: 0.814453\n",
      "epoch: 42, iter: 0/4, validation accuracies: [0.57323233 0.15000001], average train loss: 0.698654, average train accuracy: 0.785156\n",
      "epoch: 43, iter: 0/4, validation accuracies: [0.57575759 0.25      ], average train loss: 0.557900, average train accuracy: 0.814453\n",
      "epoch: 44, iter: 0/4, validation accuracies: [0.57878789 0.30000001], average train loss: 0.607397, average train accuracy: 0.808594\n",
      "epoch: 45, iter: 0/4, validation accuracies: [0.57323231 0.44999999], average train loss: 0.692476, average train accuracy: 0.777344\n",
      "epoch: 46, iter: 0/4, validation accuracies: [0.57929294 0.44999999], average train loss: 0.697315, average train accuracy: 0.791016\n",
      "epoch: 47, iter: 0/4, validation accuracies: [0.58434342 0.40000001], average train loss: 0.520269, average train accuracy: 0.826172\n",
      "epoch: 48, iter: 0/4, validation accuracies: [0.56919193 0.34999999], average train loss: 0.577994, average train accuracy: 0.822266\n",
      "epoch: 49, iter: 0/4, validation accuracies: [0.58636363 0.25      ], average train loss: 0.696949, average train accuracy: 0.777344\n",
      "epoch: 50, iter: 0/4, validation accuracies: [0.60353536 0.30000001], average train loss: 0.732564, average train accuracy: 0.792969\n",
      "epoch: 50, iter: 0/4, loss: 0.652500, accuracy: 0.804688\n",
      "epoch: 51, iter: 0/4, validation accuracies: [0.61414141 0.25      ], average train loss: 0.667445, average train accuracy: 0.787109\n",
      "epoch: 52, iter: 0/4, validation accuracies: [0.62020203 0.30000001], average train loss: 0.658001, average train accuracy: 0.771484\n",
      "epoch: 53, iter: 0/4, validation accuracies: [0.62525254 0.25      ], average train loss: 0.477222, average train accuracy: 0.837891\n",
      "epoch: 54, iter: 0/4, validation accuracies: [0.62474748 0.25      ], average train loss: 0.504690, average train accuracy: 0.832031\n",
      "epoch: 55, iter: 0/4, validation accuracies: [0.62373736 0.2       ], average train loss: 0.460550, average train accuracy: 0.857422\n",
      "epoch: 56, iter: 0/4, validation accuracies: [0.62272728 0.2       ], average train loss: 0.486562, average train accuracy: 0.843750\n",
      "epoch: 57, iter: 0/4, validation accuracies: [0.62323232 0.15000001], average train loss: 0.493315, average train accuracy: 0.830078\n"
     ]
    },
    {
     "name": "stdout",
     "output_type": "stream",
     "text": [
      "epoch: 58, iter: 0/4, validation accuracies: [0.62525253 0.15000001], average train loss: 0.531654, average train accuracy: 0.837891\n",
      "epoch: 59, iter: 0/4, validation accuracies: [0.62929292 0.2       ], average train loss: 0.408469, average train accuracy: 0.869141\n",
      "epoch: 60, iter: 0/4, validation accuracies: [0.62828284 0.2       ], average train loss: 0.493264, average train accuracy: 0.857422\n",
      "epoch: 61, iter: 0/4, validation accuracies: [0.62474747 0.2       ], average train loss: 0.465892, average train accuracy: 0.861328\n",
      "epoch: 62, iter: 0/4, validation accuracies: [0.62929293 0.2       ], average train loss: 0.496565, average train accuracy: 0.835938\n",
      "epoch: 63, iter: 0/4, validation accuracies: [0.63181817 0.2       ], average train loss: 0.528308, average train accuracy: 0.845703\n",
      "epoch: 64, iter: 0/4, validation accuracies: [0.63080808 0.2       ], average train loss: 0.474883, average train accuracy: 0.843750\n",
      "epoch: 65, iter: 0/4, validation accuracies: [0.63131314 0.2       ], average train loss: 0.476632, average train accuracy: 0.851562\n",
      "epoch: 66, iter: 0/4, validation accuracies: [0.63383837 0.2       ], average train loss: 0.460465, average train accuracy: 0.855469\n",
      "epoch: 67, iter: 0/4, validation accuracies: [0.63181818 0.2       ], average train loss: 0.518367, average train accuracy: 0.833984\n",
      "epoch: 68, iter: 0/4, validation accuracies: [0.62979799 0.2       ], average train loss: 0.511313, average train accuracy: 0.843750\n",
      "epoch: 69, iter: 0/4, validation accuracies: [0.62777777 0.2       ], average train loss: 0.524991, average train accuracy: 0.830078\n",
      "epoch: 70, iter: 0/4, validation accuracies: [0.63080809 0.2       ], average train loss: 0.489299, average train accuracy: 0.865234\n",
      "epochs: 70.000000, final train loss: 0.548220, validation accuracies: [0.63080809 0.2       ]\n",
      "best epochs: 1.000000, best_avg: 0.648500, validation accuracies: [0.6550505 0.       ]\n",
      "saving model dropout_hidden_prob=0.9,dropout_input_prob=0.9,learning_rate=too_long,momentum=0.9,reg=1e-05,bf_num_images=2000,mask_softmax=True,old:new=1.0,task=1 at time step 280\n",
      "calculating penultimate output...\n",
      "time taken: %f 6.850536108016968\n",
      "saving penultimate output...\n"
     ]
    }
   ],
   "source": [
    "best_avg, best_hparams_index = tuner.tuneTasksInRange(1, t, BATCH_SIZE, num_hparams, \n",
    "                                                        num_updates=num_updates, verbose=True, \n",
    "                                                        random_crop_flip=True, \n",
    "                                                        equal_weights=True)"
   ]
  },
  {
   "cell_type": "code",
   "execution_count": 27,
   "metadata": {},
   "outputs": [
    {
     "name": "stdout",
     "output_type": "stream",
     "text": [
      "cur_best_avg: 6.485000e-01, num_updates: 1\n",
      "best val_acc: [0.6550505 0.       ]\n"
     ]
    },
    {
     "data": {
      "image/png": "[encoded data removed]",
      "text/plain": [
       "<Figure size 720x720 with 1 Axes>"
      ]
     },
     "metadata": {
      "needs_background": "light"
     },
     "output_type": "display_data"
    }
   ],
   "source": [
    "plt.rcParams['figure.figsize'] = [10, 10]\n",
    "best_hparams_tuple = tuner.hparamsDictToTuple(hparams[0], tuner.tuner_hparams)\n",
    "cur_res = tuner.results_list[t][best_hparams_tuple][0]\n",
    "x = np.arange(0, cur_res['total_updates'], cur_res['updates_per_epoch'])\n",
    "cur_best_avg = cur_res['best_avg']\n",
    "cur_best_epoch = cur_res['best_epoch']\n",
    "updates_per_epoch = cur_res['updates_per_epoch']\n",
    "# print(\"dropout: %f, fisher_multiplier: %e, lr: %e\" % (k[0], k[1], k[2]))\n",
    "print(\"cur_best_avg: %e, num_updates: %d\" % (cur_best_avg, cur_best_epoch))\n",
    "print(\"best val_acc: %s\" % (str(np.array(cur_res['val_acc'])[:, (cur_best_epoch - 1) // tuner.eval_frequency])))\n",
    "# plt.plot(cur_res['loss_with_penalty'], color='g')\n",
    "# plt.plot(cur_res['loss'], color='m')\n",
    "# plt.plot(x, cur_res['val_loss'][-1], color='b')\n",
    "# plt.show()\n",
    "# plt.ylim(ymin=0.9)\n",
    "plt.plot(cur_res['val_acc'][-1], color='b', )\n",
    "plt.plot(cur_res['val_acc'][0], color='g', )\n",
    "# plt.plot(cur_res['val_acc'][1], color='g')\n",
    "\n",
    "plt.show()"
   ]
  },
  {
   "cell_type": "code",
   "execution_count": null,
   "metadata": {},
   "outputs": [],
   "source": [
    "tuner.saveResultsList()\n",
    "tuner.saveBestHparams()"
   ]
  },
  {
   "cell_type": "code",
   "execution_count": 22,
   "metadata": {
    "scrolled": true
   },
   "outputs": [
    {
     "name": "stdout",
     "output_type": "stream",
     "text": [
      "INFO:tensorflow:Restoring parameters from ./checkpoints_99_1_0/dropout_hidden_prob=0.9,dropout_input_prob=0.9,learning_rate=too_long,momentum=0.9,reg=1e-05,bf_num_images=2000,mask_softmax=True,old:new=1.0,task=0.ckpt-26040\n",
      "INFO:tensorflow:Restoring parameters from ./checkpoints_99_1_0/dropout_hidden_prob=0.9,dropout_input_prob=0.9,learning_rate=too_long,momentum=0.9,reg=1e-05,bf_num_images=2000,mask_softmax=True,old:new=1.0,task=1.ckpt-280\n"
     ]
    }
   ],
   "source": [
    "TEST_BATCH_SIZE = 128\n",
    "test_accuracies = []\n",
    "for i in range(t + 1):\n",
    "    accuracy = tuner.test(i, TEST_BATCH_SIZE, restore_model=True)\n",
    "    test_accuracies.append(accuracy)"
   ]
  },
  {
   "cell_type": "code",
   "execution_count": 23,
   "metadata": {},
   "outputs": [
    {
     "name": "stdout",
     "output_type": "stream",
     "text": [
      "[0.6538383837179704]\n",
      "[0.6370707071188725, 0.3499999940395355]\n"
     ]
    }
   ],
   "source": [
    "for i in range(t + 1):\n",
    "    print(test_accuracies[i])"
   ]
  },
  {
   "cell_type": "code",
   "execution_count": null,
   "metadata": {},
   "outputs": [],
   "source": [
    "if use_tpu:\n",
    "    sess.run(tpu.shutdown_system())\n",
    "\n",
    "sess.close()"
   ]
  },
  {
   "cell_type": "code",
   "execution_count": null,
   "metadata": {},
   "outputs": [],
   "source": [
    "import shelve\n",
    "filename='code_state.bak'\n",
    "my_shelf = shelve.open(filename,'n') # 'n' for new\n",
    "\n",
    "for key in dir():\n",
    "    try:\n",
    "        my_shelf[key] = globals()[key]\n",
    "    except TypeError:\n",
    "        #\n",
    "        # __builtins__, my_shelf, and imported modules can not be shelved.\n",
    "        #\n",
    "        print('ERROR shelving: {0}'.format(key))\n",
    "my_shelf.close()"
   ]
  },
  {
   "cell_type": "code",
   "execution_count": null,
   "metadata": {},
   "outputs": [],
   "source": []
  }
 ],
 "metadata": {
  "kernelspec": {
   "display_name": "Python 3",
   "language": "python",
   "name": "python3"
  },
  "language_info": {
   "codemirror_mode": {
    "name": "ipython",
    "version": 3
   },
   "file_extension": ".py",
   "mimetype": "text/x-python",
   "name": "python",
   "nbconvert_exporter": "python",
   "pygments_lexer": "ipython3",
   "version": "3.6.6"
  }
 },
 "nbformat": 4,
 "nbformat_minor": 2
}
