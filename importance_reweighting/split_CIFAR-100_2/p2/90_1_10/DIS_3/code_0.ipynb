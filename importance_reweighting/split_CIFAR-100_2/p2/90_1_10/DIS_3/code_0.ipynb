{
 "cells": [
  {
   "cell_type": "markdown",
   "metadata": {},
   "source": [
    "### Import and init GPU"
   ]
  },
  {
   "cell_type": "code",
   "execution_count": 1,
   "metadata": {},
   "outputs": [],
   "source": [
    "from IPython.display import Audio"
   ]
  },
  {
   "cell_type": "code",
   "execution_count": 2,
   "metadata": {},
   "outputs": [],
   "source": [
    "import sys\n",
    "sys.path.append('../../../../')"
   ]
  },
  {
   "cell_type": "code",
   "execution_count": 3,
   "metadata": {},
   "outputs": [],
   "source": [
    "import numpy as np\n",
    "import math\n",
    "\n",
    "%matplotlib inline\n",
    "import matplotlib.pyplot as plt\n",
    "import seaborn\n",
    "\n",
    "import pickle\n",
    "import argparse\n",
    "import time\n",
    "import itertools\n",
    "from copy import deepcopy\n",
    "import tensorflow as tf\n",
    "\n",
    "from tuner import HyperparameterTuner\n",
    "from tuner import MyTask\n",
    "\n",
    "use_tpu = False\n",
    "use_gpu = True\n",
    "\n",
    "if use_tpu:\n",
    "    from tensorflow.contrib import tpu\n",
    "    from tensorflow.contrib.cluster_resolver import TPUClusterResolver\n",
    "\n",
    "if use_gpu:\n",
    "    import os\n",
    "    \n",
    "%load_ext autoreload\n",
    "%autoreload 2"
   ]
  },
  {
   "cell_type": "code",
   "execution_count": 4,
   "metadata": {
    "code_folding": []
   },
   "outputs": [],
   "source": [
    "if use_gpu:\n",
    "    os.environ['CUDA_VISIBLE_DEVICES'] = '2'\n",
    "    config = tf.ConfigProto()\n",
    "    config.gpu_options.allow_growth = True"
   ]
  },
  {
   "cell_type": "code",
   "execution_count": 5,
   "metadata": {},
   "outputs": [],
   "source": [
    "if use_tpu:\n",
    "    tpu_cluster = TPUClusterResolver(tpu=[tpu_name]).get_master()\n",
    "    sess = tf.Session(tpu_cluster)\n",
    "    sess.run(tpu.initialize_system())\n",
    "elif use_gpu:\n",
    "    sess = tf.Session(config=config)\n",
    "else:\n",
    "    sess = tf.Session()"
   ]
  },
  {
   "cell_type": "code",
   "execution_count": 6,
   "metadata": {},
   "outputs": [],
   "source": [
    "from resnet import Network"
   ]
  },
  {
   "cell_type": "code",
   "execution_count": 7,
   "metadata": {},
   "outputs": [],
   "source": [
    "network = Network()"
   ]
  },
  {
   "cell_type": "code",
   "execution_count": 8,
   "metadata": {},
   "outputs": [],
   "source": [
    "task_home = ''\n",
    "if use_tpu:\n",
    "    pass\n",
    "#     task_home = 'gs://continual_learning/permMNIST_EWC/'\n",
    "else:\n",
    "    task_home = '../../../../../'\n",
    "\n",
    "cur_dir = './'\n",
    "checkpoint_path = cur_dir + 'checkpoints_0_no_distill/'\n",
    "summaries_path = cur_dir + 'summaries_0_no_distill/'\n",
    "data_path = task_home + 'cifar-100-python/'\n",
    "split_path = './split.txt' \n",
    "if use_tpu:\n",
    "    tpu_name = 'gectpu'\n",
    "    \n",
    "BATCH_SIZE = 128"
   ]
  },
  {
   "cell_type": "markdown",
   "metadata": {},
   "source": [
    "### Dataset loading functions"
   ]
  },
  {
   "cell_type": "code",
   "execution_count": 9,
   "metadata": {
    "code_folding": [
     2,
     29,
     36,
     41
    ]
   },
   "outputs": [],
   "source": [
    "label_smooth_param = 0\n",
    "\n",
    "def splitDataset(dataset, dataset_split, seed):\n",
    "    np.random.seed(seed)\n",
    "    task_list = []\n",
    "    train_labels = np.argmax(dataset.train.labels, axis=1)\n",
    "    validation_labels = np.argmax(dataset.validation.labels, axis=1)\n",
    "    test_labels = np.argmax(dataset.test.labels, axis=1)\n",
    "    for i in range(len(dataset_split)):\n",
    "        cur_train_indices = [False] * dataset.train.images.shape[0]\n",
    "        cur_validation_indices = [False] * dataset.validation.images.shape[0]\n",
    "        cur_test_indices = [False] * dataset.test.images.shape[0]\n",
    "        for j in range(len(dataset_split[i])):\n",
    "            cur_train_indices = np.logical_or(cur_train_indices, (train_labels == dataset_split[i][j]))\n",
    "            cur_validation_indices = np.logical_or(cur_validation_indices, (validation_labels == dataset_split[i][j]))\n",
    "            cur_test_indices = np.logical_or(cur_test_indices, (test_labels == dataset_split[i][j]))\n",
    "\n",
    "        task = deepcopy(dataset)\n",
    "        task.train.images = task.train.images[cur_train_indices]\n",
    "        task.train.labels = task.train.labels[cur_train_indices]\n",
    "        task.validation.images = task.validation.images[cur_validation_indices]\n",
    "        task.validation.labels = task.validation.labels[cur_validation_indices]\n",
    "        task.test.images = task.test.images[cur_test_indices]\n",
    "        task.test.labels = task.test.labels[cur_test_indices]\n",
    "        task = MyTask(task)\n",
    "        task_list.append(task)\n",
    "\n",
    "    return task_list\n",
    "    \n",
    "def smoothLabels(dataset):\n",
    "    train_labels = dataset.train.labels\n",
    "    train_labels_argmax = np.argmax(train_labels, axis=1)\n",
    "    train_labels = train_labels + label_smooth_param / (train_labels.shape[1] - 1)\n",
    "    train_labels[range(train_labels.shape[0]), train_labels_argmax] = 1 - label_smooth_param\n",
    "    dataset.train._labels = train_labels\n",
    "\n",
    "class TempDataset(object):\n",
    "    def __init__(self):\n",
    "        self.images = None\n",
    "        self.labels = None\n",
    "    \n",
    "class TempTask(object):\n",
    "    def __init__(self):\n",
    "        self.train = TempDataset()\n",
    "        self.validation = TempDataset()\n",
    "        self.test = TempDataset()\n",
    "    \n",
    "    \n",
    "def readDatasets():\n",
    "    num_class = 100\n",
    "    labels_list = list(range(num_class))\n",
    "    seed = 0\n",
    "    np.random.seed(seed)\n",
    "    np.random.shuffle(labels_list)\n",
    "    split = []\n",
    "    task_weights = []\n",
    "    \n",
    "    split = [labels_list[ : 90]]\n",
    "    task_weights = [0.90]\n",
    "    for single_label in labels_list[90 : ]:\n",
    "        split.append([single_label])\n",
    "        task_weights.append(0.01)\n",
    "    num_tasks = len(split)\n",
    "    \n",
    "    with open(data_path + 'train', 'rb') as f:\n",
    "        f_train_data = pickle.load(f, encoding='bytes')\n",
    "        \n",
    "    with open(data_path + 'test', 'rb') as f:\n",
    "        f_test_data = pickle.load(f, encoding='bytes')\n",
    "        \n",
    "    cifar_100 = TempTask()\n",
    "    temp_train_labels = np.array(f_train_data[b'fine_labels'], dtype=np.int32)\n",
    "    temp_test_labels = np.array(f_test_data[b'fine_labels'], dtype=np.int32)\n",
    "    f_train_data[b'fine_labels'] = np.zeros((temp_train_labels.shape[0], num_class))\n",
    "    (f_train_data[b'fine_labels'])[range(temp_train_labels.shape[0]), temp_train_labels] = 1\n",
    "    f_test_data[b'fine_labels'] = np.zeros((temp_test_labels.shape[0], num_class))\n",
    "    (f_test_data[b'fine_labels'])[range(temp_test_labels.shape[0]), temp_test_labels] = 1\n",
    "    f_train_data[b'data'] = np.reshape(f_train_data[b'data'], (-1, 3, 32, 32))\n",
    "    f_test_data[b'data'] = np.reshape(f_test_data[b'data'], (-1, 3, 32, 32))\n",
    "    f_train_data[b'data'] = np.transpose(f_train_data[b'data'], (0, 2, 3, 1))\n",
    "    f_test_data[b'data'] = np.transpose(f_test_data[b'data'], (0, 2, 3, 1))\n",
    "    \n",
    "    tr_data = f_train_data[b'data']\n",
    "    te_data = f_test_data[b'data']\n",
    "    # normalizing data\n",
    "    avg = np.mean(tr_data, axis=(0, 1, 2))\n",
    "    std = np.std(tr_data, axis=(0, 1, 2))\n",
    "    \n",
    "    f_train_data[b'data'] = (tr_data - avg) / std\n",
    "    f_test_data[b'data'] = (te_data - avg) / std\n",
    "    \n",
    "    seed = 0\n",
    "    np.random.seed(0)\n",
    "    shuffle_train_perm = np.random.permutation(f_train_data[b'data'].shape[0])\n",
    "    f_train_data[b'data'] = f_train_data[b'data'][shuffle_train_perm]\n",
    "    f_train_data[b'fine_labels'] = f_train_data[b'fine_labels'][shuffle_train_perm]\n",
    "    \n",
    "    num_val_per_class = 20\n",
    "    \n",
    "    for i in range(num_class):\n",
    "        pos = (np.argmax(f_train_data[b'fine_labels'], axis=1) == i)\n",
    "        \n",
    "        if (i == 0):\n",
    "            cifar_100.validation.images = (f_train_data[b'data'][pos])[0 : num_val_per_class]\n",
    "            cifar_100.validation.labels = (f_train_data[b'fine_labels'][pos])[0 : num_val_per_class]\n",
    "\n",
    "            cifar_100.train.images = (f_train_data[b'data'][pos])[num_val_per_class : ]\n",
    "            cifar_100.train.labels = (f_train_data[b'fine_labels'][pos])[num_val_per_class : ]\n",
    "        else:\n",
    "            cifar_100.validation.images = np.concatenate((cifar_100.validation.images, (f_train_data[b'data'][pos])[0 : num_val_per_class]))\n",
    "            cifar_100.validation.labels = np.concatenate((cifar_100.validation.labels, (f_train_data[b'fine_labels'][pos])[0 : num_val_per_class]))\n",
    "\n",
    "            cifar_100.train.images = np.concatenate((cifar_100.train.images, (f_train_data[b'data'][pos])[num_val_per_class : ]))\n",
    "            cifar_100.train.labels = np.concatenate((cifar_100.train.labels, (f_train_data[b'fine_labels'][pos])[num_val_per_class : ]))\n",
    "        \n",
    "    cifar_100.test.images = f_test_data[b'data']\n",
    "    cifar_100.test.labels = f_test_data[b'fine_labels']\n",
    "    \n",
    "    shuffle_train_perm = np.random.permutation(cifar_100.train.images.shape[0])\n",
    "    cifar_100.train.images = cifar_100.train.images[shuffle_train_perm]\n",
    "    cifar_100.train.labels = cifar_100.train.labels[shuffle_train_perm]\n",
    "    \n",
    "    if (label_smooth_param != 0):\n",
    "        smoothLabels(cifar_100)\n",
    "        \n",
    "    task_list = splitDataset(cifar_100, split, seed)\n",
    "    return split, num_tasks, task_weights, task_list"
   ]
  },
  {
   "cell_type": "markdown",
   "metadata": {},
   "source": [
    "### Display sample images and label names"
   ]
  },
  {
   "cell_type": "code",
   "execution_count": null,
   "metadata": {},
   "outputs": [],
   "source": [
    "with open(data_path + 'train', 'rb') as f:\n",
    "    f_train_data = pickle.load(f, encoding='bytes')\n",
    "    \n",
    "with open(data_path + 'meta', 'rb') as f:\n",
    "    f_meta_data = pickle.load(f, encoding='bytes')"
   ]
  },
  {
   "cell_type": "code",
   "execution_count": null,
   "metadata": {},
   "outputs": [],
   "source": [
    "print(f_meta_data[b'fine_label_names'][78])\n",
    "print(f_meta_data[b'fine_label_names'][61])\n",
    "print(f_meta_data[b'fine_label_names'][99])"
   ]
  },
  {
   "cell_type": "markdown",
   "metadata": {},
   "source": [
    "### Create tuner object and train!!"
   ]
  },
  {
   "cell_type": "code",
   "execution_count": 10,
   "metadata": {},
   "outputs": [],
   "source": [
    "input_shape = (32, 32, 3)\n",
    "output_shape = (100, )"
   ]
  },
  {
   "cell_type": "code",
   "execution_count": 11,
   "metadata": {},
   "outputs": [
    {
     "name": "stdout",
     "output_type": "stream",
     "text": [
      "WARNING:tensorflow:From ../../../../classifiers.py:102: softmax_cross_entropy_with_logits (from tensorflow.python.ops.nn_ops) is deprecated and will be removed in a future version.\n",
      "Instructions for updating:\n",
      "\n",
      "Future major versions of TensorFlow will allow gradients to flow\n",
      "into the labels input on backprop by default.\n",
      "\n",
      "See @{tf.nn.softmax_cross_entropy_with_logits_v2}.\n",
      "\n"
     ]
    }
   ],
   "source": [
    "tuner = HyperparameterTuner(sess=sess, network=network, \n",
    "                            input_shape=input_shape, output_shape=output_shape,\n",
    "                            checkpoint_path=checkpoint_path, summaries_path=summaries_path, \n",
    "                            readDatasets=readDatasets, load_best_hparams=False, \n",
    "                            reweigh_points_loss=False)"
   ]
  },
  {
   "cell_type": "code",
   "execution_count": 12,
   "metadata": {},
   "outputs": [],
   "source": [
    "tuner.setPerExampleAppend(int(1))\n",
    "tuner.updateTunerHparams({'mask_softmax' : True})\n",
    "tuner.updateTunerHparams({'bf_num_images' : 2000})\n",
    "tuner.setPerExampleAppend(1.0)\n",
    "tuner.is_write_tensorboard = True"
   ]
  },
  {
   "cell_type": "markdown",
   "metadata": {
    "heading_collapsed": true
   },
   "source": [
    "### Training each task separately"
   ]
  },
  {
   "cell_type": "code",
   "execution_count": null,
   "metadata": {
    "hidden": true,
    "scrolled": true
   },
   "outputs": [],
   "source": [
    "t = 0\n",
    "learning_rates = [1e-1]\n",
    "momentums = [0.9]\n",
    "regs = [0.0001]\n",
    "dropout_input_probs = [1.0]\n",
    "dropout_hidden_probs = [0.9]\n",
    "prod = list(itertools.product(regs, dropout_input_probs, dropout_hidden_probs, momentums, learning_rates))\n",
    "hparams = []\n",
    "for hparams_tuple in prod:\n",
    "    cur_dict = {}\n",
    "    cur_dict['reg'] = hparams_tuple[0]\n",
    "    cur_dict['dropout_input_prob'] = hparams_tuple[2]\n",
    "    cur_dict['dropout_hidden_prob'] = hparams_tuple[2]\n",
    "    cur_dict['momentum'] = hparams_tuple[3]\n",
    "    cur_dict['learning_rate'] = hparams_tuple[4]\n",
    "    hparams.append(cur_dict)\n",
    "\n",
    "tuner.hparams_list[t] = hparams"
   ]
  },
  {
   "cell_type": "code",
   "execution_count": null,
   "metadata": {
    "hidden": true
   },
   "outputs": [],
   "source": [
    "num_epochs = 160\n",
    "num_updates = math.ceil(tuner.task_list[t].train.images.shape[0] / BATCH_SIZE) * num_epochs\n",
    "tuner.print_every = 10"
   ]
  },
  {
   "cell_type": "code",
   "execution_count": null,
   "metadata": {
    "hidden": true
   },
   "outputs": [],
   "source": [
    "start_time = time.time()\n",
    "best_avg, best_hparams = tuner.tuneOnTask(t, BATCH_SIZE, \n",
    "                                          save_weights=False, \n",
    "                                          num_updates=num_updates, verbose=True, \n",
    "                                          random_crop_flip=True)\n",
    "print(\"time taken : %d\" % (time.time() - start_time))\n",
    "sound_file = '/mnt/a99/d0/shriramsb/code/Alan Walker - Alone.mp3'\n",
    "Audio(sound_file, autoplay=True)"
   ]
  },
  {
   "cell_type": "code",
   "execution_count": null,
   "metadata": {
    "hidden": true
   },
   "outputs": [],
   "source": [
    "import math\n",
    "plt.rcParams['figure.figsize'] = [10, 5]\n",
    "lr_scatter = ([math.log10(h['learning_rate']) for h in hparams])\n",
    "dropout_scatter = [h['dropout_hidden_prob'] for h in hparams]\n",
    "colors = []\n",
    "for i in range(len(hparams)):\n",
    "    cur_hparam_tuple = tuner.hparamsDictToTuple(hparams[i], tuner.tuner_hparams)\n",
    "    colors.append(tuner.results_list[t][cur_hparam_tuple]['best_avg'])\n",
    "    \n",
    "marker_size = 100\n",
    "fig, ax = plt.subplots()\n",
    "plt.scatter(lr_scatter, dropout_scatter, marker_size, c=colors, edgecolors='black')\n",
    "plt.colorbar()\n",
    "for i in range(len(lr_scatter)):\n",
    "    ax.annotate(str('%0.4f' % (colors[i], )), (lr_scatter[i], dropout_scatter[i]))\n",
    "plt.show()"
   ]
  },
  {
   "cell_type": "code",
   "execution_count": null,
   "metadata": {
    "hidden": true
   },
   "outputs": [],
   "source": [
    "plt.rcParams['figure.figsize'] = [10, 10]\n",
    "best_hparams_tuple = tuner.hparamsDictToTuple(hparams[0], tuner.tuner_hparams)\n",
    "cur_res = tuner.results_list[t][best_hparams_tuple]\n",
    "x = np.arange(0, cur_res['total_updates'], cur_res['updates_per_epoch'])\n",
    "cur_best_avg = cur_res['best_avg']\n",
    "cur_best_avg_updates = cur_res['best_avg_updates']\n",
    "updates_per_epoch = cur_res['updates_per_epoch']\n",
    "# print(\"dropout: %f, fisher_multiplier: %e, lr: %e\" % (k[0], k[1], k[2]))\n",
    "print(\"cur_best_avg: %e, num_updates: %d\" % (cur_best_avg, cur_best_avg_updates))\n",
    "print(\"best val_acc: %s\" % (str(np.array(cur_res['val_acc'])[:, (cur_best_avg_updates // updates_per_epoch - 1) // tuner.eval_frequency])))\n",
    "# plt.plot(cur_res['loss_with_penalty'], color='g')\n",
    "plt.plot(cur_res['loss'], color='m')\n",
    "plt.plot(x, cur_res['val_loss'][-1], color='b')\n",
    "plt.show()\n",
    "# plt.ylim(ymin=0.9)\n",
    "plt.plot(cur_res['val_acc'][0], color='b', )\n",
    "# plt.plot(cur_res['val_acc'][1], color='g')\n",
    "\n",
    "plt.show()"
   ]
  },
  {
   "cell_type": "code",
   "execution_count": null,
   "metadata": {
    "hidden": true
   },
   "outputs": [],
   "source": [
    "# print(best_avg, best_hparams)\n",
    "VALIDATION_BATCH_SIZE = 128\n",
    "print(tuner.validationAccuracy(t, VALIDATION_BATCH_SIZE, restore_model=False))"
   ]
  },
  {
   "cell_type": "code",
   "execution_count": null,
   "metadata": {
    "hidden": true
   },
   "outputs": [],
   "source": [
    "t = 1\n",
    "learning_rates = [1e-1]\n",
    "momentums = [0.9]\n",
    "regs = [0.0001]\n",
    "dropout_input_probs = [1.0]\n",
    "dropout_hidden_probs = [0.9]\n",
    "prod = list(itertools.product(regs, dropout_input_probs, dropout_hidden_probs, momentums, learning_rates))\n",
    "hparams = []\n",
    "for hparams_tuple in prod:\n",
    "    cur_dict = {}\n",
    "    cur_dict['reg'] = hparams_tuple[0]\n",
    "    cur_dict['dropout_input_prob'] = hparams_tuple[2]\n",
    "    cur_dict['dropout_hidden_prob'] = hparams_tuple[2]\n",
    "    cur_dict['momentum'] = hparams_tuple[3]\n",
    "    cur_dict['learning_rate'] = hparams_tuple[4]\n",
    "    hparams.append(cur_dict)\n",
    "\n",
    "tuner.hparams_list[t] = hparams"
   ]
  },
  {
   "cell_type": "code",
   "execution_count": null,
   "metadata": {
    "hidden": true
   },
   "outputs": [],
   "source": [
    "num_epochs = 160\n",
    "num_updates = math.ceil(tuner.task_list[t].train.images.shape[0] / BATCH_SIZE) * num_epochs\n",
    "tuner.print_every = 10"
   ]
  },
  {
   "cell_type": "code",
   "execution_count": null,
   "metadata": {
    "hidden": true
   },
   "outputs": [],
   "source": [
    "start_time = time.time()\n",
    "best_avg, best_hparams = tuner.tuneOnTask(t, BATCH_SIZE, \n",
    "                                          save_weights=False, \n",
    "                                          num_updates=num_updates, verbose=True, \n",
    "                                          random_crop_flip=True)\n",
    "print(\"time taken : %d\" % (time.time() - start_time))\n",
    "sound_file = '/mnt/a99/d0/shriramsb/code/Alan Walker - Alone.mp3'\n",
    "Audio(sound_file, autoplay=True)"
   ]
  },
  {
   "cell_type": "code",
   "execution_count": null,
   "metadata": {
    "hidden": true
   },
   "outputs": [],
   "source": [
    "import math\n",
    "plt.rcParams['figure.figsize'] = [10, 5]\n",
    "lr_scatter = ([math.log10(h['learning_rate']) for h in hparams])\n",
    "dropout_scatter = [h['dropout_hidden_prob'] for h in hparams]\n",
    "colors = []\n",
    "for i in range(len(hparams)):\n",
    "    cur_hparam_tuple = tuner.hparamsDictToTuple(hparams[i], tuner.tuner_hparams)\n",
    "    colors.append(tuner.results_list[t][cur_hparam_tuple]['best_avg'])\n",
    "    \n",
    "marker_size = 100\n",
    "fig, ax = plt.subplots()\n",
    "plt.scatter(lr_scatter, dropout_scatter, marker_size, c=colors, edgecolors='black')\n",
    "plt.colorbar()\n",
    "for i in range(len(lr_scatter)):\n",
    "    ax.annotate(str('%0.4f' % (colors[i], )), (lr_scatter[i], dropout_scatter[i]))\n",
    "plt.show()"
   ]
  },
  {
   "cell_type": "code",
   "execution_count": null,
   "metadata": {
    "hidden": true
   },
   "outputs": [],
   "source": [
    "plt.rcParams['figure.figsize'] = [10, 10]\n",
    "best_hparams_tuple = tuner.hparamsDictToTuple(hparams[0], tuner.tuner_hparams)\n",
    "cur_res = tuner.results_list[t][best_hparams_tuple]\n",
    "x = np.arange(0, cur_res['total_updates'], cur_res['updates_per_epoch'])\n",
    "cur_best_avg = cur_res['best_avg']\n",
    "cur_best_avg_updates = cur_res['best_avg_updates']\n",
    "updates_per_epoch = cur_res['updates_per_epoch']\n",
    "# print(\"dropout: %f, fisher_multiplier: %e, lr: %e\" % (k[0], k[1], k[2]))\n",
    "print(\"cur_best_avg: %e, num_updates: %d\" % (cur_best_avg, cur_best_avg_updates))\n",
    "print(\"best val_acc: %s\" % (str(np.array(cur_res['val_acc'])[:, (cur_best_avg_updates // updates_per_epoch - 1) // tuner.eval_frequency])))\n",
    "# plt.plot(cur_res['loss_with_penalty'], color='g')\n",
    "plt.plot(cur_res['loss'], color='m')\n",
    "plt.plot(x, cur_res['val_loss'][-1], color='b')\n",
    "plt.show()\n",
    "# plt.ylim(ymin=0.9)\n",
    "plt.plot(cur_res['val_acc'][0], color='b', )\n",
    "plt.plot(cur_res['val_acc'][1], color='g')\n",
    "\n",
    "plt.show()"
   ]
  },
  {
   "cell_type": "markdown",
   "metadata": {},
   "source": [
    "### Train tasks together"
   ]
  },
  {
   "cell_type": "code",
   "execution_count": 13,
   "metadata": {},
   "outputs": [],
   "source": [
    "t = 0\n",
    "learning_rates = [(((49, 1e-1), (63, 1e-1 / 5), 1e-1 / (5 * 5)), (1e-1, ))]\n",
    "momentums = [0.9]\n",
    "regs = [0.00001]\n",
    "dropout_input_probs = [1.0]\n",
    "dropout_hidden_probs = [0.9]\n",
    "prod = list(itertools.product(regs, dropout_input_probs, dropout_hidden_probs, momentums, learning_rates))\n",
    "hparams = []\n",
    "for hparams_tuple in prod:\n",
    "    cur_dict = {}\n",
    "    cur_dict['reg'] = hparams_tuple[0]\n",
    "    cur_dict['dropout_input_prob'] = hparams_tuple[2]\n",
    "    cur_dict['dropout_hidden_prob'] = hparams_tuple[2]\n",
    "    cur_dict['momentum'] = hparams_tuple[3]\n",
    "    cur_dict['learning_rate'] = hparams_tuple[4]\n",
    "    hparams.append(cur_dict)\n",
    "    \n",
    "for i in range(0, t + 1):\n",
    "    tuner.hparams_list[i] = hparams\n",
    "    "
   ]
  },
  {
   "cell_type": "code",
   "execution_count": 19,
   "metadata": {},
   "outputs": [],
   "source": [
    "tuner.setPerExampleAppend(5.0)\n",
    "t = 2\n",
    "learning_rates = [(((45, 1e-1), (55, 1e-1 / 5), 1e-1 / 25), ((9, 1e-2), 1e-2 / 5))]\n",
    "momentums = [0.9]\n",
    "regs = [0.00001]\n",
    "dropout_input_probs = [1.0]\n",
    "dropout_hidden_probs = [0.9]\n",
    "epsilons = [1.0]\n",
    "# epsilons = [0.5]\n",
    "prod = list(itertools.product(regs, dropout_input_probs, dropout_hidden_probs, momentums, learning_rates, \n",
    "                                epsilons))\n",
    "hparams = []\n",
    "for hparams_tuple in prod:\n",
    "    cur_dict = {}\n",
    "    cur_dict['reg'] = hparams_tuple[0]\n",
    "    cur_dict['dropout_input_prob'] = hparams_tuple[2]\n",
    "    cur_dict['dropout_hidden_prob'] = hparams_tuple[2]\n",
    "    cur_dict['momentum'] = hparams_tuple[3]\n",
    "    cur_dict['learning_rate'] = hparams_tuple[4]\n",
    "    cur_dict['epsilon'] = hparams_tuple[5]\n",
    "    hparams.append(cur_dict)\n",
    "    \n",
    "for i in range(1, t + 1):\n",
    "    tuner.hparams_list[i] = hparams\n",
    "\n",
    "for i in range(0, 1):\n",
    "    for _ in range(len(hparams)):\n",
    "        tuner.hparams_list[i].append(tuner.hparams_list[i][0])\n",
    "    "
   ]
  },
  {
   "cell_type": "code",
   "execution_count": 20,
   "metadata": {},
   "outputs": [],
   "source": [
    "num_hparams = len(hparams)\n",
    "num_epochs = 60\n",
    "num_updates = math.ceil(tuner.task_list[t].train.images.shape[0] / BATCH_SIZE) * num_epochs\n",
    "num_epochs_bf = 10\n",
    "num_updates_bf = math.ceil(tuner.task_list[t].train.images.shape[0] / BATCH_SIZE) * num_epochs_bf"
   ]
  },
  {
   "cell_type": "code",
   "execution_count": 18,
   "metadata": {},
   "outputs": [
    {
     "name": "stdout",
     "output_type": "stream",
     "text": [
      "INFO:tensorflow:Restoring parameters from ./checkpoints_0_no_distill/dropout_hidden_prob=0.9,dropout_input_prob=0.9,learning_rate=too_long,momentum=0.9,reg=1e-05,bf_num_images=2000,mask_softmax=True,old:new=1.0,task=0.ckpt-23660\n",
      "Training with T=None,alpha=0.0,dropout_hidden_prob=0.9,dropout_input_prob=0.9,epsilon=1.0,fisher_multiplier=0.0,learning_rate=too_long,momentum=0.9,reg=1e-05,bf_num_images=2000,mask_softmax=True,old:new=5.0,task=1\n",
      "Restoring paramters from dropout_hidden_prob=0.9,dropout_input_prob=0.9,learning_rate=too_long,momentum=0.9,reg=1e-05,bf_num_images=2000,mask_softmax=True,old:new=1.0,task=0\n",
      "INFO:tensorflow:Restoring parameters from ./checkpoints_0_no_distill/dropout_hidden_prob=0.9,dropout_input_prob=0.9,learning_rate=too_long,momentum=0.9,reg=1e-05,bf_num_images=2000,mask_softmax=True,old:new=1.0,task=0.ckpt-23660\n",
      "epoch: 1, iter: 0/4, validation accuracies: [0.57333333 0.        ], average train loss: 5.819932, average train accuracy: 0.681641\n",
      "epoch: 2, iter: 0/4, validation accuracies: [0.565 0.   ], average train loss: 4.379848, average train accuracy: 0.691406\n",
      "epoch: 3, iter: 0/4, validation accuracies: [0.55277778 0.30000001], average train loss: 3.406872, average train accuracy: 0.697266\n",
      "epoch: 4, iter: 0/4, validation accuracies: [0.53055555 0.64999998], average train loss: 2.998757, average train accuracy: 0.734375\n",
      "epoch: 5, iter: 0/4, validation accuracies: [0.50611112 0.85000002], average train loss: 3.097270, average train accuracy: 0.716797\n",
      "epoch: 6, iter: 0/4, validation accuracies: [0.50500001 0.85000002], average train loss: 2.722525, average train accuracy: 0.738281\n",
      "epoch: 7, iter: 0/4, validation accuracies: [0.51277777 0.85000002], average train loss: 2.680580, average train accuracy: 0.732422\n",
      "epoch: 8, iter: 0/4, validation accuracies: [0.52555555 0.69999999], average train loss: 2.141322, average train accuracy: 0.720703\n",
      "epoch: 9, iter: 0/4, validation accuracies: [0.52888889 0.55000001], average train loss: 2.113005, average train accuracy: 0.744141\n",
      "epoch: 10, iter: 0/4, validation accuracies: [0.52833333 0.44999999], average train loss: 1.964854, average train accuracy: 0.742188\n",
      "epoch: 11, iter: 0/4, validation accuracies: [0.53277778 0.44999999], average train loss: 1.491646, average train accuracy: 0.753906\n",
      "epoch: 12, iter: 0/4, validation accuracies: [0.53111112 0.44999999], average train loss: 1.717033, average train accuracy: 0.742188\n",
      "epoch: 13, iter: 0/4, validation accuracies: [0.53055555 0.55000001], average train loss: 1.472940, average train accuracy: 0.789062\n",
      "epoch: 14, iter: 0/4, validation accuracies: [0.53055556 0.64999998], average train loss: 1.633324, average train accuracy: 0.763672\n",
      "epoch: 15, iter: 0/4, validation accuracies: [0.52944443 0.69999999], average train loss: 1.292523, average train accuracy: 0.794922\n",
      "epoch: 16, iter: 0/4, validation accuracies: [0.52888889 0.75      ], average train loss: 1.356992, average train accuracy: 0.746094\n",
      "epoch: 17, iter: 0/4, validation accuracies: [0.53055555 0.75      ], average train loss: 1.229401, average train accuracy: 0.787109\n",
      "epoch: 18, iter: 0/4, validation accuracies: [0.53166666 0.75      ], average train loss: 1.642889, average train accuracy: 0.734375\n",
      "epoch: 19, iter: 0/4, validation accuracies: [0.53166666 0.75      ], average train loss: 1.409898, average train accuracy: 0.744141\n",
      "epoch: 20, iter: 0/4, validation accuracies: [0.53111111 0.75      ], average train loss: 1.370213, average train accuracy: 0.730469\n",
      "epoch: 21, iter: 0/4, validation accuracies: [0.53388888 0.75      ], average train loss: 1.294490, average train accuracy: 0.781250\n",
      "epoch: 22, iter: 0/4, validation accuracies: [0.53555557 0.75      ], average train loss: 1.635619, average train accuracy: 0.695312\n",
      "epoch: 23, iter: 0/4, validation accuracies: [0.53722223 0.75      ], average train loss: 1.270275, average train accuracy: 0.730469\n",
      "epoch: 24, iter: 0/4, validation accuracies: [0.53555555 0.75      ], average train loss: 1.100160, average train accuracy: 0.779297\n",
      "epoch: 25, iter: 0/4, validation accuracies: [0.5388889 0.75     ], average train loss: 1.376745, average train accuracy: 0.724609\n",
      "epoch: 26, iter: 0/4, validation accuracies: [0.53944446 0.75      ], average train loss: 1.184949, average train accuracy: 0.746094\n",
      "epoch: 27, iter: 0/4, validation accuracies: [0.54111112 0.75      ], average train loss: 1.214517, average train accuracy: 0.763672\n",
      "epoch: 28, iter: 0/4, validation accuracies: [0.54055556 0.75      ], average train loss: 1.135524, average train accuracy: 0.783203\n",
      "epoch: 29, iter: 0/4, validation accuracies: [0.54166667 0.75      ], average train loss: 1.057058, average train accuracy: 0.787109\n",
      "epoch: 30, iter: 0/4, validation accuracies: [0.53777778 0.75      ], average train loss: 1.277947, average train accuracy: 0.751953\n",
      "epoch: 31, iter: 0/4, validation accuracies: [0.54333332 0.75      ], average train loss: 1.159710, average train accuracy: 0.769531\n",
      "epoch: 32, iter: 0/4, validation accuracies: [0.54500001 0.75      ], average train loss: 0.968397, average train accuracy: 0.792969\n",
      "epoch: 33, iter: 0/4, validation accuracies: [0.54555554 0.75      ], average train loss: 1.131846, average train accuracy: 0.771484\n",
      "epoch: 34, iter: 0/4, validation accuracies: [0.54444444 0.75      ], average train loss: 1.249124, average train accuracy: 0.744141\n",
      "epoch: 35, iter: 0/4, validation accuracies: [0.54611111 0.75      ], average train loss: 0.950846, average train accuracy: 0.796875\n",
      "epoch: 36, iter: 0/4, validation accuracies: [0.54777777 0.69999999], average train loss: 0.985305, average train accuracy: 0.787109\n",
      "epoch: 37, iter: 0/4, validation accuracies: [0.545      0.69999999], average train loss: 0.818652, average train accuracy: 0.804688\n",
      "epoch: 38, iter: 0/4, validation accuracies: [0.55166666 0.69999999], average train loss: 1.061015, average train accuracy: 0.751953\n",
      "epoch: 39, iter: 0/4, validation accuracies: [0.54944443 0.69999999], average train loss: 0.941114, average train accuracy: 0.763672\n",
      "epoch: 40, iter: 0/4, validation accuracies: [0.55499999 0.75      ], average train loss: 1.016298, average train accuracy: 0.783203\n",
      "epoch: 41, iter: 0/4, validation accuracies: [0.55499999 0.75      ], average train loss: 0.952600, average train accuracy: 0.771484\n",
      "epoch: 42, iter: 0/4, validation accuracies: [0.54722222 0.80000001], average train loss: 1.007299, average train accuracy: 0.761719\n",
      "epoch: 43, iter: 0/4, validation accuracies: [0.55055557 0.75      ], average train loss: 0.902349, average train accuracy: 0.791016\n",
      "epoch: 44, iter: 0/4, validation accuracies: [0.55388889 0.75      ], average train loss: 1.020192, average train accuracy: 0.765625\n",
      "epoch: 45, iter: 0/4, validation accuracies: [0.55222223 0.69999999], average train loss: 0.948595, average train accuracy: 0.755859\n",
      "epoch: 46, iter: 0/4, validation accuracies: [0.55111111 0.69999999], average train loss: 0.921889, average train accuracy: 0.769531\n",
      "epoch: 47, iter: 0/4, validation accuracies: [0.55388889 0.69999999], average train loss: 0.936624, average train accuracy: 0.777344\n",
      "epoch: 48, iter: 0/4, validation accuracies: [0.55111111 0.69999999], average train loss: 1.055741, average train accuracy: 0.748047\n",
      "epoch: 49, iter: 0/4, validation accuracies: [0.55444444 0.69999999], average train loss: 0.947260, average train accuracy: 0.771484\n",
      "epoch: 50, iter: 0/4, validation accuracies: [0.55277778 0.69999999], average train loss: 0.900052, average train accuracy: 0.767578\n",
      "epoch: 51, iter: 0/4, validation accuracies: [0.55333334 0.69999999], average train loss: 0.845330, average train accuracy: 0.789062\n",
      "epoch: 52, iter: 0/4, validation accuracies: [0.55055557 0.69999999], average train loss: 1.064552, average train accuracy: 0.767578\n",
      "epoch: 53, iter: 0/4, validation accuracies: [0.54944444 0.69999999], average train loss: 0.796593, average train accuracy: 0.775391\n",
      "epoch: 54, iter: 0/4, validation accuracies: [0.5538889  0.69999999], average train loss: 0.692438, average train accuracy: 0.816406\n",
      "epoch: 55, iter: 0/4, validation accuracies: [0.55055555 0.69999999], average train loss: 0.957851, average train accuracy: 0.775391\n",
      "epoch: 56, iter: 0/4, validation accuracies: [0.55333334 0.69999999], average train loss: 0.781617, average train accuracy: 0.814453\n"
     ]
    },
    {
     "name": "stdout",
     "output_type": "stream",
     "text": [
      "epoch: 57, iter: 0/4, validation accuracies: [0.55333333 0.75      ], average train loss: 0.819760, average train accuracy: 0.794922\n",
      "epoch: 58, iter: 0/4, validation accuracies: [0.55166667 0.69999999], average train loss: 0.917399, average train accuracy: 0.773438\n",
      "epoch: 59, iter: 0/4, validation accuracies: [0.55444445 0.69999999], average train loss: 0.922773, average train accuracy: 0.771484\n",
      "epoch: 60, iter: 0/4, validation accuracies: [0.55444446 0.69999999], average train loss: 0.893518, average train accuracy: 0.777344\n",
      "epochs: 60.000000, final train loss: 1.116166, validation accuracies: [0.55444446 0.69999999]\n",
      "best epochs: 1.000000, best_avg: 0.567033, validation accuracies: [0.57333333 0.        ]\n",
      "Training with T=None,alpha=0.0,dropout_hidden_prob=0.9,dropout_input_prob=0.9,epsilon=1.0,fisher_multiplier=0.0,learning_rate=too_long,momentum=0.9,reg=1e-05,bf_num_images=2000,mask_softmax=True,old:new=5.0,task=1\n",
      "epoch: 1, iter: 0/4, validation accuracies: [0.55555556 0.69999999], average train loss: 0.986176, average train accuracy: 0.750000\n",
      "warning: Embedding dir exists, did you set global_step for add_embedding()?\n",
      "epoch: 2, iter: 0/4, validation accuracies: [0.55777777 0.64999998], average train loss: 1.111776, average train accuracy: 0.748047\n",
      "warning: Embedding dir exists, did you set global_step for add_embedding()?\n",
      "epoch: 3, iter: 0/4, validation accuracies: [0.55944444 0.55000001], average train loss: 0.825716, average train accuracy: 0.769531\n",
      "warning: Embedding dir exists, did you set global_step for add_embedding()?\n",
      "epoch: 4, iter: 0/4, validation accuracies: [0.55333334 0.40000001], average train loss: 0.903447, average train accuracy: 0.765625\n",
      "warning: Embedding dir exists, did you set global_step for add_embedding()?\n",
      "epoch: 5, iter: 0/4, validation accuracies: [0.54833333 0.34999999], average train loss: 0.808625, average train accuracy: 0.792969\n",
      "warning: Embedding dir exists, did you set global_step for add_embedding()?\n",
      "epoch: 6, iter: 0/4, validation accuracies: [0.54944446 0.25      ], average train loss: 0.836811, average train accuracy: 0.779297\n",
      "warning: Embedding dir exists, did you set global_step for add_embedding()?\n",
      "epoch: 7, iter: 0/4, validation accuracies: [0.555 0.25 ], average train loss: 0.784107, average train accuracy: 0.787109\n",
      "warning: Embedding dir exists, did you set global_step for add_embedding()?\n",
      "epoch: 8, iter: 0/4, validation accuracies: [0.55888888 0.25      ], average train loss: 0.762041, average train accuracy: 0.796875\n",
      "warning: Embedding dir exists, did you set global_step for add_embedding()?\n",
      "epoch: 9, iter: 0/4, validation accuracies: [0.55888889 0.25      ], average train loss: 0.719399, average train accuracy: 0.800781\n",
      "warning: Embedding dir exists, did you set global_step for add_embedding()?\n",
      "epoch: 10, iter: 0/4, validation accuracies: [0.55888889 0.25      ], average train loss: 0.680739, average train accuracy: 0.814453\n",
      "warning: Embedding dir exists, did you set global_step for add_embedding()?\n",
      "epochs: 10.000000, final train loss: 0.617849, validation accuracies: [0.55888889 0.25      ]\n",
      "best epochs: 3.000000, best_avg: 0.559341, validation accuracies: [0.55944444 0.55000001]\n",
      "saving model dropout_hidden_prob=0.9,dropout_input_prob=0.9,epsilon=1.0,learning_rate=too_long,momentum=0.9,reg=1e-05,bf_num_images=2000,mask_softmax=True,old:new=5.0,task=1 at time step 280\n",
      "calculating penultimate output...\n",
      "time taken: %f 7.794110298156738\n",
      "saving penultimate output...\n",
      "INFO:tensorflow:Restoring parameters from ./checkpoints_0_no_distill/dropout_hidden_prob=0.9,dropout_input_prob=0.9,epsilon=1.0,learning_rate=too_long,momentum=0.9,reg=1e-05,bf_num_images=2000,mask_softmax=True,old:new=5.0,task=1.ckpt-280\n",
      "Training with T=None,alpha=0.0,dropout_hidden_prob=0.9,dropout_input_prob=0.9,epsilon=1.0,fisher_multiplier=0.0,learning_rate=too_long,momentum=0.9,reg=1e-05,bf_num_images=2000,mask_softmax=True,old:new=5.0,task=2\n",
      "Restoring paramters from dropout_hidden_prob=0.9,dropout_input_prob=0.9,epsilon=1.0,learning_rate=too_long,momentum=0.9,reg=1e-05,bf_num_images=2000,mask_softmax=True,old:new=5.0,task=1\n",
      "INFO:tensorflow:Restoring parameters from ./checkpoints_0_no_distill/dropout_hidden_prob=0.9,dropout_input_prob=0.9,epsilon=1.0,learning_rate=too_long,momentum=0.9,reg=1e-05,bf_num_images=2000,mask_softmax=True,old:new=5.0,task=1.ckpt-280\n",
      "epoch: 1, iter: 0/4, validation accuracies: [0.23277777 0.         0.05      ], average train loss: 10.360689, average train accuracy: 0.269531\n",
      "epoch: 2, iter: 0/4, validation accuracies: [0.22999999 0.         0.2       ], average train loss: 8.760315, average train accuracy: 0.277344\n",
      "epoch: 3, iter: 0/4, validation accuracies: [0.21611111 0.         0.80000001], average train loss: 8.279399, average train accuracy: 0.287109\n",
      "epoch: 4, iter: 0/4, validation accuracies: [0.20555556 0.         0.89999998], average train loss: 7.144393, average train accuracy: 0.371094\n",
      "epoch: 5, iter: 0/4, validation accuracies: [0.19833334 0.         0.85000002], average train loss: 6.668281, average train accuracy: 0.343750\n",
      "epoch: 6, iter: 0/4, validation accuracies: [0.19888889 0.         0.75      ], average train loss: 6.264990, average train accuracy: 0.345703\n",
      "epoch: 7, iter: 0/4, validation accuracies: [0.19611111 0.         0.5       ], average train loss: 5.525377, average train accuracy: 0.332031\n",
      "epoch: 8, iter: 0/4, validation accuracies: [0.19       0.         0.55000001], average train loss: 5.337519, average train accuracy: 0.287109\n",
      "epoch: 9, iter: 0/4, validation accuracies: [0.19333333 0.         0.55000001], average train loss: 5.058130, average train accuracy: 0.308594\n",
      "epoch: 10, iter: 0/4, validation accuracies: [0.19222222 0.         0.60000002], average train loss: 4.653534, average train accuracy: 0.326172\n",
      "epoch: 11, iter: 0/4, validation accuracies: [0.19666667 0.         0.60000002], average train loss: 4.072029, average train accuracy: 0.341797\n",
      "epoch: 12, iter: 0/4, validation accuracies: [0.19833333 0.         0.75      ], average train loss: 4.360314, average train accuracy: 0.312500\n",
      "epoch: 13, iter: 0/4, validation accuracies: [0.20277778 0.         0.80000001], average train loss: 3.648409, average train accuracy: 0.373047\n",
      "epoch: 14, iter: 0/4, validation accuracies: [0.20055556 0.         0.80000001], average train loss: 3.788395, average train accuracy: 0.367188\n",
      "epoch: 15, iter: 0/4, validation accuracies: [0.20277778 0.         0.75      ], average train loss: 3.684085, average train accuracy: 0.371094\n",
      "epoch: 16, iter: 0/4, validation accuracies: [0.20555556 0.         0.64999998], average train loss: 3.793747, average train accuracy: 0.351562\n",
      "epoch: 17, iter: 0/4, validation accuracies: [0.205      0.         0.64999998], average train loss: 3.523493, average train accuracy: 0.359375\n",
      "epoch: 18, iter: 0/4, validation accuracies: [0.20055556 0.         0.64999998], average train loss: 3.489097, average train accuracy: 0.380859\n",
      "epoch: 19, iter: 0/4, validation accuracies: [0.20388889 0.         0.64999998], average train loss: 3.649208, average train accuracy: 0.343750\n",
      "epoch: 20, iter: 0/4, validation accuracies: [0.20611111 0.         0.64999998], average train loss: 3.188643, average train accuracy: 0.382812\n",
      "epoch: 21, iter: 0/4, validation accuracies: [0.20666667 0.         0.69999999], average train loss: 3.262576, average train accuracy: 0.371094\n",
      "epoch: 22, iter: 0/4, validation accuracies: [0.21055556 0.         0.64999998], average train loss: 3.268540, average train accuracy: 0.367188\n",
      "epoch: 23, iter: 0/4, validation accuracies: [0.21222223 0.         0.64999998], average train loss: 3.264470, average train accuracy: 0.367188\n",
      "epoch: 24, iter: 0/4, validation accuracies: [0.21555556 0.         0.69999999], average train loss: 3.093762, average train accuracy: 0.369141\n",
      "epoch: 25, iter: 0/4, validation accuracies: [0.22055556 0.         0.64999998], average train loss: 3.159564, average train accuracy: 0.357422\n",
      "epoch: 26, iter: 0/4, validation accuracies: [0.22555556 0.         0.64999998], average train loss: 3.202507, average train accuracy: 0.384766\n",
      "epoch: 27, iter: 0/4, validation accuracies: [0.23055555 0.         0.64999998], average train loss: 3.333761, average train accuracy: 0.361328\n"
     ]
    },
    {
     "name": "stdout",
     "output_type": "stream",
     "text": [
      "epoch: 28, iter: 0/4, validation accuracies: [0.23111111 0.         0.64999998], average train loss: 3.104774, average train accuracy: 0.371094\n",
      "epoch: 29, iter: 0/4, validation accuracies: [0.23444444 0.         0.64999998], average train loss: 3.088767, average train accuracy: 0.353516\n",
      "epoch: 30, iter: 0/4, validation accuracies: [0.23277778 0.         0.64999998], average train loss: 2.915471, average train accuracy: 0.410156\n",
      "epoch: 31, iter: 0/4, validation accuracies: [0.23388889 0.         0.69999999], average train loss: 2.853575, average train accuracy: 0.414062\n",
      "epoch: 32, iter: 0/4, validation accuracies: [0.235      0.         0.69999999], average train loss: 3.104800, average train accuracy: 0.345703\n",
      "epoch: 33, iter: 0/4, validation accuracies: [0.23555556 0.         0.69999999], average train loss: 2.743173, average train accuracy: 0.417969\n",
      "epoch: 34, iter: 0/4, validation accuracies: [0.23888889 0.         0.69999999], average train loss: 2.859844, average train accuracy: 0.402344\n",
      "epoch: 35, iter: 0/4, validation accuracies: [0.24166666 0.         0.69999999], average train loss: 2.845850, average train accuracy: 0.386719\n",
      "epoch: 36, iter: 0/4, validation accuracies: [0.245      0.         0.69999999], average train loss: 2.997264, average train accuracy: 0.365234\n",
      "epoch: 37, iter: 0/4, validation accuracies: [0.24944444 0.         0.69999999], average train loss: 2.912503, average train accuracy: 0.378906\n",
      "epoch: 38, iter: 0/4, validation accuracies: [0.24722223 0.         0.69999999], average train loss: 2.915730, average train accuracy: 0.382812\n",
      "epoch: 39, iter: 0/4, validation accuracies: [0.24777778 0.         0.69999999], average train loss: 2.936769, average train accuracy: 0.394531\n",
      "epoch: 40, iter: 0/4, validation accuracies: [0.24944445 0.         0.69999999], average train loss: 2.660874, average train accuracy: 0.423828\n",
      "epoch: 41, iter: 0/4, validation accuracies: [0.24999999 0.         0.69999999], average train loss: 2.782110, average train accuracy: 0.355469\n",
      "epoch: 42, iter: 0/4, validation accuracies: [0.25388889 0.         0.69999999], average train loss: 2.812181, average train accuracy: 0.384766\n",
      "epoch: 43, iter: 0/4, validation accuracies: [0.26055555 0.         0.69999999], average train loss: 2.672818, average train accuracy: 0.410156\n",
      "epoch: 44, iter: 0/4, validation accuracies: [0.26277778 0.         0.69999999], average train loss: 2.738387, average train accuracy: 0.402344\n",
      "epoch: 45, iter: 0/4, validation accuracies: [0.26277777 0.         0.69999999], average train loss: 2.784054, average train accuracy: 0.371094\n",
      "epoch: 46, iter: 0/4, validation accuracies: [0.26333333 0.         0.69999999], average train loss: 2.654579, average train accuracy: 0.414062\n",
      "epoch: 47, iter: 0/4, validation accuracies: [0.26333333 0.         0.69999999], average train loss: 2.532160, average train accuracy: 0.437500\n",
      "epoch: 48, iter: 0/4, validation accuracies: [0.26388889 0.         0.69999999], average train loss: 2.451992, average train accuracy: 0.439453\n",
      "epoch: 49, iter: 0/4, validation accuracies: [0.26222222 0.         0.69999999], average train loss: 2.481369, average train accuracy: 0.437500\n",
      "epoch: 50, iter: 0/4, validation accuracies: [0.26388889 0.         0.69999999], average train loss: 2.664323, average train accuracy: 0.419922\n",
      "epoch: 51, iter: 0/4, validation accuracies: [0.26722223 0.         0.69999999], average train loss: 2.614371, average train accuracy: 0.423828\n",
      "epoch: 52, iter: 0/4, validation accuracies: [0.27       0.         0.69999999], average train loss: 2.600410, average train accuracy: 0.402344\n",
      "epoch: 53, iter: 0/4, validation accuracies: [0.27055555 0.         0.69999999], average train loss: 2.529199, average train accuracy: 0.417969\n",
      "epoch: 54, iter: 0/4, validation accuracies: [0.26666667 0.         0.69999999], average train loss: 2.531326, average train accuracy: 0.427734\n",
      "epoch: 55, iter: 0/4, validation accuracies: [0.26888889 0.         0.69999999], average train loss: 2.630433, average train accuracy: 0.435547\n",
      "epoch: 56, iter: 0/4, validation accuracies: [0.27277778 0.         0.69999999], average train loss: 2.741785, average train accuracy: 0.400391\n",
      "epoch: 57, iter: 0/4, validation accuracies: [0.27277778 0.         0.69999999], average train loss: 2.773046, average train accuracy: 0.398438\n",
      "epoch: 58, iter: 0/4, validation accuracies: [0.27       0.         0.69999999], average train loss: 2.679129, average train accuracy: 0.400391\n",
      "epoch: 59, iter: 0/4, validation accuracies: [0.27277778 0.         0.69999999], average train loss: 2.700159, average train accuracy: 0.412109\n",
      "epoch: 60, iter: 0/4, validation accuracies: [0.275 0.    0.75 ], average train loss: 2.586232, average train accuracy: 0.421875\n",
      "epochs: 60.000000, final train loss: 2.481776, validation accuracies: [0.275 0.    0.75 ]\n",
      "best epochs: 60.000000, best_avg: 0.277174, validation accuracies: [0.275 0.    0.75 ]\n",
      "Training with T=None,alpha=0.0,dropout_hidden_prob=0.9,dropout_input_prob=0.9,epsilon=1.0,fisher_multiplier=0.0,learning_rate=too_long,momentum=0.9,reg=1e-05,bf_num_images=2000,mask_softmax=True,old:new=5.0,task=2\n",
      "epoch: 1, iter: 0/4, validation accuracies: [0.26833334 0.         0.64999998], average train loss: 3.013076, average train accuracy: 0.312500\n",
      "warning: Embedding dir exists, did you set global_step for add_embedding()?\n",
      "epoch: 2, iter: 0/4, validation accuracies: [0.27333333 0.         0.44999999], average train loss: 3.104347, average train accuracy: 0.294922\n",
      "warning: Embedding dir exists, did you set global_step for add_embedding()?\n",
      "epoch: 3, iter: 0/4, validation accuracies: [0.27722222 0.         0.34999999], average train loss: 2.979760, average train accuracy: 0.289062\n",
      "warning: Embedding dir exists, did you set global_step for add_embedding()?\n",
      "epoch: 4, iter: 0/4, validation accuracies: [0.27777778 0.         0.34999999], average train loss: 2.822411, average train accuracy: 0.339844\n",
      "warning: Embedding dir exists, did you set global_step for add_embedding()?\n",
      "epoch: 5, iter: 0/4, validation accuracies: [0.27944445 0.         0.34999999], average train loss: 2.948555, average train accuracy: 0.361328\n",
      "warning: Embedding dir exists, did you set global_step for add_embedding()?\n",
      "epoch: 6, iter: 0/4, validation accuracies: [0.28333333 0.         0.34999999], average train loss: 2.811548, average train accuracy: 0.363281\n",
      "warning: Embedding dir exists, did you set global_step for add_embedding()?\n",
      "epoch: 7, iter: 0/4, validation accuracies: [0.285      0.         0.34999999], average train loss: 2.584518, average train accuracy: 0.404297\n",
      "warning: Embedding dir exists, did you set global_step for add_embedding()?\n",
      "epoch: 8, iter: 0/4, validation accuracies: [0.28888889 0.         0.34999999], average train loss: 2.600807, average train accuracy: 0.406250\n",
      "warning: Embedding dir exists, did you set global_step for add_embedding()?\n",
      "epoch: 9, iter: 0/4, validation accuracies: [0.29222222 0.         0.34999999], average train loss: 2.750191, average train accuracy: 0.367188\n",
      "warning: Embedding dir exists, did you set global_step for add_embedding()?\n",
      "epoch: 10, iter: 0/4, validation accuracies: [0.29833333 0.         0.34999999], average train loss: 2.534652, average train accuracy: 0.408203\n",
      "warning: Embedding dir exists, did you set global_step for add_embedding()?\n",
      "epochs: 10.000000, final train loss: 2.503248, validation accuracies: [0.29833333 0.         0.34999999]\n",
      "best epochs: 10.000000, best_avg: 0.295652, validation accuracies: [0.29833333 0.         0.34999999]\n",
      "saving model dropout_hidden_prob=0.9,dropout_input_prob=0.9,epsilon=1.0,learning_rate=too_long,momentum=0.9,reg=1e-05,bf_num_images=2000,mask_softmax=True,old:new=5.0,task=2 at time step 280\n",
      "calculating penultimate output...\n",
      "time taken: %f 6.653980493545532\n",
      "saving penultimate output...\n"
     ]
    }
   ],
   "source": [
    "best_avg, best_hparams_index, test_acc = tuner.tuneTasksInRange(1, t, BATCH_SIZE, num_hparams, \n",
    "                                                        num_updates=num_updates, verbose=True, \n",
    "                                                        random_crop_flip=True, \n",
    "                                                        is_sampling_reweighing=True, \n",
    "                                                        do_bf_finetuning=True, num_updates_bf=num_updates_bf, \n",
    "                                                        bf_only_penultimate_train=False, \n",
    "                                                        sigma=5.0, \n",
    "                                                        eval_test_dataset=True)"
   ]
  },
  {
   "cell_type": "code",
   "execution_count": 44,
   "metadata": {},
   "outputs": [
    {
     "name": "stdout",
     "output_type": "stream",
     "text": [
      "[0.6152222222222222, 0.4699999988079071]\n",
      "[0.4892222222222222, 0.28999999165534973, 0.5899999737739563]\n"
     ]
    }
   ],
   "source": [
    "for index in range(len(test_acc)):\n",
    "    print(test_acc[index])"
   ]
  },
  {
   "cell_type": "code",
   "execution_count": 40,
   "metadata": {},
   "outputs": [
    {
     "name": "stdout",
     "output_type": "stream",
     "text": [
      "[0.6202222222752042, 0.6299999952316284]\n",
      "[0.48044444444444445, 0.25, 0.7099999785423279]\n"
     ]
    }
   ],
   "source": [
    "for index in range(len(test_acc)):\n",
    "    print(test_acc[index])"
   ]
  },
  {
   "cell_type": "code",
   "execution_count": 53,
   "metadata": {},
   "outputs": [
    {
     "name": "stdout",
     "output_type": "stream",
     "text": [
      "0.05\n"
     ]
    }
   ],
   "source": [
    "num_old_examples = tuner.appended_task_list[t].train.images.shape[0] - tuner.task_list[t].train.images.shape[0]\n",
    "# print(np.sum(tuner.appended_task_list[t].train.old_task_equalized_weights[ : num_old_examples] != tuner.appended_task_list[t].train.old_task_equalized_weights[ : num_old_examples][0]))\n",
    "# print(tuner.appended_task_list[t].train.old_task_equalized_weights[num_old_examples : ])\n",
    "num_examples_per_class = 480\n",
    "print(np.sum(tuner.appended_task_list[t].train.old_task_equalized_weights[num_old_examples : ]))\n"
   ]
  },
  {
   "cell_type": "code",
   "execution_count": 45,
   "metadata": {
    "scrolled": true
   },
   "outputs": [
    {
     "name": "stdout",
     "output_type": "stream",
     "text": [
      "cur_best_avg: 4.701087e-01, num_updates: 10\n",
      "best val_acc: [0.47166666 0.30000001 0.5       ]\n"
     ]
    },
    {
     "data": {
      "image/png": "[encoded data removed]",
      "text/plain": [
       "<Figure size 360x360 with 1 Axes>"
      ]
     },
     "metadata": {
      "needs_background": "light"
     },
     "output_type": "display_data"
    }
   ],
   "source": [
    "plt.rcParams['figure.figsize'] = [5, 5]\n",
    "best_hparams_tuple = tuner.hparamsDictToTuple(hparams[best_hparams_index], tuner.tuner_hparams)\n",
    "cur_res = tuner.results_list[t][best_hparams_tuple]\n",
    "x = np.arange(0, cur_res[0]['total_updates'] + cur_res[1]['total_updates'], cur_res[0]['updates_per_epoch'])\n",
    "cur_best_avg = cur_res[1]['best_avg']\n",
    "cur_best_epoch = cur_res[1]['best_epoch']\n",
    "updates_per_epoch = cur_res[1]['updates_per_epoch']\n",
    "# print(\"dropout: %f, fisher_multiplier: %e, lr: %e\" % (k[0], k[1], k[2]))\n",
    "print(\"cur_best_avg: %e, num_updates: %d\" % (cur_best_avg, cur_best_epoch))\n",
    "print(\"best val_acc: %s\" % (str(np.array(cur_res[1]['val_acc'])[:, (cur_best_epoch - 1) // tuner.eval_frequency])))\n",
    "# plt.plot(cur_res['loss_with_penalty'], color='g')\n",
    "# plt.plot(np.concatenate((cur_res['loss'][0][-1], cur_res['loss'][1][-1]), axis=0), color='b')\n",
    "# plt.plot(np.concatenate((cur_res[0]['val_loss'][-1], cur_res[1]['val_loss'][-1]), axis=0), color='b')\n",
    "# plt.show()\n",
    "# plt.ylim(ymin=0.9)\n",
    "plt.plot(np.concatenate((cur_res[0]['val_acc'][-1], cur_res[1]['val_acc'][-1]), axis=0), color='b')\n",
    "plt.plot(np.concatenate((cur_res[0]['val_acc'][1], cur_res[1]['val_acc'][1]), axis=0), color='g')\n",
    "plt.plot(np.concatenate((cur_res[0]['val_acc'][0], cur_res[1]['val_acc'][0]), axis=0), color='r')\n",
    "# plt.plot(cur_res['val_acc'][1], color='g')\n",
    "\n",
    "plt.show()"
   ]
  },
  {
   "cell_type": "code",
   "execution_count": 91,
   "metadata": {},
   "outputs": [],
   "source": [
    "def getAllCosineSimilarity(wts, init_classes, only_dot=False):\n",
    "    num_init_class = len(init_classes)\n",
    "    cosine_wts = [[0.0 for _ in range(num_init_class)] for _ in range(num_init_class)]\n",
    "    for i in range(num_init_class):\n",
    "        for j in range(num_init_class):\n",
    "            w_i = wts[0][:, init_classes[i]]\n",
    "            w_j = wts[0][:, init_classes[j]]\n",
    "            if (only_dot):\n",
    "                cosine_wts[i][j] = np.sum(w_i * w_j)\n",
    "            else:\n",
    "                cosine_wts[i][j] = np.sum(w_i * w_j) / np.sqrt(np.sum(w_i ** 2)) / np.sqrt(np.sum(w_j ** 2))\n",
    "    return cosine_wts\n"
   ]
  },
  {
   "cell_type": "code",
   "execution_count": 107,
   "metadata": {},
   "outputs": [
    {
     "name": "stdout",
     "output_type": "stream",
     "text": [
      "INFO:tensorflow:Restoring parameters from ./checkpoints_0_no_distill/dropout_hidden_prob=0.9,dropout_input_prob=0.9,learning_rate=too_long,momentum=0.9,reg=1e-05,bf_num_images=2000,mask_softmax=True,old:new=1.0,task=0.ckpt-23660\n",
      "INFO:tensorflow:Restoring parameters from ./checkpoints_0_no_distill/dropout_hidden_prob=0.9,dropout_input_prob=0.9,epsilon=1.0,learning_rate=too_long,momentum=0.9,reg=1e-05,bf_num_images=2000,mask_softmax=True,old:new=5.0,task=1.ckpt-280\n",
      "INFO:tensorflow:Restoring parameters from ./checkpoints_0_no_distill/dropout_hidden_prob=0.9,dropout_input_prob=0.9,epsilon=1.0,learning_rate=too_long,momentum=0.9,reg=1e-05,bf_num_images=2000,mask_softmax=True,old:new=5.0,task=2.ckpt-280\n",
      "INFO:tensorflow:Restoring parameters from ./checkpoints_0_no_distill/dropout_hidden_prob=0.9,dropout_input_prob=0.9,epsilon=1.0,learning_rate=too_long,momentum=0.9,reg=1e-05,bf_num_images=2000,mask_softmax=True,old:new=5.0,task=3.ckpt-280\n",
      "INFO:tensorflow:Restoring parameters from ./checkpoints_0_no_distill/dropout_hidden_prob=0.9,dropout_input_prob=0.9,epsilon=1.0,learning_rate=too_long,momentum=0.9,reg=1e-05,bf_num_images=2000,mask_softmax=True,old:new=5.0,task=4.ckpt-280\n",
      "INFO:tensorflow:Restoring parameters from ./checkpoints_0_no_distill/dropout_hidden_prob=0.9,dropout_input_prob=0.9,epsilon=1.0,learning_rate=too_long,momentum=0.9,reg=1e-05,bf_num_images=2000,mask_softmax=True,old:new=5.0,task=5.ckpt-280\n",
      "INFO:tensorflow:Restoring parameters from ./checkpoints_0_no_distill/dropout_hidden_prob=0.9,dropout_input_prob=0.9,epsilon=1.0,learning_rate=too_long,momentum=0.9,reg=1e-05,bf_num_images=2000,mask_softmax=True,old:new=5.0,task=6.ckpt-280\n",
      "INFO:tensorflow:Restoring parameters from ./checkpoints_0_no_distill/dropout_hidden_prob=0.9,dropout_input_prob=0.9,epsilon=1.0,learning_rate=too_long,momentum=0.9,reg=1e-05,bf_num_images=2000,mask_softmax=True,old:new=5.0,task=7.ckpt-280\n",
      "INFO:tensorflow:Restoring parameters from ./checkpoints_0_no_distill/dropout_hidden_prob=0.9,dropout_input_prob=0.9,epsilon=1.0,learning_rate=too_long,momentum=0.9,reg=1e-05,bf_num_images=2000,mask_softmax=True,old:new=5.0,task=8.ckpt-280\n",
      "INFO:tensorflow:Restoring parameters from ./checkpoints_0_no_distill/dropout_hidden_prob=0.9,dropout_input_prob=0.9,epsilon=1.0,learning_rate=too_long,momentum=0.9,reg=1e-05,bf_num_images=2000,mask_softmax=True,old:new=5.0,task=9.ckpt-280\n"
     ]
    }
   ],
   "source": [
    "tuner.setPerExampleAppend(1.0)\n",
    "num_tasks_test = 10\n",
    "wts = [None for _ in range(num_tasks_test)]\n",
    "init_classes = tuner.split[0]\n",
    "cosine_sim_wts = [None for _ in range(num_tasks_test)]\n",
    "dot_sim_wts = [None for _ in range(num_tasks_test)]\n",
    "for i in range(num_tasks_test):\n",
    "    tuner.test(i, BATCH_SIZE, restore_model=True, hparams=tuner.hparams_list[i][0])\n",
    "    tuner.setPerExampleAppend(5.0)\n",
    "    wts[i] = sess.run([v for v in tf.all_variables() if 'dense' in v.name and 'kernel:0' in v.name])\n",
    "    cosine_sim_wts[i] = np.array(getAllCosineSimilarity(wts[i], init_classes, only_dot=False))\n",
    "    dot_sim_wts[i] = np.array(getAllCosineSimilarity(wts[i], init_classes, only_dot=True))\n",
    "    "
   ]
  },
  {
   "cell_type": "code",
   "execution_count": 108,
   "metadata": {},
   "outputs": [
    {
     "name": "stdout",
     "output_type": "stream",
     "text": [
      "task 0\n",
      "sum cosine:  -88.50575530529022\n",
      "sum dot:  -3062.4348\n",
      "sum norms:  528.26495\n",
      "task 1\n",
      "sum cosine:  -88.4866384267807\n",
      "sum dot:  -3018.1821\n",
      "sum norms:  524.76776\n",
      "task 2\n",
      "sum cosine:  -88.45561015605927\n",
      "sum dot:  -2935.9426\n",
      "sum norms:  517.5817\n",
      "task 3\n",
      "sum cosine:  -88.08119678497314\n",
      "sum dot:  -2822.0322\n",
      "sum norms:  507.63205\n",
      "task 4\n",
      "sum cosine:  -88.00607645511627\n",
      "sum dot:  -2820.611\n",
      "sum norms:  507.96838\n",
      "task 5\n",
      "sum cosine:  -87.68676710128784\n",
      "sum dot:  -2777.5686\n",
      "sum norms:  504.12115\n",
      "task 6\n",
      "sum cosine:  -87.29895448684692\n",
      "sum dot:  -2779.5854\n",
      "sum norms:  505.22195\n",
      "task 7\n",
      "sum cosine:  -87.25035214424133\n",
      "sum dot:  -2767.509\n",
      "sum norms:  504.23926\n",
      "task 8\n",
      "sum cosine:  -87.20505785942078\n",
      "sum dot:  -2761.7344\n",
      "sum norms:  503.74304\n",
      "task 9\n",
      "sum cosine:  -86.75411820411682\n",
      "sum dot:  -2731.1504\n",
      "sum norms:  502.00742\n"
     ]
    }
   ],
   "source": [
    "for i in range(num_tasks_test):\n",
    "#     plt.imshow(cosine_sim_wts[i])\n",
    "    print(\"task\", i)\n",
    "    print(\"sum cosine: \", np.sum(cosine_sim_wts[i]) - num_init_class)\n",
    "    print(\"sum dot: \", np.sum(dot_sim_wts[i]) - np.sum(wts[i][0][: , init_classes] ** 2))\n",
    "    print(\"sum norms: \", np.sum(np.sqrt(np.sum(wts[i][0][:, init_classes] ** 2, axis=0))))\n",
    "#     plt.show()"
   ]
  },
  {
   "cell_type": "code",
   "execution_count": 65,
   "metadata": {},
   "outputs": [],
   "source": [
    "num_init_class = 90\n",
    "        \n",
    "num_init_class = 90\n",
    "final_cosine_wts = [[0.0 for _ in range(num_init_class)] for _ in range(num_init_class)]\n",
    "for i in range(num_init_class):\n",
    "    for j in range(num_init_class):\n",
    "        w_i = final_weights[0][:, i]\n",
    "        w_j = final_weights[0][:, j]\n",
    "        final_cosine_wts[i][j] = np.sum(w_i * w_j) / np.sqrt(np.sum(w_i ** 2)) / np.sqrt(np.sum(w_j ** 2))\n"
   ]
  },
  {
   "cell_type": "code",
   "execution_count": 69,
   "metadata": {},
   "outputs": [
    {
     "name": "stdout",
     "output_type": "stream",
     "text": [
      "0.99999994\n",
      "16.108389\n",
      "16.173714\n"
     ]
    }
   ],
   "source": [
    "init_cosine_wts = np.array(init_cosine_wts)\n",
    "final_cosine_wts = np.array(final_cosine_wts)\n",
    "\n",
    "print(init_cosine_wts[0, 0])\n",
    "print(np.sum(init_cosine_wts))\n",
    "print(np.sum(final_cosine_wts))"
   ]
  },
  {
   "cell_type": "code",
   "execution_count": null,
   "metadata": {},
   "outputs": [],
   "source": [
    "# test accuracy\n",
    "TEST_BATCH_SIZE = 128\n",
    "test_accuracies = []\n",
    "for hparam in hparams:\n",
    "    accuracy = tuner.test(t, BATCH_SIZE, restore_model=True, hparams=hparam)\n",
    "    test_accuracies.append(accuracy)\n",
    "    print(hparam['epsilon'], accuracy)"
   ]
  },
  {
   "cell_type": "code",
   "execution_count": null,
   "metadata": {
    "scrolled": true
   },
   "outputs": [],
   "source": [
    "# Weights given to each class\n",
    "num_class = 100\n",
    "for i in range(num_class):\n",
    "    print(i, np.sum(tuner.appended_task_list[-1].train.weights[(np.argmax(tuner.appended_task_list[-1].train.labels, axis=1) == i)]))"
   ]
  },
  {
   "cell_type": "code",
   "execution_count": null,
   "metadata": {},
   "outputs": [],
   "source": [
    "old_weights = tuner.appended_task_list[1].train.weights[np.argmax(tuner.appended_task_list[1].train.labels, axis=1) != 99]\n",
    "plt.rcParams['figure.figsize'] = [10, 10]\n",
    "# plt.hist(old_weights)\n",
    "# seaborn.distplot(old_weights)\n",
    "print(old_weights.shape)\n",
    "print(np.sum(old_weights < 1e-5))\n",
    "print(np.sum((old_weights >= 1e-5) * (old_weights < 1e-2)))\n",
    "# for i in range(1000):\n",
    "#     print(w[i])"
   ]
  },
  {
   "cell_type": "code",
   "execution_count": null,
   "metadata": {},
   "outputs": [],
   "source": [
    "tuner.saveResultsList()\n",
    "tuner.saveBestHparams()"
   ]
  },
  {
   "cell_type": "code",
   "execution_count": null,
   "metadata": {
    "scrolled": true
   },
   "outputs": [],
   "source": [
    "TEST_BATCH_SIZE = 128\n",
    "test_accuracies = []\n",
    "for i in range(t + 1):\n",
    "    accuracy = tuner.test(i, TEST_BATCH_SIZE, restore_model=True)\n",
    "    test_accuracies.append(np.mean(accuracy))"
   ]
  },
  {
   "cell_type": "code",
   "execution_count": null,
   "metadata": {},
   "outputs": [],
   "source": [
    "plt.plot(test_accuracies)\n",
    "plt.ylim(ymin=0, ymax=1)\n",
    "plt.show()"
   ]
  },
  {
   "cell_type": "code",
   "execution_count": null,
   "metadata": {},
   "outputs": [],
   "source": [
    "%store -r DB1_test_accuracies\n",
    "plt.plot(test_accuracies, color='g')\n",
    "plt.plot(DB1_test_accuracies, color='b')\n",
    "plt.ylim(ymin=0, ymax=1)\n",
    "plt.show()"
   ]
  },
  {
   "cell_type": "code",
   "execution_count": null,
   "metadata": {},
   "outputs": [],
   "source": [
    "plt.hist(tuner.appended_task_list[-1].train.weights[0 : tuner.appended_task_list[-2].train.weights.shape[0]], bins='auto')"
   ]
  },
  {
   "cell_type": "code",
   "execution_count": null,
   "metadata": {},
   "outputs": [],
   "source": [
    "if use_tpu:\n",
    "    sess.run(tpu.shutdown_system())\n",
    "\n",
    "sess.close()"
   ]
  },
  {
   "cell_type": "code",
   "execution_count": null,
   "metadata": {},
   "outputs": [],
   "source": [
    "import shelve\n",
    "filename='code_state.bak'\n",
    "my_shelf = shelve.open(filename,'n') # 'n' for new\n",
    "\n",
    "for key in dir():\n",
    "    try:\n",
    "        my_shelf[key] = globals()[key]\n",
    "    except TypeError:\n",
    "        #\n",
    "        # __builtins__, my_shelf, and imported modules can not be shelved.\n",
    "        #\n",
    "        print('ERROR shelving: {0}'.format(key))\n",
    "my_shelf.close()"
   ]
  },
  {
   "cell_type": "code",
   "execution_count": null,
   "metadata": {},
   "outputs": [],
   "source": []
  }
 ],
 "metadata": {
  "kernelspec": {
   "display_name": "Python 3",
   "language": "python",
   "name": "python3"
  },
  "language_info": {
   "codemirror_mode": {
    "name": "ipython",
    "version": 3
   },
   "file_extension": ".py",
   "mimetype": "text/x-python",
   "name": "python",
   "nbconvert_exporter": "python",
   "pygments_lexer": "ipython3",
   "version": "3.6.6"
  }
 },
 "nbformat": 4,
 "nbformat_minor": 2
}
