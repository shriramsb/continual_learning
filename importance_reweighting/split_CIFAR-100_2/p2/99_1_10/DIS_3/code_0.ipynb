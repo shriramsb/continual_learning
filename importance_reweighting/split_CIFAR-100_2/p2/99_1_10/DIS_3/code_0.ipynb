{
 "cells": [
  {
   "cell_type": "markdown",
   "metadata": {},
   "source": [
    "### Import and init GPU"
   ]
  },
  {
   "cell_type": "code",
   "execution_count": 1,
   "metadata": {},
   "outputs": [],
   "source": [
    "from IPython.display import Audio"
   ]
  },
  {
   "cell_type": "code",
   "execution_count": 2,
   "metadata": {},
   "outputs": [],
   "source": [
    "import sys\n",
    "sys.path.append('../../../../')"
   ]
  },
  {
   "cell_type": "code",
   "execution_count": 3,
   "metadata": {},
   "outputs": [],
   "source": [
    "import numpy as np\n",
    "import math\n",
    "\n",
    "%matplotlib inline\n",
    "import matplotlib.pyplot as plt\n",
    "import seaborn\n",
    "\n",
    "import pickle\n",
    "import argparse\n",
    "import time\n",
    "import itertools\n",
    "from copy import deepcopy\n",
    "import tensorflow as tf\n",
    "\n",
    "from tuner import HyperparameterTuner\n",
    "from tuner import MyTask\n",
    "\n",
    "use_tpu = False\n",
    "use_gpu = True\n",
    "\n",
    "if use_tpu:\n",
    "    from tensorflow.contrib import tpu\n",
    "    from tensorflow.contrib.cluster_resolver import TPUClusterResolver\n",
    "\n",
    "if use_gpu:\n",
    "    import os\n",
    "    \n",
    "%load_ext autoreload\n",
    "%autoreload 2"
   ]
  },
  {
   "cell_type": "code",
   "execution_count": 4,
   "metadata": {
    "code_folding": []
   },
   "outputs": [],
   "source": [
    "if use_gpu:\n",
    "    os.environ['CUDA_VISIBLE_DEVICES'] = '2'\n",
    "    config = tf.ConfigProto()\n",
    "    config.gpu_options.allow_growth = True"
   ]
  },
  {
   "cell_type": "code",
   "execution_count": 5,
   "metadata": {},
   "outputs": [],
   "source": [
    "if use_tpu:\n",
    "    tpu_cluster = TPUClusterResolver(tpu=[tpu_name]).get_master()\n",
    "    sess = tf.Session(tpu_cluster)\n",
    "    sess.run(tpu.initialize_system())\n",
    "elif use_gpu:\n",
    "    sess = tf.Session(config=config)\n",
    "else:\n",
    "    sess = tf.Session()"
   ]
  },
  {
   "cell_type": "code",
   "execution_count": 6,
   "metadata": {},
   "outputs": [],
   "source": [
    "from resnet import Network"
   ]
  },
  {
   "cell_type": "code",
   "execution_count": 7,
   "metadata": {},
   "outputs": [],
   "source": [
    "network = Network()"
   ]
  },
  {
   "cell_type": "code",
   "execution_count": 8,
   "metadata": {},
   "outputs": [],
   "source": [
    "task_home = ''\n",
    "if use_tpu:\n",
    "    pass\n",
    "#     task_home = 'gs://continual_learning/permMNIST_EWC/'\n",
    "else:\n",
    "    task_home = '../../../../../'\n",
    "\n",
    "cur_dir = './'\n",
    "checkpoint_path = cur_dir + 'checkpoints_0_no_distill/'\n",
    "summaries_path = cur_dir + 'summaries_0_no_distill/'\n",
    "data_path = task_home + 'cifar-100-python/'\n",
    "split_path = './split.txt' \n",
    "if use_tpu:\n",
    "    tpu_name = 'gectpu'\n",
    "    \n",
    "BATCH_SIZE = 128"
   ]
  },
  {
   "cell_type": "markdown",
   "metadata": {},
   "source": [
    "### Dataset loading functions"
   ]
  },
  {
   "cell_type": "code",
   "execution_count": 9,
   "metadata": {
    "code_folding": [
     2,
     29,
     36,
     41
    ]
   },
   "outputs": [],
   "source": [
    "label_smooth_param = 0\n",
    "\n",
    "def splitDataset(dataset, dataset_split, seed):\n",
    "    np.random.seed(seed)\n",
    "    task_list = []\n",
    "    train_labels = np.argmax(dataset.train.labels, axis=1)\n",
    "    validation_labels = np.argmax(dataset.validation.labels, axis=1)\n",
    "    test_labels = np.argmax(dataset.test.labels, axis=1)\n",
    "    for i in range(len(dataset_split)):\n",
    "        cur_train_indices = [False] * dataset.train.images.shape[0]\n",
    "        cur_validation_indices = [False] * dataset.validation.images.shape[0]\n",
    "        cur_test_indices = [False] * dataset.test.images.shape[0]\n",
    "        for j in range(len(dataset_split[i])):\n",
    "            cur_train_indices = np.logical_or(cur_train_indices, (train_labels == dataset_split[i][j]))\n",
    "            cur_validation_indices = np.logical_or(cur_validation_indices, (validation_labels == dataset_split[i][j]))\n",
    "            cur_test_indices = np.logical_or(cur_test_indices, (test_labels == dataset_split[i][j]))\n",
    "\n",
    "        task = deepcopy(dataset)\n",
    "        task.train.images = task.train.images[cur_train_indices]\n",
    "        task.train.labels = task.train.labels[cur_train_indices]\n",
    "        task.validation.images = task.validation.images[cur_validation_indices]\n",
    "        task.validation.labels = task.validation.labels[cur_validation_indices]\n",
    "        task.test.images = task.test.images[cur_test_indices]\n",
    "        task.test.labels = task.test.labels[cur_test_indices]\n",
    "        task = MyTask(task)\n",
    "        task_list.append(task)\n",
    "\n",
    "    return task_list\n",
    "    \n",
    "def smoothLabels(dataset):\n",
    "    train_labels = dataset.train.labels\n",
    "    train_labels_argmax = np.argmax(train_labels, axis=1)\n",
    "    train_labels = train_labels + label_smooth_param / (train_labels.shape[1] - 1)\n",
    "    train_labels[range(train_labels.shape[0]), train_labels_argmax] = 1 - label_smooth_param\n",
    "    dataset.train._labels = train_labels\n",
    "\n",
    "class TempDataset(object):\n",
    "    def __init__(self):\n",
    "        self.images = None\n",
    "        self.labels = None\n",
    "    \n",
    "class TempTask(object):\n",
    "    def __init__(self):\n",
    "        self.train = TempDataset()\n",
    "        self.validation = TempDataset()\n",
    "        self.test = TempDataset()\n",
    "    \n",
    "    \n",
    "def readDatasets():\n",
    "    num_class = 100\n",
    "    labels_list = list(range(num_class))\n",
    "    seed = 0\n",
    "    np.random.seed(seed)\n",
    "    np.random.shuffle(labels_list)\n",
    "    split = []\n",
    "    task_weights = []\n",
    "    \n",
    "    split = [labels_list[ : 90]]\n",
    "    task_weights = [0.90]\n",
    "    for single_label in labels_list[90 : ]:\n",
    "        split.append([single_label])\n",
    "        task_weights.append(0.01)\n",
    "    num_tasks = len(split)\n",
    "    \n",
    "    with open(data_path + 'train', 'rb') as f:\n",
    "        f_train_data = pickle.load(f, encoding='bytes')\n",
    "        \n",
    "    with open(data_path + 'test', 'rb') as f:\n",
    "        f_test_data = pickle.load(f, encoding='bytes')\n",
    "        \n",
    "    cifar_100 = TempTask()\n",
    "    temp_train_labels = np.array(f_train_data[b'fine_labels'], dtype=np.int32)\n",
    "    temp_test_labels = np.array(f_test_data[b'fine_labels'], dtype=np.int32)\n",
    "    f_train_data[b'fine_labels'] = np.zeros((temp_train_labels.shape[0], num_class))\n",
    "    (f_train_data[b'fine_labels'])[range(temp_train_labels.shape[0]), temp_train_labels] = 1\n",
    "    f_test_data[b'fine_labels'] = np.zeros((temp_test_labels.shape[0], num_class))\n",
    "    (f_test_data[b'fine_labels'])[range(temp_test_labels.shape[0]), temp_test_labels] = 1\n",
    "    f_train_data[b'data'] = np.reshape(f_train_data[b'data'], (-1, 3, 32, 32))\n",
    "    f_test_data[b'data'] = np.reshape(f_test_data[b'data'], (-1, 3, 32, 32))\n",
    "    f_train_data[b'data'] = np.transpose(f_train_data[b'data'], (0, 2, 3, 1))\n",
    "    f_test_data[b'data'] = np.transpose(f_test_data[b'data'], (0, 2, 3, 1))\n",
    "    \n",
    "    tr_data = f_train_data[b'data']\n",
    "    te_data = f_test_data[b'data']\n",
    "    # normalizing data\n",
    "    avg = np.mean(tr_data, axis=(0, 1, 2))\n",
    "    std = np.std(tr_data, axis=(0, 1, 2))\n",
    "    \n",
    "    f_train_data[b'data'] = (tr_data - avg) / std\n",
    "    f_test_data[b'data'] = (te_data - avg) / std\n",
    "    \n",
    "    seed = 0\n",
    "    np.random.seed(0)\n",
    "    shuffle_train_perm = np.random.permutation(f_train_data[b'data'].shape[0])\n",
    "    f_train_data[b'data'] = f_train_data[b'data'][shuffle_train_perm]\n",
    "    f_train_data[b'fine_labels'] = f_train_data[b'fine_labels'][shuffle_train_perm]\n",
    "    \n",
    "    num_val_per_class = 20\n",
    "    \n",
    "    for i in range(num_class):\n",
    "        pos = (np.argmax(f_train_data[b'fine_labels'], axis=1) == i)\n",
    "        \n",
    "        if (i == 0):\n",
    "            cifar_100.validation.images = (f_train_data[b'data'][pos])[0 : num_val_per_class]\n",
    "            cifar_100.validation.labels = (f_train_data[b'fine_labels'][pos])[0 : num_val_per_class]\n",
    "\n",
    "            cifar_100.train.images = (f_train_data[b'data'][pos])[num_val_per_class : ]\n",
    "            cifar_100.train.labels = (f_train_data[b'fine_labels'][pos])[num_val_per_class : ]\n",
    "        else:\n",
    "            cifar_100.validation.images = np.concatenate((cifar_100.validation.images, (f_train_data[b'data'][pos])[0 : num_val_per_class]))\n",
    "            cifar_100.validation.labels = np.concatenate((cifar_100.validation.labels, (f_train_data[b'fine_labels'][pos])[0 : num_val_per_class]))\n",
    "\n",
    "            cifar_100.train.images = np.concatenate((cifar_100.train.images, (f_train_data[b'data'][pos])[num_val_per_class : ]))\n",
    "            cifar_100.train.labels = np.concatenate((cifar_100.train.labels, (f_train_data[b'fine_labels'][pos])[num_val_per_class : ]))\n",
    "        \n",
    "    cifar_100.test.images = f_test_data[b'data']\n",
    "    cifar_100.test.labels = f_test_data[b'fine_labels']\n",
    "    \n",
    "    shuffle_train_perm = np.random.permutation(cifar_100.train.images.shape[0])\n",
    "    cifar_100.train.images = cifar_100.train.images[shuffle_train_perm]\n",
    "    cifar_100.train.labels = cifar_100.train.labels[shuffle_train_perm]\n",
    "    \n",
    "    if (label_smooth_param != 0):\n",
    "        smoothLabels(cifar_100)\n",
    "        \n",
    "    task_list = splitDataset(cifar_100, split, seed)\n",
    "    return split, num_tasks, task_weights, task_list"
   ]
  },
  {
   "cell_type": "markdown",
   "metadata": {},
   "source": [
    "### Display sample images and label names"
   ]
  },
  {
   "cell_type": "code",
   "execution_count": null,
   "metadata": {},
   "outputs": [],
   "source": [
    "with open(data_path + 'train', 'rb') as f:\n",
    "    f_train_data = pickle.load(f, encoding='bytes')\n",
    "    \n",
    "with open(data_path + 'meta', 'rb') as f:\n",
    "    f_meta_data = pickle.load(f, encoding='bytes')"
   ]
  },
  {
   "cell_type": "code",
   "execution_count": null,
   "metadata": {},
   "outputs": [],
   "source": [
    "print(f_meta_data[b'fine_label_names'][78])\n",
    "print(f_meta_data[b'fine_label_names'][61])\n",
    "print(f_meta_data[b'fine_label_names'][99])"
   ]
  },
  {
   "cell_type": "markdown",
   "metadata": {},
   "source": [
    "### Create tuner object and train!!"
   ]
  },
  {
   "cell_type": "code",
   "execution_count": 10,
   "metadata": {},
   "outputs": [],
   "source": [
    "input_shape = (32, 32, 3)\n",
    "output_shape = (100, )"
   ]
  },
  {
   "cell_type": "code",
   "execution_count": 11,
   "metadata": {},
   "outputs": [
    {
     "name": "stdout",
     "output_type": "stream",
     "text": [
      "WARNING:tensorflow:From ../../../../classifiers.py:102: softmax_cross_entropy_with_logits (from tensorflow.python.ops.nn_ops) is deprecated and will be removed in a future version.\n",
      "Instructions for updating:\n",
      "\n",
      "Future major versions of TensorFlow will allow gradients to flow\n",
      "into the labels input on backprop by default.\n",
      "\n",
      "See @{tf.nn.softmax_cross_entropy_with_logits_v2}.\n",
      "\n"
     ]
    }
   ],
   "source": [
    "tuner = HyperparameterTuner(sess=sess, network=network, \n",
    "                            input_shape=input_shape, output_shape=output_shape,\n",
    "                            checkpoint_path=checkpoint_path, summaries_path=summaries_path, \n",
    "                            readDatasets=readDatasets, load_best_hparams=False, \n",
    "                            reweigh_points_loss=False)"
   ]
  },
  {
   "cell_type": "code",
   "execution_count": 12,
   "metadata": {},
   "outputs": [],
   "source": [
    "tuner.setPerExampleAppend(int(1))\n",
    "tuner.updateTunerHparams({'mask_softmax' : True})\n",
    "tuner.updateTunerHparams({'bf_num_images' : 2000})\n",
    "tuner.setPerExampleAppend(1.0)"
   ]
  },
  {
   "cell_type": "markdown",
   "metadata": {
    "heading_collapsed": true
   },
   "source": [
    "### Training each task separately"
   ]
  },
  {
   "cell_type": "code",
   "execution_count": null,
   "metadata": {
    "hidden": true,
    "scrolled": true
   },
   "outputs": [],
   "source": [
    "t = 0\n",
    "learning_rates = [1e-1]\n",
    "momentums = [0.9]\n",
    "regs = [0.0001]\n",
    "dropout_input_probs = [1.0]\n",
    "dropout_hidden_probs = [0.9]\n",
    "prod = list(itertools.product(regs, dropout_input_probs, dropout_hidden_probs, momentums, learning_rates))\n",
    "hparams = []\n",
    "for hparams_tuple in prod:\n",
    "    cur_dict = {}\n",
    "    cur_dict['reg'] = hparams_tuple[0]\n",
    "    cur_dict['dropout_input_prob'] = hparams_tuple[2]\n",
    "    cur_dict['dropout_hidden_prob'] = hparams_tuple[2]\n",
    "    cur_dict['momentum'] = hparams_tuple[3]\n",
    "    cur_dict['learning_rate'] = hparams_tuple[4]\n",
    "    hparams.append(cur_dict)\n",
    "\n",
    "tuner.hparams_list[t] = hparams"
   ]
  },
  {
   "cell_type": "code",
   "execution_count": null,
   "metadata": {
    "hidden": true
   },
   "outputs": [],
   "source": [
    "num_epochs = 160\n",
    "num_updates = math.ceil(tuner.task_list[t].train.images.shape[0] / BATCH_SIZE) * num_epochs\n",
    "tuner.print_every = 10"
   ]
  },
  {
   "cell_type": "code",
   "execution_count": null,
   "metadata": {
    "hidden": true
   },
   "outputs": [],
   "source": [
    "start_time = time.time()\n",
    "best_avg, best_hparams = tuner.tuneOnTask(t, BATCH_SIZE, \n",
    "                                          save_weights=False, \n",
    "                                          num_updates=num_updates, verbose=True, \n",
    "                                          random_crop_flip=True)\n",
    "print(\"time taken : %d\" % (time.time() - start_time))\n",
    "sound_file = '/mnt/a99/d0/shriramsb/code/Alan Walker - Alone.mp3'\n",
    "Audio(sound_file, autoplay=True)"
   ]
  },
  {
   "cell_type": "code",
   "execution_count": null,
   "metadata": {
    "hidden": true
   },
   "outputs": [],
   "source": [
    "import math\n",
    "plt.rcParams['figure.figsize'] = [10, 5]\n",
    "lr_scatter = ([math.log10(h['learning_rate']) for h in hparams])\n",
    "dropout_scatter = [h['dropout_hidden_prob'] for h in hparams]\n",
    "colors = []\n",
    "for i in range(len(hparams)):\n",
    "    cur_hparam_tuple = tuner.hparamsDictToTuple(hparams[i], tuner.tuner_hparams)\n",
    "    colors.append(tuner.results_list[t][cur_hparam_tuple]['best_avg'])\n",
    "    \n",
    "marker_size = 100\n",
    "fig, ax = plt.subplots()\n",
    "plt.scatter(lr_scatter, dropout_scatter, marker_size, c=colors, edgecolors='black')\n",
    "plt.colorbar()\n",
    "for i in range(len(lr_scatter)):\n",
    "    ax.annotate(str('%0.4f' % (colors[i], )), (lr_scatter[i], dropout_scatter[i]))\n",
    "plt.show()"
   ]
  },
  {
   "cell_type": "code",
   "execution_count": null,
   "metadata": {
    "hidden": true
   },
   "outputs": [],
   "source": [
    "plt.rcParams['figure.figsize'] = [10, 10]\n",
    "best_hparams_tuple = tuner.hparamsDictToTuple(hparams[0], tuner.tuner_hparams)\n",
    "cur_res = tuner.results_list[t][best_hparams_tuple]\n",
    "x = np.arange(0, cur_res['total_updates'], cur_res['updates_per_epoch'])\n",
    "cur_best_avg = cur_res['best_avg']\n",
    "cur_best_avg_updates = cur_res['best_avg_updates']\n",
    "updates_per_epoch = cur_res['updates_per_epoch']\n",
    "# print(\"dropout: %f, fisher_multiplier: %e, lr: %e\" % (k[0], k[1], k[2]))\n",
    "print(\"cur_best_avg: %e, num_updates: %d\" % (cur_best_avg, cur_best_avg_updates))\n",
    "print(\"best val_acc: %s\" % (str(np.array(cur_res['val_acc'])[:, (cur_best_avg_updates // updates_per_epoch - 1) // tuner.eval_frequency])))\n",
    "# plt.plot(cur_res['loss_with_penalty'], color='g')\n",
    "plt.plot(cur_res['loss'], color='m')\n",
    "plt.plot(x, cur_res['val_loss'][-1], color='b')\n",
    "plt.show()\n",
    "# plt.ylim(ymin=0.9)\n",
    "plt.plot(cur_res['val_acc'][0], color='b', )\n",
    "# plt.plot(cur_res['val_acc'][1], color='g')\n",
    "\n",
    "plt.show()"
   ]
  },
  {
   "cell_type": "code",
   "execution_count": null,
   "metadata": {
    "hidden": true
   },
   "outputs": [],
   "source": [
    "# print(best_avg, best_hparams)\n",
    "VALIDATION_BATCH_SIZE = 128\n",
    "print(tuner.validationAccuracy(t, VALIDATION_BATCH_SIZE, restore_model=False))"
   ]
  },
  {
   "cell_type": "code",
   "execution_count": null,
   "metadata": {
    "hidden": true
   },
   "outputs": [],
   "source": [
    "t = 1\n",
    "learning_rates = [1e-1]\n",
    "momentums = [0.9]\n",
    "regs = [0.0001]\n",
    "dropout_input_probs = [1.0]\n",
    "dropout_hidden_probs = [0.9]\n",
    "prod = list(itertools.product(regs, dropout_input_probs, dropout_hidden_probs, momentums, learning_rates))\n",
    "hparams = []\n",
    "for hparams_tuple in prod:\n",
    "    cur_dict = {}\n",
    "    cur_dict['reg'] = hparams_tuple[0]\n",
    "    cur_dict['dropout_input_prob'] = hparams_tuple[2]\n",
    "    cur_dict['dropout_hidden_prob'] = hparams_tuple[2]\n",
    "    cur_dict['momentum'] = hparams_tuple[3]\n",
    "    cur_dict['learning_rate'] = hparams_tuple[4]\n",
    "    hparams.append(cur_dict)\n",
    "\n",
    "tuner.hparams_list[t] = hparams"
   ]
  },
  {
   "cell_type": "code",
   "execution_count": null,
   "metadata": {
    "hidden": true
   },
   "outputs": [],
   "source": [
    "num_epochs = 160\n",
    "num_updates = math.ceil(tuner.task_list[t].train.images.shape[0] / BATCH_SIZE) * num_epochs\n",
    "tuner.print_every = 10"
   ]
  },
  {
   "cell_type": "code",
   "execution_count": null,
   "metadata": {
    "hidden": true
   },
   "outputs": [],
   "source": [
    "start_time = time.time()\n",
    "best_avg, best_hparams = tuner.tuneOnTask(t, BATCH_SIZE, \n",
    "                                          save_weights=False, \n",
    "                                          num_updates=num_updates, verbose=True, \n",
    "                                          random_crop_flip=True)\n",
    "print(\"time taken : %d\" % (time.time() - start_time))\n",
    "sound_file = '/mnt/a99/d0/shriramsb/code/Alan Walker - Alone.mp3'\n",
    "Audio(sound_file, autoplay=True)"
   ]
  },
  {
   "cell_type": "code",
   "execution_count": null,
   "metadata": {
    "hidden": true
   },
   "outputs": [],
   "source": [
    "import math\n",
    "plt.rcParams['figure.figsize'] = [10, 5]\n",
    "lr_scatter = ([math.log10(h['learning_rate']) for h in hparams])\n",
    "dropout_scatter = [h['dropout_hidden_prob'] for h in hparams]\n",
    "colors = []\n",
    "for i in range(len(hparams)):\n",
    "    cur_hparam_tuple = tuner.hparamsDictToTuple(hparams[i], tuner.tuner_hparams)\n",
    "    colors.append(tuner.results_list[t][cur_hparam_tuple]['best_avg'])\n",
    "    \n",
    "marker_size = 100\n",
    "fig, ax = plt.subplots()\n",
    "plt.scatter(lr_scatter, dropout_scatter, marker_size, c=colors, edgecolors='black')\n",
    "plt.colorbar()\n",
    "for i in range(len(lr_scatter)):\n",
    "    ax.annotate(str('%0.4f' % (colors[i], )), (lr_scatter[i], dropout_scatter[i]))\n",
    "plt.show()"
   ]
  },
  {
   "cell_type": "code",
   "execution_count": null,
   "metadata": {
    "hidden": true
   },
   "outputs": [],
   "source": [
    "plt.rcParams['figure.figsize'] = [10, 10]\n",
    "best_hparams_tuple = tuner.hparamsDictToTuple(hparams[0], tuner.tuner_hparams)\n",
    "cur_res = tuner.results_list[t][best_hparams_tuple]\n",
    "x = np.arange(0, cur_res['total_updates'], cur_res['updates_per_epoch'])\n",
    "cur_best_avg = cur_res['best_avg']\n",
    "cur_best_avg_updates = cur_res['best_avg_updates']\n",
    "updates_per_epoch = cur_res['updates_per_epoch']\n",
    "# print(\"dropout: %f, fisher_multiplier: %e, lr: %e\" % (k[0], k[1], k[2]))\n",
    "print(\"cur_best_avg: %e, num_updates: %d\" % (cur_best_avg, cur_best_avg_updates))\n",
    "print(\"best val_acc: %s\" % (str(np.array(cur_res['val_acc'])[:, (cur_best_avg_updates // updates_per_epoch - 1) // tuner.eval_frequency])))\n",
    "# plt.plot(cur_res['loss_with_penalty'], color='g')\n",
    "plt.plot(cur_res['loss'], color='m')\n",
    "plt.plot(x, cur_res['val_loss'][-1], color='b')\n",
    "plt.show()\n",
    "# plt.ylim(ymin=0.9)\n",
    "plt.plot(cur_res['val_acc'][0], color='b', )\n",
    "plt.plot(cur_res['val_acc'][1], color='g')\n",
    "\n",
    "plt.show()"
   ]
  },
  {
   "cell_type": "markdown",
   "metadata": {},
   "source": [
    "### Train tasks together"
   ]
  },
  {
   "cell_type": "code",
   "execution_count": 15,
   "metadata": {},
   "outputs": [],
   "source": [
    "t = 0\n",
    "learning_rates = [(((49, 1e-1), (63, 1e-1 / 5), 1e-1 / (5 * 5)), (1e-1, ))]\n",
    "momentums = [0.9]\n",
    "regs = [0.00001]\n",
    "dropout_input_probs = [1.0]\n",
    "dropout_hidden_probs = [0.9]\n",
    "prod = list(itertools.product(regs, dropout_input_probs, dropout_hidden_probs, momentums, learning_rates))\n",
    "hparams = []\n",
    "for hparams_tuple in prod:\n",
    "    cur_dict = {}\n",
    "    cur_dict['reg'] = hparams_tuple[0]\n",
    "    cur_dict['dropout_input_prob'] = hparams_tuple[2]\n",
    "    cur_dict['dropout_hidden_prob'] = hparams_tuple[2]\n",
    "    cur_dict['momentum'] = hparams_tuple[3]\n",
    "    cur_dict['learning_rate'] = hparams_tuple[4]\n",
    "    hparams.append(cur_dict)\n",
    "    \n",
    "for i in range(0, t + 1):\n",
    "    tuner.hparams_list[i] = hparams\n",
    "    "
   ]
  },
  {
   "cell_type": "code",
   "execution_count": 24,
   "metadata": {},
   "outputs": [],
   "source": [
    "tuner.setPerExampleAppend(5.0)\n",
    "t = 2\n",
    "learning_rates = [(((45, 1e-1), (55, 1e-1 / 5), 1e-1 / 25), ((9, 1e-2), 1e-2 / 5))]\n",
    "momentums = [0.9]\n",
    "regs = [0.00001]\n",
    "dropout_input_probs = [1.0]\n",
    "dropout_hidden_probs = [0.9]\n",
    "epsilons = [1.0]\n",
    "# epsilons = [0.5]\n",
    "prod = list(itertools.product(regs, dropout_input_probs, dropout_hidden_probs, momentums, learning_rates, \n",
    "                                epsilons))\n",
    "hparams = []\n",
    "for hparams_tuple in prod:\n",
    "    cur_dict = {}\n",
    "    cur_dict['reg'] = hparams_tuple[0]\n",
    "    cur_dict['dropout_input_prob'] = hparams_tuple[2]\n",
    "    cur_dict['dropout_hidden_prob'] = hparams_tuple[2]\n",
    "    cur_dict['momentum'] = hparams_tuple[3]\n",
    "    cur_dict['learning_rate'] = hparams_tuple[4]\n",
    "    cur_dict['epsilon'] = hparams_tuple[5]\n",
    "    hparams.append(cur_dict)\n",
    "    \n",
    "for i in range(1, t + 1):\n",
    "    tuner.hparams_list[i] = hparams\n",
    "\n",
    "for i in range(0, 1):\n",
    "    for _ in range(len(hparams)):\n",
    "        tuner.hparams_list[i].append(tuner.hparams_list[i][0])\n",
    "    "
   ]
  },
  {
   "cell_type": "code",
   "execution_count": 25,
   "metadata": {},
   "outputs": [],
   "source": [
    "num_hparams = len(hparams)\n",
    "num_epochs = 60\n",
    "num_updates = math.ceil(tuner.task_list[t].train.images.shape[0] / BATCH_SIZE) * num_epochs\n",
    "num_epochs_bf = 10\n",
    "num_updates_bf = math.ceil(tuner.task_list[t].train.images.shape[0] / BATCH_SIZE) * num_epochs_bf"
   ]
  },
  {
   "cell_type": "code",
   "execution_count": 26,
   "metadata": {},
   "outputs": [
    {
     "name": "stdout",
     "output_type": "stream",
     "text": [
      "INFO:tensorflow:Restoring parameters from ./checkpoints_0_no_distill/dropout_hidden_prob=0.9,dropout_input_prob=0.9,learning_rate=too_long,momentum=0.9,reg=1e-05,bf_num_images=2000,mask_softmax=True,old:new=1.0,task=0.ckpt-23660\n",
      "Training with T=None,alpha=0.0,dropout_hidden_prob=0.9,dropout_input_prob=0.9,epsilon=1.0,fisher_multiplier=0.0,learning_rate=too_long,momentum=0.9,reg=1e-05,bf_num_images=2000,mask_softmax=True,old:new=5.0,task=1\n",
      "Restoring paramters from dropout_hidden_prob=0.9,dropout_input_prob=0.9,learning_rate=too_long,momentum=0.9,reg=1e-05,bf_num_images=2000,mask_softmax=True,old:new=1.0,task=0\n",
      "INFO:tensorflow:Restoring parameters from ./checkpoints_0_no_distill/dropout_hidden_prob=0.9,dropout_input_prob=0.9,learning_rate=too_long,momentum=0.9,reg=1e-05,bf_num_images=2000,mask_softmax=True,old:new=1.0,task=0.ckpt-23660\n",
      "epoch: 1, iter: 0/4, validation accuracies: [0.44444445 0.89999998], average train loss: 4.456769, average train accuracy: 0.675781\n",
      "epoch: 2, iter: 0/4, validation accuracies: [0.43111111 0.85000002], average train loss: 3.198800, average train accuracy: 0.650391\n",
      "epoch: 3, iter: 0/4, validation accuracies: [0.37666667 0.05      ], average train loss: 2.362495, average train accuracy: 0.603516\n",
      "epoch: 4, iter: 0/4, validation accuracies: [0.36333333 0.25      ], average train loss: 2.302570, average train accuracy: 0.546875\n",
      "epoch: 5, iter: 0/4, validation accuracies: [0.33722222 0.89999998], average train loss: 1.813153, average train accuracy: 0.642578\n",
      "epoch: 6, iter: 0/4, validation accuracies: [0.37666666 0.89999998], average train loss: 1.744891, average train accuracy: 0.609375\n",
      "epoch: 7, iter: 0/4, validation accuracies: [0.40722222 0.30000001], average train loss: 1.499791, average train accuracy: 0.642578\n",
      "epoch: 8, iter: 0/4, validation accuracies: [0.43333333 0.64999998], average train loss: 1.563780, average train accuracy: 0.601562\n",
      "epoch: 9, iter: 0/4, validation accuracies: [0.43222222 0.89999998], average train loss: 1.314464, average train accuracy: 0.636719\n",
      "epoch: 10, iter: 0/4, validation accuracies: [0.43777778 0.85000002], average train loss: 1.450698, average train accuracy: 0.623047\n",
      "epoch: 11, iter: 0/4, validation accuracies: [0.44722223 0.69999999], average train loss: 1.243156, average train accuracy: 0.679688\n",
      "epoch: 12, iter: 0/4, validation accuracies: [0.455      0.64999998], average train loss: 1.217865, average train accuracy: 0.662109\n",
      "epoch: 13, iter: 0/4, validation accuracies: [0.45611111 0.89999998], average train loss: 1.010381, average train accuracy: 0.736328\n",
      "epoch: 14, iter: 0/4, validation accuracies: [0.45666667 0.89999998], average train loss: 1.152595, average train accuracy: 0.679688\n",
      "epoch: 15, iter: 0/4, validation accuracies: [0.475 0.75 ], average train loss: 1.080706, average train accuracy: 0.695312\n",
      "epoch: 16, iter: 0/4, validation accuracies: [0.50500001 0.69999999], average train loss: 1.197689, average train accuracy: 0.667969\n",
      "epoch: 17, iter: 0/4, validation accuracies: [0.50388888 0.85000002], average train loss: 0.953372, average train accuracy: 0.718750\n",
      "epoch: 18, iter: 0/4, validation accuracies: [0.50222223 0.89999998], average train loss: 1.039052, average train accuracy: 0.681641\n",
      "epoch: 19, iter: 0/4, validation accuracies: [0.49833332 0.89999998], average train loss: 0.980812, average train accuracy: 0.708984\n",
      "epoch: 20, iter: 0/4, validation accuracies: [0.51166666 0.75      ], average train loss: 1.075779, average train accuracy: 0.705078\n",
      "epoch: 21, iter: 0/4, validation accuracies: [0.52444445 0.80000001], average train loss: 0.952251, average train accuracy: 0.695312\n",
      "epoch: 22, iter: 0/4, validation accuracies: [0.51166667 0.89999998], average train loss: 0.971683, average train accuracy: 0.734375\n",
      "epoch: 23, iter: 0/4, validation accuracies: [0.52666667 0.75      ], average train loss: 0.994652, average train accuracy: 0.708984\n",
      "epoch: 24, iter: 0/4, validation accuracies: [0.52333334 0.75      ], average train loss: 0.929906, average train accuracy: 0.728516\n",
      "epoch: 25, iter: 0/4, validation accuracies: [0.51833333 0.75      ], average train loss: 1.019714, average train accuracy: 0.724609\n",
      "epoch: 26, iter: 0/4, validation accuracies: [0.52777779 0.69999999], average train loss: 1.069398, average train accuracy: 0.701172\n",
      "epoch: 27, iter: 0/4, validation accuracies: [0.53555556 0.60000002], average train loss: 0.982877, average train accuracy: 0.720703\n",
      "epoch: 28, iter: 0/4, validation accuracies: [0.5511111  0.64999998], average train loss: 0.835655, average train accuracy: 0.734375\n",
      "epoch: 29, iter: 0/4, validation accuracies: [0.53777778 0.80000001], average train loss: 0.912330, average train accuracy: 0.757812\n",
      "epoch: 30, iter: 0/4, validation accuracies: [0.54111111 0.85000002], average train loss: 0.893950, average train accuracy: 0.736328\n",
      "epoch: 31, iter: 0/4, validation accuracies: [0.55444445 0.85000002], average train loss: 0.736733, average train accuracy: 0.757812\n",
      "epoch: 32, iter: 0/4, validation accuracies: [0.5488889  0.80000001], average train loss: 0.949592, average train accuracy: 0.728516\n",
      "epoch: 33, iter: 0/4, validation accuracies: [0.53944444 0.80000001], average train loss: 0.773730, average train accuracy: 0.779297\n",
      "epoch: 34, iter: 0/4, validation accuracies: [0.52944446 0.94999999], average train loss: 0.842094, average train accuracy: 0.753906\n",
      "epoch: 35, iter: 0/4, validation accuracies: [0.52999999 0.89999998], average train loss: 0.882755, average train accuracy: 0.763672\n",
      "epoch: 36, iter: 0/4, validation accuracies: [0.53277777 0.85000002], average train loss: 0.800043, average train accuracy: 0.751953\n",
      "epoch: 37, iter: 0/4, validation accuracies: [0.54777777 0.85000002], average train loss: 0.881372, average train accuracy: 0.722656\n",
      "epoch: 38, iter: 0/4, validation accuracies: [0.52666667 0.94999999], average train loss: 0.759770, average train accuracy: 0.765625\n",
      "epoch: 39, iter: 0/4, validation accuracies: [0.54       0.80000001], average train loss: 0.824688, average train accuracy: 0.763672\n",
      "epoch: 40, iter: 0/4, validation accuracies: [0.53222222 0.64999998], average train loss: 0.779187, average train accuracy: 0.775391\n",
      "epoch: 41, iter: 0/4, validation accuracies: [0.54222223 0.64999998], average train loss: 0.824529, average train accuracy: 0.763672\n",
      "epoch: 42, iter: 0/4, validation accuracies: [0.55555556 0.89999998], average train loss: 0.859885, average train accuracy: 0.759766\n",
      "epoch: 43, iter: 0/4, validation accuracies: [0.54777778 0.85000002], average train loss: 0.735191, average train accuracy: 0.769531\n",
      "epoch: 44, iter: 0/4, validation accuracies: [0.54833333 0.85000002], average train loss: 0.741775, average train accuracy: 0.783203\n",
      "epoch: 45, iter: 0/4, validation accuracies: [0.57388888 0.80000001], average train loss: 0.784223, average train accuracy: 0.781250\n",
      "epoch: 46, iter: 0/4, validation accuracies: [0.58055555 0.85000002], average train loss: 0.759174, average train accuracy: 0.773438\n",
      "epoch: 47, iter: 0/4, validation accuracies: [0.58777777 0.89999998], average train loss: 0.773328, average train accuracy: 0.783203\n",
      "epoch: 48, iter: 0/4, validation accuracies: [0.59944445 0.89999998], average train loss: 0.807250, average train accuracy: 0.734375\n",
      "epoch: 49, iter: 0/4, validation accuracies: [0.60277778 0.89999998], average train loss: 0.656324, average train accuracy: 0.802734\n",
      "epoch: 50, iter: 0/4, validation accuracies: [0.59944444 0.89999998], average train loss: 0.776659, average train accuracy: 0.771484\n",
      "epoch: 51, iter: 0/4, validation accuracies: [0.60333334 0.89999998], average train loss: 0.746857, average train accuracy: 0.779297\n",
      "epoch: 52, iter: 0/4, validation accuracies: [0.60555555 0.89999998], average train loss: 0.742342, average train accuracy: 0.781250\n",
      "epoch: 53, iter: 0/4, validation accuracies: [0.60277778 0.89999998], average train loss: 0.649333, average train accuracy: 0.789062\n",
      "epoch: 54, iter: 0/4, validation accuracies: [0.60166667 0.89999998], average train loss: 0.646914, average train accuracy: 0.791016\n",
      "epoch: 55, iter: 0/4, validation accuracies: [0.60388889 0.89999998], average train loss: 0.516409, average train accuracy: 0.830078\n",
      "epoch: 56, iter: 0/4, validation accuracies: [0.60166667 0.89999998], average train loss: 0.533580, average train accuracy: 0.830078\n"
     ]
    },
    {
     "name": "stdout",
     "output_type": "stream",
     "text": [
      "epoch: 57, iter: 0/4, validation accuracies: [0.60166668 0.89999998], average train loss: 0.615187, average train accuracy: 0.814453\n",
      "epoch: 58, iter: 0/4, validation accuracies: [0.6061111  0.89999998], average train loss: 0.573997, average train accuracy: 0.824219\n",
      "epoch: 59, iter: 0/4, validation accuracies: [0.60333334 0.89999998], average train loss: 0.576294, average train accuracy: 0.804688\n",
      "epoch: 60, iter: 0/4, validation accuracies: [0.60833333 0.89999998], average train loss: 0.724454, average train accuracy: 0.796875\n",
      "epochs: 60.000000, final train loss: 0.723737, validation accuracies: [0.60833333 0.89999998]\n",
      "best epochs: 60.000000, best_avg: 0.611538, validation accuracies: [0.60833333 0.89999998]\n",
      "Training with T=None,alpha=0.0,dropout_hidden_prob=0.9,dropout_input_prob=0.9,epsilon=1.0,fisher_multiplier=0.0,learning_rate=too_long,momentum=0.9,reg=1e-05,bf_num_images=2000,mask_softmax=True,old:new=5.0,task=1\n",
      "epoch: 1, iter: 0/4, validation accuracies: [0.60444445 0.89999998], average train loss: 0.774197, average train accuracy: 0.763672\n",
      "epoch: 2, iter: 0/4, validation accuracies: [0.60611111 0.89999998], average train loss: 0.717543, average train accuracy: 0.791016\n",
      "epoch: 3, iter: 0/4, validation accuracies: [0.60722222 0.80000001], average train loss: 0.715849, average train accuracy: 0.783203\n",
      "epoch: 4, iter: 0/4, validation accuracies: [0.60777777 0.69999999], average train loss: 0.722353, average train accuracy: 0.783203\n",
      "epoch: 5, iter: 0/4, validation accuracies: [0.60611112 0.64999998], average train loss: 0.654761, average train accuracy: 0.800781\n",
      "epoch: 6, iter: 0/4, validation accuracies: [0.61000001 0.64999998], average train loss: 0.651616, average train accuracy: 0.826172\n",
      "epoch: 7, iter: 0/4, validation accuracies: [0.61055555 0.60000002], average train loss: 0.691163, average train accuracy: 0.789062\n",
      "epoch: 8, iter: 0/4, validation accuracies: [0.60777778 0.60000002], average train loss: 0.650959, average train accuracy: 0.787109\n",
      "epoch: 9, iter: 0/4, validation accuracies: [0.61222223 0.60000002], average train loss: 0.496776, average train accuracy: 0.847656\n",
      "epoch: 10, iter: 0/4, validation accuracies: [0.60555555 0.60000002], average train loss: 0.569524, average train accuracy: 0.814453\n",
      "epochs: 10.000000, final train loss: 0.552118, validation accuracies: [0.60555555 0.60000002]\n",
      "best epochs: 9.000000, best_avg: 0.612088, validation accuracies: [0.61222223 0.60000002]\n",
      "saving model dropout_hidden_prob=0.9,dropout_input_prob=0.9,epsilon=1.0,learning_rate=too_long,momentum=0.9,reg=1e-05,bf_num_images=2000,mask_softmax=True,old:new=5.0,task=1 at time step 280\n",
      "calculating penultimate output...\n",
      "time taken: %f 4.758898735046387\n",
      "saving penultimate output...\n",
      "INFO:tensorflow:Restoring parameters from ./checkpoints_0_no_distill/dropout_hidden_prob=0.9,dropout_input_prob=0.9,epsilon=1.0,learning_rate=too_long,momentum=0.9,reg=1e-05,bf_num_images=2000,mask_softmax=True,old:new=5.0,task=1.ckpt-280\n",
      "Training with T=None,alpha=0.0,dropout_hidden_prob=0.9,dropout_input_prob=0.9,epsilon=1.0,fisher_multiplier=0.0,learning_rate=too_long,momentum=0.9,reg=1e-05,bf_num_images=2000,mask_softmax=True,old:new=5.0,task=2\n",
      "Restoring paramters from dropout_hidden_prob=0.9,dropout_input_prob=0.9,epsilon=1.0,learning_rate=too_long,momentum=0.9,reg=1e-05,bf_num_images=2000,mask_softmax=True,old:new=5.0,task=1\n",
      "INFO:tensorflow:Restoring parameters from ./checkpoints_0_no_distill/dropout_hidden_prob=0.9,dropout_input_prob=0.9,epsilon=1.0,learning_rate=too_long,momentum=0.9,reg=1e-05,bf_num_images=2000,mask_softmax=True,old:new=5.0,task=1.ckpt-280\n",
      "epoch: 1, iter: 0/4, validation accuracies: [0.22333333 0.         0.60000002], average train loss: 8.145761, average train accuracy: 0.271484\n",
      "epoch: 2, iter: 0/4, validation accuracies: [0.17722223 0.         0.80000001], average train loss: 5.593326, average train accuracy: 0.351562\n",
      "epoch: 3, iter: 0/4, validation accuracies: [0.13222222 0.         0.44999999], average train loss: 4.293460, average train accuracy: 0.328125\n",
      "epoch: 4, iter: 0/4, validation accuracies: [0.10444444 0.         0.44999999], average train loss: 3.889712, average train accuracy: 0.263672\n",
      "epoch: 5, iter: 0/4, validation accuracies: [0.11888889 0.         0.85000002], average train loss: 3.478302, average train accuracy: 0.292969\n",
      "epoch: 6, iter: 0/4, validation accuracies: [0.12555556 0.         0.94999999], average train loss: 3.336991, average train accuracy: 0.275391\n",
      "epoch: 7, iter: 0/4, validation accuracies: [0.16833333 0.         0.75      ], average train loss: 3.186933, average train accuracy: 0.281250\n",
      "epoch: 8, iter: 0/4, validation accuracies: [0.195      0.         0.64999998], average train loss: 2.915417, average train accuracy: 0.345703\n",
      "epoch: 9, iter: 0/4, validation accuracies: [0.20722222 0.         0.69999999], average train loss: 2.949811, average train accuracy: 0.333984\n",
      "epoch: 10, iter: 0/4, validation accuracies: [0.21611111 0.         0.85000002], average train loss: 2.705360, average train accuracy: 0.371094\n",
      "epoch: 11, iter: 0/4, validation accuracies: [0.23666667 0.         0.80000001], average train loss: 2.759424, average train accuracy: 0.357422\n",
      "epoch: 12, iter: 0/4, validation accuracies: [0.25611112 0.         0.80000001], average train loss: 2.757977, average train accuracy: 0.382812\n",
      "epoch: 13, iter: 0/4, validation accuracies: [0.28055555 0.         0.75      ], average train loss: 2.754824, average train accuracy: 0.378906\n",
      "epoch: 14, iter: 0/4, validation accuracies: [0.28944445 0.         0.64999998], average train loss: 2.493652, average train accuracy: 0.423828\n",
      "epoch: 15, iter: 0/4, validation accuracies: [0.29444445 0.         0.80000001], average train loss: 2.501278, average train accuracy: 0.427734\n",
      "epoch: 16, iter: 0/4, validation accuracies: [0.29555556 0.         0.85000002], average train loss: 2.431728, average train accuracy: 0.431641\n",
      "epoch: 17, iter: 0/4, validation accuracies: [0.29777778 0.         0.89999998], average train loss: 2.390076, average train accuracy: 0.455078\n",
      "epoch: 18, iter: 0/4, validation accuracies: [0.30833333 0.         0.89999998], average train loss: 2.309626, average train accuracy: 0.464844\n",
      "epoch: 19, iter: 0/4, validation accuracies: [0.31555556 0.         0.85000002], average train loss: 2.306670, average train accuracy: 0.445312\n",
      "epoch: 20, iter: 0/4, validation accuracies: [0.33222222 0.         0.80000001], average train loss: 2.332788, average train accuracy: 0.443359\n",
      "epoch: 21, iter: 0/4, validation accuracies: [0.33666667 0.         0.75      ], average train loss: 2.247744, average train accuracy: 0.437500\n",
      "epoch: 22, iter: 0/4, validation accuracies: [0.34388889 0.         0.69999999], average train loss: 2.096608, average train accuracy: 0.482422\n",
      "epoch: 23, iter: 0/4, validation accuracies: [0.34277777 0.         0.69999999], average train loss: 2.341417, average train accuracy: 0.431641\n",
      "epoch: 24, iter: 0/4, validation accuracies: [0.34       0.         0.69999999], average train loss: 2.209209, average train accuracy: 0.457031\n",
      "epoch: 25, iter: 0/4, validation accuracies: [0.34388889 0.         0.80000001], average train loss: 2.132595, average train accuracy: 0.484375\n",
      "epoch: 26, iter: 0/4, validation accuracies: [0.34222222 0.         0.80000001], average train loss: 2.063707, average train accuracy: 0.488281\n",
      "epoch: 27, iter: 0/4, validation accuracies: [0.32555556 0.         0.80000001], average train loss: 1.997437, average train accuracy: 0.484375\n",
      "epoch: 28, iter: 0/4, validation accuracies: [0.34166666 0.         0.69999999], average train loss: 1.985144, average train accuracy: 0.513672\n",
      "epoch: 29, iter: 0/4, validation accuracies: [0.35166666 0.         0.69999999], average train loss: 2.152291, average train accuracy: 0.474609\n",
      "epoch: 30, iter: 0/4, validation accuracies: [0.36888889 0.15000001 0.55000001], average train loss: 2.058036, average train accuracy: 0.486328\n",
      "epoch: 31, iter: 0/4, validation accuracies: [0.37333334 0.2        0.60000002], average train loss: 1.883741, average train accuracy: 0.511719\n",
      "epoch: 32, iter: 0/4, validation accuracies: [0.36222223 0.2        0.75      ], average train loss: 1.962577, average train accuracy: 0.490234\n"
     ]
    },
    {
     "name": "stdout",
     "output_type": "stream",
     "text": [
      "epoch: 33, iter: 0/4, validation accuracies: [0.36611111 0.2        0.94999999], average train loss: 2.032098, average train accuracy: 0.488281\n",
      "epoch: 34, iter: 0/4, validation accuracies: [0.37888889 0.15000001 0.75      ], average train loss: 1.879418, average train accuracy: 0.535156\n",
      "epoch: 35, iter: 0/4, validation accuracies: [0.39277778 0.25       0.64999998], average train loss: 1.791233, average train accuracy: 0.548828\n",
      "epoch: 36, iter: 0/4, validation accuracies: [0.39666667 0.15000001 0.69999999], average train loss: 1.793435, average train accuracy: 0.535156\n",
      "epoch: 37, iter: 0/4, validation accuracies: [0.39444445 0.05       0.80000001], average train loss: 1.774541, average train accuracy: 0.544922\n",
      "epoch: 38, iter: 0/4, validation accuracies: [0.39111111 0.05       0.85000002], average train loss: 1.668204, average train accuracy: 0.582031\n",
      "epoch: 39, iter: 0/4, validation accuracies: [0.38888889 0.         0.85000002], average train loss: 1.625223, average train accuracy: 0.566406\n",
      "epoch: 40, iter: 0/4, validation accuracies: [0.40333334 0.         0.75      ], average train loss: 1.712924, average train accuracy: 0.544922\n",
      "epoch: 41, iter: 0/4, validation accuracies: [0.42277777 0.05       0.64999998], average train loss: 1.634621, average train accuracy: 0.560547\n",
      "epoch: 42, iter: 0/4, validation accuracies: [0.43611111 0.2        0.69999999], average train loss: 1.713861, average train accuracy: 0.544922\n",
      "epoch: 43, iter: 0/4, validation accuracies: [0.43444445 0.2        0.75      ], average train loss: 1.718599, average train accuracy: 0.560547\n",
      "epoch: 44, iter: 0/4, validation accuracies: [0.41666666 0.2        0.69999999], average train loss: 1.608263, average train accuracy: 0.554688\n",
      "epoch: 45, iter: 0/4, validation accuracies: [0.41055555 0.25       0.80000001], average train loss: 1.680194, average train accuracy: 0.560547\n",
      "epoch: 46, iter: 0/4, validation accuracies: [0.42777778 0.25       0.85000002], average train loss: 1.503872, average train accuracy: 0.601562\n",
      "epoch: 47, iter: 0/4, validation accuracies: [0.43611112 0.25       0.75      ], average train loss: 1.576907, average train accuracy: 0.595703\n",
      "epoch: 48, iter: 0/4, validation accuracies: [0.44222223 0.30000001 0.75      ], average train loss: 1.520614, average train accuracy: 0.591797\n",
      "epoch: 49, iter: 0/4, validation accuracies: [0.44722223 0.25       0.75      ], average train loss: 1.484043, average train accuracy: 0.626953\n",
      "epoch: 50, iter: 0/4, validation accuracies: [0.44777778 0.2        0.75      ], average train loss: 1.593060, average train accuracy: 0.574219\n",
      "epoch: 51, iter: 0/4, validation accuracies: [0.45333333 0.2        0.75      ], average train loss: 1.661272, average train accuracy: 0.564453\n",
      "epoch: 52, iter: 0/4, validation accuracies: [0.4561111 0.25      0.75     ], average train loss: 1.558513, average train accuracy: 0.578125\n",
      "epoch: 53, iter: 0/4, validation accuracies: [0.46111111 0.30000001 0.80000001], average train loss: 1.430030, average train accuracy: 0.623047\n",
      "epoch: 54, iter: 0/4, validation accuracies: [0.45611112 0.30000001 0.80000001], average train loss: 1.556044, average train accuracy: 0.603516\n",
      "epoch: 55, iter: 0/4, validation accuracies: [0.46       0.25       0.85000002], average train loss: 1.596038, average train accuracy: 0.603516\n",
      "epoch: 56, iter: 0/4, validation accuracies: [0.46055555 0.30000001 0.75      ], average train loss: 1.490099, average train accuracy: 0.585938\n",
      "epoch: 57, iter: 0/4, validation accuracies: [0.46388888 0.25       0.75      ], average train loss: 1.479444, average train accuracy: 0.603516\n",
      "epoch: 58, iter: 0/4, validation accuracies: [0.46444445 0.30000001 0.80000001], average train loss: 1.466996, average train accuracy: 0.582031\n",
      "epoch: 59, iter: 0/4, validation accuracies: [0.46166667 0.30000001 0.80000001], average train loss: 1.533743, average train accuracy: 0.576172\n",
      "epoch: 60, iter: 0/4, validation accuracies: [0.46499999 0.34999999 0.80000001], average train loss: 1.360027, average train accuracy: 0.632812\n",
      "epochs: 60.000000, final train loss: 1.360852, validation accuracies: [0.46499999 0.34999999 0.80000001]\n",
      "best epochs: 60.000000, best_avg: 0.467391, validation accuracies: [0.46499999 0.34999999 0.80000001]\n",
      "Training with T=None,alpha=0.0,dropout_hidden_prob=0.9,dropout_input_prob=0.9,epsilon=1.0,fisher_multiplier=0.0,learning_rate=too_long,momentum=0.9,reg=1e-05,bf_num_images=2000,mask_softmax=True,old:new=5.0,task=2\n",
      "epoch: 1, iter: 0/4, validation accuracies: [0.46166667 0.25       0.85000002], average train loss: 1.856741, average train accuracy: 0.507812\n",
      "epoch: 2, iter: 0/4, validation accuracies: [0.46222223 0.25       0.80000001], average train loss: 1.844311, average train accuracy: 0.529297\n",
      "epoch: 3, iter: 0/4, validation accuracies: [0.46333334 0.2        0.69999999], average train loss: 1.775761, average train accuracy: 0.505859\n",
      "epoch: 4, iter: 0/4, validation accuracies: [0.47055555 0.2        0.69999999], average train loss: 1.621128, average train accuracy: 0.548828\n",
      "epoch: 5, iter: 0/4, validation accuracies: [0.47499999 0.25       0.69999999], average train loss: 1.637502, average train accuracy: 0.550781\n",
      "epoch: 6, iter: 0/4, validation accuracies: [0.47611111 0.25       0.64999998], average train loss: 1.565123, average train accuracy: 0.568359\n",
      "epoch: 7, iter: 0/4, validation accuracies: [0.47388889 0.25       0.60000002], average train loss: 1.577052, average train accuracy: 0.566406\n",
      "epoch: 8, iter: 0/4, validation accuracies: [0.47888888 0.25       0.60000002], average train loss: 1.558820, average train accuracy: 0.558594\n",
      "epoch: 9, iter: 0/4, validation accuracies: [0.4761111  0.25       0.60000002], average train loss: 1.629812, average train accuracy: 0.564453\n",
      "epoch: 10, iter: 0/4, validation accuracies: [0.47444444 0.25       0.60000002], average train loss: 1.647340, average train accuracy: 0.552734\n",
      "epochs: 10.000000, final train loss: 1.472471, validation accuracies: [0.47444444 0.25       0.60000002]\n",
      "best epochs: 8.000000, best_avg: 0.477717, validation accuracies: [0.47888888 0.25       0.60000002]\n",
      "saving model dropout_hidden_prob=0.9,dropout_input_prob=0.9,epsilon=1.0,learning_rate=too_long,momentum=0.9,reg=1e-05,bf_num_images=2000,mask_softmax=True,old:new=5.0,task=2 at time step 280\n",
      "calculating penultimate output...\n",
      "time taken: %f 4.905590772628784\n",
      "saving penultimate output...\n"
     ]
    }
   ],
   "source": [
    "best_avg, best_hparams_index, test_acc = tuner.tuneTasksInRange(1, t, BATCH_SIZE, num_hparams, \n",
    "                                                        num_updates=num_updates, verbose=True, \n",
    "                                                        random_crop_flip=True, \n",
    "                                                        is_sampling_reweighing=True, \n",
    "                                                        do_bf_finetuning=True, num_updates_bf=num_updates_bf, \n",
    "                                                        bf_only_penultimate_train=False, \n",
    "                                                        sigma=5.0, \n",
    "                                                        eval_test_dataset=True)"
   ]
  },
  {
   "cell_type": "code",
   "execution_count": 20,
   "metadata": {},
   "outputs": [
    {
     "name": "stdout",
     "output_type": "stream",
     "text": [
      "[0.623111111217075, 0.6299999952316284]\n",
      "[0.5036666667196485, 0.3400000035762787, 0.7099999785423279]\n"
     ]
    }
   ],
   "source": [
    "for index in range(len(test_acc)):\n",
    "    print(test_acc[index])"
   ]
  },
  {
   "cell_type": "code",
   "execution_count": 53,
   "metadata": {},
   "outputs": [
    {
     "name": "stdout",
     "output_type": "stream",
     "text": [
      "0.05\n"
     ]
    }
   ],
   "source": [
    "num_old_examples = tuner.appended_task_list[t].train.images.shape[0] - tuner.task_list[t].train.images.shape[0]\n",
    "# print(np.sum(tuner.appended_task_list[t].train.old_task_equalized_weights[ : num_old_examples] != tuner.appended_task_list[t].train.old_task_equalized_weights[ : num_old_examples][0]))\n",
    "# print(tuner.appended_task_list[t].train.old_task_equalized_weights[num_old_examples : ])\n",
    "num_examples_per_class = 480\n",
    "print(np.sum(tuner.appended_task_list[t].train.old_task_equalized_weights[num_old_examples : ]))\n"
   ]
  },
  {
   "cell_type": "code",
   "execution_count": 28,
   "metadata": {
    "scrolled": true
   },
   "outputs": [
    {
     "name": "stdout",
     "output_type": "stream",
     "text": [
      "cur_best_avg: 4.777174e-01, num_updates: 8\n",
      "best val_acc: [0.47888888 0.25       0.60000002]\n"
     ]
    },
    {
     "data": {
      "image/png": "[encoded data removed]",
      "text/plain": [
       "<Figure size 360x360 with 1 Axes>"
      ]
     },
     "metadata": {
      "needs_background": "light"
     },
     "output_type": "display_data"
    }
   ],
   "source": [
    "plt.rcParams['figure.figsize'] = [5, 5]\n",
    "best_hparams_tuple = tuner.hparamsDictToTuple(hparams[best_hparams_index], tuner.tuner_hparams)\n",
    "cur_res = tuner.results_list[t][best_hparams_tuple]\n",
    "x = np.arange(0, cur_res[0]['total_updates'] + cur_res[1]['total_updates'], cur_res[0]['updates_per_epoch'])\n",
    "cur_best_avg = cur_res[1]['best_avg']\n",
    "cur_best_epoch = cur_res[1]['best_epoch']\n",
    "updates_per_epoch = cur_res[1]['updates_per_epoch']\n",
    "# print(\"dropout: %f, fisher_multiplier: %e, lr: %e\" % (k[0], k[1], k[2]))\n",
    "print(\"cur_best_avg: %e, num_updates: %d\" % (cur_best_avg, cur_best_epoch))\n",
    "print(\"best val_acc: %s\" % (str(np.array(cur_res[1]['val_acc'])[:, (cur_best_epoch - 1) // tuner.eval_frequency])))\n",
    "# plt.plot(cur_res['loss_with_penalty'], color='g')\n",
    "# plt.plot(np.concatenate((cur_res['loss'][0][-1], cur_res['loss'][1][-1]), axis=0), color='b')\n",
    "# plt.plot(np.concatenate((cur_res[0]['val_loss'][-1], cur_res[1]['val_loss'][-1]), axis=0), color='b')\n",
    "# plt.show()\n",
    "# plt.ylim(ymin=0.9)\n",
    "plt.plot(np.concatenate((cur_res[0]['val_acc'][-1], cur_res[1]['val_acc'][-1]), axis=0), color='b')\n",
    "plt.plot(np.concatenate((cur_res[0]['val_acc'][1], cur_res[1]['val_acc'][1]), axis=0), color='g')\n",
    "plt.plot(np.concatenate((cur_res[0]['val_acc'][0], cur_res[1]['val_acc'][0]), axis=0), color='r')\n",
    "# plt.plot(cur_res['val_acc'][1], color='g')\n",
    "\n",
    "plt.show()"
   ]
  },
  {
   "cell_type": "code",
   "execution_count": 23,
   "metadata": {},
   "outputs": [
    {
     "name": "stdout",
     "output_type": "stream",
     "text": [
      "1.0 [0.50555554 0.40000001 0.44999999]\n"
     ]
    }
   ],
   "source": [
    "for hparam in hparams:\n",
    "    hparam_tuple = tuner.hparamsDictToTuple(hparam, tuner.tuner_hparams)\n",
    "    print(hparam['epsilon'], np.array(tuner.results_list[t][hparam_tuple][1]['val_acc'])[:, -1])"
   ]
  },
  {
   "cell_type": "code",
   "execution_count": null,
   "metadata": {},
   "outputs": [],
   "source": [
    "# test accuracy\n",
    "TEST_BATCH_SIZE = 128\n",
    "test_accuracies = []\n",
    "for hparam in hparams:\n",
    "    accuracy = tuner.test(t, BATCH_SIZE, restore_model=True, hparams=hparam)\n",
    "    test_accuracies.append(accuracy)\n",
    "    print(hparam['epsilon'], accuracy)"
   ]
  },
  {
   "cell_type": "code",
   "execution_count": null,
   "metadata": {
    "scrolled": true
   },
   "outputs": [],
   "source": [
    "# Weights given to each class\n",
    "num_class = 100\n",
    "for i in range(num_class):\n",
    "    print(i, np.sum(tuner.appended_task_list[-1].train.weights[(np.argmax(tuner.appended_task_list[-1].train.labels, axis=1) == i)]))"
   ]
  },
  {
   "cell_type": "code",
   "execution_count": null,
   "metadata": {},
   "outputs": [],
   "source": [
    "old_weights = tuner.appended_task_list[1].train.weights[np.argmax(tuner.appended_task_list[1].train.labels, axis=1) != 99]\n",
    "plt.rcParams['figure.figsize'] = [10, 10]\n",
    "# plt.hist(old_weights)\n",
    "# seaborn.distplot(old_weights)\n",
    "print(old_weights.shape)\n",
    "print(np.sum(old_weights < 1e-5))\n",
    "print(np.sum((old_weights >= 1e-5) * (old_weights < 1e-2)))\n",
    "# for i in range(1000):\n",
    "#     print(w[i])"
   ]
  },
  {
   "cell_type": "code",
   "execution_count": null,
   "metadata": {},
   "outputs": [],
   "source": [
    "tuner.saveResultsList()\n",
    "tuner.saveBestHparams()"
   ]
  },
  {
   "cell_type": "code",
   "execution_count": null,
   "metadata": {
    "scrolled": true
   },
   "outputs": [],
   "source": [
    "TEST_BATCH_SIZE = 128\n",
    "test_accuracies = []\n",
    "for i in range(t + 1):\n",
    "    accuracy = tuner.test(i, TEST_BATCH_SIZE, restore_model=True)\n",
    "    test_accuracies.append(np.mean(accuracy))"
   ]
  },
  {
   "cell_type": "code",
   "execution_count": null,
   "metadata": {},
   "outputs": [],
   "source": [
    "plt.plot(test_accuracies)\n",
    "plt.ylim(ymin=0, ymax=1)\n",
    "plt.show()"
   ]
  },
  {
   "cell_type": "code",
   "execution_count": null,
   "metadata": {},
   "outputs": [],
   "source": [
    "%store -r DB1_test_accuracies\n",
    "plt.plot(test_accuracies, color='g')\n",
    "plt.plot(DB1_test_accuracies, color='b')\n",
    "plt.ylim(ymin=0, ymax=1)\n",
    "plt.show()"
   ]
  },
  {
   "cell_type": "code",
   "execution_count": null,
   "metadata": {},
   "outputs": [],
   "source": [
    "plt.hist(tuner.appended_task_list[-1].train.weights[0 : tuner.appended_task_list[-2].train.weights.shape[0]], bins='auto')"
   ]
  },
  {
   "cell_type": "code",
   "execution_count": null,
   "metadata": {},
   "outputs": [],
   "source": [
    "if use_tpu:\n",
    "    sess.run(tpu.shutdown_system())\n",
    "\n",
    "sess.close()"
   ]
  },
  {
   "cell_type": "code",
   "execution_count": null,
   "metadata": {},
   "outputs": [],
   "source": [
    "import shelve\n",
    "filename='code_state.bak'\n",
    "my_shelf = shelve.open(filename,'n') # 'n' for new\n",
    "\n",
    "for key in dir():\n",
    "    try:\n",
    "        my_shelf[key] = globals()[key]\n",
    "    except TypeError:\n",
    "        #\n",
    "        # __builtins__, my_shelf, and imported modules can not be shelved.\n",
    "        #\n",
    "        print('ERROR shelving: {0}'.format(key))\n",
    "my_shelf.close()"
   ]
  },
  {
   "cell_type": "code",
   "execution_count": null,
   "metadata": {},
   "outputs": [],
   "source": []
  }
 ],
 "metadata": {
  "kernelspec": {
   "display_name": "Python 3",
   "language": "python",
   "name": "python3"
  },
  "language_info": {
   "codemirror_mode": {
    "name": "ipython",
    "version": 3
   },
   "file_extension": ".py",
   "mimetype": "text/x-python",
   "name": "python",
   "nbconvert_exporter": "python",
   "pygments_lexer": "ipython3",
   "version": "3.6.6"
  }
 },
 "nbformat": 4,
 "nbformat_minor": 2
}
