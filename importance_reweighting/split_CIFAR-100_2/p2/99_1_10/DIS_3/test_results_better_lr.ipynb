{
 "cells": [
  {
   "cell_type": "markdown",
   "metadata": {},
   "source": [
    "# Test results of experiments done on task [90, 1, 1, ..., 1]"
   ]
  },
  {
   "cell_type": "markdown",
   "metadata": {},
   "source": [
    "This file has results when the following methods have been experimented on task [90 classes, 1, 1, ..., 1] CIFAR-100 dataset. Base model is trained with 90 classes. Then, each class is incrementally learnt one at a time.\n",
    "1. Uniform Sampling from appended dataset seen so far\n",
    "2. Examples of new task and old task chosen with different probabilites but uniform sampling of points within each task; ratio old:new (parameter) determines number of points from old task sampled for each point in new task. This is same as 3. with epsilon = 1.0. This help to find if selective sampling performs better over uniform sampling\n",
    "3. Old and new task examples sampled in the ratio old:new, but with selective sampling from old task datasets based on similarity. cosine similarity is used for selective sampling. sigma (parameter) determines how skewed the probability distribution of sampling from old task becomes. epsilon (parameter) is the tradeoff between similarity sampling and uniform sampling within old task. epsilon = 1.0 makes only uniform sampling. \n",
    "4. Distillation loss on outputs of previous task scores. T, alpha (parameters); T - factor of division for distillation. alpha - tradeoff between cross-entropy among all outputs and distillation loss of previous tasks' outputs. alpha = 0.0 sets weight of distillation to zero."
   ]
  },
  {
   "cell_type": "markdown",
   "metadata": {},
   "source": [
    "### Import required packages"
   ]
  },
  {
   "cell_type": "code",
   "execution_count": 1,
   "metadata": {},
   "outputs": [],
   "source": [
    "import numpy as np\n",
    "import math\n",
    "\n",
    "%matplotlib inline\n",
    "import matplotlib.pyplot as plt\n",
    "import seaborn\n",
    "\n",
    "import pickle\n",
    "import argparse\n",
    "import time\n",
    "from copy import deepcopy\n",
    "\n",
    "import os\n",
    "    \n",
    "%load_ext autoreload\n",
    "%autoreload 2"
   ]
  },
  {
   "cell_type": "markdown",
   "metadata": {},
   "source": [
    "### Helper functions for reading accuracy"
   ]
  },
  {
   "cell_type": "code",
   "execution_count": 2,
   "metadata": {},
   "outputs": [],
   "source": [
    "def loadMeanStd(file_path, num_repeat_expt=3, final=True, raw=False):\n",
    "    \"\"\"\n",
    "    Function to read test accuracy at the end of training \n",
    "    if final is True:\n",
    "        returns test accuracy for each task by the final model, averaged over multiple runs\n",
    "    else:\n",
    "        returns cumulative test accuracy across all seen tasks for each increment of training, averaged over multiple runs\n",
    "    \"\"\"\n",
    "    with open(file_path, 'rb') as f:\n",
    "        test_acc = pickle.load(f)\n",
    "    if raw:\n",
    "        return test_acc\n",
    "    if (final):\n",
    "        cur_test_accuracies = np.empty((num_repeat_expt, len(test_acc[0][-1])))\n",
    "        for i in range(num_repeat_expt):\n",
    "            cur_test_accuracies[i] = np.array(test_acc[i][-1])\n",
    "        return np.mean(cur_test_accuracies, axis=0), np.std(cur_test_accuracies, axis=0)\n",
    "    else:\n",
    "        w = [0.9]\n",
    "        for i in range(10):\n",
    "            w.append(0.01)\n",
    "        test_acc_mean = [[np.sum(np.array(v[:]) * np.array(w)[: len(v)]) / np.sum(np.array(w)[ : len(v)]) for v in r] for r in test_acc]\n",
    "        return np.mean(test_acc_mean, axis=0), np.std(test_acc_mean, axis=0)\n",
    "        "
   ]
  },
  {
   "cell_type": "markdown",
   "metadata": {},
   "source": [
    "### Uniform sampling results vs other methods"
   ]
  },
  {
   "cell_type": "code",
   "execution_count": 5,
   "metadata": {},
   "outputs": [],
   "source": [
    "summaries_path = 'summaries_0_distill/'\n",
    "summaries_path_nd = 'summaries_0_no_distill/'"
   ]
  },
  {
   "cell_type": "code",
   "execution_count": 6,
   "metadata": {},
   "outputs": [
    {
     "name": "stdout",
     "output_type": "stream",
     "text": [
      "task:1\n",
      "run0:  [0.6317777778307597, 0.5199999809265137]\n",
      "run1:  [0.6295555556615193, 0.550000011920929]\n",
      "task:2\n",
      "run0:  [0.5258888888623979, 0.41999998688697815, 0.47999998927116394]\n",
      "run1:  [0.5198888888623979, 0.46000000834465027, 0.47999998927116394]\n",
      "task:3\n",
      "run0:  [0.4984444444179535, 0.5600000023841858, 0.5099999904632568, 0.3799999952316284]\n",
      "run1:  [0.49744444449742636, 0.5799999833106995, 0.5400000214576721, 0.4399999976158142]\n",
      "task:10\n",
      "run0:  [0.5474444445504083, 0.5799999833106995, 0.44999998807907104, 0.6100000143051147, 0.36000001430511475, 0.6399999856948853, 0.3400000035762787, 0.20999999344348907, 0.3100000023841858, 0.5, 0.10000000149011612]\n",
      "run1:  [0.5513333332803514, 0.550000011920929, 0.6399999856948853, 0.6600000262260437, 0.3700000047683716, 0.6600000262260437, 0.3100000023841858, 0.27000001072883606, 0.23999999463558197, 0.4000000059604645, 0.15000000596046448]\n"
     ]
    }
   ],
   "source": [
    "file_path = '../DB1/summaries_0/uniform_samplingnum_repeat_expt=3_test_accuracies.dat'\n",
    "uniform_sampling_res = loadMeanStd(file_path, raw=True)\n",
    "baseline_mean, baseline_std = loadMeanStd(file_path, final=False)\n",
    "print(\"task:1\")\n",
    "print(\"run0: \", uniform_sampling_res[0][0])\n",
    "print(\"run1: \", uniform_sampling_res[1][0])\n",
    "print(\"task:2\")\n",
    "print(\"run0: \", uniform_sampling_res[0][1])\n",
    "print(\"run1: \", uniform_sampling_res[1][1])\n",
    "print(\"task:3\")\n",
    "print(\"run0: \", uniform_sampling_res[0][2])\n",
    "print(\"run1: \", uniform_sampling_res[1][2])\n",
    "\n",
    "print(\"task:10\")\n",
    "print(\"run0: \", uniform_sampling_res[0][9])\n",
    "print(\"run1: \", uniform_sampling_res[1][9])\n"
   ]
  },
  {
   "cell_type": "code",
   "execution_count": 7,
   "metadata": {},
   "outputs": [
    {
     "name": "stdout",
     "output_type": "stream",
     "text": [
      "task1:  [0.6260000001059638, 0.6700000166893005]\n",
      "task2:  [0.5026666667196485, 0.20999999344348907, 0.6399999856948853]\n",
      "task3:  [0.46355555550257366, 0.23000000417232513, 0.5699999928474426, 0.699999988079071]\n"
     ]
    }
   ],
   "source": [
    "# no distillation, epsilon = 0.5, sigma = 5.0\n",
    "test_acc_file_name_nd = 'new:old=' + str(20.0) + 'epsilon=' + str(0.5) + 'sigma=' + str(10.0) + 'num_repeat_expt=' + str(1)\n",
    "file_path_nd = summaries_path_nd + test_acc_file_name_nd + '_test_accuracies.dat'\n",
    "res = loadMeanStd(file_path_nd, raw=True)\n",
    "print(\"task1: \", res[0][0])\n",
    "print(\"task2: \", res[0][1])\n",
    "print(\"task3: \", res[0][2])"
   ]
  },
  {
   "cell_type": "markdown",
   "metadata": {},
   "source": [
    "The results seem really bad compared to uniform sampling. Probably because uniform sampling gets 70 epochs, with learning rate starting at 1e-1 and decayed by 5.0 at epoch 49 and 63. Selective sampling get 40 epochs of training with imbalance across old and new. Starts with learning rate 1e-1 and decayed by factor of 5 at 20 and 30 epoch. The for next 30 epochs, balanced finetuning is performed with probabilities equalized across all classes. Learning rate starts at 1e-2 and decayed by 5 at epoch 20. Also, the huge bias across new class and old class might be a problem, ie for each example in new dataset, only 5 examples of old dataset are drawn. The old dataset might have a large number of classes."
   ]
  },
  {
   "cell_type": "markdown",
   "metadata": {},
   "source": [
    "### Comparing methods across varying epsilon and sigma (without distillation)"
   ]
  },
  {
   "cell_type": "code",
   "execution_count": 8,
   "metadata": {},
   "outputs": [],
   "source": [
    "new_old = 5.0\n",
    "epsilons = [0.0, 0.5, 1.0]\n",
    "colors = ['r', 'g', 'b']\n",
    "sigmas = [1.0, 5.0, 10.0]\n",
    "num_repeat_expt = 3\n",
    "T=5\n",
    "alpha=0.5\n",
    "\n",
    "test_accuracy_mean = {}\n",
    "test_accuracy_std = {}\n",
    "test_accuracy_mean_nd = {}\n",
    "test_accuracy_std_nd = {}"
   ]
  },
  {
   "cell_type": "markdown",
   "metadata": {},
   "source": [
    "### Results comparing with and without distillation"
   ]
  },
  {
   "cell_type": "code",
   "execution_count": 9,
   "metadata": {},
   "outputs": [],
   "source": [
    "new_old = 20.0\n",
    "epsilons = [0.5, 1.0]\n",
    "colors = ['r', 'g']\n",
    "colors_nd = ['b', 'y']\n",
    "sigmas = [10.0]\n",
    "num_repeat_expt = 1\n",
    "T=5.0\n",
    "alpha=0.2"
   ]
  },
  {
   "cell_type": "code",
   "execution_count": 10,
   "metadata": {},
   "outputs": [
    {
     "name": "stdout",
     "output_type": "stream",
     "text": [
      "sigma: 10.0\n"
     ]
    },
    {
     "data": {
      "image/png": "[encoded data removed]",
      "text/plain": [
       "<Figure size 432x288 with 1 Axes>"
      ]
     },
     "metadata": {
      "needs_background": "light"
     },
     "output_type": "display_data"
    }
   ],
   "source": [
    "# cumulative test accuracy (only over the classes learnt one at a time) after each increment of training\n",
    "for sigma in sigmas:\n",
    "    test_accuracy_mean[sigma], test_accuracy_std[sigma] = [], [] \n",
    "    test_accuracy_mean_nd[sigma], test_accuracy_std_nd[sigma] = [], []\n",
    "    for i in range(len(epsilons)):\n",
    "        epsilon = epsilons[i]\n",
    "        test_acc_file_name = 'new:old=' + str(new_old) + 'epsilon=' + str(epsilon) + 'sigma=' + str(sigma) + 'num_repeat_expt=' + str(num_repeat_expt) + \\\n",
    "                                'T=' + str(T) + 'alpha=' + str(alpha)\n",
    "        file_path = summaries_path + test_acc_file_name + '_test_accuracies.dat'\n",
    "        cur_mean, cur_std = loadMeanStd(file_path, final=False, num_repeat_expt=1)\n",
    "        test_accuracy_mean[sigma].append(cur_mean)\n",
    "        test_accuracy_std[sigma].append(cur_std)\n",
    "        \n",
    "        test_acc_file_name_nd = 'new:old=' + str(new_old) + 'epsilon=' + str(epsilon) + 'sigma=' + str(sigma) + 'num_repeat_expt=' + str(num_repeat_expt)\n",
    "        file_path_nd = summaries_path_nd + test_acc_file_name_nd + '_test_accuracies.dat'\n",
    "        cur_mean_nd, cur_std_nd = loadMeanStd(file_path_nd, final=False, num_repeat_expt=1)\n",
    "        test_accuracy_mean_nd[sigma].append(cur_mean_nd)\n",
    "        test_accuracy_std_nd[sigma].append(cur_std_nd)\n",
    "        \n",
    "        plt.errorbar(range(1, test_accuracy_mean[sigma][-1].shape[0] + 1), test_accuracy_mean[sigma][-1], yerr=test_accuracy_std[sigma][-1], color=colors[i], label=str(epsilon))\n",
    "        plt.errorbar(range(1, test_accuracy_mean_nd[sigma][-1].shape[0] + 1), test_accuracy_mean_nd[sigma][-1], yerr=test_accuracy_std_nd[sigma][-1], color=colors_nd[i], label=str(epsilon) + '_nd')\n",
    "    print(\"sigma:\", sigma)\n",
    "    plt.errorbar(range(1, baseline_mean.shape[0] + 1), baseline_mean, yerr=baseline_std, color='m', label='uniform baseline')\n",
    "    plt.legend()\n",
    "    plt.show()"
   ]
  },
  {
   "cell_type": "markdown",
   "metadata": {},
   "source": [
    "#### Graph with constant epsilon; test accuracy vs sigma"
   ]
  },
  {
   "cell_type": "code",
   "execution_count": null,
   "metadata": {},
   "outputs": [],
   "source": [
    "# constant epsilon, test accuracy with varying sigma\n",
    "test_accuracy_mean_e = {}\n",
    "test_accuracy_std_e = {}\n",
    "test_accuracy_mean_nd_e = {}\n",
    "test_accuracy_std_nd_e = {}\n",
    "\n",
    "# constant sigma, test accuracy with varying epsilon\n",
    "for epsilon in epsilons:\n",
    "    test_accuracy_mean_e[epsilon], test_accuracy_std_e[epsilon] = [], [] \n",
    "    test_accuracy_mean_nd_e[epsilon], test_accuracy_std_nd_e[epsilon] = [], []\n",
    "    for sigma in sigmas:\n",
    "        test_acc_file_name = 'new:old=' + str(new_old) + 'epsilon=' + str(epsilon) + 'sigma=' + str(sigma) + 'num_repeat_expt=' + str(num_repeat_expt) + \\\n",
    "                                'T=' + str(T) + 'alpha=' + str(alpha)\n",
    "        file_path = summaries_path + test_acc_file_name + '_test_accuracies.dat'\n",
    "        cur_mean, cur_std = loadMeanStd(file_path)\n",
    "        test_accuracy_mean_e[epsilon].append(cur_mean)\n",
    "        test_accuracy_std_e[epsilon].append(cur_std)\n",
    "        \n",
    "        test_acc_file_name_nd = 'new:old=' + str(new_old) + 'epsilon=' + str(epsilon) + 'sigma=' + str(sigma) + 'num_repeat_expt=' + str(num_repeat_expt)\n",
    "        file_path_nd = summaries_path_nd + test_acc_file_name_nd + '_test_accuracies.dat'\n",
    "        cur_mean_nd, cur_std_nd = loadMeanStd(file_path_nd)\n",
    "        test_accuracy_mean_nd_e[epsilon].append(cur_mean_nd)\n",
    "        test_accuracy_std_nd_e[epsilon].append(cur_std_nd)\n",
    "        \n",
    "    print(\"epsilon:\", epsilon)\n",
    "    test_accuracy_mean_e[epsilon] = np.array(test_accuracy_mean_e[epsilon])\n",
    "    test_accuracy_std_e[epsilon] = np.array(test_accuracy_std_e[epsilon])\n",
    "    test_accuracy_mean_nd_e[epsilon] = np.array(test_accuracy_mean_nd_e[epsilon])\n",
    "    test_accuracy_std_nd_e[epsilon] = np.array(test_accuracy_std_nd_e[epsilon])\n",
    "    for i in range(test_accuracy_mean_e[epsilon].shape[1]):\n",
    "        print(\"task:\", i)\n",
    "        plt.errorbar(np.log(sigmas), test_accuracy_mean_e[epsilon][:, i], yerr=test_accuracy_std_e[epsilon][:, i], color='g')\n",
    "        plt.errorbar(np.log(sigmas), test_accuracy_mean_nd_e[epsilon][:, i], yerr=test_accuracy_std_nd_e[epsilon][:, i], color='b')\n",
    "        plt.show()"
   ]
  },
  {
   "cell_type": "markdown",
   "metadata": {},
   "source": [
    "#### Effect of varying sigma (finer variation within 1.0 - 20.0) for fixed epsilon"
   ]
  },
  {
   "cell_type": "code",
   "execution_count": null,
   "metadata": {},
   "outputs": [],
   "source": [
    "# effect of sigma for fixed epsilon\n",
    "epsilon = 0.5\n",
    "sigmas = [1.0, 2.0, 5.0, 7.0, 10.0, 15.0, 20.0]\n",
    "fix_eps_test_accuracy_mean_nd = []\n",
    "fix_eps_test_accuracy_std_nd = []\n",
    "for sigma in sigmas:\n",
    "    test_acc_file_name = 'new:old=' + str(new_old) + 'epsilon=' + str(epsilon) + 'sigma=' + str(sigma) + 'num_repeat_expt=' + str(num_repeat_expt)\n",
    "    file_path_nd = summaries_path_nd + test_acc_file_name + '_test_accuracies.dat'\n",
    "    cur_mean_nd, cur_std_nd = loadMeanStd(file_path_nd)\n",
    "    fix_eps_test_accuracy_mean_nd.append(cur_mean_nd)\n",
    "    fix_eps_test_accuracy_std_nd.append(cur_std_nd)\n",
    "        \n",
    "print(\"epsilon:\", epsilon)\n",
    "fix_eps_test_accuracy_mean_nd = np.array(fix_eps_test_accuracy_mean_nd)\n",
    "fix_eps_test_accuracy_std_nd = np.array(fix_eps_test_accuracy_std_nd)\n",
    "for i in range(fix_eps_test_accuracy_mean_nd.shape[1]):\n",
    "    print(\"task:\", i)\n",
    "    plt.errorbar(np.log(sigmas), fix_eps_test_accuracy_mean_nd[:, i], yerr=fix_eps_test_accuracy_std_nd[:, i], color='g')\n",
    "    plt.show()"
   ]
  },
  {
   "cell_type": "markdown",
   "metadata": {},
   "source": [
    "### Tuning alpha to make performance of new task better compared to no distill"
   ]
  },
  {
   "cell_type": "code",
   "execution_count": null,
   "metadata": {},
   "outputs": [],
   "source": [
    "# alpha tuning, comparing it with no_distill\n",
    "old_new = 5.0\n",
    "sigma = 10.0\n",
    "epsilons = [0.0, 0.2, 0.5, 1.0]\n",
    "alphas = [0.0, 0.1, 0.2, 0.5, 0.7, 1.0]\n",
    "# alphas = [0.0]\n",
    "colors = ['b', 'g', 'r', 'c', 'm', 'y', 'k']\n",
    "num_repeat_expt = 10\n",
    "T = 5\n",
    "\n",
    "alpha_tuner_mean, alpha_tuner_std  = {}, {}\n",
    "alpha_tuner_mean_nd, alpha_tuner_std_nd = [], []\n",
    "plt_figures = []\n",
    "plt_axes = []"
   ]
  },
  {
   "cell_type": "code",
   "execution_count": null,
   "metadata": {},
   "outputs": [],
   "source": [
    "# constant sigma, test accuracy with varying epsilon\n",
    "for i in range(len(alphas)):\n",
    "    alpha = alphas[i]\n",
    "    color = colors[i]\n",
    "    alpha_tuner_mean[alpha], alpha_tuner_std[alpha] = [], []\n",
    "    for epsilon in epsilons:\n",
    "        test_acc_file_name = 'new:old=' + str(new_old) + 'epsilon=' + str(epsilon) + 'sigma=' + str(sigma) + 'num_repeat_expt=' + str(num_repeat_expt) + \\\n",
    "                                'T=' + str(T) + 'alpha=' + str(alpha)\n",
    "        file_path = summaries_path + test_acc_file_name + '_test_accuracies.dat'\n",
    "        cur_mean, cur_std = loadMeanStd(file_path)\n",
    "        alpha_tuner_mean[alpha].append(cur_mean)\n",
    "        alpha_tuner_std[alpha].append(cur_std)\n",
    "        \n",
    "    alpha_tuner_mean[alpha] = np.array(alpha_tuner_mean[alpha])\n",
    "    alpha_tuner_std[alpha] = np.array(alpha_tuner_std[alpha])\n",
    "    for j in range(alpha_tuner_mean[alpha].shape[1]):\n",
    "#         print(\"task:\", j)\n",
    "        if (i == 0):\n",
    "            plt_figures.append(plt.figure())\n",
    "            plt_axes.append(plt_figures[j].add_subplot(1, 1, 1))\n",
    "        \n",
    "        plt_axes[j].errorbar(epsilons, alpha_tuner_mean[alpha][:, j], yerr=alpha_tuner_std[alpha][:, j], color=color, label=str(alpha))\n",
    "\n",
    "# for epsilon in epsilons:\n",
    "#     test_acc_file_name = 'new:old=' + str(new_old) + 'epsilon=' + str(epsilon) + 'sigma=' + str(sigma) + 'num_repeat_expt=' + str(num_repeat_expt)\n",
    "#     file_path = summaries_path_nd + test_acc_file_name + '_test_accuracies.dat'\n",
    "#     cur_mean, cur_std = loadMeanStd(file_path)\n",
    "#     alpha_tuner_mean_nd.append(cur_mean)\n",
    "#     alpha_tuner_std_nd.append(cur_std)\n",
    "\n",
    "# alpha_tuner_mean_nd = np.array(alpha_tuner_mean_nd)\n",
    "# alpha_tuner_std_nd = np.array(alpha_tuner_std_nd)\n",
    "# for j in range(alpha_tuner_mean_nd.shape[1]):\n",
    "#     print(\"task:\", j)\n",
    "#     plt_axes[j].errorbar(epsilons, alpha_tuner_mean_nd[:, j], yerr=alpha_tuner_std_nd[:, j], color=colors[-1], label='no distill')\n",
    "\n",
    "for j in range(alpha_tuner_mean[alpha].shape[1]):\n",
    "#     plt_axes[j].legend()\n",
    "    plt_figures[j].legend()\n",
    "plt.show()"
   ]
  }
 ],
 "metadata": {
  "kernelspec": {
   "display_name": "Python 3",
   "language": "python",
   "name": "python3"
  },
  "language_info": {
   "codemirror_mode": {
    "name": "ipython",
    "version": 3
   },
   "file_extension": ".py",
   "mimetype": "text/x-python",
   "name": "python",
   "nbconvert_exporter": "python",
   "pygments_lexer": "ipython3",
   "version": "3.6.6"
  }
 },
 "nbformat": 4,
 "nbformat_minor": 2
}
