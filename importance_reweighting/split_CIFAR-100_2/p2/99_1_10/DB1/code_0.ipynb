{
 "cells": [
  {
   "cell_type": "markdown",
   "metadata": {},
   "source": [
    "### Import and init GPU"
   ]
  },
  {
   "cell_type": "code",
   "execution_count": 1,
   "metadata": {},
   "outputs": [],
   "source": [
    "from IPython.display import Audio"
   ]
  },
  {
   "cell_type": "code",
   "execution_count": 2,
   "metadata": {},
   "outputs": [],
   "source": [
    "import sys\n",
    "sys.path.append('../../../../')"
   ]
  },
  {
   "cell_type": "code",
   "execution_count": 3,
   "metadata": {},
   "outputs": [],
   "source": [
    "import numpy as np\n",
    "import math\n",
    "\n",
    "%matplotlib inline\n",
    "import matplotlib.pyplot as plt\n",
    "\n",
    "import pickle\n",
    "import argparse\n",
    "import time\n",
    "import itertools\n",
    "from copy import deepcopy\n",
    "import tensorflow as tf\n",
    "\n",
    "from tuner import HyperparameterTuner\n",
    "from tuner import MyTask\n",
    "\n",
    "use_tpu = False\n",
    "use_gpu = True\n",
    "\n",
    "if use_tpu:\n",
    "    from tensorflow.contrib import tpu\n",
    "    from tensorflow.contrib.cluster_resolver import TPUClusterResolver\n",
    "\n",
    "if use_gpu:\n",
    "    import os\n",
    "    \n",
    "%load_ext autoreload\n",
    "%autoreload 2"
   ]
  },
  {
   "cell_type": "code",
   "execution_count": 4,
   "metadata": {
    "code_folding": []
   },
   "outputs": [],
   "source": [
    "if use_gpu:\n",
    "    os.environ['CUDA_VISIBLE_DEVICES'] = '2'\n",
    "    config = tf.ConfigProto()\n",
    "    config.gpu_options.allow_growth = True"
   ]
  },
  {
   "cell_type": "code",
   "execution_count": 5,
   "metadata": {},
   "outputs": [],
   "source": [
    "if use_tpu:\n",
    "    tpu_cluster = TPUClusterResolver(tpu=[tpu_name]).get_master()\n",
    "    sess = tf.Session(tpu_cluster)\n",
    "    sess.run(tpu.initialize_system())\n",
    "elif use_gpu:\n",
    "    sess = tf.Session(config=config)\n",
    "else:\n",
    "    sess = tf.Session()"
   ]
  },
  {
   "cell_type": "code",
   "execution_count": 6,
   "metadata": {},
   "outputs": [],
   "source": [
    "from resnet import Network"
   ]
  },
  {
   "cell_type": "code",
   "execution_count": 7,
   "metadata": {},
   "outputs": [],
   "source": [
    "network = Network()"
   ]
  },
  {
   "cell_type": "code",
   "execution_count": 8,
   "metadata": {},
   "outputs": [],
   "source": [
    "task_home = ''\n",
    "if use_tpu:\n",
    "    pass\n",
    "#     task_home = 'gs://continual_learning/permMNIST_EWC/'\n",
    "else:\n",
    "    task_home = '../../../../../'\n",
    "\n",
    "cur_dir = './'\n",
    "checkpoint_path = cur_dir + 'checkpoints_0/'\n",
    "summaries_path = cur_dir + 'summaries_0/'\n",
    "data_path = task_home + 'cifar-100-python/'\n",
    "split_path = './split.txt' \n",
    "if use_tpu:\n",
    "    tpu_name = 'gectpu'\n",
    "    \n",
    "BATCH_SIZE = 128"
   ]
  },
  {
   "cell_type": "markdown",
   "metadata": {},
   "source": [
    "### Dataset loading functions"
   ]
  },
  {
   "cell_type": "code",
   "execution_count": 9,
   "metadata": {
    "code_folding": [
     2,
     29,
     36,
     41
    ]
   },
   "outputs": [],
   "source": [
    "label_smooth_param = 0\n",
    "\n",
    "def splitDataset(dataset, dataset_split, seed):\n",
    "    np.random.seed(seed)\n",
    "    task_list = []\n",
    "    train_labels = np.argmax(dataset.train.labels, axis=1)\n",
    "    validation_labels = np.argmax(dataset.validation.labels, axis=1)\n",
    "    test_labels = np.argmax(dataset.test.labels, axis=1)\n",
    "    for i in range(len(dataset_split)):\n",
    "        cur_train_indices = [False] * dataset.train.images.shape[0]\n",
    "        cur_validation_indices = [False] * dataset.validation.images.shape[0]\n",
    "        cur_test_indices = [False] * dataset.test.images.shape[0]\n",
    "        for j in range(len(dataset_split[i])):\n",
    "            cur_train_indices = np.logical_or(cur_train_indices, (train_labels == dataset_split[i][j]))\n",
    "            cur_validation_indices = np.logical_or(cur_validation_indices, (validation_labels == dataset_split[i][j]))\n",
    "            cur_test_indices = np.logical_or(cur_test_indices, (test_labels == dataset_split[i][j]))\n",
    "\n",
    "        task = deepcopy(dataset)\n",
    "        task.train.images = task.train.images[cur_train_indices]\n",
    "        task.train.labels = task.train.labels[cur_train_indices]\n",
    "        task.validation.images = task.validation.images[cur_validation_indices]\n",
    "        task.validation.labels = task.validation.labels[cur_validation_indices]\n",
    "        task.test.images = task.test.images[cur_test_indices]\n",
    "        task.test.labels = task.test.labels[cur_test_indices]\n",
    "        task = MyTask(task)\n",
    "        task_list.append(task)\n",
    "\n",
    "    return task_list\n",
    "    \n",
    "def smoothLabels(dataset):\n",
    "    train_labels = dataset.train.labels\n",
    "    train_labels_argmax = np.argmax(train_labels, axis=1)\n",
    "    train_labels = train_labels + label_smooth_param / (train_labels.shape[1] - 1)\n",
    "    train_labels[range(train_labels.shape[0]), train_labels_argmax] = 1 - label_smooth_param\n",
    "    dataset.train._labels = train_labels\n",
    "\n",
    "class TempDataset(object):\n",
    "    def __init__(self):\n",
    "        self.images = None\n",
    "        self.labels = None\n",
    "    \n",
    "class TempTask(object):\n",
    "    def __init__(self):\n",
    "        self.train = TempDataset()\n",
    "        self.validation = TempDataset()\n",
    "        self.test = TempDataset()\n",
    "    \n",
    "    \n",
    "def readDatasets():\n",
    "    num_class = 100\n",
    "    labels_list = list(range(num_class))\n",
    "    seed = 0\n",
    "    np.random.seed(seed)\n",
    "    np.random.shuffle(labels_list)\n",
    "    split = []\n",
    "    task_weights = []\n",
    "    \n",
    "    split = [labels_list[ : 90]]\n",
    "    task_weights = [0.90]\n",
    "    for single_label in labels_list[90 : ]:\n",
    "        split.append([single_label])\n",
    "        task_weights.append(0.01)\n",
    "    num_tasks = len(split)\n",
    "    \n",
    "    with open(data_path + 'train', 'rb') as f:\n",
    "        f_train_data = pickle.load(f, encoding='bytes')\n",
    "        \n",
    "    with open(data_path + 'test', 'rb') as f:\n",
    "        f_test_data = pickle.load(f, encoding='bytes')\n",
    "        \n",
    "    cifar_100 = TempTask()\n",
    "    temp_train_labels = np.array(f_train_data[b'fine_labels'], dtype=np.int32)\n",
    "    temp_test_labels = np.array(f_test_data[b'fine_labels'], dtype=np.int32)\n",
    "    f_train_data[b'fine_labels'] = np.zeros((temp_train_labels.shape[0], num_class))\n",
    "    (f_train_data[b'fine_labels'])[range(temp_train_labels.shape[0]), temp_train_labels] = 1\n",
    "    f_test_data[b'fine_labels'] = np.zeros((temp_test_labels.shape[0], num_class))\n",
    "    (f_test_data[b'fine_labels'])[range(temp_test_labels.shape[0]), temp_test_labels] = 1\n",
    "    f_train_data[b'data'] = np.reshape(f_train_data[b'data'], (-1, 3, 32, 32))\n",
    "    f_test_data[b'data'] = np.reshape(f_test_data[b'data'], (-1, 3, 32, 32))\n",
    "    f_train_data[b'data'] = np.transpose(f_train_data[b'data'], (0, 2, 3, 1))\n",
    "    f_test_data[b'data'] = np.transpose(f_test_data[b'data'], (0, 2, 3, 1))\n",
    "    \n",
    "    tr_data = f_train_data[b'data']\n",
    "    te_data = f_test_data[b'data']\n",
    "    # normalizing data\n",
    "    avg = np.mean(tr_data, axis=(0, 1, 2))\n",
    "    std = np.std(tr_data, axis=(0, 1, 2))\n",
    "    \n",
    "    f_train_data[b'data'] = (tr_data - avg) / std\n",
    "    f_test_data[b'data'] = (te_data - avg) / std\n",
    "    \n",
    "    seed = 0\n",
    "    np.random.seed(0)\n",
    "    shuffle_train_perm = np.random.permutation(f_train_data[b'data'].shape[0])\n",
    "    f_train_data[b'data'] = f_train_data[b'data'][shuffle_train_perm]\n",
    "    f_train_data[b'fine_labels'] = f_train_data[b'fine_labels'][shuffle_train_perm]\n",
    "    \n",
    "    num_val_per_class = 20\n",
    "    \n",
    "    for i in range(num_class):\n",
    "        pos = (np.argmax(f_train_data[b'fine_labels'], axis=1) == i)\n",
    "        \n",
    "        if (i == 0):\n",
    "            cifar_100.validation.images = (f_train_data[b'data'][pos])[0 : num_val_per_class]\n",
    "            cifar_100.validation.labels = (f_train_data[b'fine_labels'][pos])[0 : num_val_per_class]\n",
    "\n",
    "            cifar_100.train.images = (f_train_data[b'data'][pos])[num_val_per_class : ]\n",
    "            cifar_100.train.labels = (f_train_data[b'fine_labels'][pos])[num_val_per_class : ]\n",
    "        else:\n",
    "            cifar_100.validation.images = np.concatenate((cifar_100.validation.images, (f_train_data[b'data'][pos])[0 : num_val_per_class]))\n",
    "            cifar_100.validation.labels = np.concatenate((cifar_100.validation.labels, (f_train_data[b'fine_labels'][pos])[0 : num_val_per_class]))\n",
    "\n",
    "            cifar_100.train.images = np.concatenate((cifar_100.train.images, (f_train_data[b'data'][pos])[num_val_per_class : ]))\n",
    "            cifar_100.train.labels = np.concatenate((cifar_100.train.labels, (f_train_data[b'fine_labels'][pos])[num_val_per_class : ]))\n",
    "        \n",
    "    cifar_100.test.images = f_test_data[b'data']\n",
    "    cifar_100.test.labels = f_test_data[b'fine_labels']\n",
    "    \n",
    "    shuffle_train_perm = np.random.permutation(cifar_100.train.images.shape[0])\n",
    "    cifar_100.train.images = cifar_100.train.images[shuffle_train_perm]\n",
    "    cifar_100.train.labels = cifar_100.train.labels[shuffle_train_perm]\n",
    "    \n",
    "    if (label_smooth_param != 0):\n",
    "        smoothLabels(cifar_100)\n",
    "        \n",
    "    task_list = splitDataset(cifar_100, split, seed)\n",
    "    return split, num_tasks, task_weights, task_list"
   ]
  },
  {
   "cell_type": "markdown",
   "metadata": {},
   "source": [
    "### Create tuner object and train!!"
   ]
  },
  {
   "cell_type": "code",
   "execution_count": 10,
   "metadata": {},
   "outputs": [],
   "source": [
    "input_shape = (32, 32, 3)\n",
    "output_shape = (100, )"
   ]
  },
  {
   "cell_type": "code",
   "execution_count": 11,
   "metadata": {},
   "outputs": [
    {
     "name": "stdout",
     "output_type": "stream",
     "text": [
      "WARNING:tensorflow:From ../../../../classifiers.py:100: softmax_cross_entropy_with_logits (from tensorflow.python.ops.nn_ops) is deprecated and will be removed in a future version.\n",
      "Instructions for updating:\n",
      "\n",
      "Future major versions of TensorFlow will allow gradients to flow\n",
      "into the labels input on backprop by default.\n",
      "\n",
      "See @{tf.nn.softmax_cross_entropy_with_logits_v2}.\n",
      "\n"
     ]
    }
   ],
   "source": [
    "tuner = HyperparameterTuner(sess=sess, network=network, \n",
    "                            input_shape=input_shape, output_shape=output_shape,\n",
    "                            checkpoint_path=checkpoint_path, summaries_path=summaries_path, \n",
    "                            readDatasets=readDatasets, load_best_hparams=False)"
   ]
  },
  {
   "cell_type": "code",
   "execution_count": 12,
   "metadata": {},
   "outputs": [],
   "source": [
    "tuner.setPerExampleAppend(1.0)\n",
    "tuner.updateTunerHparams({'mask_softmax' : True})"
   ]
  },
  {
   "cell_type": "markdown",
   "metadata": {
    "heading_collapsed": true
   },
   "source": [
    "### Training each task separately"
   ]
  },
  {
   "cell_type": "code",
   "execution_count": null,
   "metadata": {
    "hidden": true,
    "scrolled": true
   },
   "outputs": [],
   "source": [
    "t = 0\n",
    "learning_rates = [1e-1]\n",
    "momentums = [0.9]\n",
    "regs = [0.0001]\n",
    "dropout_input_probs = [1.0]\n",
    "dropout_hidden_probs = [0.9]\n",
    "prod = list(itertools.product(regs, dropout_input_probs, dropout_hidden_probs, momentums, learning_rates))\n",
    "hparams = []\n",
    "for hparams_tuple in prod:\n",
    "    cur_dict = {}\n",
    "    cur_dict['reg'] = hparams_tuple[0]\n",
    "    cur_dict['dropout_input_prob'] = hparams_tuple[2]\n",
    "    cur_dict['dropout_hidden_prob'] = hparams_tuple[2]\n",
    "    cur_dict['momentum'] = hparams_tuple[3]\n",
    "    cur_dict['learning_rate'] = hparams_tuple[4]\n",
    "    hparams.append(cur_dict)\n",
    "\n",
    "tuner.hparams_list[t] = hparams"
   ]
  },
  {
   "cell_type": "code",
   "execution_count": null,
   "metadata": {
    "hidden": true
   },
   "outputs": [],
   "source": [
    "num_epochs = 160\n",
    "num_updates = math.ceil(tuner.task_list[t].train.images.shape[0] / BATCH_SIZE) * num_epochs\n",
    "tuner.print_every = 10"
   ]
  },
  {
   "cell_type": "code",
   "execution_count": null,
   "metadata": {
    "hidden": true
   },
   "outputs": [],
   "source": [
    "start_time = time.time()\n",
    "best_avg, best_hparams = tuner.tuneOnTask(t, BATCH_SIZE, \n",
    "                                          save_weights=False, \n",
    "                                          num_updates=num_updates, verbose=True, \n",
    "                                          random_crop_flip=True)\n",
    "print(\"time taken : %d\" % (time.time() - start_time))\n",
    "sound_file = '/mnt/a99/d0/shriramsb/code/Alan Walker - Alone.mp3'\n",
    "Audio(sound_file, autoplay=True)"
   ]
  },
  {
   "cell_type": "code",
   "execution_count": null,
   "metadata": {
    "hidden": true
   },
   "outputs": [],
   "source": [
    "import math\n",
    "plt.rcParams['figure.figsize'] = [10, 5]\n",
    "lr_scatter = ([math.log10(h['learning_rate']) for h in hparams])\n",
    "dropout_scatter = [h['dropout_hidden_prob'] for h in hparams]\n",
    "colors = []\n",
    "for i in range(len(hparams)):\n",
    "    cur_hparam_tuple = tuner.hparamsDictToTuple(hparams[i], tuner.tuner_hparams)\n",
    "    colors.append(tuner.results_list[t][cur_hparam_tuple]['best_avg'])\n",
    "    \n",
    "marker_size = 100\n",
    "fig, ax = plt.subplots()\n",
    "plt.scatter(lr_scatter, dropout_scatter, marker_size, c=colors, edgecolors='black')\n",
    "plt.colorbar()\n",
    "for i in range(len(lr_scatter)):\n",
    "    ax.annotate(str('%0.4f' % (colors[i], )), (lr_scatter[i], dropout_scatter[i]))\n",
    "plt.show()"
   ]
  },
  {
   "cell_type": "code",
   "execution_count": null,
   "metadata": {
    "hidden": true
   },
   "outputs": [],
   "source": [
    "plt.rcParams['figure.figsize'] = [10, 10]\n",
    "best_hparams_tuple = tuner.hparamsDictToTuple(hparams[0], tuner.tuner_hparams)\n",
    "cur_res = tuner.results_list[t][best_hparams_tuple]\n",
    "x = np.arange(0, cur_res['total_updates'], cur_res['updates_per_epoch'])\n",
    "cur_best_avg = cur_res['best_avg']\n",
    "cur_best_avg_updates = cur_res['best_avg_updates']\n",
    "updates_per_epoch = cur_res['updates_per_epoch']\n",
    "# print(\"dropout: %f, fisher_multiplier: %e, lr: %e\" % (k[0], k[1], k[2]))\n",
    "print(\"cur_best_avg: %e, num_updates: %d\" % (cur_best_avg, cur_best_avg_updates))\n",
    "print(\"best val_acc: %s\" % (str(np.array(cur_res['val_acc'])[:, (cur_best_avg_updates // updates_per_epoch - 1) // tuner.eval_frequency])))\n",
    "# plt.plot(cur_res['loss_with_penalty'], color='g')\n",
    "plt.plot(cur_res['loss'], color='m')\n",
    "plt.plot(x, cur_res['val_loss'][-1], color='b')\n",
    "plt.show()\n",
    "# plt.ylim(ymin=0.9)\n",
    "plt.plot(cur_res['val_acc'][0], color='b', )\n",
    "# plt.plot(cur_res['val_acc'][1], color='g')\n",
    "\n",
    "plt.show()"
   ]
  },
  {
   "cell_type": "code",
   "execution_count": null,
   "metadata": {
    "hidden": true
   },
   "outputs": [],
   "source": [
    "# print(best_avg, best_hparams)\n",
    "VALIDATION_BATCH_SIZE = 128\n",
    "print(tuner.validationAccuracy(t, VALIDATION_BATCH_SIZE, restore_model=False))"
   ]
  },
  {
   "cell_type": "code",
   "execution_count": null,
   "metadata": {
    "hidden": true
   },
   "outputs": [],
   "source": [
    "t = 1\n",
    "learning_rates = [1e-1]\n",
    "momentums = [0.9]\n",
    "regs = [0.0001]\n",
    "dropout_input_probs = [1.0]\n",
    "dropout_hidden_probs = [0.9]\n",
    "prod = list(itertools.product(regs, dropout_input_probs, dropout_hidden_probs, momentums, learning_rates))\n",
    "hparams = []\n",
    "for hparams_tuple in prod:\n",
    "    cur_dict = {}\n",
    "    cur_dict['reg'] = hparams_tuple[0]\n",
    "    cur_dict['dropout_input_prob'] = hparams_tuple[2]\n",
    "    cur_dict['dropout_hidden_prob'] = hparams_tuple[2]\n",
    "    cur_dict['momentum'] = hparams_tuple[3]\n",
    "    cur_dict['learning_rate'] = hparams_tuple[4]\n",
    "    hparams.append(cur_dict)\n",
    "\n",
    "tuner.hparams_list[t] = hparams"
   ]
  },
  {
   "cell_type": "code",
   "execution_count": null,
   "metadata": {
    "hidden": true
   },
   "outputs": [],
   "source": [
    "num_epochs = 160\n",
    "num_updates = math.ceil(tuner.task_list[t].train.images.shape[0] / BATCH_SIZE) * num_epochs\n",
    "tuner.print_every = 10"
   ]
  },
  {
   "cell_type": "code",
   "execution_count": null,
   "metadata": {
    "hidden": true
   },
   "outputs": [],
   "source": [
    "start_time = time.time()\n",
    "best_avg, best_hparams = tuner.tuneOnTask(t, BATCH_SIZE, \n",
    "                                          save_weights=False, \n",
    "                                          num_updates=num_updates, verbose=True, \n",
    "                                          random_crop_flip=True)\n",
    "print(\"time taken : %d\" % (time.time() - start_time))\n",
    "sound_file = '/mnt/a99/d0/shriramsb/code/Alan Walker - Alone.mp3'\n",
    "Audio(sound_file, autoplay=True)"
   ]
  },
  {
   "cell_type": "code",
   "execution_count": null,
   "metadata": {
    "hidden": true
   },
   "outputs": [],
   "source": [
    "import math\n",
    "plt.rcParams['figure.figsize'] = [10, 5]\n",
    "lr_scatter = ([math.log10(h['learning_rate']) for h in hparams])\n",
    "dropout_scatter = [h['dropout_hidden_prob'] for h in hparams]\n",
    "colors = []\n",
    "for i in range(len(hparams)):\n",
    "    cur_hparam_tuple = tuner.hparamsDictToTuple(hparams[i], tuner.tuner_hparams)\n",
    "    colors.append(tuner.results_list[t][cur_hparam_tuple]['best_avg'])\n",
    "    \n",
    "marker_size = 100\n",
    "fig, ax = plt.subplots()\n",
    "plt.scatter(lr_scatter, dropout_scatter, marker_size, c=colors, edgecolors='black')\n",
    "plt.colorbar()\n",
    "for i in range(len(lr_scatter)):\n",
    "    ax.annotate(str('%0.4f' % (colors[i], )), (lr_scatter[i], dropout_scatter[i]))\n",
    "plt.show()"
   ]
  },
  {
   "cell_type": "code",
   "execution_count": null,
   "metadata": {
    "hidden": true
   },
   "outputs": [],
   "source": [
    "plt.rcParams['figure.figsize'] = [10, 10]\n",
    "best_hparams_tuple = tuner.hparamsDictToTuple(hparams[0], tuner.tuner_hparams)\n",
    "cur_res = tuner.results_list[t][best_hparams_tuple]\n",
    "x = np.arange(0, cur_res['total_updates'], cur_res['updates_per_epoch'])\n",
    "cur_best_avg = cur_res['best_avg']\n",
    "cur_best_avg_updates = cur_res['best_avg_updates']\n",
    "updates_per_epoch = cur_res['updates_per_epoch']\n",
    "# print(\"dropout: %f, fisher_multiplier: %e, lr: %e\" % (k[0], k[1], k[2]))\n",
    "print(\"cur_best_avg: %e, num_updates: %d\" % (cur_best_avg, cur_best_avg_updates))\n",
    "print(\"best val_acc: %s\" % (str(np.array(cur_res['val_acc'])[:, (cur_best_avg_updates // updates_per_epoch - 1) // tuner.eval_frequency])))\n",
    "# plt.plot(cur_res['loss_with_penalty'], color='g')\n",
    "plt.plot(cur_res['loss'], color='m')\n",
    "plt.plot(x, cur_res['val_loss'][-1], color='b')\n",
    "plt.show()\n",
    "# plt.ylim(ymin=0.9)\n",
    "plt.plot(cur_res['val_acc'][0], color='b', )\n",
    "plt.plot(cur_res['val_acc'][1], color='g')\n",
    "\n",
    "plt.show()"
   ]
  },
  {
   "cell_type": "markdown",
   "metadata": {},
   "source": [
    "### Train tasks together"
   ]
  },
  {
   "cell_type": "code",
   "execution_count": 13,
   "metadata": {},
   "outputs": [],
   "source": [
    "t = 0\n",
    "learning_rates = [(((49, 1e-1), (63, 1e-1 / 5), 1e-1 / (5 * 5)), (1e-1, ))]\n",
    "momentums = [0.9]\n",
    "regs = [0.00001]\n",
    "dropout_input_probs = [1.0]\n",
    "dropout_hidden_probs = [0.9]\n",
    "prod = list(itertools.product(regs, dropout_input_probs, dropout_hidden_probs, momentums, learning_rates))\n",
    "hparams = []\n",
    "for hparams_tuple in prod:\n",
    "    cur_dict = {}\n",
    "    cur_dict['reg'] = hparams_tuple[0]\n",
    "    cur_dict['dropout_input_prob'] = hparams_tuple[2]\n",
    "    cur_dict['dropout_hidden_prob'] = hparams_tuple[2]\n",
    "    cur_dict['momentum'] = hparams_tuple[3]\n",
    "    cur_dict['learning_rate'] = hparams_tuple[4]\n",
    "    hparams.append(cur_dict)\n",
    "    \n",
    "for i in range(0, t + 1):\n",
    "    tuner.hparams_list[i] = hparams\n",
    "    "
   ]
  },
  {
   "cell_type": "code",
   "execution_count": 14,
   "metadata": {},
   "outputs": [],
   "source": [
    "num_hparams = len(hparams)\n",
    "num_epochs = 70\n",
    "num_updates = math.ceil(tuner.task_list[t].train.images.shape[0] / BATCH_SIZE) * num_epochs\n",
    "tuner.print_every = 100"
   ]
  },
  {
   "cell_type": "code",
   "execution_count": 15,
   "metadata": {},
   "outputs": [
    {
     "name": "stdout",
     "output_type": "stream",
     "text": [
      "Training with T=None,alpha=0.0,dropout_hidden_prob=0.9,dropout_input_prob=0.9,epsilon=0.0,fisher_multiplier=0.0,learning_rate=too_long,momentum=0.9,reg=1e-05,bf_num_images=2000,mask_softmax=True,old:new=1.0,task=0\n",
      "count new class: 0\n",
      "epoch: 0, iter: 0/338, validation accuracies: [0.01111111], average train loss: nan, average train accuracy: nan\n"
     ]
    },
    {
     "name": "stderr",
     "output_type": "stream",
     "text": [
      "/mnt/a99/d0/shriramsb/tf_venv/.env/lib/python3.6/site-packages/numpy/core/fromnumeric.py:3118: RuntimeWarning: Mean of empty slice.\n",
      "  out=out, **kwargs)\n",
      "/mnt/a99/d0/shriramsb/tf_venv/.env/lib/python3.6/site-packages/numpy/core/_methods.py:85: RuntimeWarning: invalid value encountered in double_scalars\n",
      "  ret = ret.dtype.type(ret / rcount)\n"
     ]
    },
    {
     "name": "stdout",
     "output_type": "stream",
     "text": [
      "epoch: 0, iter: 100/338, loss: 3.973179, accuracy: 0.062500\n",
      "epoch: 0, iter: 200/338, loss: 3.803414, accuracy: 0.101562\n",
      "epoch: 0, iter: 300/338, loss: 3.734842, accuracy: 0.093750\n",
      "count new class: 0\n",
      "epoch: 1, iter: 0/338, validation accuracies: [0.09277778], average train loss: 4.006732, average train accuracy: 0.067654\n",
      "epoch: 1, iter: 62/338, loss: 3.670586, accuracy: 0.085938\n",
      "epoch: 1, iter: 162/338, loss: 3.465936, accuracy: 0.109375\n",
      "epoch: 1, iter: 262/338, loss: 3.498276, accuracy: 0.164062\n",
      "count new class: 0\n",
      "epoch: 2, iter: 0/338, validation accuracies: [0.18444445], average train loss: 3.464753, average train accuracy: 0.155187\n",
      "epoch: 2, iter: 24/338, loss: 2.918329, accuracy: 0.179688\n",
      "epoch: 2, iter: 124/338, loss: 2.971162, accuracy: 0.242188\n",
      "epoch: 2, iter: 224/338, loss: 2.987640, accuracy: 0.304688\n",
      "epoch: 2, iter: 324/338, loss: 2.950171, accuracy: 0.273438\n",
      "count new class: 0\n",
      "epoch: 3, iter: 0/338, validation accuracies: [0.26499999], average train loss: 3.024389, average train accuracy: 0.236594\n",
      "epoch: 3, iter: 86/338, loss: 2.750528, accuracy: 0.296875\n",
      "epoch: 3, iter: 186/338, loss: 2.582305, accuracy: 0.328125\n",
      "epoch: 3, iter: 286/338, loss: 2.767455, accuracy: 0.296875\n",
      "count new class: 0\n",
      "epoch: 4, iter: 0/338, validation accuracies: [0.28722222], average train loss: 2.687556, average train accuracy: 0.305681\n",
      "epoch: 4, iter: 48/338, loss: 2.481462, accuracy: 0.312500\n",
      "epoch: 4, iter: 148/338, loss: 2.353767, accuracy: 0.359375\n",
      "epoch: 4, iter: 248/338, loss: 2.408099, accuracy: 0.335938\n",
      "count new class: 0\n",
      "epoch: 5, iter: 0/338, validation accuracies: [0.375], average train loss: 2.375383, average train accuracy: 0.367372\n",
      "epoch: 5, iter: 10/338, loss: 2.429046, accuracy: 0.390625\n",
      "epoch: 5, iter: 110/338, loss: 2.031659, accuracy: 0.460938\n",
      "epoch: 5, iter: 210/338, loss: 2.092623, accuracy: 0.476562\n",
      "epoch: 5, iter: 310/338, loss: 2.112135, accuracy: 0.398438\n",
      "count new class: 0\n",
      "epoch: 6, iter: 0/338, validation accuracies: [0.42277778], average train loss: 2.160910, average train accuracy: 0.417784\n",
      "epoch: 6, iter: 72/338, loss: 1.952878, accuracy: 0.468750\n",
      "epoch: 6, iter: 172/338, loss: 1.927047, accuracy: 0.460938\n",
      "epoch: 6, iter: 272/338, loss: 2.090720, accuracy: 0.445312\n",
      "count new class: 0\n",
      "epoch: 7, iter: 0/338, validation accuracies: [0.41388888], average train loss: 1.987163, average train accuracy: 0.458256\n",
      "epoch: 7, iter: 34/338, loss: 2.005359, accuracy: 0.484375\n",
      "epoch: 7, iter: 134/338, loss: 1.903830, accuracy: 0.460938\n",
      "epoch: 7, iter: 234/338, loss: 1.615638, accuracy: 0.593750\n",
      "epoch: 7, iter: 334/338, loss: 1.853656, accuracy: 0.492188\n",
      "count new class: 0\n",
      "epoch: 8, iter: 0/338, validation accuracies: [0.42722223], average train loss: 1.832256, average train accuracy: 0.491679\n",
      "epoch: 8, iter: 96/338, loss: 1.729728, accuracy: 0.531250\n",
      "epoch: 8, iter: 196/338, loss: 1.722788, accuracy: 0.507812\n",
      "epoch: 8, iter: 296/338, loss: 1.734757, accuracy: 0.523438\n",
      "count new class: 0\n",
      "epoch: 9, iter: 0/338, validation accuracies: [0.47777777], average train loss: 1.718416, average train accuracy: 0.517613\n",
      "epoch: 9, iter: 58/338, loss: 1.736069, accuracy: 0.539062\n",
      "epoch: 9, iter: 158/338, loss: 1.641317, accuracy: 0.523438\n",
      "epoch: 9, iter: 258/338, loss: 1.507521, accuracy: 0.562500\n",
      "count new class: 0\n",
      "epoch: 10, iter: 0/338, validation accuracies: [0.49777778], average train loss: 1.630441, average train accuracy: 0.539663\n",
      "epoch: 10, iter: 20/338, loss: 1.594733, accuracy: 0.601562\n",
      "epoch: 10, iter: 120/338, loss: 1.579188, accuracy: 0.546875\n",
      "epoch: 10, iter: 220/338, loss: 1.416105, accuracy: 0.531250\n",
      "epoch: 10, iter: 320/338, loss: 1.302094, accuracy: 0.609375\n",
      "count new class: 0\n",
      "epoch: 11, iter: 0/338, validation accuracies: [0.48611111], average train loss: 1.531890, average train accuracy: 0.564395\n",
      "epoch: 11, iter: 82/338, loss: 1.577225, accuracy: 0.523438\n",
      "epoch: 11, iter: 182/338, loss: 1.479704, accuracy: 0.539062\n",
      "epoch: 11, iter: 282/338, loss: 1.212637, accuracy: 0.617188\n",
      "count new class: 0\n",
      "epoch: 12, iter: 0/338, validation accuracies: [0.50666667], average train loss: 1.469669, average train accuracy: 0.580090\n",
      "epoch: 12, iter: 44/338, loss: 1.403524, accuracy: 0.609375\n",
      "epoch: 12, iter: 144/338, loss: 1.338276, accuracy: 0.546875\n",
      "epoch: 12, iter: 244/338, loss: 1.130181, accuracy: 0.640625\n",
      "count new class: 0\n",
      "epoch: 13, iter: 0/338, validation accuracies: [0.51833334], average train loss: 1.398156, average train accuracy: 0.598881\n",
      "epoch: 13, iter: 6/338, loss: 1.312449, accuracy: 0.609375\n",
      "epoch: 13, iter: 106/338, loss: 1.553720, accuracy: 0.531250\n",
      "epoch: 13, iter: 206/338, loss: 1.603910, accuracy: 0.531250\n",
      "epoch: 13, iter: 306/338, loss: 1.008260, accuracy: 0.742188\n",
      "count new class: 0\n",
      "epoch: 14, iter: 0/338, validation accuracies: [0.52111112], average train loss: 1.338877, average train accuracy: 0.612079\n",
      "epoch: 14, iter: 68/338, loss: 1.449080, accuracy: 0.617188\n",
      "epoch: 14, iter: 168/338, loss: 0.907075, accuracy: 0.726562\n",
      "epoch: 14, iter: 268/338, loss: 1.483617, accuracy: 0.546875\n",
      "count new class: 0\n",
      "epoch: 15, iter: 0/338, validation accuracies: [0.53666666], average train loss: 1.287699, average train accuracy: 0.625393\n",
      "epoch: 15, iter: 30/338, loss: 1.425898, accuracy: 0.625000\n",
      "epoch: 15, iter: 130/338, loss: 1.059775, accuracy: 0.664062\n",
      "epoch: 15, iter: 230/338, loss: 1.370230, accuracy: 0.617188\n",
      "epoch: 15, iter: 330/338, loss: 1.235983, accuracy: 0.664062\n",
      "count new class: 0\n",
      "epoch: 16, iter: 0/338, validation accuracies: [0.53277777], average train loss: 1.246724, average train accuracy: 0.640902\n",
      "epoch: 16, iter: 92/338, loss: 1.159483, accuracy: 0.625000\n",
      "epoch: 16, iter: 192/338, loss: 1.226809, accuracy: 0.664062\n",
      "epoch: 16, iter: 292/338, loss: 0.951877, accuracy: 0.718750\n",
      "count new class: 0\n",
      "epoch: 17, iter: 0/338, validation accuracies: [0.55555555], average train loss: 1.201127, average train accuracy: 0.648206\n",
      "epoch: 17, iter: 54/338, loss: 1.070343, accuracy: 0.671875\n",
      "epoch: 17, iter: 154/338, loss: 1.097503, accuracy: 0.710938\n",
      "epoch: 17, iter: 254/338, loss: 1.263095, accuracy: 0.656250\n",
      "count new class: 0\n",
      "epoch: 18, iter: 0/338, validation accuracies: [0.55222222], average train loss: 1.151316, average train accuracy: 0.657591\n",
      "epoch: 18, iter: 16/338, loss: 1.156469, accuracy: 0.656250\n",
      "epoch: 18, iter: 116/338, loss: 1.150050, accuracy: 0.687500\n",
      "epoch: 18, iter: 216/338, loss: 1.107674, accuracy: 0.671875\n",
      "epoch: 18, iter: 316/338, loss: 1.029946, accuracy: 0.718750\n",
      "count new class: 0\n",
      "epoch: 19, iter: 0/338, validation accuracies: [0.53944444], average train loss: 1.122978, average train accuracy: 0.669610\n",
      "epoch: 19, iter: 78/338, loss: 0.962211, accuracy: 0.726562\n",
      "epoch: 19, iter: 178/338, loss: 1.011593, accuracy: 0.710938\n",
      "epoch: 19, iter: 278/338, loss: 0.976503, accuracy: 0.765625\n",
      "count new class: 0\n",
      "epoch: 20, iter: 0/338, validation accuracies: [0.58000001], average train loss: 1.072396, average train accuracy: 0.681005\n",
      "epoch: 20, iter: 40/338, loss: 0.887403, accuracy: 0.703125\n",
      "epoch: 20, iter: 140/338, loss: 1.091890, accuracy: 0.671875\n",
      "epoch: 20, iter: 240/338, loss: 1.027776, accuracy: 0.687500\n",
      "count new class: 0\n",
      "epoch: 21, iter: 0/338, validation accuracies: [0.55888888], average train loss: 1.049313, average train accuracy: 0.687616\n",
      "epoch: 21, iter: 2/338, loss: 1.071030, accuracy: 0.640625\n",
      "epoch: 21, iter: 102/338, loss: 0.911113, accuracy: 0.679688\n",
      "epoch: 21, iter: 202/338, loss: 1.063248, accuracy: 0.703125\n",
      "epoch: 21, iter: 302/338, loss: 0.887827, accuracy: 0.726562\n",
      "count new class: 0\n",
      "epoch: 22, iter: 0/338, validation accuracies: [0.58500001], average train loss: 1.013914, average train accuracy: 0.697138\n",
      "epoch: 22, iter: 64/338, loss: 0.905956, accuracy: 0.757812\n",
      "epoch: 22, iter: 164/338, loss: 1.074830, accuracy: 0.656250\n",
      "epoch: 22, iter: 264/338, loss: 1.077789, accuracy: 0.679688\n",
      "count new class: 0\n",
      "epoch: 23, iter: 0/338, validation accuracies: [0.56444445], average train loss: 0.988876, average train accuracy: 0.703888\n",
      "epoch: 23, iter: 26/338, loss: 0.990666, accuracy: 0.687500\n",
      "epoch: 23, iter: 126/338, loss: 0.849381, accuracy: 0.726562\n",
      "epoch: 23, iter: 226/338, loss: 1.064839, accuracy: 0.679688\n",
      "epoch: 23, iter: 326/338, loss: 1.008922, accuracy: 0.671875\n",
      "count new class: 0\n",
      "epoch: 24, iter: 0/338, validation accuracies: [0.55999999], average train loss: 0.958888, average train accuracy: 0.713480\n"
     ]
    },
    {
     "name": "stdout",
     "output_type": "stream",
     "text": [
      "epoch: 24, iter: 88/338, loss: 1.132950, accuracy: 0.656250\n",
      "epoch: 24, iter: 188/338, loss: 1.128352, accuracy: 0.648438\n",
      "epoch: 24, iter: 288/338, loss: 0.822551, accuracy: 0.789062\n",
      "count new class: 0\n",
      "epoch: 25, iter: 0/338, validation accuracies: [0.59611112], average train loss: 0.936986, average train accuracy: 0.718496\n",
      "epoch: 25, iter: 50/338, loss: 0.885150, accuracy: 0.695312\n",
      "epoch: 25, iter: 150/338, loss: 1.040605, accuracy: 0.703125\n",
      "epoch: 25, iter: 250/338, loss: 0.865655, accuracy: 0.757812\n",
      "count new class: 0\n",
      "epoch: 26, iter: 0/338, validation accuracies: [0.57666666], average train loss: 0.905767, average train accuracy: 0.726193\n",
      "epoch: 26, iter: 12/338, loss: 1.021281, accuracy: 0.671875\n",
      "epoch: 26, iter: 112/338, loss: 0.908286, accuracy: 0.726562\n",
      "epoch: 26, iter: 212/338, loss: 0.820326, accuracy: 0.734375\n",
      "epoch: 26, iter: 312/338, loss: 0.848009, accuracy: 0.710938\n",
      "count new class: 0\n",
      "epoch: 27, iter: 0/338, validation accuracies: [0.59666668], average train loss: 0.885172, average train accuracy: 0.731185\n",
      "epoch: 27, iter: 74/338, loss: 0.925943, accuracy: 0.757812\n",
      "epoch: 27, iter: 174/338, loss: 0.730829, accuracy: 0.742188\n",
      "epoch: 27, iter: 274/338, loss: 0.902179, accuracy: 0.726562\n",
      "count new class: 0\n",
      "epoch: 28, iter: 0/338, validation accuracies: [0.59444443], average train loss: 0.866534, average train accuracy: 0.737056\n",
      "epoch: 28, iter: 36/338, loss: 0.826805, accuracy: 0.726562\n",
      "epoch: 28, iter: 136/338, loss: 0.827689, accuracy: 0.742188\n",
      "epoch: 28, iter: 236/338, loss: 0.954784, accuracy: 0.750000\n",
      "epoch: 28, iter: 336/338, loss: 0.506068, accuracy: 0.843750\n",
      "count new class: 0\n",
      "epoch: 29, iter: 0/338, validation accuracies: [0.59166668], average train loss: 0.841040, average train accuracy: 0.744083\n",
      "epoch: 29, iter: 98/338, loss: 0.781172, accuracy: 0.726562\n",
      "epoch: 29, iter: 198/338, loss: 0.837944, accuracy: 0.781250\n",
      "epoch: 29, iter: 298/338, loss: 0.681196, accuracy: 0.804688\n",
      "count new class: 0\n",
      "epoch: 30, iter: 0/338, validation accuracies: [0.58722222], average train loss: 0.826459, average train accuracy: 0.748798\n",
      "epoch: 30, iter: 60/338, loss: 0.680456, accuracy: 0.796875\n",
      "epoch: 30, iter: 160/338, loss: 0.805701, accuracy: 0.710938\n",
      "epoch: 30, iter: 260/338, loss: 0.624755, accuracy: 0.789062\n",
      "count new class: 0\n",
      "epoch: 31, iter: 0/338, validation accuracies: [0.60555555], average train loss: 0.801080, average train accuracy: 0.756426\n",
      "epoch: 31, iter: 22/338, loss: 0.930073, accuracy: 0.679688\n",
      "epoch: 31, iter: 122/338, loss: 0.844104, accuracy: 0.734375\n",
      "epoch: 31, iter: 222/338, loss: 0.869156, accuracy: 0.726562\n",
      "epoch: 31, iter: 322/338, loss: 0.749438, accuracy: 0.742188\n",
      "count new class: 0\n",
      "epoch: 32, iter: 0/338, validation accuracies: [0.61500001], average train loss: 0.785592, average train accuracy: 0.763036\n",
      "epoch: 32, iter: 84/338, loss: 0.731162, accuracy: 0.773438\n",
      "epoch: 32, iter: 184/338, loss: 0.936708, accuracy: 0.648438\n",
      "epoch: 32, iter: 284/338, loss: 0.575195, accuracy: 0.828125\n",
      "count new class: 0\n",
      "epoch: 33, iter: 0/338, validation accuracies: [0.59333334], average train loss: 0.766321, average train accuracy: 0.765232\n",
      "epoch: 33, iter: 46/338, loss: 0.768614, accuracy: 0.757812\n",
      "epoch: 33, iter: 146/338, loss: 0.701240, accuracy: 0.796875\n",
      "epoch: 33, iter: 246/338, loss: 0.838762, accuracy: 0.750000\n",
      "count new class: 0\n",
      "epoch: 34, iter: 0/338, validation accuracies: [0.60055557], average train loss: 0.753607, average train accuracy: 0.768283\n",
      "epoch: 34, iter: 8/338, loss: 0.678639, accuracy: 0.812500\n",
      "epoch: 34, iter: 108/338, loss: 0.951851, accuracy: 0.703125\n",
      "epoch: 34, iter: 208/338, loss: 0.759747, accuracy: 0.742188\n",
      "epoch: 34, iter: 308/338, loss: 0.768833, accuracy: 0.765625\n",
      "count new class: 0\n",
      "epoch: 35, iter: 0/338, validation accuracies: [0.60222223], average train loss: 0.732829, average train accuracy: 0.775032\n",
      "epoch: 35, iter: 70/338, loss: 0.578417, accuracy: 0.789062\n",
      "epoch: 35, iter: 170/338, loss: 0.688357, accuracy: 0.757812\n",
      "epoch: 35, iter: 270/338, loss: 0.800293, accuracy: 0.773438\n",
      "count new class: 0\n",
      "epoch: 36, iter: 0/338, validation accuracies: [0.60833334], average train loss: 0.732556, average train accuracy: 0.774871\n",
      "epoch: 36, iter: 32/338, loss: 0.756532, accuracy: 0.781250\n",
      "epoch: 36, iter: 132/338, loss: 0.812595, accuracy: 0.742188\n",
      "epoch: 36, iter: 232/338, loss: 0.657115, accuracy: 0.796875\n",
      "epoch: 36, iter: 332/338, loss: 0.704042, accuracy: 0.757812\n",
      "count new class: 0\n",
      "epoch: 37, iter: 0/338, validation accuracies: [0.61166666], average train loss: 0.702984, average train accuracy: 0.782429\n",
      "epoch: 37, iter: 94/338, loss: 0.682809, accuracy: 0.804688\n",
      "epoch: 37, iter: 194/338, loss: 0.823755, accuracy: 0.757812\n",
      "epoch: 37, iter: 294/338, loss: 0.723519, accuracy: 0.781250\n",
      "count new class: 0\n",
      "epoch: 38, iter: 0/338, validation accuracies: [0.59999999], average train loss: 0.694715, average train accuracy: 0.783561\n",
      "epoch: 38, iter: 56/338, loss: 0.703194, accuracy: 0.789062\n",
      "epoch: 38, iter: 156/338, loss: 0.657803, accuracy: 0.796875\n",
      "epoch: 38, iter: 256/338, loss: 0.616417, accuracy: 0.812500\n",
      "count new class: 0\n",
      "epoch: 39, iter: 0/338, validation accuracies: [0.62000001], average train loss: 0.678984, average train accuracy: 0.788785\n",
      "epoch: 39, iter: 18/338, loss: 0.715270, accuracy: 0.835938\n",
      "epoch: 39, iter: 118/338, loss: 0.675322, accuracy: 0.796875\n",
      "epoch: 39, iter: 218/338, loss: 0.404202, accuracy: 0.867188\n",
      "epoch: 39, iter: 318/338, loss: 0.452694, accuracy: 0.835938\n",
      "count new class: 0\n",
      "epoch: 40, iter: 0/338, validation accuracies: [0.62666667], average train loss: 0.657591, average train accuracy: 0.794425\n",
      "epoch: 40, iter: 80/338, loss: 0.520160, accuracy: 0.843750\n",
      "epoch: 40, iter: 180/338, loss: 0.666530, accuracy: 0.781250\n",
      "epoch: 40, iter: 280/338, loss: 0.619989, accuracy: 0.796875\n",
      "count new class: 0\n",
      "epoch: 41, iter: 0/338, validation accuracies: [0.60999999], average train loss: 0.650266, average train accuracy: 0.798470\n",
      "epoch: 41, iter: 42/338, loss: 0.594600, accuracy: 0.828125\n",
      "epoch: 41, iter: 142/338, loss: 0.503446, accuracy: 0.890625\n",
      "epoch: 41, iter: 242/338, loss: 0.534498, accuracy: 0.835938\n",
      "count new class: 0\n",
      "epoch: 42, iter: 0/338, validation accuracies: [0.61277777], average train loss: 0.640601, average train accuracy: 0.798054\n",
      "epoch: 42, iter: 4/338, loss: 0.596525, accuracy: 0.773438\n",
      "epoch: 42, iter: 104/338, loss: 0.547126, accuracy: 0.851562\n",
      "epoch: 42, iter: 204/338, loss: 0.628669, accuracy: 0.812500\n",
      "epoch: 42, iter: 304/338, loss: 0.552959, accuracy: 0.835938\n",
      "count new class: 0\n",
      "epoch: 43, iter: 0/338, validation accuracies: [0.61666668], average train loss: 0.629008, average train accuracy: 0.806028\n",
      "epoch: 43, iter: 66/338, loss: 0.501779, accuracy: 0.804688\n",
      "epoch: 43, iter: 166/338, loss: 0.500786, accuracy: 0.828125\n",
      "epoch: 43, iter: 266/338, loss: 0.630274, accuracy: 0.796875\n",
      "count new class: 0\n",
      "epoch: 44, iter: 0/338, validation accuracies: [0.61777777], average train loss: 0.599734, average train accuracy: 0.811437\n",
      "epoch: 44, iter: 28/338, loss: 0.745297, accuracy: 0.757812\n",
      "epoch: 44, iter: 128/338, loss: 0.643167, accuracy: 0.796875\n",
      "epoch: 44, iter: 228/338, loss: 0.656863, accuracy: 0.789062\n",
      "epoch: 44, iter: 328/338, loss: 0.584575, accuracy: 0.820312\n",
      "count new class: 0\n",
      "epoch: 45, iter: 0/338, validation accuracies: [0.63166667], average train loss: 0.594866, average train accuracy: 0.812685\n",
      "epoch: 45, iter: 90/338, loss: 0.625747, accuracy: 0.804688\n",
      "epoch: 45, iter: 190/338, loss: 0.600334, accuracy: 0.812500\n",
      "epoch: 45, iter: 290/338, loss: 0.662898, accuracy: 0.828125\n",
      "count new class: 0\n",
      "epoch: 46, iter: 0/338, validation accuracies: [0.6238889], average train loss: 0.585662, average train accuracy: 0.816337\n",
      "epoch: 46, iter: 52/338, loss: 0.726478, accuracy: 0.781250\n",
      "epoch: 46, iter: 152/338, loss: 0.520221, accuracy: 0.851562\n",
      "epoch: 46, iter: 252/338, loss: 0.704056, accuracy: 0.781250\n",
      "count new class: 0\n",
      "epoch: 47, iter: 0/338, validation accuracies: [0.61611111], average train loss: 0.568910, average train accuracy: 0.824797\n",
      "epoch: 47, iter: 14/338, loss: 0.478305, accuracy: 0.843750\n",
      "epoch: 47, iter: 114/338, loss: 0.744929, accuracy: 0.804688\n",
      "epoch: 47, iter: 214/338, loss: 0.523082, accuracy: 0.796875\n",
      "epoch: 47, iter: 314/338, loss: 0.460510, accuracy: 0.875000\n"
     ]
    },
    {
     "name": "stdout",
     "output_type": "stream",
     "text": [
      "count new class: 0\n",
      "epoch: 48, iter: 0/338, validation accuracies: [0.61944443], average train loss: 0.566209, average train accuracy: 0.822693\n",
      "epoch: 48, iter: 76/338, loss: 0.635339, accuracy: 0.820312\n",
      "epoch: 48, iter: 176/338, loss: 0.513040, accuracy: 0.835938\n",
      "epoch: 48, iter: 276/338, loss: 0.640295, accuracy: 0.773438\n",
      "count new class: 0\n",
      "epoch: 49, iter: 0/338, validation accuracies: [0.6], average train loss: 0.560627, average train accuracy: 0.822924\n",
      "epoch: 49, iter: 38/338, loss: 0.468513, accuracy: 0.875000\n",
      "epoch: 49, iter: 138/338, loss: 0.428258, accuracy: 0.851562\n",
      "epoch: 49, iter: 238/338, loss: 0.351473, accuracy: 0.914062\n",
      "count new class: 0\n",
      "epoch: 50, iter: 0/338, validation accuracies: [0.66611111], average train loss: 0.420837, average train accuracy: 0.869499\n",
      "epoch: 50, iter: 0/338, loss: 0.305917, accuracy: 0.906250\n",
      "epoch: 50, iter: 100/338, loss: 0.361732, accuracy: 0.875000\n",
      "epoch: 50, iter: 200/338, loss: 0.356939, accuracy: 0.914062\n",
      "epoch: 50, iter: 300/338, loss: 0.498496, accuracy: 0.859375\n",
      "count new class: 0\n",
      "epoch: 51, iter: 0/338, validation accuracies: [0.66611111], average train loss: 0.360307, average train accuracy: 0.890764\n",
      "epoch: 51, iter: 62/338, loss: 0.270521, accuracy: 0.945312\n",
      "epoch: 51, iter: 162/338, loss: 0.190947, accuracy: 0.937500\n",
      "epoch: 51, iter: 262/338, loss: 0.443171, accuracy: 0.851562\n",
      "count new class: 0\n",
      "epoch: 52, iter: 0/338, validation accuracies: [0.67055557], average train loss: 0.337932, average train accuracy: 0.896427\n",
      "epoch: 52, iter: 24/338, loss: 0.242161, accuracy: 0.953125\n",
      "epoch: 52, iter: 124/338, loss: 0.336445, accuracy: 0.882812\n",
      "epoch: 52, iter: 224/338, loss: 0.323472, accuracy: 0.906250\n",
      "epoch: 52, iter: 324/338, loss: 0.290002, accuracy: 0.921875\n",
      "count new class: 0\n",
      "epoch: 53, iter: 0/338, validation accuracies: [0.66499999], average train loss: 0.321643, average train accuracy: 0.900864\n",
      "epoch: 53, iter: 86/338, loss: 0.306242, accuracy: 0.921875\n",
      "epoch: 53, iter: 186/338, loss: 0.341091, accuracy: 0.882812\n",
      "epoch: 53, iter: 286/338, loss: 0.425025, accuracy: 0.875000\n",
      "count new class: 0\n",
      "epoch: 54, iter: 0/338, validation accuracies: [0.66555556], average train loss: 0.319584, average train accuracy: 0.900379\n",
      "epoch: 54, iter: 48/338, loss: 0.491660, accuracy: 0.835938\n",
      "epoch: 54, iter: 148/338, loss: 0.183566, accuracy: 0.953125\n",
      "epoch: 54, iter: 248/338, loss: 0.228061, accuracy: 0.937500\n",
      "count new class: 0\n",
      "epoch: 55, iter: 0/338, validation accuracies: [0.66833332], average train loss: 0.301185, average train accuracy: 0.907752\n",
      "epoch: 55, iter: 10/338, loss: 0.315751, accuracy: 0.914062\n",
      "epoch: 55, iter: 110/338, loss: 0.209945, accuracy: 0.921875\n",
      "epoch: 55, iter: 210/338, loss: 0.374931, accuracy: 0.898438\n",
      "epoch: 55, iter: 310/338, loss: 0.240529, accuracy: 0.921875\n",
      "count new class: 0\n",
      "epoch: 56, iter: 0/338, validation accuracies: [0.66277778], average train loss: 0.294814, average train accuracy: 0.908215\n",
      "epoch: 56, iter: 72/338, loss: 0.260976, accuracy: 0.921875\n",
      "epoch: 56, iter: 172/338, loss: 0.265880, accuracy: 0.937500\n",
      "epoch: 56, iter: 272/338, loss: 0.454422, accuracy: 0.890625\n",
      "count new class: 0\n",
      "epoch: 57, iter: 0/338, validation accuracies: [0.66277778], average train loss: 0.285749, average train accuracy: 0.910411\n",
      "epoch: 57, iter: 34/338, loss: 0.217864, accuracy: 0.921875\n",
      "epoch: 57, iter: 134/338, loss: 0.365365, accuracy: 0.890625\n",
      "epoch: 57, iter: 234/338, loss: 0.182100, accuracy: 0.953125\n",
      "epoch: 57, iter: 334/338, loss: 0.158863, accuracy: 0.960938\n",
      "count new class: 0\n",
      "epoch: 58, iter: 0/338, validation accuracies: [0.67388889], average train loss: 0.281159, average train accuracy: 0.913022\n",
      "epoch: 58, iter: 96/338, loss: 0.260343, accuracy: 0.929688\n",
      "epoch: 58, iter: 196/338, loss: 0.278658, accuracy: 0.906250\n",
      "epoch: 58, iter: 296/338, loss: 0.185029, accuracy: 0.968750\n",
      "count new class: 0\n",
      "epoch: 59, iter: 0/338, validation accuracies: [0.66333334], average train loss: 0.277112, average train accuracy: 0.914409\n",
      "epoch: 59, iter: 58/338, loss: 0.339166, accuracy: 0.875000\n",
      "epoch: 59, iter: 158/338, loss: 0.298222, accuracy: 0.914062\n",
      "epoch: 59, iter: 258/338, loss: 0.374669, accuracy: 0.882812\n",
      "count new class: 0\n",
      "epoch: 60, iter: 0/338, validation accuracies: [0.66388888], average train loss: 0.269134, average train accuracy: 0.915103\n",
      "epoch: 60, iter: 20/338, loss: 0.210184, accuracy: 0.914062\n",
      "epoch: 60, iter: 120/338, loss: 0.347626, accuracy: 0.890625\n",
      "epoch: 60, iter: 220/338, loss: 0.237653, accuracy: 0.929688\n",
      "epoch: 60, iter: 320/338, loss: 0.292981, accuracy: 0.890625\n",
      "count new class: 0\n",
      "epoch: 61, iter: 0/338, validation accuracies: [0.66277778], average train loss: 0.264924, average train accuracy: 0.917391\n",
      "epoch: 61, iter: 82/338, loss: 0.224367, accuracy: 0.937500\n",
      "epoch: 61, iter: 182/338, loss: 0.369352, accuracy: 0.890625\n",
      "epoch: 61, iter: 282/338, loss: 0.256721, accuracy: 0.898438\n",
      "count new class: 0\n",
      "epoch: 62, iter: 0/338, validation accuracies: [0.66166666], average train loss: 0.260808, average train accuracy: 0.918200\n",
      "epoch: 62, iter: 44/338, loss: 0.294928, accuracy: 0.898438\n",
      "epoch: 62, iter: 144/338, loss: 0.334631, accuracy: 0.898438\n",
      "epoch: 62, iter: 244/338, loss: 0.171267, accuracy: 0.937500\n",
      "count new class: 0\n",
      "epoch: 63, iter: 0/338, validation accuracies: [0.66388888], average train loss: 0.255861, average train accuracy: 0.920234\n",
      "epoch: 63, iter: 6/338, loss: 0.237595, accuracy: 0.921875\n",
      "epoch: 63, iter: 106/338, loss: 0.219160, accuracy: 0.914062\n",
      "epoch: 63, iter: 206/338, loss: 0.310528, accuracy: 0.914062\n",
      "epoch: 63, iter: 306/338, loss: 0.154735, accuracy: 0.953125\n",
      "count new class: 0\n",
      "epoch: 64, iter: 0/338, validation accuracies: [0.66944443], average train loss: 0.240793, average train accuracy: 0.926405\n",
      "epoch: 64, iter: 68/338, loss: 0.254784, accuracy: 0.914062\n",
      "epoch: 64, iter: 168/338, loss: 0.262368, accuracy: 0.921875\n",
      "epoch: 64, iter: 268/338, loss: 0.223513, accuracy: 0.929688\n",
      "count new class: 0\n",
      "epoch: 65, iter: 0/338, validation accuracies: [0.66777778], average train loss: 0.234819, average train accuracy: 0.927815\n",
      "epoch: 65, iter: 30/338, loss: 0.231074, accuracy: 0.945312\n",
      "epoch: 65, iter: 130/338, loss: 0.217020, accuracy: 0.937500\n",
      "epoch: 65, iter: 230/338, loss: 0.266213, accuracy: 0.890625\n",
      "epoch: 65, iter: 330/338, loss: 0.212737, accuracy: 0.929688\n",
      "count new class: 0\n",
      "epoch: 66, iter: 0/338, validation accuracies: [0.66944444], average train loss: 0.228609, average train accuracy: 0.930150\n",
      "epoch: 66, iter: 92/338, loss: 0.265426, accuracy: 0.906250\n",
      "epoch: 66, iter: 192/338, loss: 0.218227, accuracy: 0.929688\n",
      "epoch: 66, iter: 292/338, loss: 0.286786, accuracy: 0.929688\n",
      "count new class: 0\n",
      "epoch: 67, iter: 0/338, validation accuracies: [0.66611111], average train loss: 0.224159, average train accuracy: 0.932369\n",
      "epoch: 67, iter: 54/338, loss: 0.180671, accuracy: 0.937500\n",
      "epoch: 67, iter: 154/338, loss: 0.268298, accuracy: 0.921875\n",
      "epoch: 67, iter: 254/338, loss: 0.222443, accuracy: 0.945312\n",
      "count new class: 0\n",
      "epoch: 68, iter: 0/338, validation accuracies: [0.67000001], average train loss: 0.223538, average train accuracy: 0.931745\n",
      "epoch: 68, iter: 16/338, loss: 0.167891, accuracy: 0.945312\n",
      "epoch: 68, iter: 116/338, loss: 0.192199, accuracy: 0.953125\n",
      "epoch: 68, iter: 216/338, loss: 0.235458, accuracy: 0.921875\n",
      "epoch: 68, iter: 316/338, loss: 0.169637, accuracy: 0.945312\n",
      "count new class: 0\n",
      "epoch: 69, iter: 0/338, validation accuracies: [0.66777777], average train loss: 0.222547, average train accuracy: 0.932923\n",
      "epoch: 69, iter: 78/338, loss: 0.293502, accuracy: 0.898438\n",
      "epoch: 69, iter: 178/338, loss: 0.255120, accuracy: 0.914062\n",
      "epoch: 69, iter: 278/338, loss: 0.244032, accuracy: 0.921875\n",
      "count new class: 0\n",
      "epoch: 70, iter: 0/338, validation accuracies: [0.67111112], average train loss: 0.215873, average train accuracy: 0.934403\n",
      "epochs: 70.000000, final train loss: 0.218073, validation accuracies: [0.67111112]\n",
      "best epochs: 58.000000, best_avg: 0.673889, validation accuracies: [0.66277778]\n",
      "saving model dropout_hidden_prob=0.9,dropout_input_prob=0.9,learning_rate=too_long,momentum=0.9,reg=1e-05,bf_num_images=2000,mask_softmax=True,old:new=1.0,task=0 at time step 23660\n",
      "calculating penultimate output...\n",
      "time taken: %f 3.9225914478302\n",
      "saving penultimate output...\n"
     ]
    }
   ],
   "source": [
    "best_avg, best_hparams_index = tuner.tuneTasksInRange(0, t, BATCH_SIZE, num_hparams, \n",
    "                                                        num_updates=num_updates, verbose=True, \n",
    "                                                        random_crop_flip=True, \n",
    "                                                        equal_weights=True)"
   ]
  },
  {
   "cell_type": "code",
   "execution_count": 17,
   "metadata": {},
   "outputs": [
    {
     "data": {
      "text/plain": [
       "[0.6721111110581292]"
      ]
     },
     "execution_count": 17,
     "metadata": {},
     "output_type": "execute_result"
    }
   ],
   "source": [
    "tuner.test(t, BATCH_SIZE, restore_model=False)"
   ]
  },
  {
   "cell_type": "code",
   "execution_count": 18,
   "metadata": {},
   "outputs": [
    {
     "name": "stdout",
     "output_type": "stream",
     "text": [
      "cur_best_avg: 6.738889e-01, num_updates: 58\n",
      "best val_acc: [0.66277778]\n"
     ]
    },
    {
     "data": {
      "image/png": "[encoded data removed]",
      "text/plain": [
       "<Figure size 720x720 with 1 Axes>"
      ]
     },
     "metadata": {
      "needs_background": "light"
     },
     "output_type": "display_data"
    }
   ],
   "source": [
    "plt.rcParams['figure.figsize'] = [10, 10]\n",
    "best_hparams_tuple = tuner.hparamsDictToTuple(hparams[0], tuner.tuner_hparams)\n",
    "cur_res = tuner.results_list[t][best_hparams_tuple][0]\n",
    "x = np.arange(0, cur_res['total_updates'], cur_res['updates_per_epoch'])\n",
    "cur_best_avg = cur_res['best_avg']\n",
    "cur_best_epoch = cur_res['best_epoch']\n",
    "updates_per_epoch = cur_res['updates_per_epoch']\n",
    "# print(\"dropout: %f, fisher_multiplier: %e, lr: %e\" % (k[0], k[1], k[2]))\n",
    "print(\"cur_best_avg: %e, num_updates: %d\" % (cur_best_avg, cur_best_epoch))\n",
    "print(\"best val_acc: %s\" % (str(np.array(cur_res['val_acc'])[:, (cur_best_epoch - 1) // tuner.eval_frequency])))\n",
    "# plt.plot(cur_res['loss_with_penalty'], color='g')\n",
    "# plt.plot(cur_res['loss'], color='m')\n",
    "# plt.plot(x, cur_res['val_loss'][-1], color='b')\n",
    "# plt.show()\n",
    "# plt.ylim(ymin=0.9)\n",
    "# plt.plot(cur_res['val_acc'][-1], color='b', )\n",
    "plt.plot(cur_res['val_acc'][0], color='g', )\n",
    "# plt.plot(cur_res['val_acc'][1], color='g')\n",
    "\n",
    "plt.show()"
   ]
  },
  {
   "cell_type": "code",
   "execution_count": null,
   "metadata": {},
   "outputs": [],
   "source": [
    "t = 2\n",
    "learning_rates = [(((49, 1e-1), (63, 1e-1 / 5), 1e-1 / (5 * 5)), (1e-1, ))]\n",
    "momentums = [0.9]\n",
    "regs = [0.00001]\n",
    "dropout_input_probs = [1.0]\n",
    "dropout_hidden_probs = [0.9]\n",
    "prod = list(itertools.product(regs, dropout_input_probs, dropout_hidden_probs, momentums, learning_rates))\n",
    "hparams = []\n",
    "for hparams_tuple in prod:\n",
    "    cur_dict = {}\n",
    "    cur_dict['reg'] = hparams_tuple[0]\n",
    "    cur_dict['dropout_input_prob'] = hparams_tuple[2]\n",
    "    cur_dict['dropout_hidden_prob'] = hparams_tuple[2]\n",
    "    cur_dict['momentum'] = hparams_tuple[3]\n",
    "    cur_dict['learning_rate'] = hparams_tuple[4]\n",
    "    hparams.append(cur_dict)\n",
    "    \n",
    "for i in range(1, t + 1):\n",
    "    tuner.hparams_list[i] = hparams"
   ]
  },
  {
   "cell_type": "code",
   "execution_count": null,
   "metadata": {},
   "outputs": [],
   "source": [
    "num_hparams = len(hparams)\n",
    "num_epochs = 70\n",
    "num_updates = math.ceil(tuner.task_list[t].train.images.shape[0] / BATCH_SIZE) * num_epochs\n",
    "tuner.print_every = 100"
   ]
  },
  {
   "cell_type": "code",
   "execution_count": null,
   "metadata": {},
   "outputs": [],
   "source": [
    "best_avg, best_hparams_index, test_acc = tuner.tuneTasksInRange(1, t, BATCH_SIZE, num_hparams, \n",
    "                                                        num_updates=num_updates, verbose=True, \n",
    "                                                        random_crop_flip=True, \n",
    "                                                        equal_weights=True, \n",
    "                                                        eval_test_dataset=True)"
   ]
  },
  {
   "cell_type": "code",
   "execution_count": null,
   "metadata": {},
   "outputs": [],
   "source": [
    "plt.rcParams['figure.figsize'] = [10, 10]\n",
    "best_hparams_tuple = tuner.hparamsDictToTuple(hparams[0], tuner.tuner_hparams)\n",
    "cur_res = tuner.results_list[t][best_hparams_tuple][0]\n",
    "x = np.arange(0, cur_res['total_updates'], cur_res['updates_per_epoch'])\n",
    "cur_best_avg = cur_res['best_avg']\n",
    "cur_best_epoch = cur_res['best_epoch']\n",
    "updates_per_epoch = cur_res['updates_per_epoch']\n",
    "# print(\"dropout: %f, fisher_multiplier: %e, lr: %e\" % (k[0], k[1], k[2]))\n",
    "print(\"cur_best_avg: %e, num_updates: %d\" % (cur_best_avg, cur_best_epoch))\n",
    "print(\"best val_acc: %s\" % (str(np.array(cur_res['val_acc'])[:, (cur_best_epoch - 1) // tuner.eval_frequency])))\n",
    "# plt.plot(cur_res['loss_with_penalty'], color='g')\n",
    "# plt.plot(cur_res['loss'], color='m')\n",
    "# plt.plot(x, cur_res['val_loss'][-1], color='b')\n",
    "# plt.show()\n",
    "# plt.ylim(ymin=0.9)\n",
    "plt.plot(cur_res['val_acc'][-1], color='b', )\n",
    "plt.plot(cur_res['val_acc'][0], color='g', )\n",
    "# plt.plot(cur_res['val_acc'][1], color='g')\n",
    "\n",
    "plt.show()"
   ]
  },
  {
   "cell_type": "code",
   "execution_count": null,
   "metadata": {},
   "outputs": [],
   "source": [
    "def getAllCosineSimilarity(wts, init_classes, only_dot=False):\n",
    "    num_init_class = len(init_classes)\n",
    "    cosine_wts = [[0.0 for _ in range(num_init_class)] for _ in range(num_init_class)]\n",
    "    for i in range(num_init_class):\n",
    "        for j in range(num_init_class):\n",
    "            w_i = wts[0][:, init_classes[i]]\n",
    "            w_j = wts[0][:, init_classes[j]]\n",
    "            if (only_dot):\n",
    "                cosine_wts[i][j] = np.sum(w_i * w_j)\n",
    "            else:\n",
    "                cosine_wts[i][j] = np.sum(w_i * w_j) / np.sqrt(np.sum(w_i ** 2)) / np.sqrt(np.sum(w_j ** 2))\n",
    "    return cosine_wts"
   ]
  },
  {
   "cell_type": "code",
   "execution_count": null,
   "metadata": {},
   "outputs": [],
   "source": [
    "num_tasks_test = 10\n",
    "wts = [None for _ in range(num_tasks_test)]\n",
    "init_classes = tuner.split[0]\n",
    "cosine_sim_wts = [None for _ in range(num_tasks_test)]\n",
    "dot_sim_wts = [None for _ in range(num_tasks_test)]\n",
    "for i in range(num_tasks_test):\n",
    "    tuner.test(i, BATCH_SIZE, restore_model=True, hparams=tuner.hparams_list[i][0])\n",
    "    wts[i] = sess.run([v for v in tf.all_variables() if 'dense' in v.name and 'kernel:0' in v.name])\n",
    "    cosine_sim_wts[i] = np.array(getAllCosineSimilarity(wts[i], init_classes, only_dot=False))\n",
    "    dot_sim_wts[i] = np.array(getAllCosineSimilarity(wts[i], init_classes, only_dot=True))\n",
    "    "
   ]
  },
  {
   "cell_type": "code",
   "execution_count": null,
   "metadata": {},
   "outputs": [],
   "source": [
    "for i in range(num_tasks_test):\n",
    "#     plt.imshow(cosine_sim_wts[i])\n",
    "    print(\"task\", i)\n",
    "    print(\"sum cosine: \", np.sum(cosine_sim_wts[i]) - num_init_class)\n",
    "    print(\"sum dot: \", np.sum(dot_sim_wts[i]) - np.sum(wts[i][0][: , init_classes] ** 2))\n",
    "    print(\"sum norms: \", np.sum(np.sqrt(np.sum(wts[i][0][:, init_classes] ** 2, axis=0))))\n",
    "#     plt.show()"
   ]
  },
  {
   "cell_type": "code",
   "execution_count": null,
   "metadata": {},
   "outputs": [],
   "source": [
    "tuner.saveResultsList()\n",
    "tuner.saveBestHparams()"
   ]
  },
  {
   "cell_type": "code",
   "execution_count": null,
   "metadata": {
    "scrolled": true
   },
   "outputs": [],
   "source": [
    "TEST_BATCH_SIZE = 128\n",
    "test_accuracies = []\n",
    "for i in range(t + 1):\n",
    "    accuracy = tuner.test(i, TEST_BATCH_SIZE, restore_model=False)\n",
    "    test_accuracies.append(accuracy)"
   ]
  },
  {
   "cell_type": "code",
   "execution_count": null,
   "metadata": {},
   "outputs": [],
   "source": [
    "for i in range(t + 1):\n",
    "    print(test_accuracies[i])"
   ]
  },
  {
   "cell_type": "code",
   "execution_count": null,
   "metadata": {},
   "outputs": [],
   "source": [
    "if use_tpu:\n",
    "    sess.run(tpu.shutdown_system())\n",
    "\n",
    "sess.close()"
   ]
  },
  {
   "cell_type": "code",
   "execution_count": null,
   "metadata": {},
   "outputs": [],
   "source": [
    "import shelve\n",
    "filename='code_state.bak'\n",
    "my_shelf = shelve.open(filename,'n') # 'n' for new\n",
    "\n",
    "for key in dir():\n",
    "    try:\n",
    "        my_shelf[key] = globals()[key]\n",
    "    except TypeError:\n",
    "        #\n",
    "        # __builtins__, my_shelf, and imported modules can not be shelved.\n",
    "        #\n",
    "        print('ERROR shelving: {0}'.format(key))\n",
    "my_shelf.close()"
   ]
  },
  {
   "cell_type": "code",
   "execution_count": null,
   "metadata": {},
   "outputs": [],
   "source": []
  }
 ],
 "metadata": {
  "kernelspec": {
   "display_name": "Python 3",
   "language": "python",
   "name": "python3"
  },
  "language_info": {
   "codemirror_mode": {
    "name": "ipython",
    "version": 3
   },
   "file_extension": ".py",
   "mimetype": "text/x-python",
   "name": "python",
   "nbconvert_exporter": "python",
   "pygments_lexer": "ipython3",
   "version": "3.6.6"
  }
 },
 "nbformat": 4,
 "nbformat_minor": 2
}
